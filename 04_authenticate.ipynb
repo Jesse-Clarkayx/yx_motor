{
 "cells": [
  {
   "cell_type": "code",
   "execution_count": 1,
   "metadata": {},
   "outputs": [],
   "source": [
    "# default_exp authenticate"
   ]
  },
  {
   "cell_type": "code",
   "execution_count": 11,
   "metadata": {},
   "outputs": [],
   "source": [
    "#export\n",
    "import requests\n",
    "\n",
    "from yx_motor.api import API\n",
    "\n",
    "class Authenticate:\n",
    "    \"Class for handling authenticate API actions\"\n",
    "    \n",
    "    def __init__(self, api: API):\n",
    "        self.api = api\n",
    "        self.base_endpoint = 'authenticate/'\n",
    "        \n",
    "    def authenticate(self, login_email: str, login_pwd: str) -> requests.Response:\n",
    "        payload = {\n",
    "            \"email\": login_email, \n",
    "            \"password\": login_pwd\n",
    "        }\n",
    "        response = self.api.post(url=self.base_endpoint, \n",
    "                                 json=payload)\n",
    "        if response.status_code == 200:\n",
    "            self.api.jar.update(response.cookies)\n",
    "            self.api.is_authenticated = True\n",
    "        return response\n",
    "    \n",
    "    def logout(self):\n",
    "        logout_endpoint = f\"{self.base_endpoint}logout\"\n",
    "        response = self.api.post(url=logout_endpoint)\n",
    "        if response.status_code == 204:\n",
    "            self.api.jar.update(response.cookies)\n",
    "            self.api.is_authenticated = False\n",
    "        return response"
   ]
  },
  {
   "cell_type": "code",
   "execution_count": null,
   "metadata": {},
   "outputs": [],
   "source": []
  }
 ],
 "metadata": {
  "kernelspec": {
   "display_name": "Python 3",
   "language": "python",
   "name": "python3"
  },
  "language_info": {
   "codemirror_mode": {
    "name": "ipython",
    "version": 3
   },
   "file_extension": ".py",
   "mimetype": "text/x-python",
   "name": "python",
   "nbconvert_exporter": "python",
   "pygments_lexer": "ipython3",
   "version": "3.6.8"
  }
 },
 "nbformat": 4,
 "nbformat_minor": 4
}
