{
 "cells": [
  {
   "cell_type": "code",
   "execution_count": null,
   "metadata": {},
   "outputs": [],
   "source": [
    "# default_exp workflows"
   ]
  },
  {
   "cell_type": "markdown",
   "metadata": {},
   "source": [
    "# workflows\n",
    "> Execute workflows on Server"
   ]
  },
  {
   "cell_type": "code",
   "execution_count": null,
   "metadata": {},
   "outputs": [],
   "source": [
    "#hide\n",
    "# just removing the insecure warning for now\n",
    "# TODO: Secure requests and remove this code\n",
    "import urllib3\n",
    "urllib3.disable_warnings(urllib3.exceptions.InsecureRequestWarning)"
   ]
  },
  {
   "cell_type": "code",
   "execution_count": null,
   "metadata": {},
   "outputs": [],
   "source": [
    "# export\n",
    "from typing import List\n",
    "import requests\n",
    "\n",
    "from yx_motor.api import API\n",
    "from yx_motor.files import Files\n",
    "from yx_motor.jobs import Jobs\n",
    "\n",
    "\n",
    "class Workflows:\n",
    "    \"Class for workflow-related API actions\"\n",
    "\n",
    "    def __init__(self, api: API):\n",
    "        self.api = api\n",
    "        self.base_endpoint = \"workflows/\"\n",
    "        self.files = Files(self.api)\n",
    "        self.jobs = Jobs(self.api)\n",
    "\n",
    "    @staticmethod\n",
    "    def build_schedule_payload(schedule_name: str, asset_id: str):\n",
    "        return {\"schedule\": {\"name\": schedule_name, \"assetId\": asset_id,}}\n",
    "\n",
    "    def get_questions(self, asset_id: str):\n",
    "        \"\"\"Return question payload for an asset of type analytic app.\"\"\"\n",
    "        response = self.api.post(url=f\"workflows/{asset_id}/questions\")\n",
    "        return response\n",
    "\n",
    "    def get_vfs_inputs(self, asset_id: str):\n",
    "        \"\"\"Return the list of vfs inputs for a given workflow asset.\"\"\"\n",
    "        response = self.api.get(url=f\"workflows/{asset_id}/vfsInputs\")\n",
    "        return response\n",
    "\n",
    "    def update_vfs_inputs(self, asset_id: str, tool_id: str):\n",
    "        pass\n",
    "\n",
    "    def get_workflow_dependencies(self, asset_id: str):\n",
    "        \"\"\"Return the list of asset dependencies for a given workflow asset\"\"\"\n",
    "        response = self.api.get(url=f\"workflows/{asset_id}/dependencies\")\n",
    "        return response\n",
    "\n",
    "    def update_workflow_dependencies(self, asset_id: str):\n",
    "        pass\n",
    "\n",
    "    def add_workflow_dependency(self, asset_id: str):\n",
    "        pass\n",
    "\n",
    "    def add_workflow_dependency_connection(self, asset_id: str, tool_id: str):\n",
    "        pass\n",
    "\n",
    "    def run_workflow(\n",
    "        self, asset_id: str, schedule_name: str, vfs_inputs: List[str] = None\n",
    "    ):\n",
    "        \"\"\"Schedule a workflow to be executed instantaneously.\n",
    "           Returns a schedule object.\"\"\"\n",
    "        response = self.api.post(\n",
    "            url=\"workflows/run\",\n",
    "            json=self.build_schedule_payload(schedule_name, asset_id),\n",
    "        )\n",
    "        return response\n",
    "\n",
    "    def download_workflow_results(self, schedule_id: str, download_path: str):\n",
    "        # TODO: Input validation\n",
    "        workflow_job = self.jobs.get_job(params={\"scheduleId\": schedule_id})\n",
    "        # TODO: Need to check the status of the job, for completion\n",
    "        # and/or error state before trying to get outputs.\n",
    "\n",
    "        # TODO: Add validation, error handling here\n",
    "        output_asset_id = self.get_wf_job_output(workflow_job)[0]\n",
    "\n",
    "        response = self.files.download_file(\n",
    "            file_uuid=output_asset_id, download_path=download_path\n",
    "        )\n",
    "\n",
    "        return response\n",
    "\n",
    "    @staticmethod\n",
    "    def get_wf_job_output(wf_job: object):\n",
    "        jobs_object = wf_job.json()[\"jobs\"]\n",
    "        job = jobs_object[0]\n",
    "        outputs = job[\"outputs\"]\n",
    "        output_asset_id_list = [file[\"assetId\"] for file in outputs]\n",
    "        return output_asset_id_list"
   ]
  },
  {
   "cell_type": "code",
   "execution_count": null,
   "metadata": {},
   "outputs": [
    {
     "name": "stdout",
     "output_type": "stream",
     "text": [
      "POST sent to: https://test.aep-mono.devops.alteryx.com/api/v1/authenticate/\n",
      "with headers: {'User-Agent': 'python-requests/2.23.0', 'Accept-Encoding': 'gzip,deflate', 'Accept': '*/*', 'Connection': 'keep-alive', 'Content-Type': 'application/json', 'Accept-Language': 'en-US,en;q=0.5', 'Content-Length': '60'}\n",
      "Response Status: 200\n",
      "POST sent to: https://test.aep-mono.devops.alteryx.com/api/v1/files/\n",
      "with headers: {'User-Agent': 'python-requests/2.23.0', 'Accept-Encoding': 'gzip,deflate', 'Accept': '*/*', 'Connection': 'keep-alive', 'Content-Type': 'application/json', 'Accept-Language': 'en-US,en;q=0.5', 'path': '/Workspaces/Public/simple_questions.yxwz', 'conflict_action': 'MERGE', 'Cookie': 'ayxSession=s%3A1113b263-7c49-40e1-a598-b28d9acf96c3.PGPJivlitUSHciX9Sq06%2FAmAe7V%2B74IlUVGTCm3ar%2Bs', 'Content-Length': '22646'}\n",
      "Response Status: 200\n",
      "POST sent to: https://test.aep-mono.devops.alteryx.com/api/v1/files/\n",
      "with headers: {'User-Agent': 'python-requests/2.23.0', 'Accept-Encoding': 'gzip,deflate', 'Accept': '*/*', 'Connection': 'keep-alive', 'Content-Type': 'application/json', 'Accept-Language': 'en-US,en;q=0.5', 'path': '/Workspaces/Public/WorkflowA.yxmd', 'conflict_action': 'MERGE', 'Cookie': 'ayxSession=s%3A1113b263-7c49-40e1-a598-b28d9acf96c3.PGPJivlitUSHciX9Sq06%2FAmAe7V%2B74IlUVGTCm3ar%2Bs', 'Content-Length': '3250'}\n",
      "Response Status: 200\n",
      "POST sent to: https://test.aep-mono.devops.alteryx.com/api/v1/files/\n",
      "with headers: {'User-Agent': 'python-requests/2.23.0', 'Accept-Encoding': 'gzip,deflate', 'Accept': '*/*', 'Connection': 'keep-alive', 'Content-Type': 'application/json', 'Accept-Language': 'en-US,en;q=0.5', 'path': '/Workspaces/Public/WorkflowB.yxmd', 'conflict_action': 'MERGE', 'Cookie': 'ayxSession=s%3A1113b263-7c49-40e1-a598-b28d9acf96c3.PGPJivlitUSHciX9Sq06%2FAmAe7V%2B74IlUVGTCm3ar%2Bs', 'Content-Length': '4183'}\n",
      "Response Status: 200\n"
     ]
    }
   ],
   "source": [
    "#hide\n",
    "\n",
    "######################### Integration Test Scaffolding ############################\n",
    "from yx_motor.client import Client\n",
    "\n",
    "from private import server_vars\n",
    "\n",
    "base_url=server_vars['base_url']\n",
    "login_email = server_vars['login_email']\n",
    "login_pwd = server_vars['login_pwd']\n",
    "\n",
    "dev_client = Client(base_url=base_url,\n",
    "                    login_email=login_email,\n",
    "                    login_pwd=login_pwd)\n",
    "\n",
    "workflows = Workflows(dev_client.api)\n",
    "\n",
    "#TODO Add to a helpers module\n",
    "\n",
    "from pathlib import Path\n",
    "\n",
    "def seed_workflow(dev_client: object, \n",
    "                  workflow_path: str, \n",
    "                  upload_path: str):\n",
    "    workflow_path = Path(workflow_path)\n",
    "    workflow_name = workflow_path.name\n",
    "    \n",
    "    workflow_response = dev_client.files.upload_file(filename=workflow_path,\n",
    "                                                     upload_path=f\"{upload_path}{workflow_name}\",\n",
    "                                                     conflict_action=\"MERGE\").json()\n",
    "    \n",
    "    return workflow_response\n",
    "\n",
    "\n",
    "questions_workflow_path = Path(r'test_workflows/simple_questions.yxwz')\n",
    "\n",
    "workflow_a_path = Path(r'WorkflowA.yxmd')\n",
    "\n",
    "workflow_b_path = Path(r'WorkflowB.yxmd')\n",
    "\n",
    "aah_upload_path = r'/Workspaces/Public/'\n",
    "\n",
    "questions_workflow = seed_workflow(dev_client, \n",
    "                                   questions_workflow_path, \n",
    "                                   aah_upload_path)\n",
    "\n",
    "workflow_a_json = seed_workflow(dev_client, \n",
    "                                workflow_a_path, \n",
    "                                aah_upload_path)\n",
    "\n",
    "workflow_b_json = seed_workflow(dev_client, \n",
    "                                workflow_b_path, \n",
    "                                aah_upload_path)\n",
    "\n",
    "workflow_a_path = workflow_a_json['path']\n",
    "workflow_a_uuid = workflow_a_json['uuid']\n",
    "workflow_a_content_id = workflow_a_json['contentId']\n",
    "\n",
    "workflow_b_path = workflow_b_json['path']\n",
    "workflow_b_uuid = workflow_b_json['uuid']\n",
    "workflow_b_content_id = workflow_b_json['contentId']\n",
    "\n",
    "questions_wf_path = questions_workflow['path']\n",
    "questions_wf_uuid = questions_workflow['uuid']\n",
    "questions_wf_content_id = questions_workflow['contentId']"
   ]
  },
  {
   "cell_type": "code",
   "execution_count": null,
   "metadata": {},
   "outputs": [
    {
     "data": {
      "text/markdown": [
       "<h4 id=\"Workflows.get_questions\" class=\"doc_header\"><code>Workflows.get_questions</code><a href=\"__main__.py#L14\" class=\"source_link\" style=\"float:right\">[source]</a></h4>\n",
       "\n",
       "> <code>Workflows.get_questions</code>(**`asset_id`**:`str`)\n",
       "\n",
       "Return question payload for an asset of type analytic app."
      ],
      "text/plain": [
       "<IPython.core.display.Markdown object>"
      ]
     },
     "metadata": {},
     "output_type": "display_data"
    }
   ],
   "source": [
    "from nbdev.showdoc import *\n",
    "show_doc(Workflows.get_questions)"
   ]
  },
  {
   "cell_type": "code",
   "execution_count": null,
   "metadata": {},
   "outputs": [],
   "source": [
    "workflows = Workflows(dev_client.api)"
   ]
  },
  {
   "cell_type": "code",
   "execution_count": null,
   "metadata": {},
   "outputs": [],
   "source": [
    "asset_uid = questions_wf_uuid"
   ]
  },
  {
   "cell_type": "code",
   "execution_count": null,
   "metadata": {},
   "outputs": [
    {
     "name": "stdout",
     "output_type": "stream",
     "text": [
      "POST sent to: https://test.aep-mono.devops.alteryx.com/api/v1/workflows/473e09c3-9a30-4e84-b5ee-04ed6f4d586b/questions\n",
      "with headers: {'User-Agent': 'python-requests/2.23.0', 'Accept-Encoding': 'gzip,deflate', 'Accept': '*/*', 'Connection': 'keep-alive', 'Content-Type': 'application/json', 'Accept-Language': 'en-US,en;q=0.5', 'Cookie': 'ayxSession=s%3Aa9a20c88-e0c5-4639-ba6e-1b05f2c5a067.hsEwETIipdYRtBcRPkjvo8KEXMYVPiwQfetSG9gBq0s', 'Content-Length': '0'}\n",
      "Response Status: 200\n"
     ]
    },
    {
     "data": {
      "text/plain": [
       "{'fieldMap': {},\n",
       " 'questions': {'Questions': {'Question': [{'Type': 'Tab',\n",
       "     'Description': 'Questions (tab)',\n",
       "     'Name': 'Tab (1)',\n",
       "     'ToolId': {'@value': '1'},\n",
       "     'Questions': {'Question': [{'Type': 'TextBox',\n",
       "        'Description': 'Company Name (textbox)',\n",
       "        'Name': 'Text Box (2)',\n",
       "        'ToolId': {'@value': '2'},\n",
       "        'Default': 'Alteryx',\n",
       "        'Password': {'@value': 'False'},\n",
       "        'Multiline': {'@value': 'False'},\n",
       "        'Hidden': {'@value': 'False'}},\n",
       "       {'Type': 'NumericUpDown',\n",
       "        'Description': 'Employees (numeric up/down)',\n",
       "        'Name': 'Numeric Up Down (8)',\n",
       "        'ToolId': {'@value': '8'},\n",
       "        'Minimum': {'@value': '0'},\n",
       "        'Maximum': {'@value': '1000'},\n",
       "        'Increment': {'@value': '1'},\n",
       "        'Default': {'@value': '100'},\n",
       "        'Decimals': {'@value': '0'}},\n",
       "       {'Type': 'Label',\n",
       "        'Description': 'Select a radio button below and then a value from the listbox or dropdown (label)',\n",
       "        'Name': 'Label (12)',\n",
       "        'ToolId': {'@value': '12'}},\n",
       "       {'Type': 'RadioGroup',\n",
       "        'Description': 'Letters (radio button)',\n",
       "        'Name': 'Radio Button (5)',\n",
       "        'ToolId': {'@value': '5'},\n",
       "        'Questions': {'Question': [{'Type': 'ListBox',\n",
       "           'Description': 'Letters (listbox)',\n",
       "           'Name': 'List Box (9)',\n",
       "           'ToolId': {'@value': '9'},\n",
       "           'Multiple': {'@value': 'True'},\n",
       "           'Multiple_Custom': {'@value': 'True'},\n",
       "           'Multiple_Start': '\"',\n",
       "           'Multiple_Separator': '\",\"',\n",
       "           'Multiple_End': '\"',\n",
       "           'Multiple_Default': {'@value': 'False'},\n",
       "           'Mode': 'Manual',\n",
       "           'Manual_Values': 'A\\r\\nB\\r\\nC\\r\\n'}]},\n",
       "        'Default': {'@value': 'False'},\n",
       "        'Collapsable': {'@value': 'True'}},\n",
       "       {'Type': 'RadioGroup',\n",
       "        'Description': 'Numbers (radio button)',\n",
       "        'Name': 'Radio Button (6)',\n",
       "        'ToolId': {'@value': '6'},\n",
       "        'Questions': {'Question': [{'Type': 'ListBox',\n",
       "           'Description': 'Numbers (dropdown)',\n",
       "           'Name': 'Drop Down (11)',\n",
       "           'ToolId': {'@value': '11'},\n",
       "           'Multiple': {'@value': 'False'},\n",
       "           'Default': '',\n",
       "           'Mode': 'Manual',\n",
       "           'Manual_Values': '1\\r\\n2\\r\\n3\\r\\n'}]},\n",
       "        'Default': {'@value': 'False'},\n",
       "        'Collapsable': {'@value': 'True'}}]}},\n",
       "    {'Type': 'Tab',\n",
       "     'Description': 'More Questions (tab)',\n",
       "     'Name': 'Tab (14)',\n",
       "     'ToolId': {'@value': '14'},\n",
       "     'Questions': {'Question': [{'Type': 'Date',\n",
       "        'Description': 'Start Date (date)',\n",
       "        'Name': 'Date (13)',\n",
       "        'ToolId': {'@value': '13'}},\n",
       "       {'Type': 'Date',\n",
       "        'Description': 'End Date (date)',\n",
       "        'Name': 'Date (24)',\n",
       "        'ToolId': {'@value': '24'}}]}}]}}}"
      ]
     },
     "execution_count": null,
     "metadata": {},
     "output_type": "execute_result"
    }
   ],
   "source": [
    "workflows.get_questions(asset_id=asset_uid).json()"
   ]
  },
  {
   "cell_type": "code",
   "execution_count": null,
   "metadata": {},
   "outputs": [
    {
     "data": {
      "text/markdown": [
       "<h4 id=\"Workflows.get_vfs_inputs\" class=\"doc_header\"><code>Workflows.get_vfs_inputs</code><a href=\"__main__.py#L19\" class=\"source_link\" style=\"float:right\">[source]</a></h4>\n",
       "\n",
       "> <code>Workflows.get_vfs_inputs</code>(**`asset_id`**:`str`)\n",
       "\n",
       "Return the list of vfs inputs for a given workflow asset."
      ],
      "text/plain": [
       "<IPython.core.display.Markdown object>"
      ]
     },
     "metadata": {},
     "output_type": "display_data"
    }
   ],
   "source": [
    "from nbdev.showdoc import *\n",
    "show_doc(Workflows.get_vfs_inputs)"
   ]
  },
  {
   "cell_type": "code",
   "execution_count": null,
   "metadata": {},
   "outputs": [
    {
     "name": "stdout",
     "output_type": "stream",
     "text": [
      "GET sent to: https://test.aep-mono.devops.alteryx.com/api/v1/workflows/473e09c3-9a30-4e84-b5ee-04ed6f4d586b/vfsInputs\n",
      "with headers: {'User-Agent': 'python-requests/2.23.0', 'Accept-Encoding': 'gzip,deflate', 'Accept': '*/*', 'Connection': 'keep-alive', 'Content-Type': 'application/json', 'Accept-Language': 'en-US,en;q=0.5', 'Cookie': 'ayxSession=s%3Aa9a20c88-e0c5-4639-ba6e-1b05f2c5a067.hsEwETIipdYRtBcRPkjvo8KEXMYVPiwQfetSG9gBq0s'}\n",
      "Response Status: 200\n"
     ]
    },
    {
     "data": {
      "text/plain": [
       "[]"
      ]
     },
     "execution_count": null,
     "metadata": {},
     "output_type": "execute_result"
    }
   ],
   "source": [
    "workflows = Workflows(dev_client.api)\n",
    "workflows.get_vfs_inputs(asset_id=asset_uid).json()"
   ]
  },
  {
   "cell_type": "code",
   "execution_count": null,
   "metadata": {},
   "outputs": [
    {
     "data": {
      "text/markdown": [
       "<h4 id=\"Workflows.get_workflow_dependencies\" class=\"doc_header\"><code>Workflows.get_workflow_dependencies</code><a href=\"__main__.py#L28\" class=\"source_link\" style=\"float:right\">[source]</a></h4>\n",
       "\n",
       "> <code>Workflows.get_workflow_dependencies</code>(**`asset_id`**:`str`)\n",
       "\n",
       "Return the list of asset dependencies for a given workflow asset"
      ],
      "text/plain": [
       "<IPython.core.display.Markdown object>"
      ]
     },
     "metadata": {},
     "output_type": "display_data"
    }
   ],
   "source": [
    "from nbdev.showdoc import *\n",
    "show_doc(Workflows.get_workflow_dependencies)"
   ]
  },
  {
   "cell_type": "code",
   "execution_count": null,
   "metadata": {},
   "outputs": [
    {
     "name": "stdout",
     "output_type": "stream",
     "text": [
      "GET sent to: https://test.aep-mono.devops.alteryx.com/api/v1/workflows/473e09c3-9a30-4e84-b5ee-04ed6f4d586b/dependencies\n",
      "with headers: {'User-Agent': 'python-requests/2.23.0', 'Accept-Encoding': 'gzip,deflate', 'Accept': '*/*', 'Connection': 'keep-alive', 'Content-Type': 'application/json', 'Accept-Language': 'en-US,en;q=0.5', 'Cookie': 'ayxSession=s%3Aa9a20c88-e0c5-4639-ba6e-1b05f2c5a067.hsEwETIipdYRtBcRPkjvo8KEXMYVPiwQfetSG9gBq0s'}\n",
      "Response Status: 200\n"
     ]
    },
    {
     "data": {
      "text/plain": [
       "[]"
      ]
     },
     "execution_count": null,
     "metadata": {},
     "output_type": "execute_result"
    }
   ],
   "source": [
    "workflows = Workflows(dev_client.api)\n",
    "workflows.get_workflow_dependencies(asset_id=asset_uid).json()"
   ]
  },
  {
   "cell_type": "code",
   "execution_count": null,
   "metadata": {},
   "outputs": [
    {
     "data": {
      "text/markdown": [
       "<h4 id=\"Workflows.run_workflow\" class=\"doc_header\"><code>Workflows.run_workflow</code><a href=\"__main__.py#L50\" class=\"source_link\" style=\"float:right\">[source]</a></h4>\n",
       "\n",
       "> <code>Workflows.run_workflow</code>(**`asset_id`**:`str`, **`schedule_name`**:`str`, **`vfs_inputs`**:`List`\\[`str`\\]=*`None`*)\n",
       "\n",
       "Schedule a workflow to be executed instantaneously.\n",
       "Returns a schedule object."
      ],
      "text/plain": [
       "<IPython.core.display.Markdown object>"
      ]
     },
     "metadata": {},
     "output_type": "display_data"
    }
   ],
   "source": [
    "from nbdev.showdoc import *\n",
    "show_doc(Workflows.run_workflow)"
   ]
  },
  {
   "cell_type": "markdown",
   "metadata": {},
   "source": [
    "**Arguments**:\n",
    "\n",
    "- asset_id: Unique VFS identifier for the workflow you want to execute.\n",
    "- schedule_name: Optional: Name of the schedule that will be created when workflow execution is triggered.\n",
    "- vfs_inputs: TODO, need to research this more and test it."
   ]
  },
  {
   "cell_type": "code",
   "execution_count": null,
   "metadata": {},
   "outputs": [],
   "source": [
    "asset_uid = questions_wf_uuid"
   ]
  },
  {
   "cell_type": "code",
   "execution_count": null,
   "metadata": {},
   "outputs": [
    {
     "name": "stdout",
     "output_type": "stream",
     "text": [
      "POST sent to: https://test.aep-mono.devops.alteryx.com/api/v1/workflows/run\n",
      "with headers: {'User-Agent': 'python-requests/2.23.0', 'Accept-Encoding': 'gzip,deflate', 'Accept': '*/*', 'Connection': 'keep-alive', 'Content-Type': 'application/json', 'Accept-Language': 'en-US,en;q=0.5', 'Cookie': 'ayxSession=s%3A00c3bae2-9735-4fdb-8ae4-4b57f27c738f.ZGV%2Fvd7nTS%2FwwrK1g5QmdthQ5vHpi8JV6vxiQV%2BohCE', 'Content-Length': '91'}\n",
      "Response Status: 200\n"
     ]
    },
    {
     "data": {
      "text/plain": [
       "{'scheduleId': '76ea8585-839d-444c-9f99-7c2abb526932',\n",
       " 'name': 'jp_client_test',\n",
       " 'userId': '352d4b64-1477-4f46-a9fe-b29031639783',\n",
       " 'assetId': '275bfa23-f718-4a19-a587-f45c33bebaba',\n",
       " 'assetVersion': None,\n",
       " 'runAsId': None,\n",
       " 'toolConnections': None,\n",
       " 'status': 'active',\n",
       " 'startDate': None,\n",
       " 'endDate': None,\n",
       " 'lastRun': None,\n",
       " 'nextRun': None,\n",
       " 'frequencyInterval': 'manual',\n",
       " 'frequencyRule': None,\n",
       " 'type': 'immediate',\n",
       " 'isDisabled': False,\n",
       " 'isDeleted': False,\n",
       " 'comment': None,\n",
       " 'siteId': '9964463b-7c64-42c8-856f-38b93bd14c42',\n",
       " 'parameters': {'runMode': 0},\n",
       " 'analyticAppAnswers': None,\n",
       " 'inputFiles': None,\n",
       " 'creationDate': '2020-05-05T20:15:06.436Z',\n",
       " 'lastUpdate': '2020-05-05T20:15:06.436Z',\n",
       " 'outputLocation': None,\n",
       " 'timezone': 'UTC',\n",
       " 'utcOffset': 0,\n",
       " 'priority': 50}"
      ]
     },
     "execution_count": null,
     "metadata": {},
     "output_type": "execute_result"
    }
   ],
   "source": [
    "workflows = Workflows(dev_client.api)\n",
    "workflows.run_workflow(asset_id=asset_uid,\n",
    "                       schedule_name=\"jp_client_test\").json()"
   ]
  },
  {
   "cell_type": "code",
   "execution_count": null,
   "metadata": {},
   "outputs": [
    {
     "data": {
      "text/markdown": [
       "<h4 id=\"Workflows.download_workflow_results\" class=\"doc_header\"><code>Workflows.download_workflow_results</code><a href=\"__main__.py#L60\" class=\"source_link\" style=\"float:right\">[source]</a></h4>\n",
       "\n",
       "> <code>Workflows.download_workflow_results</code>(**`schedule_id`**:`str`, **`download_path`**:`str`)\n",
       "\n"
      ],
      "text/plain": [
       "<IPython.core.display.Markdown object>"
      ]
     },
     "metadata": {},
     "output_type": "display_data"
    }
   ],
   "source": [
    "from nbdev.showdoc import *\n",
    "show_doc(Workflows.download_workflow_results)"
   ]
  },
  {
   "cell_type": "code",
   "execution_count": null,
   "metadata": {},
   "outputs": [
    {
     "name": "stdout",
     "output_type": "stream",
     "text": [
      "POST sent to: https://test.aep-mono.devops.alteryx.com/api/v1/workflows/run\n",
      "with headers: {'User-Agent': 'python-requests/2.23.0', 'Accept-Encoding': 'gzip,deflate', 'Accept': '*/*', 'Connection': 'keep-alive', 'Content-Type': 'application/json', 'Accept-Language': 'en-US,en;q=0.5', 'Cookie': 'ayxSession=s%3A1113b263-7c49-40e1-a598-b28d9acf96c3.PGPJivlitUSHciX9Sq06%2FAmAe7V%2B74IlUVGTCm3ar%2Bs', 'Content-Length': '91'}\n",
      "Response Status: 200\n"
     ]
    }
   ],
   "source": [
    "workflows = Workflows(dev_client.api)\n",
    "response = workflows.run_workflow(asset_id=asset_uid,\n",
    "                       schedule_name=\"jp_client_test\").json()"
   ]
  },
  {
   "cell_type": "code",
   "execution_count": null,
   "metadata": {},
   "outputs": [],
   "source": [
    "schedule_id = response['scheduleId']"
   ]
  },
  {
   "cell_type": "code",
   "execution_count": null,
   "metadata": {},
   "outputs": [
    {
     "name": "stdout",
     "output_type": "stream",
     "text": [
      "GET sent to: https://test.aep-mono.devops.alteryx.com/api/v1/jobs/?scheduleId=4f140ceb-fdba-46d3-b78c-01430134e391\n",
      "with headers: {'User-Agent': 'python-requests/2.23.0', 'Accept-Encoding': 'gzip,deflate', 'Accept': '*/*', 'Connection': 'keep-alive', 'Content-Type': 'application/json', 'Accept-Language': 'en-US,en;q=0.5', 'Cookie': 'ayxSession=s%3A1113b263-7c49-40e1-a598-b28d9acf96c3.PGPJivlitUSHciX9Sq06%2FAmAe7V%2B74IlUVGTCm3ar%2Bs'}\n",
      "Response Status: 200\n",
      "GET sent to: https://test.aep-mono.devops.alteryx.com/api/v1/files/content?id=df2b5d7f-7cfc-4460-bc63-209846310a78\n",
      "with headers: {'User-Agent': 'python-requests/2.23.0', 'Accept-Encoding': 'gzip,deflate', 'Accept': '*/*', 'Connection': 'keep-alive', 'Content-Type': 'application/json', 'Accept-Language': 'en-US,en;q=0.5', 'Cookie': 'ayxSession=s%3A1113b263-7c49-40e1-a598-b28d9acf96c3.PGPJivlitUSHciX9Sq06%2FAmAe7V%2B74IlUVGTCm3ar%2Bs'}\n",
      "Response Status: 200\n"
     ]
    },
    {
     "data": {
      "text/plain": [
       "<Response [200]>"
      ]
     },
     "execution_count": null,
     "metadata": {},
     "output_type": "execute_result"
    }
   ],
   "source": [
    "workflows.download_workflow_results(schedule_id=schedule_id, \n",
    "                                    download_path='wf_out_test.csv')"
   ]
  },
  {
   "cell_type": "code",
   "execution_count": null,
   "metadata": {},
   "outputs": [
    {
     "name": "stdout",
     "output_type": "stream",
     "text": [
      "Converted 01_client.ipynb.\n",
      "Converted 02_jobs.ipynb.\n",
      "Converted 03_api.ipynb.\n",
      "Converted 04_authenticate.ipynb.\n",
      "Converted 05_files.ipynb.\n",
      "Converted 06_workflows.ipynb.\n",
      "Converted index.ipynb.\n"
     ]
    }
   ],
   "source": [
    "#hide\n",
    "from nbdev.export import *\n",
    "notebook2script()"
   ]
  },
  {
   "cell_type": "code",
   "execution_count": null,
   "metadata": {},
   "outputs": [],
   "source": []
  },
  {
   "cell_type": "code",
   "execution_count": null,
   "metadata": {},
   "outputs": [],
   "source": [
    "from nbdev.sync import script2notebook\n",
    "script2notebook()"
   ]
  }
 ],
 "metadata": {
  "kernelspec": {
   "display_name": "Python 3",
   "language": "python",
   "name": "python3"
  }
 },
 "nbformat": 4,
 "nbformat_minor": 4
}
