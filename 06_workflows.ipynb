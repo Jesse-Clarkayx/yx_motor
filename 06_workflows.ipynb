{
 "cells": [
  {
   "cell_type": "code",
   "execution_count": null,
   "metadata": {},
   "outputs": [],
   "source": [
    "# default_exp workflows"
   ]
  },
  {
   "cell_type": "markdown",
   "metadata": {},
   "source": [
    "# workflows\n",
    "> Execute workflows on Server"
   ]
  },
  {
   "cell_type": "code",
   "execution_count": null,
   "metadata": {},
   "outputs": [],
   "source": [
    "#hide\n",
    "# just removing the insecure warning for now\n",
    "# TODO: Secure requests and remove this code\n",
    "import urllib3\n",
    "urllib3.disable_warnings(urllib3.exceptions.InsecureRequestWarning)"
   ]
  },
  {
   "cell_type": "code",
   "execution_count": null,
   "metadata": {},
   "outputs": [],
   "source": [
    "# export\n",
    "from typing import List\n",
    "import requests\n",
    "\n",
    "from yx_motor.api import API\n",
    "\n",
    "\n",
    "class Workflows:\n",
    "    \"Class for workflow-related API actions\"\n",
    "\n",
    "    def __init__(self, api: API):\n",
    "        self.api = api\n",
    "        self.base_endpoint = \"workflows/\"\n",
    "\n",
    "    def build_schedule_payload(self, schedule_name: str, asset_id: str):\n",
    "        return {\"schedule\": {\"name\": schedule_name, \"assetId\": asset_id,}}\n",
    "\n",
    "    def get_questions(self, asset_id: str):\n",
    "        \"\"\"Return question payload for an asset of type analytic app.\"\"\"\n",
    "        response = self.api.post(url=f\"workflows/{asset_id}/questions\")\n",
    "        return response\n",
    "\n",
    "    def get_vfs_inputs(self, asset_id: str):\n",
    "        \"\"\"Return the list of vfs inputs for a given workflow asset.\"\"\"\n",
    "        response = self.api.get(url=f\"workflows/{asset_id}/vfsInputs\")\n",
    "        return response\n",
    "\n",
    "    def update_vfs_inputs(self, asset_id: str, tool_id: str):\n",
    "        pass\n",
    "\n",
    "    def get_workflow_dependencies(self, asset_id: str):\n",
    "        \"\"\"Return the list of asset dependencies for a given workflow asset\"\"\"\n",
    "        response = self.api.get(url=f\"workflows/{asset_id}/dependencies\")\n",
    "        return response\n",
    "\n",
    "    def update_workflow_dependencies(self, asset_id: str):\n",
    "        pass\n",
    "\n",
    "    def add_workflow_dependency(self, asset_id: str):\n",
    "        pass\n",
    "\n",
    "    def add_workflow_dependency_connection(self, asset_id: str, tool_id: str):\n",
    "        pass\n",
    "\n",
    "    def run_workflow(\n",
    "        self, asset_id: str, schedule_name: str, vfs_inputs: List[str] = None\n",
    "    ):\n",
    "        \"\"\"Schedule a workflow to be executed instantaneously.\n",
    "           Returns a schedule object.\"\"\"\n",
    "        response = self.api.post(\n",
    "            url=\"workflows/run\",\n",
    "            json=self.build_schedule_payload(schedule_name, asset_id),\n",
    "        )\n",
    "        return response"
   ]
  },
  {
   "cell_type": "markdown",
   "metadata": {},
   "source": [
    "## Development Scaffolding: Replace With Code Examples Later"
   ]
  },
  {
   "cell_type": "code",
   "execution_count": null,
   "metadata": {},
   "outputs": [
    {
     "name": "stderr",
     "output_type": "stream",
     "text": [
      "C:\\Users\\jkabler\\.conda\\envs\\yx_motor\\lib\\site-packages\\urllib3\\connectionpool.py:1004: InsecureRequestWarning: Unverified HTTPS request is being made to host 'test.aep-mono.devops.alteryx.com'. Adding certificate verification is strongly advised. See: https://urllib3.readthedocs.io/en/latest/advanced-usage.html#ssl-warnings\n",
      "  InsecureRequestWarning,\n"
     ]
    },
    {
     "name": "stdout",
     "output_type": "stream",
     "text": [
      "POST sent to: https://test.aep-mono.devops.alteryx.com/api/v1/authenticate/\n",
      "with headers: {'User-Agent': 'python-requests/2.23.0', 'Accept-Encoding': 'gzip,deflate', 'Accept': '*/*', 'Connection': 'keep-alive', 'Content-Type': 'application/json', 'Accept-Language': 'en-US,en;q=0.5', 'Content-Length': '59'}\n",
      "Response Status: 200\n"
     ]
    },
    {
     "data": {
      "text/plain": [
       "True"
      ]
     },
     "execution_count": null,
     "metadata": {},
     "output_type": "execute_result"
    }
   ],
   "source": [
    "#hide\n",
    "from yx_motor.client import Client\n",
    "\n",
    "\n",
    "from private import server_vars\n",
    "\n",
    "base_url=server_vars['base_url']\n",
    "login_email = server_vars['login_email']\n",
    "login_pwd = server_vars['login_pwd']\n",
    "\n",
    "dev_client = Client(base_url=base_url, login_email=login_email, login_pwd=login_pwd)\n",
    "\n",
    "dev_client.api.is_authenticated"
   ]
  },
  {
   "cell_type": "markdown",
   "metadata": {},
   "source": [
    "## End Development Scaffolding"
   ]
  },
  {
   "cell_type": "code",
   "execution_count": null,
   "metadata": {},
   "outputs": [
    {
     "data": {
      "text/markdown": [
       "<h4 id=\"Workflows.get_questions\" class=\"doc_header\"><code>Workflows.get_questions</code><a href=\"__main__.py#L14\" class=\"source_link\" style=\"float:right\">[source]</a></h4>\n",
       "\n",
       "> <code>Workflows.get_questions</code>(**`asset_id`**:`str`)\n",
       "\n",
       "Return question payload for an asset of type analytic app."
      ],
      "text/plain": [
       "<IPython.core.display.Markdown object>"
      ]
     },
     "metadata": {},
     "output_type": "display_data"
    }
   ],
   "source": [
    "from nbdev.showdoc import *\n",
    "show_doc(Workflows.get_questions)"
   ]
  },
  {
   "cell_type": "code",
   "execution_count": null,
   "metadata": {},
   "outputs": [],
   "source": [
    "workflows = Workflows(dev_client.api)"
   ]
  },
  {
   "cell_type": "code",
   "execution_count": null,
   "metadata": {},
   "outputs": [],
   "source": [
    "asset_uid = '045ae8fa-18df-4a55-8c41-89c23d80f588'"
   ]
  },
  {
   "cell_type": "code",
   "execution_count": null,
   "metadata": {},
   "outputs": [
    {
     "data": {
      "text/plain": [
       "{'fieldMap': {},\n",
       " 'questions': {'Questions': {'Question': [{'Type': 'Tab',\n",
       "     'Description': 'Questions (tab)',\n",
       "     'Name': 'Tab (1)',\n",
       "     'ToolId': {'@value': '1'},\n",
       "     'Questions': {'Question': [{'Type': 'TextBox',\n",
       "        'Description': 'Company Name (textbox)',\n",
       "        'Name': 'Text Box (2)',\n",
       "        'ToolId': {'@value': '2'},\n",
       "        'Default': 'Alteryx',\n",
       "        'Password': {'@value': 'False'},\n",
       "        'Multiline': {'@value': 'False'},\n",
       "        'Hidden': {'@value': 'False'}},\n",
       "       {'Type': 'NumericUpDown',\n",
       "        'Description': 'Employees (numeric up/down)',\n",
       "        'Name': 'Numeric Up Down (8)',\n",
       "        'ToolId': {'@value': '8'},\n",
       "        'Minimum': {'@value': '0'},\n",
       "        'Maximum': {'@value': '1000'},\n",
       "        'Increment': {'@value': '1'},\n",
       "        'Default': {'@value': '100'},\n",
       "        'Decimals': {'@value': '0'}},\n",
       "       {'Type': 'Label',\n",
       "        'Description': 'Select a radio button below and then a value from the listbox or dropdown (label)',\n",
       "        'Name': 'Label (12)',\n",
       "        'ToolId': {'@value': '12'}},\n",
       "       {'Type': 'RadioGroup',\n",
       "        'Description': 'Letters (radio button)',\n",
       "        'Name': 'Radio Button (5)',\n",
       "        'ToolId': {'@value': '5'},\n",
       "        'Questions': {'Question': [{'Type': 'ListBox',\n",
       "           'Description': 'Letters (listbox)',\n",
       "           'Name': 'List Box (9)',\n",
       "           'ToolId': {'@value': '9'},\n",
       "           'Multiple': {'@value': 'True'},\n",
       "           'Multiple_Custom': {'@value': 'True'},\n",
       "           'Multiple_Start': '\"',\n",
       "           'Multiple_Separator': '\",\"',\n",
       "           'Multiple_End': '\"',\n",
       "           'Multiple_Default': {'@value': 'False'},\n",
       "           'Mode': 'Manual',\n",
       "           'Manual_Values': 'A\\r\\nB\\r\\nC\\r\\n'}]},\n",
       "        'Default': {'@value': 'False'},\n",
       "        'Collapsable': {'@value': 'True'}},\n",
       "       {'Type': 'RadioGroup',\n",
       "        'Description': 'Numbers (radio button)',\n",
       "        'Name': 'Radio Button (6)',\n",
       "        'ToolId': {'@value': '6'},\n",
       "        'Questions': {'Question': [{'Type': 'ListBox',\n",
       "           'Description': 'Numbers (dropdown)',\n",
       "           'Name': 'Drop Down (11)',\n",
       "           'ToolId': {'@value': '11'},\n",
       "           'Multiple': {'@value': 'False'},\n",
       "           'Default': '',\n",
       "           'Mode': 'Manual',\n",
       "           'Manual_Values': '1\\r\\n2\\r\\n3\\r\\n'}]},\n",
       "        'Default': {'@value': 'False'},\n",
       "        'Collapsable': {'@value': 'True'}}]}},\n",
       "    {'Type': 'Tab',\n",
       "     'Description': 'More Questions (tab)',\n",
       "     'Name': 'Tab (14)',\n",
       "     'ToolId': {'@value': '14'},\n",
       "     'Questions': {'Question': [{'Type': 'Date',\n",
       "        'Description': 'Start Date (date)',\n",
       "        'Name': 'Date (13)',\n",
       "        'ToolId': {'@value': '13'}},\n",
       "       {'Type': 'Date',\n",
       "        'Description': 'End Date (date)',\n",
       "        'Name': 'Date (24)',\n",
       "        'ToolId': {'@value': '24'}}]}}]}}}"
      ]
     },
     "execution_count": null,
     "metadata": {},
     "output_type": "execute_result"
    }
   ],
   "source": [
    "workflows.get_questions(asset_id=asset_uid).json()"
   ]
  },
  {
   "cell_type": "code",
   "execution_count": null,
   "metadata": {},
   "outputs": [
    {
     "data": {
      "text/markdown": [
       "<h4 id=\"Workflows.get_vfs_inputs\" class=\"doc_header\"><code>Workflows.get_vfs_inputs</code><a href=\"__main__.py#L19\" class=\"source_link\" style=\"float:right\">[source]</a></h4>\n",
       "\n",
       "> <code>Workflows.get_vfs_inputs</code>(**`asset_id`**:`str`)\n",
       "\n",
       "Return the list of vfs inputs for a given workflow asset."
      ],
      "text/plain": [
       "<IPython.core.display.Markdown object>"
      ]
     },
     "metadata": {},
     "output_type": "display_data"
    }
   ],
   "source": [
    "from nbdev.showdoc import *\n",
    "show_doc(Workflows.get_vfs_inputs)"
   ]
  },
  {
   "cell_type": "code",
   "execution_count": null,
   "metadata": {},
   "outputs": [
    {
     "data": {
      "text/plain": [
       "[]"
      ]
     },
     "execution_count": null,
     "metadata": {},
     "output_type": "execute_result"
    }
   ],
   "source": [
    "workflows = Workflows(dev_client.api)\n",
    "workflows.get_vfs_inputs(asset_id=asset_uid).json()"
   ]
  },
  {
   "cell_type": "code",
   "execution_count": null,
   "metadata": {},
   "outputs": [
    {
     "data": {
      "text/markdown": [
       "<h4 id=\"Workflows.get_workflow_dependencies\" class=\"doc_header\"><code>Workflows.get_workflow_dependencies</code><a href=\"__main__.py#L28\" class=\"source_link\" style=\"float:right\">[source]</a></h4>\n",
       "\n",
       "> <code>Workflows.get_workflow_dependencies</code>(**`asset_id`**:`str`)\n",
       "\n",
       "Return the list of asset dependencies for a given workflow asset"
      ],
      "text/plain": [
       "<IPython.core.display.Markdown object>"
      ]
     },
     "metadata": {},
     "output_type": "display_data"
    }
   ],
   "source": [
    "from nbdev.showdoc import *\n",
    "show_doc(Workflows.get_workflow_dependencies)"
   ]
  },
  {
   "cell_type": "code",
   "execution_count": null,
   "metadata": {},
   "outputs": [
    {
     "data": {
      "text/plain": [
       "[]"
      ]
     },
     "execution_count": null,
     "metadata": {},
     "output_type": "execute_result"
    }
   ],
   "source": [
    "workflows = Workflows(dev_client.api)\n",
    "workflows.get_workflow_dependencies(asset_id=asset_uid).json()"
   ]
  },
  {
   "cell_type": "code",
   "execution_count": null,
   "metadata": {},
   "outputs": [
    {
     "data": {
      "text/markdown": [
       "<h4 id=\"Workflows.run_workflow\" class=\"doc_header\"><code>Workflows.run_workflow</code><a href=\"__main__.py#L50\" class=\"source_link\" style=\"float:right\">[source]</a></h4>\n",
       "\n",
       "> <code>Workflows.run_workflow</code>(**`asset_id`**:`str`, **`schedule_name`**:`str`, **`vfs_inputs`**:`List`\\[`str`\\]=*`None`*)\n",
       "\n",
       "Schedule a workflow to be executed instantaneously.\n",
       "Returns a schedule object."
      ],
      "text/plain": [
       "<IPython.core.display.Markdown object>"
      ]
     },
     "metadata": {},
     "output_type": "display_data"
    }
   ],
   "source": [
    "from nbdev.showdoc import *\n",
    "show_doc(Workflows.run_workflow)"
   ]
  },
  {
   "cell_type": "code",
   "execution_count": null,
   "metadata": {},
   "outputs": [
    {
     "data": {
      "text/plain": [
       "{'scheduleId': '4e8ea156-a52f-4c37-baaa-b726d278ab56',\n",
       " 'name': 'jp_client_test',\n",
       " 'userId': '62ee25c6-588c-4183-8833-32dc3be8a40e',\n",
       " 'assetId': '045ae8fa-18df-4a55-8c41-89c23d80f588',\n",
       " 'assetVersion': None,\n",
       " 'runAsId': None,\n",
       " 'toolConnections': None,\n",
       " 'status': 'active',\n",
       " 'startDate': None,\n",
       " 'endDate': None,\n",
       " 'lastRun': None,\n",
       " 'nextRun': None,\n",
       " 'frequencyInterval': 'manual',\n",
       " 'frequencyRule': None,\n",
       " 'type': 'immediate',\n",
       " 'isDisabled': False,\n",
       " 'isDeleted': False,\n",
       " 'comment': None,\n",
       " 'siteId': '315437a6-7200-4e6c-bf97-22f12d841d90',\n",
       " 'parameters': {'runMode': 0},\n",
       " 'analyticAppAnswers': None,\n",
       " 'inputFiles': None,\n",
       " 'creationDate': '2020-04-17T18:24:25.627Z',\n",
       " 'lastUpdate': '2020-04-17T18:24:25.627Z',\n",
       " 'outputLocation': None,\n",
       " 'timezone': 'UTC',\n",
       " 'utcOffset': 0,\n",
       " 'priority': 50}"
      ]
     },
     "execution_count": null,
     "metadata": {},
     "output_type": "execute_result"
    }
   ],
   "source": [
    "workflows = Workflows(dev_client.api)\n",
    "workflows.run_workflow(asset_id=asset_uid, schedule_name=\"jp_client_test\").json()"
   ]
  },
  {
   "cell_type": "markdown",
   "metadata": {},
   "source": [
    "### Upon execution, we get an object back which contains a scheduleId.  \n",
    "\n",
    "My guess is this scheduleId is used to get the results?\n",
    "\n",
    "A schedule is successfully created with only schedule name and assetId passed.  \n",
    "\n",
    "Note that no output location was passed, so no output location has been returned.  \n",
    "\n",
    "How to get the results?  \n",
    "\n",
    "Note:  Will have to query schedule endpoint for scheduleId, then look at asset_id, query that from vfs\n",
    "\n",
    "After passing asset as param, got a contentId back that isn't same as workflow asset id.  Maybe I can get the results from there?\n",
    "\n",
    "Ok, so it looks like we have to query the jobs to get the specific job, which will have the job output referenced as an asset to download.  We can apparently query the jobs api by schedule id."
   ]
  },
  {
   "cell_type": "markdown",
   "metadata": {},
   "source": [
    "### Query the schedules endpoing with the schedule_id returned by running the workflow.  We need to poll this until we get a status of 'completed'.  \n",
    "\n",
    "Note:  Theoretically, we can query the jobs endpoint instead, since the job has a completion status on it as well."
   ]
  },
  {
   "cell_type": "code",
   "execution_count": null,
   "metadata": {},
   "outputs": [],
   "source": [
    "response = dev_client.api.get(url=f\"schedules/462c564c-2814-4012-95e3-606426424177\", \n",
    "                              params={\"with\": \"asset\"})"
   ]
  },
  {
   "cell_type": "code",
   "execution_count": null,
   "metadata": {},
   "outputs": [],
   "source": [
    "schedule_id = response.json()['scheduleId']"
   ]
  },
  {
   "cell_type": "code",
   "execution_count": null,
   "metadata": {},
   "outputs": [],
   "source": [
    "schedule_id = '4e8ea156-a52f-4c37-baaa-b726d278ab56'"
   ]
  },
  {
   "cell_type": "markdown",
   "metadata": {},
   "source": [
    "## Query the jobs endpoint with the schedule id once schedule is completed to get the outputs asset_id"
   ]
  },
  {
   "cell_type": "code",
   "execution_count": null,
   "metadata": {},
   "outputs": [],
   "source": [
    "jobs_response = dev_client.api.get(url='jobs', \n",
    "                                   params={\"scheduleId\": schedule_id})"
   ]
  },
  {
   "cell_type": "code",
   "execution_count": null,
   "metadata": {},
   "outputs": [
    {
     "data": {
      "text/plain": [
       "<Response [200]>"
      ]
     },
     "execution_count": null,
     "metadata": {},
     "output_type": "execute_result"
    }
   ],
   "source": [
    "jobs_response"
   ]
  },
  {
   "cell_type": "code",
   "execution_count": null,
   "metadata": {},
   "outputs": [
    {
     "data": {
      "text/plain": [
       "{'jobs': [{'jobId': '91d7c3f0-e452-4627-8716-1d1ea5454bcf',\n",
       "   'workerId': '3b0d8827-c3a9-4e1d-ba77-304d339c71a6',\n",
       "   'scheduleId': '4e8ea156-a52f-4c37-baaa-b726d278ab56',\n",
       "   'executionOrdinal': 1,\n",
       "   'queuedDate': '2020-04-17T18:24:25.826Z',\n",
       "   'scheduledStartDate': '2020-04-17T18:24:25.826Z',\n",
       "   'actualStartDate': '2020-04-17T18:24:26.754Z',\n",
       "   'completionDate': '2020-04-17T18:24:27.295Z',\n",
       "   'runTime': 1,\n",
       "   'status': 'completed',\n",
       "   'result': 'success',\n",
       "   'siteId': '315437a6-7200-4e6c-bf97-22f12d841d90',\n",
       "   'creationDate': '2020-04-17T18:24:25.821Z',\n",
       "   'lastUpdate': '2020-04-17T18:24:27.298Z',\n",
       "   'assetVersion': 1,\n",
       "   'retryCount': 0,\n",
       "   'notes': None,\n",
       "   'priority': 50,\n",
       "   'jobNo': 163,\n",
       "   'name': 'jp_client_test',\n",
       "   'userId': '62ee25c6-588c-4183-8833-32dc3be8a40e',\n",
       "   'assetId': '045ae8fa-18df-4a55-8c41-89c23d80f588',\n",
       "   'type': 'immediate',\n",
       "   'frequencyInterval': 'manual',\n",
       "   'outputs': [{'fileName': 'answer.csv',\n",
       "     'assetId': '3c0b39f0-dc0f-4571-b114-4ec7762c3f91',\n",
       "     'version': 150,\n",
       "     'permissions': ['CREATE', 'DELETE', 'DOWNLOAD', 'EDIT', 'OWNER', 'VIEW'],\n",
       "     'breadcrumbs': ['users', 'siteadmin3', 'answer.csv']}]}],\n",
       " 'offset': 0,\n",
       " 'limit': 10,\n",
       " 'total': 1}"
      ]
     },
     "execution_count": null,
     "metadata": {},
     "output_type": "execute_result"
    }
   ],
   "source": [
    "jobs_response.json()"
   ]
  },
  {
   "cell_type": "code",
   "execution_count": null,
   "metadata": {},
   "outputs": [],
   "source": [
    "jobs_dict = jobs_response.json()"
   ]
  },
  {
   "cell_type": "code",
   "execution_count": null,
   "metadata": {},
   "outputs": [],
   "source": [
    "output_asset_id = jobs_dict['jobs'][0]['outputs'][0]['assetId']"
   ]
  },
  {
   "cell_type": "code",
   "execution_count": null,
   "metadata": {},
   "outputs": [],
   "source": [
    "output_asset_id = '3c0b39f0-dc0f-4571-b114-4ec7762c3f91'"
   ]
  },
  {
   "cell_type": "markdown",
   "metadata": {},
   "source": [
    "## Get request to the files/content api with the output_asset_id"
   ]
  },
  {
   "cell_type": "code",
   "execution_count": null,
   "metadata": {},
   "outputs": [],
   "source": [
    "files_response = dev_client.api.get(url='files/content', \n",
    "                                    params={\"id\": output_asset_id})"
   ]
  },
  {
   "cell_type": "code",
   "execution_count": null,
   "metadata": {},
   "outputs": [
    {
     "data": {
      "text/plain": [
       "b'Answer\\r\\nIt is certain\\r\\n'"
      ]
     },
     "execution_count": null,
     "metadata": {},
     "output_type": "execute_result"
    }
   ],
   "source": [
    "files_response.content"
   ]
  },
  {
   "cell_type": "code",
   "execution_count": null,
   "metadata": {},
   "outputs": [
    {
     "name": "stdout",
     "output_type": "stream",
     "text": [
      "Converted 00_core.ipynb.\n",
      "Converted 01_client.ipynb.\n",
      "Converted 02_jobs.ipynb.\n",
      "Converted 03_api.ipynb.\n",
      "Converted 04_authenticate.ipynb.\n",
      "Converted 05_files.ipynb.\n",
      "Converted 06_workflows.ipynb.\n",
      "Converted index.ipynb.\n",
      "Converted Untitled.ipynb.\n"
     ]
    }
   ],
   "source": [
    "#hide\n",
    "from nbdev.export import *\n",
    "notebook2script()"
   ]
  },
  {
   "cell_type": "code",
   "execution_count": null,
   "metadata": {},
   "outputs": [],
   "source": []
  },
  {
   "cell_type": "code",
   "execution_count": null,
   "metadata": {},
   "outputs": [],
   "source": [
    "from nbdev.sync import script2notebook\n",
    "script2notebook()"
   ]
  }
 ],
 "metadata": {
  "kernelspec": {
   "display_name": "Python 3",
   "language": "python",
   "name": "python3"
  }
 },
 "nbformat": 4,
 "nbformat_minor": 4
}
