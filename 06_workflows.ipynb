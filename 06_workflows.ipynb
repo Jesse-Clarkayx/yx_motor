{
 "cells": [
  {
   "cell_type": "code",
   "execution_count": null,
   "metadata": {},
   "outputs": [],
   "source": [
    "# default_exp workflows"
   ]
  },
  {
   "cell_type": "markdown",
   "metadata": {},
   "source": [
    "# workflows\n",
    "> Execute workflows on Server"
   ]
  },
  {
   "cell_type": "code",
   "execution_count": null,
   "metadata": {},
   "outputs": [],
   "source": [
    "#hide\n",
    "# just removing the insecure warning for now\n",
    "# TODO: Secure requests and remove this code\n",
    "import urllib3\n",
    "urllib3.disable_warnings(urllib3.exceptions.InsecureRequestWarning)"
   ]
  },
  {
   "cell_type": "code",
   "execution_count": null,
   "metadata": {},
   "outputs": [],
   "source": [
    "# export\n",
    "from typing import List\n",
    "import requests\n",
    "\n",
    "from yx_motor.api import API\n",
    "from yx_motor.files import Files\n",
    "from yx_motor.jobs import Jobs\n",
    "\n",
    "\n",
    "class Workflows:\n",
    "    \"Class for workflow-related API actions\"\n",
    "\n",
    "    def __init__(self, api: API):\n",
    "        self.api = api\n",
    "        self.base_endpoint = \"workflows/\"\n",
    "        self.files = Files(self.api)\n",
    "        self.jobs = Jobs(self.api)\n",
    "\n",
    "    @staticmethod\n",
    "    def build_schedule_payload(schedule_name: str, asset_id: str):\n",
    "        return {\"schedule\": {\"name\": schedule_name, \"assetId\": asset_id,}}\n",
    "\n",
    "    def get_questions(self, asset_id: str):\n",
    "        \"\"\"Return question payload for an asset of type analytic app.\"\"\"\n",
    "        response = self.api.post(url=f\"workflows/{asset_id}/questions\")\n",
    "        return response\n",
    "\n",
    "    def get_vfs_inputs(self, asset_id: str):\n",
    "        \"\"\"Return the list of vfs inputs for a given workflow asset.\"\"\"\n",
    "        response = self.api.get(url=f\"workflows/{asset_id}/vfsInputs\")\n",
    "        return response\n",
    "\n",
    "    def update_vfs_inputs(self, asset_id: str, tool_id: str):\n",
    "        pass\n",
    "\n",
    "    def get_workflow_dependencies(self, asset_id: str):\n",
    "        \"\"\"Return the list of asset dependencies for a given workflow asset\"\"\"\n",
    "        response = self.api.get(url=f\"workflows/{asset_id}/dependencies\")\n",
    "        return response\n",
    "\n",
    "    def update_workflow_dependencies(self, asset_id: str):\n",
    "        pass\n",
    "\n",
    "    def add_workflow_dependency(self, asset_id: str):\n",
    "        pass\n",
    "\n",
    "    def add_workflow_dependency_connection(self, asset_id: str, tool_id: str):\n",
    "        pass\n",
    "\n",
    "    def run_workflow(\n",
    "        self, asset_id: str, schedule_name: str, vfs_inputs: List[str] = None\n",
    "    ):\n",
    "        \"\"\"Schedule a workflow to be executed instantaneously.\n",
    "           Returns a schedule object.\"\"\"\n",
    "        response = self.api.post(\n",
    "            url=\"workflows/run\",\n",
    "            json=self.build_schedule_payload(schedule_name, asset_id),\n",
    "        )\n",
    "        return response\n",
    "\n",
    "    def download_workflow_results(self, schedule_id: str, download_path: str):\n",
    "        # TODO: Input validation\n",
    "        workflow_job = self.jobs.get_job(params={\"scheduleId\": schedule_id})\n",
    "        # TODO: Need to check the status of the job, for completion\n",
    "        # and/or error state before trying to get outputs.\n",
    "\n",
    "        # TODO: Add validation, error handling here\n",
    "        output_asset_id = self.get_wf_job_output(workflow_job)[0]\n",
    "\n",
    "        response = self.files.download_file(\n",
    "            file_uuid=output_asset_id, download_path=download_path\n",
    "        )\n",
    "\n",
    "        return response\n",
    "\n",
    "    @staticmethod\n",
    "    def get_wf_job_output(wf_job: object):\n",
    "        jobs_object = wf_job.json()[\"jobs\"]\n",
    "        job = jobs_object[0]\n",
    "        outputs = job[\"outputs\"]\n",
    "        output_asset_id_list = [file[\"assetId\"] for file in outputs]\n",
    "        return output_asset_id_list"
   ]
  },
  {
   "cell_type": "code",
   "execution_count": null,
   "metadata": {},
   "outputs": [
    {
     "name": "stdout",
     "output_type": "stream",
     "text": [
      "POST sent to: https://hub-beta.demo.alteryx.com/api/v1/authenticate/\n",
      "with headers: {'User-Agent': 'python-requests/2.23.0', 'Accept-Encoding': 'gzip,deflate', 'Accept': '*/*', 'Connection': 'keep-alive', 'Content-Type': 'application/json', 'Accept-Language': 'en-US,en;q=0.5', 'Content-Length': '57'}\n",
      "Response Status: 200\n",
      "POST sent to: https://hub-beta.demo.alteryx.com/api/v1/files/\n",
      "with headers: {'User-Agent': 'python-requests/2.23.0', 'Accept-Encoding': 'gzip,deflate', 'Accept': '*/*', 'Connection': 'keep-alive', 'Content-Type': 'application/json', 'Accept-Language': 'en-US,en;q=0.5', 'path': '/Workspaces/Public/simple_questions2.yxwz', 'conflict_action': 'MERGE', 'Cookie': 'ayxSession=s%3A0a2fb66e-de46-47db-9be0-9245802f96e7.wGhOf6H63PZh2aEFEgk9xHicI9irLpJBYGONAvdBTSU', 'Content-Length': '22646'}\n",
      "Response Status: 200\n",
      "POST sent to: https://hub-beta.demo.alteryx.com/api/v1/files/\n",
      "with headers: {'User-Agent': 'python-requests/2.23.0', 'Accept-Encoding': 'gzip,deflate', 'Accept': '*/*', 'Connection': 'keep-alive', 'Content-Type': 'application/json', 'Accept-Language': 'en-US,en;q=0.5', 'path': '/Workspaces/Public/WorkflowA.yxmd', 'conflict_action': 'MERGE', 'Cookie': 'ayxSession=s%3A0a2fb66e-de46-47db-9be0-9245802f96e7.wGhOf6H63PZh2aEFEgk9xHicI9irLpJBYGONAvdBTSU', 'Content-Length': '3250'}\n",
      "Response Status: 200\n",
      "POST sent to: https://hub-beta.demo.alteryx.com/api/v1/files/\n",
      "with headers: {'User-Agent': 'python-requests/2.23.0', 'Accept-Encoding': 'gzip,deflate', 'Accept': '*/*', 'Connection': 'keep-alive', 'Content-Type': 'application/json', 'Accept-Language': 'en-US,en;q=0.5', 'path': '/Workspaces/Public/WorkflowB.yxmd', 'conflict_action': 'MERGE', 'Cookie': 'ayxSession=s%3A0a2fb66e-de46-47db-9be0-9245802f96e7.wGhOf6H63PZh2aEFEgk9xHicI9irLpJBYGONAvdBTSU', 'Content-Length': '4183'}\n",
      "Response Status: 200\n"
     ]
    }
   ],
   "source": [
    "#hide\n",
    "\n",
    "######################### Integration Test Scaffolding ############################\n",
    "from yx_motor.client import Client\n",
    "\n",
    "from private import server_vars\n",
    "\n",
    "base_url=server_vars['base_url']\n",
    "login_email = server_vars['login_email']\n",
    "login_pwd = server_vars['login_pwd']\n",
    "\n",
    "dev_client = Client(base_url=base_url,\n",
    "                    login_email=login_email,\n",
    "                    login_pwd=login_pwd)\n",
    "\n",
    "workflows = Workflows(dev_client.api)\n",
    "\n",
    "#TODO Add to a helpers module\n",
    "\n",
    "from pathlib import Path\n",
    "\n",
    "def seed_workflow(dev_client: object, \n",
    "                  workflow_path: str, \n",
    "                  upload_path: str):\n",
    "    workflow_path = Path(workflow_path)\n",
    "    workflow_name = workflow_path.name\n",
    "    \n",
    "    workflow_response = dev_client.files.upload_file(filename=workflow_path,\n",
    "                                                     upload_path=f\"{upload_path}{workflow_name}\",\n",
    "                                                     conflict_action=\"MERGE\").json()\n",
    "    \n",
    "    return workflow_response\n",
    "\n",
    "\n",
    "questions_workflow_path = Path(r'test_workflows/simple_questions2.yxwz')\n",
    "\n",
    "workflow_a_path = Path(r'WorkflowA.yxmd')\n",
    "\n",
    "workflow_b_path = Path(r'WorkflowB.yxmd')\n",
    "\n",
    "aah_upload_path = r'/Workspaces/Public/'\n",
    "\n",
    "questions_workflow = seed_workflow(dev_client, \n",
    "                                   questions_workflow_path, \n",
    "                                   aah_upload_path)\n",
    "\n",
    "workflow_a_json = seed_workflow(dev_client, \n",
    "                                workflow_a_path, \n",
    "                                aah_upload_path)\n",
    "\n",
    "workflow_b_json = seed_workflow(dev_client, \n",
    "                                workflow_b_path, \n",
    "                                aah_upload_path)\n",
    "\n",
    "workflow_a_path = workflow_a_json['path']\n",
    "workflow_a_uuid = workflow_a_json['uuid']\n",
    "workflow_a_content_id = workflow_a_json['contentId']\n",
    "\n",
    "workflow_b_path = workflow_b_json['path']\n",
    "workflow_b_uuid = workflow_b_json['uuid']\n",
    "workflow_b_content_id = workflow_b_json['contentId']\n",
    "\n",
    "questions_wf_path = questions_workflow['path']\n",
    "questions_wf_uuid = questions_workflow['uuid']\n",
    "questions_wf_content_id = questions_workflow['contentId']"
   ]
  },
  {
   "cell_type": "markdown",
   "metadata": {},
   "source": [
    "# Why is get questions broken? Look at API docs"
   ]
  },
  {
   "cell_type": "code",
   "execution_count": null,
   "metadata": {},
   "outputs": [
    {
     "data": {
      "text/markdown": [
       "<h4 id=\"Workflows.get_questions\" class=\"doc_header\"><code>Workflows.get_questions</code><a href=\"__main__.py#L23\" class=\"source_link\" style=\"float:right\">[source]</a></h4>\n",
       "\n",
       "> <code>Workflows.get_questions</code>(**`asset_id`**:`str`)\n",
       "\n",
       "Return question payload for an asset of type analytic app."
      ],
      "text/plain": [
       "<IPython.core.display.Markdown object>"
      ]
     },
     "metadata": {},
     "output_type": "display_data"
    }
   ],
   "source": [
    "from nbdev.showdoc import *\n",
    "show_doc(Workflows.get_questions)"
   ]
  },
  {
   "cell_type": "code",
   "execution_count": null,
   "metadata": {},
   "outputs": [],
   "source": [
    "workflows = Workflows(dev_client.api)"
   ]
  },
  {
   "cell_type": "code",
   "execution_count": null,
   "metadata": {},
   "outputs": [],
   "source": [
    "asset_uid = questions_wf_uuid"
   ]
  },
  {
   "cell_type": "code",
   "execution_count": null,
   "metadata": {},
   "outputs": [
    {
     "name": "stdout",
     "output_type": "stream",
     "text": [
      "POST sent to: https://ec2-44-234-86-100.us-west-2.compute.amazonaws.com/api/v1/workflows/061ccef2-42bc-45f6-b6ed-77cc6a211dc5/questions\n",
      "with headers: {'User-Agent': 'python-requests/2.23.0', 'Accept-Encoding': 'gzip,deflate', 'Accept': '*/*', 'Connection': 'keep-alive', 'Content-Type': 'application/json', 'Accept-Language': 'en-US,en;q=0.5', 'Cookie': 'ayxSession=s%3Ae5792dbf-36ad-4fb4-bffd-2d3d449b08c4.OTu4BC6lMigmko%2FjBZ9k%2BHb8h9aLG7DZjlNS22n0uNk', 'Content-Length': '0'}\n",
      "Response Status: 500\n"
     ]
    },
    {
     "data": {
      "text/plain": [
       "{'requestUuid': '614951e1-6dcb-4026-a296-f381b73e42bf',\n",
       " 'errors': [{'code': '',\n",
       "   'message': 'WorkflowOrchestrator.getQuestions() with args: [ { \"requestUuid\": \"614951e1-6dcb-4026-a296-f381b73e42bf\",\"auditEvents\": \"[  ]\",\"privateSession\": \"{ NESTED OBJECT }\",\"privateSiteId\": \"f6a2add6-7f4b-4c62-9b21-b9959faac597\",\"clientIp\": \"::ffff:66.35.44.241\" },\"061ccef2-42bc-45f6-b6ed-77cc6a211dc5\",undefined,undefined,undefined]'},\n",
       "  {'code': '',\n",
       "   'message': 'EngineWorkerService.getQuestions() with args: [ { \"requestUuid\": \"614951e1-6dcb-4026-a296-f381b73e42bf\",\"auditEvents\": \"[  ]\",\"privateSession\": \"{ NESTED OBJECT }\",\"privateSiteId\": \"f6a2add6-7f4b-4c62-9b21-b9959faac597\",\"clientIp\": \"::ffff:66.35.44.241\" }, { \"created\": \"\\\\\"2020-07-01T21:47:31.549Z\\\\\"\",\"versionCreated\": \"\\\\\"2020-07-01T21:47:31.549Z\\\\\"\",\"folderType\":  [[[ this argument failed to process ]]],\"links\":  [[[ this argument failed to process ]]],\"metadata\": \"{ NESTED OBJECT }\",\"metaHash\": \"f1425e61763e6a7fae79 ... 8722de8a69d0bc6c94fa\",\"maxVersion\": 1,\"isHidden\": false,\"onlyOwnerShares\": false,\"onlySiteAdminShares\": false,\"extension\": \"yxwz\",\"assetCategory\": \"WORKFLOW_APP\",\"contentId\": \"c35c7462-f267-40f6-8cbb-8574ac3538de\",\"contentHash\": \"e9afe10edf2a644a849b ... 990555eb1ac1d95822db\",\"contentSize\": 22646,\"comment\":  [[[ this argument failed to process ]]],\"entryOwner\": \"{ NESTED OBJECT }\",\"fileName\": \"simple_questions2.yxwz\",\"inherits\": true,\"path\": \"/Workspaces/Public/simple_questions2.yxwz\",\"version\": 1,\"assignedPermissionsDateUpdated\":  [[[ this argument failed to process ]]],\"location\": \"\",\"uuid\": \"061ccef2-42bc-45f6-b6ed-77cc6a211dc5\",\"md5Hash\": \"7b499f621571181bd7d348d905c67272\" },undefined,undefined]'}]}"
      ]
     },
     "execution_count": null,
     "metadata": {},
     "output_type": "execute_result"
    }
   ],
   "source": [
    "workflows.get_questions(asset_id=asset_uid).json()"
   ]
  },
  {
   "cell_type": "code",
   "execution_count": null,
   "metadata": {},
   "outputs": [
    {
     "data": {
      "text/markdown": [
       "<h4 id=\"Workflows.get_vfs_inputs\" class=\"doc_header\"><code>Workflows.get_vfs_inputs</code><a href=\"__main__.py#L28\" class=\"source_link\" style=\"float:right\">[source]</a></h4>\n",
       "\n",
       "> <code>Workflows.get_vfs_inputs</code>(**`asset_id`**:`str`)\n",
       "\n",
       "Return the list of vfs inputs for a given workflow asset."
      ],
      "text/plain": [
       "<IPython.core.display.Markdown object>"
      ]
     },
     "metadata": {},
     "output_type": "display_data"
    }
   ],
   "source": [
    "from nbdev.showdoc import *\n",
    "show_doc(Workflows.get_vfs_inputs)"
   ]
  },
  {
   "cell_type": "code",
   "execution_count": null,
   "metadata": {},
   "outputs": [
    {
     "name": "stdout",
     "output_type": "stream",
     "text": [
      "GET sent to: https://ec2-44-234-86-100.us-west-2.compute.amazonaws.com/api/v1/workflows/ed2085aa-6c6f-4e45-b5ce-5ccc2bfa6771/vfsInputs\n",
      "with headers: {'User-Agent': 'python-requests/2.23.0', 'Accept-Encoding': 'gzip,deflate', 'Accept': '*/*', 'Connection': 'keep-alive', 'Content-Type': 'application/json', 'Accept-Language': 'en-US,en;q=0.5', 'Cookie': 'ayxSession=s%3A174b59ad-dd9c-47e4-ace7-e6abf63094e7.4UsHXVoFG%2B5AWeDcp0lfsE4BF59GfxlaPo3tDz1G5qM'}\n",
      "Response Status: 200\n"
     ]
    },
    {
     "data": {
      "text/plain": [
       "[]"
      ]
     },
     "execution_count": null,
     "metadata": {},
     "output_type": "execute_result"
    }
   ],
   "source": [
    "workflows = Workflows(dev_client.api)\n",
    "workflows.get_vfs_inputs(asset_id=asset_uid).json()"
   ]
  },
  {
   "cell_type": "code",
   "execution_count": null,
   "metadata": {},
   "outputs": [
    {
     "data": {
      "text/markdown": [
       "<h4 id=\"Workflows.get_workflow_dependencies\" class=\"doc_header\"><code>Workflows.get_workflow_dependencies</code><a href=\"__main__.py#L36\" class=\"source_link\" style=\"float:right\">[source]</a></h4>\n",
       "\n",
       "> <code>Workflows.get_workflow_dependencies</code>(**`asset_id`**:`str`)\n",
       "\n",
       "Return the list of asset dependencies for a given workflow asset"
      ],
      "text/plain": [
       "<IPython.core.display.Markdown object>"
      ]
     },
     "metadata": {},
     "output_type": "display_data"
    }
   ],
   "source": [
    "from nbdev.showdoc import *\n",
    "show_doc(Workflows.get_workflow_dependencies)"
   ]
  },
  {
   "cell_type": "code",
   "execution_count": null,
   "metadata": {},
   "outputs": [
    {
     "name": "stdout",
     "output_type": "stream",
     "text": [
      "GET sent to: https://ec2-44-234-86-100.us-west-2.compute.amazonaws.com/api/v1/workflows/ed2085aa-6c6f-4e45-b5ce-5ccc2bfa6771/dependencies\n",
      "with headers: {'User-Agent': 'python-requests/2.23.0', 'Accept-Encoding': 'gzip,deflate', 'Accept': '*/*', 'Connection': 'keep-alive', 'Content-Type': 'application/json', 'Accept-Language': 'en-US,en;q=0.5', 'Cookie': 'ayxSession=s%3A174b59ad-dd9c-47e4-ace7-e6abf63094e7.4UsHXVoFG%2B5AWeDcp0lfsE4BF59GfxlaPo3tDz1G5qM'}\n",
      "Response Status: 200\n"
     ]
    },
    {
     "data": {
      "text/plain": [
       "[]"
      ]
     },
     "execution_count": null,
     "metadata": {},
     "output_type": "execute_result"
    }
   ],
   "source": [
    "workflows = Workflows(dev_client.api)\n",
    "workflows.get_workflow_dependencies(asset_id=asset_uid).json()"
   ]
  },
  {
   "cell_type": "code",
   "execution_count": null,
   "metadata": {},
   "outputs": [
    {
     "data": {
      "text/markdown": [
       "<h4 id=\"Workflows.run_workflow\" class=\"doc_header\"><code>Workflows.run_workflow</code><a href=\"__main__.py#L50\" class=\"source_link\" style=\"float:right\">[source]</a></h4>\n",
       "\n",
       "> <code>Workflows.run_workflow</code>(**`asset_id`**:`str`, **`schedule_name`**:`str`, **`vfs_inputs`**:`List`\\[`str`\\]=*`None`*)\n",
       "\n",
       "Schedule a workflow to be executed instantaneously.\n",
       "Returns a schedule object."
      ],
      "text/plain": [
       "<IPython.core.display.Markdown object>"
      ]
     },
     "metadata": {},
     "output_type": "display_data"
    }
   ],
   "source": [
    "from nbdev.showdoc import *\n",
    "show_doc(Workflows.run_workflow)"
   ]
  },
  {
   "cell_type": "markdown",
   "metadata": {},
   "source": [
    "**Arguments**:\n",
    "\n",
    "- asset_id: Unique VFS identifier for the workflow you want to execute.\n",
    "- schedule_name: Optional: Name of the schedule that will be created when workflow execution is triggered.\n",
    "- vfs_inputs: TODO, need to research this more and test it."
   ]
  },
  {
   "cell_type": "code",
   "execution_count": null,
   "metadata": {},
   "outputs": [],
   "source": [
    "asset_uid = questions_wf_uuid"
   ]
  },
  {
   "cell_type": "code",
   "execution_count": null,
   "metadata": {},
   "outputs": [
    {
     "name": "stdout",
     "output_type": "stream",
     "text": [
      "POST sent to: https://ec2-44-234-86-100.us-west-2.compute.amazonaws.com/api/v1/workflows/run\n",
      "with headers: {'User-Agent': 'python-requests/2.23.0', 'Accept-Encoding': 'gzip,deflate', 'Accept': '*/*', 'Connection': 'keep-alive', 'Content-Type': 'application/json', 'Accept-Language': 'en-US,en;q=0.5', 'Cookie': 'ayxSession=s%3Ae5792dbf-36ad-4fb4-bffd-2d3d449b08c4.OTu4BC6lMigmko%2FjBZ9k%2BHb8h9aLG7DZjlNS22n0uNk', 'Content-Length': '91'}\n",
      "Response Status: 200\n"
     ]
    },
    {
     "data": {
      "text/plain": [
       "{'scheduleId': 'c4e886d1-423b-4cb4-a985-195ac511d108',\n",
       " 'name': 'jp_client_test',\n",
       " 'userId': '88eec279-7769-414e-94ae-d0fd9f83a686',\n",
       " 'assetId': '061ccef2-42bc-45f6-b6ed-77cc6a211dc5',\n",
       " 'assetVersion': None,\n",
       " 'runAsId': None,\n",
       " 'toolConnections': None,\n",
       " 'status': 'active',\n",
       " 'startDate': None,\n",
       " 'endDate': None,\n",
       " 'lastRun': None,\n",
       " 'nextRun': None,\n",
       " 'frequencyInterval': 'manual',\n",
       " 'frequencyRule': None,\n",
       " 'type': 'immediate',\n",
       " 'isDisabled': False,\n",
       " 'isDeleted': False,\n",
       " 'comment': None,\n",
       " 'siteId': 'f6a2add6-7f4b-4c62-9b21-b9959faac597',\n",
       " 'parameters': {'runMode': 0},\n",
       " 'analyticAppAnswers': None,\n",
       " 'inputFiles': None,\n",
       " 'creationDate': '2020-07-01T21:49:02.748Z',\n",
       " 'lastUpdate': '2020-07-01T21:49:02.748Z',\n",
       " 'outputLocation': None,\n",
       " 'timezone': 'UTC',\n",
       " 'utcOffset': 0,\n",
       " 'priority': 50}"
      ]
     },
     "execution_count": null,
     "metadata": {},
     "output_type": "execute_result"
    }
   ],
   "source": [
    "workflows = Workflows(dev_client.api)\n",
    "workflows.run_workflow(asset_id=asset_uid,\n",
    "                       schedule_name=\"jp_client_test\").json()"
   ]
  },
  {
   "cell_type": "code",
   "execution_count": null,
   "metadata": {},
   "outputs": [
    {
     "data": {
      "text/markdown": [
       "<h4 id=\"Workflows.download_workflow_results\" class=\"doc_header\"><code>Workflows.download_workflow_results</code><a href=\"__main__.py#L61\" class=\"source_link\" style=\"float:right\">[source]</a></h4>\n",
       "\n",
       "> <code>Workflows.download_workflow_results</code>(**`schedule_id`**:`str`, **`download_path`**:`str`)\n",
       "\n"
      ],
      "text/plain": [
       "<IPython.core.display.Markdown object>"
      ]
     },
     "metadata": {},
     "output_type": "display_data"
    }
   ],
   "source": [
    "from nbdev.showdoc import *\n",
    "show_doc(Workflows.download_workflow_results)"
   ]
  },
  {
   "cell_type": "code",
   "execution_count": null,
   "metadata": {},
   "outputs": [
    {
     "name": "stdout",
     "output_type": "stream",
     "text": [
      "POST sent to: https://ec2-44-234-86-100.us-west-2.compute.amazonaws.com/api/v1/workflows/run\n",
      "with headers: {'User-Agent': 'python-requests/2.23.0', 'Accept-Encoding': 'gzip,deflate', 'Accept': '*/*', 'Connection': 'keep-alive', 'Content-Type': 'application/json', 'Accept-Language': 'en-US,en;q=0.5', 'Cookie': 'ayxSession=s%3A174b59ad-dd9c-47e4-ace7-e6abf63094e7.4UsHXVoFG%2B5AWeDcp0lfsE4BF59GfxlaPo3tDz1G5qM', 'Content-Length': '91'}\n",
      "Response Status: 200\n"
     ]
    }
   ],
   "source": [
    "workflows = Workflows(dev_client.api)\n",
    "response = workflows.run_workflow(asset_id=asset_uid,\n",
    "                       schedule_name=\"jp_client_test\").json()"
   ]
  },
  {
   "cell_type": "code",
   "execution_count": null,
   "metadata": {},
   "outputs": [],
   "source": [
    "schedule_id = response['scheduleId']"
   ]
  },
  {
   "cell_type": "code",
   "execution_count": null,
   "metadata": {},
   "outputs": [
    {
     "name": "stdout",
     "output_type": "stream",
     "text": [
      "GET sent to: https://ec2-44-234-86-100.us-west-2.compute.amazonaws.com/api/v1/jobs/?scheduleId=22317f84-5a10-4633-8079-64c77f1dc740\n",
      "with headers: {'User-Agent': 'python-requests/2.23.0', 'Accept-Encoding': 'gzip,deflate', 'Accept': '*/*', 'Connection': 'keep-alive', 'Content-Type': 'application/json', 'Accept-Language': 'en-US,en;q=0.5', 'Cookie': 'ayxSession=s%3A174b59ad-dd9c-47e4-ace7-e6abf63094e7.4UsHXVoFG%2B5AWeDcp0lfsE4BF59GfxlaPo3tDz1G5qM'}\n",
      "Response Status: 200\n",
      "GET sent to: https://ec2-44-234-86-100.us-west-2.compute.amazonaws.com/api/v1/files/content?id=ddc6c43d-f7ee-4d76-9c9b-320afe74b292\n",
      "with headers: {'User-Agent': 'python-requests/2.23.0', 'Accept-Encoding': 'gzip,deflate', 'Accept': '*/*', 'Connection': 'keep-alive', 'Content-Type': 'application/json', 'Accept-Language': 'en-US,en;q=0.5', 'Cookie': 'ayxSession=s%3A174b59ad-dd9c-47e4-ace7-e6abf63094e7.4UsHXVoFG%2B5AWeDcp0lfsE4BF59GfxlaPo3tDz1G5qM'}\n",
      "Response Status: 200\n"
     ]
    },
    {
     "data": {
      "text/plain": [
       "<Response [200]>"
      ]
     },
     "execution_count": null,
     "metadata": {},
     "output_type": "execute_result"
    }
   ],
   "source": [
    "workflows.download_workflow_results(schedule_id=schedule_id, \n",
    "                                    download_path='wf_out_test.csv')"
   ]
  },
  {
   "cell_type": "code",
   "execution_count": null,
   "metadata": {},
   "outputs": [
    {
     "name": "stdout",
     "output_type": "stream",
     "text": [
      "Converted 01_client.ipynb.\n",
      "Converted 02_jobs.ipynb.\n",
      "Converted 03_api.ipynb.\n",
      "Converted 04_authenticate.ipynb.\n",
      "Converted 05_files.ipynb.\n",
      "Converted 06_workflows.ipynb.\n",
      "Converted index.ipynb.\n",
      "Converted integration_tests.ipynb.\n"
     ]
    }
   ],
   "source": [
    "#hide\n",
    "from nbdev.export import *\n",
    "notebook2script()"
   ]
  },
  {
   "cell_type": "code",
   "execution_count": null,
   "metadata": {},
   "outputs": [],
   "source": []
  },
  {
   "cell_type": "code",
   "execution_count": null,
   "metadata": {},
   "outputs": [],
   "source": [
    "from nbdev.sync import script2notebook\n",
    "script2notebook()"
   ]
  }
 ],
 "metadata": {
  "kernelspec": {
   "display_name": "Python 3",
   "language": "python",
   "name": "python3"
  }
 },
 "nbformat": 4,
 "nbformat_minor": 4
}
