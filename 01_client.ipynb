{
 "cells": [
  {
   "cell_type": "code",
   "execution_count": null,
   "metadata": {},
   "outputs": [],
   "source": [
    "# default_exp client"
   ]
  },
  {
   "cell_type": "code",
   "execution_count": null,
   "metadata": {},
   "outputs": [],
   "source": [
    "#hide\n",
    "# just removing the insecure warning for now\n",
    "# TODO: Secure requests and remove this code\n",
    "import urllib3\n",
    "urllib3.disable_warnings(urllib3.exceptions.InsecureRequestWarning)"
   ]
  },
  {
   "cell_type": "code",
   "execution_count": null,
   "metadata": {},
   "outputs": [],
   "source": [
    "#hide\n",
    "from private import server_vars"
   ]
  },
  {
   "cell_type": "code",
   "execution_count": null,
   "metadata": {},
   "outputs": [],
   "source": [
    "#hide\n",
    "base_url=server_vars['base_url']\n",
    "login_email = server_vars['login_email']\n",
    "login_pwd = server_vars['login_pwd']"
   ]
  },
  {
   "cell_type": "markdown",
   "metadata": {},
   "source": [
    "`<<<<<<< HEAD`"
   ]
  },
  {
   "cell_type": "code",
   "execution_count": null,
   "metadata": {},
   "outputs": [],
   "source": [
    "# export\n",
    "import requests\n",
    "\n",
    "from yx_motor.api import API\n",
    "from yx_motor.authenticate import Authenticate\n",
    "from yx_motor.jobs import Jobs\n",
    "from yx_motor.files import Files\n",
    "\n",
    "\n",
    "class Client:\n",
    "    \"Wrapper for Alteryx Server API.\"\n",
    "\n",
    "    def __init__(self, base_url: str, login_email: str, login_pwd: str):\n",
    "        \"\"\"Initialize a yx_motor client object.\"\"\"\n",
    "        self.base_url = base_url\n",
    "        self.api_url = f\"{base_url}api/v1/\"\n",
    "\n",
    "        self.auth_endpoint = \"authenticate\"\n",
    "\n",
    "        self.login_email = login_email\n",
    "        self.login_pwd = login_pwd\n",
    "\n",
    "        self.headers = {\n",
    "            \"Content-Type\": \"application/json\",\n",
    "            \"Accept\": \"*/*\",\n",
    "            \"Accept-Language\": \"en-US,en;q=0.5\",\n",
    "            \"Accept-Encoding\": \"gzip,deflate\",\n",
    "        }\n",
    "\n",
    "        self.api = API(api_url=self.api_url, headers=self.headers)\n",
    "\n",
    "        self.authenticate = Authenticate(self.api)\n",
    "        self.jobs = Jobs(self.api)\n",
    "\n",
    "        self.authenticate.authenticate(\n",
    "            login_email=self.login_email, login_pwd=self.login_pwd\n",
    "        )\n",
    "\n",
    "    def get_users(self):\n",
    "        response = self.api.get(\"users\")\n",
    "        return response"
   ]
  },
  {
   "cell_type": "markdown",
   "metadata": {},
   "source": [
    "`=======`"
   ]
  },
  {
   "cell_type": "code",
   "execution_count": null,
   "metadata": {},
   "outputs": [],
   "source": [
    "# export\n",
    "import requests\n",
    "\n",
    "from yx_motor.api import API\n",
    "from yx_motor.authenticate import Authenticate\n",
    "from yx_motor.jobs import Jobs\n",
    "from yx_motor.files import Files\n",
    "\n",
    "\n",
    "class Client:\n",
    "    \"Wrapper for Alteryx Server API.\"\n",
    "    def __init__(self,\n",
    "                 base_url: str,\n",
    "                 login_email: str,\n",
    "                 login_pwd: str):\n",
    "        \"\"\"Initialize a yx_motor client object.\"\"\"\n",
    "        self.base_url = base_url\n",
    "        self.api_url = f\"{base_url}api/v1/\"\n",
    "\n",
    "        self.auth_endpoint = \"authenticate\"\n",
    "\n",
    "        self.login_email = login_email\n",
    "        self.login_pwd = login_pwd\n",
    "\n",
    "        self.headers = {\n",
    "            \"Content-Type\": \"application/json\",\n",
    "            \"Accept\": \"*/*\",\n",
    "            \"Accept-Language\": \"en-US,en;q=0.5\",\n",
    "            \"Accept-Encoding\": \"gzip,deflate\",\n",
    "        }\n",
    "\n",
    "        self.api = API(api_url=self.api_url,\n",
    "                       headers=self.headers)\n",
    "\n",
    "        self.authenticate = Authenticate(self.api)\n",
    "        self.jobs = Jobs(self.api)\n",
    "        self.files = Files(self.api)\n",
    "\n",
    "        self.authenticate.authenticate(login_email=self.login_email,\n",
    "                                       login_pwd=self.login_pwd)\n",
    "\n",
    "    def get_users(self):\n",
    "        response = self.api.get(\"users\")\n",
    "        return response"
   ]
  },
  {
   "cell_type": "markdown",
   "metadata": {},
   "source": [
    "`>>>>>>> 49e5de1647cd0cae4a23329fa30a66b9a4a03698`"
   ]
  },
  {
   "cell_type": "code",
   "execution_count": null,
   "metadata": {},
   "outputs": [
    {
     "data": {
      "text/markdown": [
       "<h4 id=\"Client.__init__\" class=\"doc_header\"><code>Client.__init__</code><a href=\"__main__.py#L13\" class=\"source_link\" style=\"float:right\">[source]</a></h4>\n",
       "\n",
       "> <code>Client.__init__</code>(**`base_url`**:`str`, **`login_email`**:`str`, **`login_pwd`**:`str`)\n",
       "\n",
       "Initialize a yx_motor client object."
      ],
      "text/plain": [
       "<IPython.core.display.Markdown object>"
      ]
     },
     "metadata": {},
     "output_type": "display_data"
    }
   ],
   "source": [
    "from nbdev.showdoc import *\n",
    "show_doc(Client.__init__)"
   ]
  },
  {
   "cell_type": "code",
   "execution_count": null,
   "metadata": {},
   "outputs": [
    {
     "name": "stdout",
     "output_type": "stream",
     "text": [
      "POST sent to: https://test.aep-mono.devops.alteryx.com/api/v1/authenticate/\n",
      "with headers: {'User-Agent': 'python-requests/2.23.0', 'Accept-Encoding': 'gzip,deflate', 'Accept': '*/*', 'Connection': 'keep-alive', 'Content-Type': 'application/json', 'Accept-Language': 'en-US,en;q=0.5', 'Content-Length': '59'}\n",
      "Response Status: 200\n"
     ]
    }
   ],
   "source": [
    "motor = Client(base_url,\n",
    "              login_email, \n",
    "              login_pwd)"
   ]
  },
  {
   "cell_type": "code",
   "execution_count": null,
   "metadata": {},
   "outputs": [],
   "source": [
    "#hide\n",
    "from unittest.mock import Mock\n",
    "motor.api = Mock()\n",
    "motor.api.is_authenticated = True"
   ]
  },
  {
   "cell_type": "code",
   "execution_count": null,
   "metadata": {},
   "outputs": [
    {
     "data": {
      "text/plain": [
       "True"
      ]
     },
     "execution_count": null,
     "metadata": {},
     "output_type": "execute_result"
    }
   ],
   "source": [
    "motor.api.is_authenticated"
   ]
  },
  {
   "cell_type": "markdown",
   "metadata": {},
   "source": [
    "# Jesse and JP testing stuff below (remove/breakout later)"
   ]
  },
  {
   "cell_type": "markdown",
   "metadata": {},
   "source": [
    "## VFS Router API Investigation"
   ]
  },
  {
   "cell_type": "code",
   "execution_count": null,
   "metadata": {},
   "outputs": [],
   "source": [
    "motor = Client(base_url,\n",
    "              login_email, \n",
    "              login_pwd)"
   ]
  },
  {
   "cell_type": "code",
   "execution_count": null,
   "metadata": {},
   "outputs": [
    {
     "name": "stdout",
     "output_type": "stream",
     "text": [
      "GET sent to: https://test.aep-mono.devops.alteryx.com/api/v1/files/recentlyViewed\n",
      "with headers: {'User-Agent': 'python-requests/2.23.0', 'Accept-Encoding': 'gzip,deflate', 'Accept': '*/*', 'Connection': 'keep-alive', 'Content-Type': 'application/json', 'Accept-Language': 'en-US,en;q=0.5', 'Cookie': 'ayxSession=s%3Aa898447b-b8c3-4f02-a81c-e61893597599.aSf3VFvnXVqnep%2Fr20sP5IL48NVG%2BkuCzb%2Fhsn%2BnCp0'}\n",
      "Response Status: 200\n"
     ]
    }
   ],
   "source": [
    "# Gets the payload of recently viewed files for a given user\n",
    "response = motor.api.get(\"files/recentlyViewed\")"
   ]
  },
  {
   "cell_type": "code",
   "execution_count": null,
   "metadata": {},
   "outputs": [
    {
     "data": {
      "text/plain": [
       "<Response [200]>"
      ]
     },
     "execution_count": null,
     "metadata": {},
     "output_type": "execute_result"
    }
   ],
   "source": [
    "response"
   ]
  },
  {
   "cell_type": "markdown",
   "metadata": {},
   "source": [
    "### Recently Viewed Files Response Object\n",
    "\n",
    "- Keys at top level\n",
    " - members  (what is this exactly?  Looks like it has access control stuff for file)\n",
    " - totalCount: integer, exactly what it sounds like\n",
    " - assets: array of what appears to be vfs \"asset/file\" objects.  "
   ]
  },
  {
   "cell_type": "code",
   "execution_count": null,
   "metadata": {},
   "outputs": [
    {
     "data": {
      "text/plain": [
       "dict_keys(['members', 'totalCount', 'assets'])"
      ]
     },
     "execution_count": null,
     "metadata": {},
     "output_type": "execute_result"
    }
   ],
   "source": [
    "response.json().keys()"
   ]
  },
  {
   "cell_type": "code",
   "execution_count": null,
   "metadata": {},
   "outputs": [],
   "source": [
    "asset_list = response.json()['assets']"
   ]
  },
  {
   "cell_type": "markdown",
   "metadata": {},
   "source": [
    "### VFS File object investigation\n",
    "\n",
    "- fileName: exactly what you think, but no path\n",
    "- path: full path, weird in a vfs as Jesse has pointed out\n",
    "- folderType: What is that and what are its implications?\n",
    "- version: integer\n",
    "- maxVersion: Latest version.  interesting, should investigate if there are different uuids for different version or same uuid?????\n",
    "- uuid: very important, core to all things workflow, vfs, etc.  all workflows appear to be vfs assets.  \n",
    "- metadata: object with critical keys regarding permissions, etc.\n",
    "- activityTime: ???  last run??\n",
    "- contentId: Why and what is this?  Is it useful?\n",
    "- entryOwner:  What is this for?  Why so much?\n",
    "- permissions: list of strings of file permission types\n",
    "- assetCategory: string, what are the valid types for this?  differences in behavior???\n",
    "- onlySiteAdminShares: bool: Per Jesse, this is a setting on a file to ensure only admins can share or not share a file"
   ]
  },
  {
   "cell_type": "code",
   "execution_count": null,
   "metadata": {},
   "outputs": [],
   "source": [
    "test_asset = asset_list[0]"
   ]
  },
  {
   "cell_type": "code",
   "execution_count": null,
   "metadata": {},
   "outputs": [
    {
     "data": {
      "text/plain": [
       "[{'fileName': 'Magic-8-Ball.yxmd',\n",
       "  'extension': 'yxmd',\n",
       "  'originalLocation': None,\n",
       "  'inherits': True,\n",
       "  'isHidden': False,\n",
       "  'onlyOwnerShares': True,\n",
       "  'path': '/Workspaces/Public/Magic-8-Ball.yxmd',\n",
       "  'folderType': None,\n",
       "  'version': 1,\n",
       "  'created': '2020-04-16T20:42:21.558Z',\n",
       "  'versionCreated': '2020-04-16T20:42:21.558Z',\n",
       "  'maxVersion': 1,\n",
       "  'links': None,\n",
       "  'location': '',\n",
       "  'uuid': 'c681db11-31fc-4854-8b0f-7e81870f9d87',\n",
       "  'metadata': {'yxType': 'WORKFLOW',\n",
       "   'vfsInputs': {},\n",
       "   'workflowInfo': {'isE2': False, 'modules': ['Magic-8-Ball.yxmd']}},\n",
       "  'activityTime': '2020-04-16T20:45:19.075Z',\n",
       "  'contentHash': '07949d23663f98c18f527fd7af961d209cc4459be11bd39df122b10e119981ba',\n",
       "  'contentId': 'ba8bba3e-92c0-4f60-a612-7ebec39c2f9f',\n",
       "  'contentSize': 9226,\n",
       "  'entryOwner': {'avatar': None,\n",
       "   'email': 'pladmin@example.com',\n",
       "   'firstName': 'Seeded',\n",
       "   'id': 'ef376193-fa7d-45fb-a9d3-57e14ec71d38',\n",
       "   'lastName': 'pladmin',\n",
       "   'name': 'Seeded pladmin',\n",
       "   'userName': 'pladmin'},\n",
       "  'md5Hash': '8984d04bae22a3af18dcdd317055b088',\n",
       "  'permissions': ['CREATE', 'DELETE', 'DOWNLOAD', 'EDIT', 'OWNER', 'VIEW'],\n",
       "  'assetCategory': 'WORKFLOW_APP',\n",
       "  'onlySiteAdminShares': False,\n",
       "  'breadcrumbs': [{'path': '/', 'view': True, 'create': True, 'delete': True},\n",
       "   {'path': '/Workspaces', 'view': True, 'create': True, 'delete': True},\n",
       "   {'path': '/Workspaces/Public',\n",
       "    'view': True,\n",
       "    'create': True,\n",
       "    'delete': True},\n",
       "   {'path': '/Workspaces/Public/Magic-8-Ball.yxmd',\n",
       "    'view': True,\n",
       "    'create': True,\n",
       "    'delete': True}]},\n",
       " {'fileName': 'Magic-8-Ball.yxmd',\n",
       "  'extension': 'yxmd',\n",
       "  'originalLocation': None,\n",
       "  'inherits': True,\n",
       "  'isHidden': False,\n",
       "  'onlyOwnerShares': False,\n",
       "  'path': '/users/siteadmin3/Magic-8-Ball.yxmd',\n",
       "  'folderType': None,\n",
       "  'version': 1,\n",
       "  'created': '2020-04-16T10:18:10.176Z',\n",
       "  'versionCreated': '2020-04-16T10:18:10.176Z',\n",
       "  'maxVersion': 1,\n",
       "  'links': None,\n",
       "  'location': '',\n",
       "  'uuid': 'c0793afd-b583-459d-8a4c-428c7b027686',\n",
       "  'metadata': {'yxType': 'WORKFLOW',\n",
       "   'vfsInputs': {},\n",
       "   'description': 'Seeded Magic-8-Ball',\n",
       "   'workflowInfo': {'isE2': False, 'modules': ['Magic-8-Ball.yxmd']}},\n",
       "  'activityTime': '2020-04-16T20:09:41.307Z',\n",
       "  'contentHash': '07949d23663f98c18f527fd7af961d209cc4459be11bd39df122b10e119981ba',\n",
       "  'contentId': 'ba8bba3e-92c0-4f60-a612-7ebec39c2f9f',\n",
       "  'contentSize': 9226,\n",
       "  'entryOwner': {'avatar': None,\n",
       "   'email': 'siteadmin3@example.com',\n",
       "   'firstName': 'Seeded',\n",
       "   'id': 'c5dbfd02-bf55-4afc-8cde-8cc0dffa324d',\n",
       "   'lastName': 'siteadmin3',\n",
       "   'name': 'Seeded siteadmin3',\n",
       "   'userName': 'siteadmin3'},\n",
       "  'md5Hash': '8984d04bae22a3af18dcdd317055b088',\n",
       "  'permissions': ['CREATE', 'DELETE', 'DOWNLOAD', 'EDIT', 'OWNER', 'VIEW'],\n",
       "  'assetCategory': 'WORKFLOW_APP',\n",
       "  'onlySiteAdminShares': False,\n",
       "  'breadcrumbs': [{'path': '/', 'view': True, 'create': True, 'delete': True},\n",
       "   {'path': '/users', 'view': True, 'create': True, 'delete': True},\n",
       "   {'path': '/users/siteadmin3', 'view': True, 'create': True, 'delete': True},\n",
       "   {'path': '/users/siteadmin3/Magic-8-Ball.yxmd',\n",
       "    'view': True,\n",
       "    'create': True,\n",
       "    'delete': True}]}]"
      ]
     },
     "execution_count": null,
     "metadata": {},
     "output_type": "execute_result"
    }
   ],
   "source": [
    "asset_list"
   ]
  },
  {
   "cell_type": "code",
   "execution_count": null,
   "metadata": {},
   "outputs": [
    {
     "data": {
      "text/plain": [
       "'1a847899-95a9-4206-a354-a69934c30b8f'"
      ]
     },
     "execution_count": null,
     "metadata": {},
     "output_type": "execute_result"
    }
   ],
   "source": [
    "test_asset['uuid']"
   ]
  },
  {
   "cell_type": "code",
   "execution_count": null,
   "metadata": {},
   "outputs": [
    {
     "data": {
      "text/plain": [
       "1"
      ]
     },
     "execution_count": null,
     "metadata": {},
     "output_type": "execute_result"
    }
   ],
   "source": [
    "test_asset['version']"
   ]
  },
  {
   "cell_type": "code",
   "execution_count": null,
   "metadata": {},
   "outputs": [
    {
     "data": {
      "text/plain": [
       "'/users/siteadmin3/Magic-8-Ball.yxmd'"
      ]
     },
     "execution_count": null,
     "metadata": {},
     "output_type": "execute_result"
    }
   ],
   "source": [
    "test_asset['path']"
   ]
  },
  {
   "cell_type": "markdown",
   "metadata": {},
   "source": [
    "## Download File\n",
    "\n",
    "#### File Content\n",
    "\n",
    "Seems like content isn't what I thought it was.  \n",
    "\n",
    "EDIT:  No, this works, just not with the file I tried before.  Note to self, make sure to double check GUI in future."
   ]
  },
  {
   "cell_type": "code",
   "execution_count": null,
   "metadata": {},
   "outputs": [],
   "source": [
    "# Didn't return a file, but not sure.\n",
    "\n",
    "response = motor.api.get(url='files/content', \n",
    "                         params={\"id\": 'c70447a5-6f4e-4125-bc50-258c5119368b', \n",
    "                                 \"version\": 1})"
   ]
  },
  {
   "cell_type": "markdown",
   "metadata": {},
   "source": [
    "Below code successfully writes the file in proper format."
   ]
  },
  {
   "cell_type": "code",
   "execution_count": null,
   "metadata": {},
   "outputs": [],
   "source": [
    "with open('czech_devops.yxmd', 'wb') as f:\n",
    "    f.write(response.content)"
   ]
  },
  {
   "cell_type": "markdown",
   "metadata": {},
   "source": [
    "## Upload File\n",
    "\n",
    "This is pretty weird.  \n",
    "\n",
    "Talk to Alexander Potanin.  \n",
    "\n",
    "Currently, this API is incredibly confusing.  It isn't clear, even by observing browser traffic, how a file actually gets uploaded.\n",
    "\n",
    "Using headers for the parameters is inconsistent with, hmm, i don't know, everything else in here.  \n",
    "\n",
    "Latest note:\n",
    "\n",
    "https://git.alteryx.com/s2/demo-seeder/-/blob/dev/04-UploadFilesAndDecorate.js\n",
    "\n",
    "see that we just need to specify what appears to be a binary object as payload.  \n",
    "\n",
    "We will need to add to the existing headers for this one, due to the api inconsistencies.\n",
    "\n",
    "Added an optional arg (just to post) for non_default_headers.\n",
    "\n",
    "Success!  uploaded a file with the below code.\n",
    "\n",
    "### TODO:  The code below works, so we will want to convert into a nice clean function."
   ]
  },
  {
   "cell_type": "code",
   "execution_count": null,
   "metadata": {},
   "outputs": [],
   "source": [
    "blob = None\n",
    "\n",
    "with open('8_ball_test.yxzp', \"rb\") as f:\n",
    "    blob = f.read()"
   ]
  },
  {
   "cell_type": "code",
   "execution_count": null,
   "metadata": {},
   "outputs": [],
   "source": [
    "upload_headers = {\"Content-Type\": \"application/json\",\n",
    "                    \"Accept\": \"*/*\",\n",
    "                    \"Accept-Language\": \"en-US,en;q=0.5\",\n",
    "                    \"Accept-Encoding\": \"gzip,deflate\",\n",
    "                    \"path\": '/Workspaces/Public/8_ball_test.yxzp'\n",
    "                  }"
   ]
  },
  {
   "cell_type": "code",
   "execution_count": null,
   "metadata": {},
   "outputs": [],
   "source": [
    "response = motor.api.post(url='files', \n",
    "                          data=blob,\n",
    "                          non_default_headers=upload_headers)"
   ]
  },
  {
   "cell_type": "code",
   "execution_count": null,
   "metadata": {},
   "outputs": [
    {
     "data": {
      "text/plain": [
       "{'fileName': '8_ball_test.yxzp',\n",
       " 'extension': 'yxzp',\n",
       " 'inherits': True,\n",
       " 'isHidden': False,\n",
       " 'onlyOwnerShares': False,\n",
       " 'path': '/Workspaces/Public/8_ball_test.yxzp',\n",
       " 'folderType': None,\n",
       " 'version': 1,\n",
       " 'created': '2020-04-13T19:46:29.407Z',\n",
       " 'versionCreated': '2020-04-13T19:46:29.407Z',\n",
       " 'maxVersion': 1,\n",
       " 'links': None,\n",
       " 'location': '',\n",
       " 'uuid': '0a607201-5bdd-4942-aef3-16de2f21c47d',\n",
       " 'metaHash': 'd214d65ab55a2a1c73de7c90fcc1aecfc28dd88dbec71cdeaeb3ffb1ef170053',\n",
       " 'metadata': {'yxType': 'WORKFLOW_APP'},\n",
       " 'contentHash': '07949d23663f98c18f527fd7af961d209cc4459be11bd39df122b10e119981ba',\n",
       " 'contentId': '93b5a0d4-a3cd-4560-aaba-2bdaef3a40db',\n",
       " 'contentSize': 9226,\n",
       " 'entryOwner': {'avatar': None,\n",
       "  'email': 'siteadmin1@example.com',\n",
       "  'firstName': 'Seeded',\n",
       "  'id': 'cb5f4bb6-48a4-4796-add8-5dd96feb773a',\n",
       "  'lastName': 'siteadmin1',\n",
       "  'name': 'Seeded siteadmin1',\n",
       "  'userName': 'siteadmin1'},\n",
       " 'md5Hash': '8984d04bae22a3af18dcdd317055b088',\n",
       " 'assetCategory': 'WORKFLOW_APP',\n",
       " 'onlySiteAdminShares': False}"
      ]
     },
     "execution_count": null,
     "metadata": {},
     "output_type": "execute_result"
    }
   ],
   "source": [
    "response.json()"
   ]
  },
  {
   "cell_type": "code",
   "execution_count": null,
   "metadata": {},
   "outputs": [
    {
     "data": {
      "text/plain": [
       "{'fileName': 'jp_test.yxzp',\n",
       " 'extension': 'yxzp',\n",
       " 'inherits': True,\n",
       " 'isHidden': False,\n",
       " 'onlyOwnerShares': False,\n",
       " 'path': '/Workspaces/Public/asdf/jp_test.yxzp',\n",
       " 'folderType': None,\n",
       " 'version': 1,\n",
       " 'created': '2020-04-10T23:21:20.252Z',\n",
       " 'versionCreated': '2020-04-10T23:21:20.252Z',\n",
       " 'maxVersion': 1,\n",
       " 'links': None,\n",
       " 'location': '',\n",
       " 'uuid': 'bee0b8dd-6387-4740-be36-06887e0d9921',\n",
       " 'metaHash': 'd214d65ab55a2a1c73de7c90fcc1aecfc28dd88dbec71cdeaeb3ffb1ef170053',\n",
       " 'metadata': {'yxType': 'WORKFLOW_APP'},\n",
       " 'contentHash': 'b7960c08c75e5e4e2bcf5fa32582eee75a07560554c6993c603759a8a2ce2f5f',\n",
       " 'contentId': '6a411b4e-6e57-4d27-b357-421e280aaa51',\n",
       " 'contentSize': 2176,\n",
       " 'entryOwner': {'avatar': None,\n",
       "  'email': 'siteadmin1@example.com',\n",
       "  'firstName': 'Seeded',\n",
       "  'id': '3ec0bcbd-f7e2-413b-93c0-166ee2aee5d8',\n",
       "  'lastName': 'siteadmin1',\n",
       "  'name': 'Seeded siteadmin1',\n",
       "  'userName': 'siteadmin1'},\n",
       " 'md5Hash': '1316e622c535fcfef109f75484910f38',\n",
       " 'assetCategory': 'WORKFLOW_APP',\n",
       " 'onlySiteAdminShares': False}"
      ]
     },
     "execution_count": null,
     "metadata": {},
     "output_type": "execute_result"
    }
   ],
   "source": [
    "response.json()"
   ]
  },
  {
   "cell_type": "code",
   "execution_count": null,
   "metadata": {},
   "outputs": [
    {
     "name": "stdout",
     "output_type": "stream",
     "text": [
      "Converted 00_core.ipynb.\n",
      "Converted 01_client.ipynb.\n",
      "Converted 02_jobs.ipynb.\n",
      "Converted 03_api.ipynb.\n",
      "Converted 04_authenticate.ipynb.\n",
      "Converted index.ipynb.\n"
     ]
    }
   ],
   "source": [
    "#hide\n",
    "\n",
    "from nbdev.export import *\n",
    "notebook2script()"
   ]
  },
  {
   "cell_type": "code",
   "execution_count": null,
   "metadata": {},
   "outputs": [],
   "source": []
  }
 ],
 "metadata": {
  "kernelspec": {
   "display_name": "Python 3",
   "language": "python",
   "name": "python3"
  }
 },
 "nbformat": 4,
 "nbformat_minor": 4
}
