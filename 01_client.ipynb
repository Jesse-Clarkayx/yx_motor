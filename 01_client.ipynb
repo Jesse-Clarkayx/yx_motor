{
 "cells": [
  {
   "cell_type": "code",
   "execution_count": 1,
   "metadata": {},
   "outputs": [],
   "source": [
    "# default_exp client"
   ]
  },
  {
   "cell_type": "code",
   "execution_count": 1,
   "metadata": {},
   "outputs": [],
   "source": [
    "#hide\n",
    "# just removing the insecure warning for now\n",
    "# TODO: Secure requests and remove this code\n",
    "import urllib3\n",
    "urllib3.disable_warnings(urllib3.exceptions.InsecureRequestWarning)"
   ]
  },
  {
   "cell_type": "code",
   "execution_count": 2,
   "metadata": {},
   "outputs": [],
   "source": [
    "#hide\n",
    "from private import server_vars"
   ]
  },
  {
   "cell_type": "code",
   "execution_count": 19,
   "metadata": {},
   "outputs": [],
   "source": [
    "#hide\n",
    "base_url=server_vars['base_url']\n",
    "login_email = server_vars['login_email']\n",
    "login_pwd = server_vars['login_pwd']"
   ]
  },
  {
   "cell_type": "code",
   "execution_count": 4,
   "metadata": {},
   "outputs": [],
   "source": [
    "# export\n",
    "import requests\n",
    "\n",
    "from yx_motor.api import API\n",
    "from yx_motor.authenticate import Authenticate\n",
    "from yx_motor.jobs import Jobs\n",
    "\n",
    "class Client:\n",
    "    \"Wrapper for Alteryx Server API.\"\n",
    "    def __init__(self, \n",
    "                 base_url: str, \n",
    "                 login_email: str, \n",
    "                 login_pwd: str):\n",
    "        \"\"\"Initialize a yx_motor client object.\"\"\"\n",
    "        self.base_url = base_url\n",
    "        self.api_url = f\"{base_url}api/v1/\"\n",
    "        \n",
    "        self.auth_endpoint = \"authenticate\"\n",
    "        \n",
    "        self.login_email = login_email\n",
    "        self.login_pwd = login_pwd\n",
    "        \n",
    "        self.headers = {\n",
    "            \"Content-Type\": \"application/json\",\n",
    "            \"Accept\": \"*/*\",\n",
    "            \"Accept-Language\": \"en-US,en;q=0.5\",\n",
    "            \"Accept-Encoding\": \"gzip,deflate\"\n",
    "        }\n",
    "        \n",
    "        self.api = API(api_url=self.api_url, \n",
    "                       headers=self.headers)\n",
    "        \n",
    "        self.authenticate = Authenticate(self.api)\n",
    "        self.jobs = Jobs(self.api)\n",
    "        \n",
    "        self.authenticate.authenticate(login_email=self.login_email, \n",
    "                                       login_pwd=self.login_pwd)\n",
    "\n",
    "    def get_users(self):\n",
    "        response = self.api.get(\"users\")\n",
    "        return response\n"
   ]
  },
  {
   "cell_type": "code",
   "execution_count": 31,
   "metadata": {},
   "outputs": [
    {
     "data": {
      "text/markdown": [
       "<h4 id=\"Client.__init__\" class=\"doc_header\"><code>Client.__init__</code><a href=\"__main__.py#L10\" class=\"source_link\" style=\"float:right\">[source]</a></h4>\n",
       "\n",
       "> <code>Client.__init__</code>(**`base_url`**:`str`, **`login_email`**:`str`, **`login_pwd`**:`str`)\n",
       "\n",
       "Initialize a yx_motor client object."
      ],
      "text/plain": [
       "<IPython.core.display.Markdown object>"
      ]
     },
     "metadata": {},
     "output_type": "display_data"
    }
   ],
   "source": [
    "from nbdev.showdoc import *\n",
    "show_doc(Client.__init__)"
   ]
  },
  {
   "cell_type": "code",
   "execution_count": 16,
   "metadata": {},
   "outputs": [],
   "source": [
    "motor = Client(base_url,\n",
    "              login_email, \n",
    "              login_pwd)"
   ]
  },
  {
   "cell_type": "code",
   "execution_count": 40,
   "metadata": {},
   "outputs": [],
   "source": [
    "#hide\n",
    "from unittest.mock import Mock\n",
    "motor.api = Mock()\n",
    "motor.api.is_authenticated = True"
   ]
  },
  {
   "cell_type": "code",
   "execution_count": 17,
   "metadata": {},
   "outputs": [
    {
     "data": {
      "text/plain": [
       "True"
      ]
     },
     "execution_count": 17,
     "metadata": {},
     "output_type": "execute_result"
    }
   ],
   "source": [
    "motor.api.is_authenticated"
   ]
  }
 ],
 "metadata": {
  "kernelspec": {
   "display_name": "Python 3",
   "language": "python",
   "name": "python3"
  },
  "language_info": {
   "codemirror_mode": {
    "name": "ipython",
    "version": 3
   },
   "file_extension": ".py",
   "mimetype": "text/x-python",
   "name": "python",
   "nbconvert_exporter": "python",
   "pygments_lexer": "ipython3",
   "version": "3.6.8"
  }
 },
 "nbformat": 4,
 "nbformat_minor": 4
}
