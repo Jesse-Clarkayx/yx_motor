{
 "cells": [
  {
   "cell_type": "code",
   "execution_count": null,
   "metadata": {},
   "outputs": [],
   "source": [
    "# default_exp client"
   ]
  },
  {
   "cell_type": "code",
   "execution_count": null,
   "metadata": {},
   "outputs": [],
   "source": [
    "#hide\n",
    "# just removing the insecure warning for now\n",
    "# TODO: Secure requests and remove this code\n",
    "import urllib3\n",
    "urllib3.disable_warnings(urllib3.exceptions.InsecureRequestWarning)"
   ]
  },
  {
   "cell_type": "code",
   "execution_count": null,
   "metadata": {},
   "outputs": [],
   "source": [
    "#hide\n",
    "from private import server_vars"
   ]
  },
  {
   "cell_type": "code",
   "execution_count": null,
   "metadata": {},
   "outputs": [],
   "source": [
    "#hide\n",
    "base_url=server_vars['base_url']\n",
    "login_email = server_vars['login_email']\n",
    "login_pwd = server_vars['login_pwd']"
   ]
  },
  {
   "cell_type": "code",
   "execution_count": null,
   "metadata": {},
   "outputs": [],
   "source": [
    "# export\n",
    "import requests\n",
    "\n",
    "from yx_motor.api import API\n",
    "from yx_motor.authenticate import Authenticate\n",
    "from yx_motor.jobs import Jobs\n",
    "\n",
    "class Client:\n",
    "    \"Wrapper for Alteryx Server API.\"\n",
    "    def __init__(self, \n",
    "                 base_url: str, \n",
    "                 login_email: str, \n",
    "                 login_pwd: str):\n",
    "        \"\"\"Initialize a yx_motor client object.\"\"\"\n",
    "        self.base_url = base_url\n",
    "        self.api_url = f\"{base_url}api/v1/\"\n",
    "        \n",
    "        self.auth_endpoint = \"authenticate\"\n",
    "        \n",
    "        self.login_email = login_email\n",
    "        self.login_pwd = login_pwd\n",
    "        \n",
    "        self.headers = {\n",
    "            \"Content-Type\": \"application/json\",\n",
    "            \"Accept\": \"*/*\",\n",
    "            \"Accept-Language\": \"en-US,en;q=0.5\",\n",
    "            \"Accept-Encoding\": \"gzip,deflate\"\n",
    "        }\n",
    "        \n",
    "        self.api = API(api_url=self.api_url, \n",
    "                       headers=self.headers)\n",
    "        \n",
    "        self.authenticate = Authenticate(self.api)\n",
    "        self.jobs = Jobs(self.api)\n",
    "        \n",
    "        self.authenticate.authenticate(login_email=self.login_email, \n",
    "                                       login_pwd=self.login_pwd)\n",
    "\n",
    "    def get_users(self):\n",
    "        response = self.api.get(\"users\")\n",
    "        return response\n"
   ]
  },
  {
   "cell_type": "code",
   "execution_count": null,
   "metadata": {},
   "outputs": [
    {
     "data": {
      "text/markdown": [
       "<h4 id=\"Client.__init__\" class=\"doc_header\"><code>Client.__init__</code><a href=\"__main__.py#L10\" class=\"source_link\" style=\"float:right\">[source]</a></h4>\n",
       "\n",
       "> <code>Client.__init__</code>(**`base_url`**:`str`, **`login_email`**:`str`, **`login_pwd`**:`str`)\n",
       "\n",
       "Initialize a yx_motor client object."
      ],
      "text/plain": [
       "<IPython.core.display.Markdown object>"
      ]
     },
     "metadata": {},
     "output_type": "display_data"
    }
   ],
   "source": [
    "from nbdev.showdoc import *\n",
    "show_doc(Client.__init__)"
   ]
  },
  {
   "cell_type": "code",
   "execution_count": null,
   "metadata": {},
   "outputs": [],
   "source": [
    "motor = Client(base_url,\n",
    "              login_email, \n",
    "              login_pwd)"
   ]
  },
  {
   "cell_type": "code",
   "execution_count": null,
   "metadata": {},
   "outputs": [],
   "source": [
    "#hide\n",
    "from unittest.mock import Mock\n",
    "motor.api = Mock()\n",
    "motor.api.is_authenticated = True"
   ]
  },
  {
   "cell_type": "code",
   "execution_count": null,
   "metadata": {},
   "outputs": [
    {
     "data": {
      "text/plain": [
       "True"
      ]
     },
     "execution_count": null,
     "metadata": {},
     "output_type": "execute_result"
    }
   ],
   "source": [
    "motor.api.is_authenticated"
   ]
  },
  {
   "cell_type": "code",
   "execution_count": null,
   "metadata": {},
   "outputs": [],
   "source": [
    "test = motor.jobs.get_job()"
   ]
  },
  {
   "cell_type": "code",
   "execution_count": null,
   "metadata": {},
   "outputs": [
    {
     "data": {
      "text/plain": [
       "{'jobs': [{'jobId': '446d6653-70a8-4010-b45d-875b27c2ce4b',\n",
       "   'workerId': '3b0d8827-c3a9-4e1d-ba77-304d339c71a6',\n",
       "   'scheduleId': '8fad86ed-2f5e-4b99-9a5d-f45497e51635',\n",
       "   'executionOrdinal': 1,\n",
       "   'queuedDate': '2020-04-10T21:19:38.164Z',\n",
       "   'scheduledStartDate': '2020-04-10T21:19:38.164Z',\n",
       "   'actualStartDate': '2020-04-10T21:19:39.399Z',\n",
       "   'completionDate': '2020-04-10T21:19:41.836Z',\n",
       "   'runTime': 2,\n",
       "   'status': 'completed',\n",
       "   'result': 'success',\n",
       "   'siteId': '2794a094-abf0-4adf-b74c-ba0f41011d17',\n",
       "   'creationDate': '2020-04-10T21:19:38.153Z',\n",
       "   'lastUpdate': '2020-04-10T21:19:41.829Z',\n",
       "   'assetVersion': 1,\n",
       "   'retryCount': 0,\n",
       "   'notes': None,\n",
       "   'priority': 50,\n",
       "   'jobNo': 9,\n",
       "   'name': 'mssql_take2.yxmd',\n",
       "   'userId': '3ec0bcbd-f7e2-413b-93c0-166ee2aee5d8',\n",
       "   'assetId': '23e82706-46aa-4fd2-a2a0-3992f261a02b',\n",
       "   'type': 'immediate',\n",
       "   'frequencyInterval': 'manual',\n",
       "   'outputs': []},\n",
       "  {'jobId': '755fbb0a-cc93-4ff8-8108-4eb567108fba',\n",
       "   'workerId': '3b0d8827-c3a9-4e1d-ba77-304d339c71a6',\n",
       "   'scheduleId': 'f4d4a466-a49c-4dad-b504-fb4513d9258f',\n",
       "   'executionOrdinal': 1,\n",
       "   'queuedDate': '2020-04-10T15:04:48.157Z',\n",
       "   'scheduledStartDate': '2020-04-10T15:04:48.157Z',\n",
       "   'actualStartDate': '2020-04-10T15:07:30.365Z',\n",
       "   'completionDate': '2020-04-10T15:07:33.407Z',\n",
       "   'runTime': 3,\n",
       "   'status': 'completed',\n",
       "   'result': 'success',\n",
       "   'siteId': '2794a094-abf0-4adf-b74c-ba0f41011d17',\n",
       "   'creationDate': '2020-04-10T15:04:48.191Z',\n",
       "   'lastUpdate': '2020-04-10T15:07:33.399Z',\n",
       "   'assetVersion': 1,\n",
       "   'retryCount': 0,\n",
       "   'notes': None,\n",
       "   'priority': 50,\n",
       "   'jobNo': 1,\n",
       "   'name': 'SeededOracleWorkflow.yxmd',\n",
       "   'userId': '3ec0bcbd-f7e2-413b-93c0-166ee2aee5d8',\n",
       "   'assetId': '957d1358-6e04-4a47-9fb8-d5066bafafd4',\n",
       "   'type': 'once',\n",
       "   'frequencyInterval': 'once',\n",
       "   'outputs': [{'fileName': 'simple_question_outputs.csv',\n",
       "     'assetId': '4d085a63-50ef-4ed1-b71e-69954639c77f',\n",
       "     'version': 1,\n",
       "     'permissions': ['CREATE', 'DELETE', 'DOWNLOAD', 'EDIT', 'OWNER', 'VIEW'],\n",
       "     'breadcrumbs': ['users', 'siteadmin1', 'simple_question_outputs.csv']}]},\n",
       "  {'jobId': 'f4f93c1f-4a28-4517-8f16-e7e51a8b0d14',\n",
       "   'workerId': '3b0d8827-c3a9-4e1d-ba77-304d339c71a6',\n",
       "   'scheduleId': 'b4867845-a9a4-46f4-8860-30268349631e',\n",
       "   'executionOrdinal': 1,\n",
       "   'queuedDate': '2020-04-10T16:56:10.960Z',\n",
       "   'scheduledStartDate': '2020-04-10T16:56:10.960Z',\n",
       "   'actualStartDate': '2020-04-10T16:56:11.020Z',\n",
       "   'completionDate': '2020-04-10T16:56:12.178Z',\n",
       "   'runTime': 1,\n",
       "   'status': 'completed',\n",
       "   'result': 'success',\n",
       "   'siteId': '2794a094-abf0-4adf-b74c-ba0f41011d17',\n",
       "   'creationDate': '2020-04-10T16:56:10.954Z',\n",
       "   'lastUpdate': '2020-04-10T16:56:12.165Z',\n",
       "   'assetVersion': 1,\n",
       "   'retryCount': 0,\n",
       "   'notes': None,\n",
       "   'priority': 100,\n",
       "   'jobNo': 2,\n",
       "   'name': 'SQLMacro.yxmc',\n",
       "   'userId': 'f11613c1-0591-4358-848e-0146cabeb261',\n",
       "   'assetId': '9fefe64f-5ec8-4649-9e1d-54ae61debb62',\n",
       "   'type': 'validation',\n",
       "   'frequencyInterval': 'manual',\n",
       "   'outputs': []},\n",
       "  {'jobId': 'c282b7e6-a78f-4b7a-b7ae-1b958f902c69',\n",
       "   'workerId': '3b0d8827-c3a9-4e1d-ba77-304d339c71a6',\n",
       "   'scheduleId': 'ef666fea-7ace-4089-8032-480ad9d96e18',\n",
       "   'executionOrdinal': 1,\n",
       "   'queuedDate': '2020-04-10T21:21:59.210Z',\n",
       "   'scheduledStartDate': '2020-04-10T21:21:59.210Z',\n",
       "   'actualStartDate': '2020-04-10T21:21:59.974Z',\n",
       "   'completionDate': '2020-04-10T21:22:01.351Z',\n",
       "   'runTime': 1,\n",
       "   'status': 'completed',\n",
       "   'result': 'error',\n",
       "   'siteId': '2794a094-abf0-4adf-b74c-ba0f41011d17',\n",
       "   'creationDate': '2020-04-10T21:21:59.200Z',\n",
       "   'lastUpdate': '2020-04-10T21:22:01.348Z',\n",
       "   'assetVersion': 1,\n",
       "   'retryCount': 0,\n",
       "   'notes': None,\n",
       "   'priority': 50,\n",
       "   'jobNo': 10,\n",
       "   'name': 'mssql_take2.yxmd',\n",
       "   'userId': 'b7da0bdf-0761-49bd-b222-d5a468abaec4',\n",
       "   'assetId': '23e82706-46aa-4fd2-a2a0-3992f261a02b',\n",
       "   'type': 'immediate',\n",
       "   'frequencyInterval': 'manual',\n",
       "   'outputs': []},\n",
       "  {'jobId': '78fdd0c0-a406-4f6c-9081-81378acc32dd',\n",
       "   'workerId': '3b0d8827-c3a9-4e1d-ba77-304d339c71a6',\n",
       "   'scheduleId': '4b7bda31-2b60-4c28-9a18-460480650289',\n",
       "   'executionOrdinal': 1,\n",
       "   'queuedDate': '2020-04-10T17:29:00.716Z',\n",
       "   'scheduledStartDate': '2020-04-10T17:29:00.716Z',\n",
       "   'actualStartDate': '2020-04-10T17:29:02.418Z',\n",
       "   'completionDate': '2020-04-10T17:29:03.108Z',\n",
       "   'runTime': 1,\n",
       "   'status': 'completed',\n",
       "   'result': 'success',\n",
       "   'siteId': '2794a094-abf0-4adf-b74c-ba0f41011d17',\n",
       "   'creationDate': '2020-04-10T17:29:00.710Z',\n",
       "   'lastUpdate': '2020-04-10T17:29:03.100Z',\n",
       "   'assetVersion': 1,\n",
       "   'retryCount': 0,\n",
       "   'notes': None,\n",
       "   'priority': 100,\n",
       "   'jobNo': 3,\n",
       "   'name': 'SQLMacro.yxmc',\n",
       "   'userId': 'f11613c1-0591-4358-848e-0146cabeb261',\n",
       "   'assetId': '9fefe64f-5ec8-4649-9e1d-54ae61debb62',\n",
       "   'type': 'validation',\n",
       "   'frequencyInterval': 'manual',\n",
       "   'outputs': []},\n",
       "  {'jobId': '650c218f-fcc2-4c69-a529-f264c2206814',\n",
       "   'workerId': '3b0d8827-c3a9-4e1d-ba77-304d339c71a6',\n",
       "   'scheduleId': 'b290a455-55d9-453a-8d8d-0a82ce7e9811',\n",
       "   'executionOrdinal': 1,\n",
       "   'queuedDate': '2020-04-10T19:15:24.515Z',\n",
       "   'scheduledStartDate': '2020-04-10T19:15:24.515Z',\n",
       "   'actualStartDate': '2020-04-10T19:15:25.648Z',\n",
       "   'completionDate': '2020-04-10T19:15:26.234Z',\n",
       "   'runTime': 1,\n",
       "   'status': 'completed',\n",
       "   'result': 'success',\n",
       "   'siteId': '2794a094-abf0-4adf-b74c-ba0f41011d17',\n",
       "   'creationDate': '2020-04-10T19:15:24.503Z',\n",
       "   'lastUpdate': '2020-04-10T19:15:26.234Z',\n",
       "   'assetVersion': 1,\n",
       "   'retryCount': 0,\n",
       "   'notes': None,\n",
       "   'priority': 50,\n",
       "   'jobNo': 4,\n",
       "   'name': 'Magic-8-Ball.yxmd',\n",
       "   'userId': 'c331da80-a0fe-44fe-ace2-39260ebd9a19',\n",
       "   'assetId': 'bbdc7276-c0c6-49b7-85f8-e68d3aa40954',\n",
       "   'type': 'immediate',\n",
       "   'frequencyInterval': 'manual',\n",
       "   'outputs': [{'fileName': 'answer.csv',\n",
       "     'assetId': '34fcc7b5-b3f8-431f-a905-46bc2c50ef00',\n",
       "     'version': 1,\n",
       "     'permissions': ['CREATE', 'DELETE', 'DOWNLOAD', 'EDIT', 'OWNER', 'VIEW'],\n",
       "     'breadcrumbs': ['users', 'contributor4_96f3a335', 'answer.csv']}]},\n",
       "  {'jobId': '3bde3349-3d1e-4677-8eb1-3e2eeb6378e5',\n",
       "   'workerId': '3b0d8827-c3a9-4e1d-ba77-304d339c71a6',\n",
       "   'scheduleId': '8b2799aa-a754-47f7-90ae-1ce75873297c',\n",
       "   'executionOrdinal': 1,\n",
       "   'queuedDate': '2020-04-10T21:22:56.412Z',\n",
       "   'scheduledStartDate': '2020-04-10T21:22:56.412Z',\n",
       "   'actualStartDate': '2020-04-10T21:22:58.239Z',\n",
       "   'completionDate': '2020-04-10T21:22:59.600Z',\n",
       "   'runTime': 1,\n",
       "   'status': 'completed',\n",
       "   'result': 'error',\n",
       "   'siteId': '2794a094-abf0-4adf-b74c-ba0f41011d17',\n",
       "   'creationDate': '2020-04-10T21:22:56.409Z',\n",
       "   'lastUpdate': '2020-04-10T21:22:59.594Z',\n",
       "   'assetVersion': 1,\n",
       "   'retryCount': 0,\n",
       "   'notes': None,\n",
       "   'priority': 50,\n",
       "   'jobNo': 11,\n",
       "   'name': 'mssql_take2.yxmd',\n",
       "   'userId': '3ec0bcbd-f7e2-413b-93c0-166ee2aee5d8',\n",
       "   'assetId': '23e82706-46aa-4fd2-a2a0-3992f261a02b',\n",
       "   'type': 'immediate',\n",
       "   'frequencyInterval': 'manual',\n",
       "   'outputs': []},\n",
       "  {'jobId': 'b33c7652-3b75-451e-8975-c04f6c629a69',\n",
       "   'workerId': '3b0d8827-c3a9-4e1d-ba77-304d339c71a6',\n",
       "   'scheduleId': '45fd6118-333f-4d12-8964-4ee71476e862',\n",
       "   'executionOrdinal': 1,\n",
       "   'queuedDate': '2020-04-10T19:40:20.618Z',\n",
       "   'scheduledStartDate': '2020-04-10T19:40:20.618Z',\n",
       "   'actualStartDate': '2020-04-10T19:40:21.637Z',\n",
       "   'completionDate': '2020-04-10T19:40:21.899Z',\n",
       "   'runTime': 0,\n",
       "   'status': 'completed',\n",
       "   'result': 'success',\n",
       "   'siteId': '2794a094-abf0-4adf-b74c-ba0f41011d17',\n",
       "   'creationDate': '2020-04-10T19:40:20.607Z',\n",
       "   'lastUpdate': '2020-04-10T19:40:21.880Z',\n",
       "   'assetVersion': 1,\n",
       "   'retryCount': 0,\n",
       "   'notes': None,\n",
       "   'priority': 100,\n",
       "   'jobNo': 5,\n",
       "   'name': 'macro_wf.yxzp',\n",
       "   'userId': '3ec0bcbd-f7e2-413b-93c0-166ee2aee5d8',\n",
       "   'assetId': 'ce81a2c5-2438-4ac6-888a-811dd3068969',\n",
       "   'type': 'validation',\n",
       "   'frequencyInterval': 'manual',\n",
       "   'outputs': []},\n",
       "  {'jobId': '6202e63f-6cd8-43d0-a067-a2136edaf38b',\n",
       "   'workerId': '3b0d8827-c3a9-4e1d-ba77-304d339c71a6',\n",
       "   'scheduleId': '09e734a6-c12b-463d-86f3-7a60e70a44cd',\n",
       "   'executionOrdinal': 1,\n",
       "   'queuedDate': '2020-04-10T19:58:51.893Z',\n",
       "   'scheduledStartDate': '2020-04-10T19:58:51.893Z',\n",
       "   'actualStartDate': '2020-04-10T19:58:52.290Z',\n",
       "   'completionDate': '2020-04-10T19:58:52.487Z',\n",
       "   'runTime': 0,\n",
       "   'status': 'completed',\n",
       "   'result': 'success',\n",
       "   'siteId': '2794a094-abf0-4adf-b74c-ba0f41011d17',\n",
       "   'creationDate': '2020-04-10T19:58:51.871Z',\n",
       "   'lastUpdate': '2020-04-10T19:58:52.468Z',\n",
       "   'assetVersion': 1,\n",
       "   'retryCount': 0,\n",
       "   'notes': None,\n",
       "   'priority': 100,\n",
       "   'jobNo': 6,\n",
       "   'name': 'New Workflow1.yxmd',\n",
       "   'userId': '3ec0bcbd-f7e2-413b-93c0-166ee2aee5d8',\n",
       "   'assetId': 'ff957626-07db-4c51-a254-b40a7d6e617e',\n",
       "   'type': 'validation',\n",
       "   'frequencyInterval': 'manual',\n",
       "   'outputs': []},\n",
       "  {'jobId': 'ff962578-bc67-478d-894f-df8088e39cf9',\n",
       "   'workerId': '3b0d8827-c3a9-4e1d-ba77-304d339c71a6',\n",
       "   'scheduleId': '95135458-76f6-4c27-8189-54adb6f2dd29',\n",
       "   'executionOrdinal': 1,\n",
       "   'queuedDate': '2020-04-10T21:41:31.346Z',\n",
       "   'scheduledStartDate': '2020-04-10T21:41:31.346Z',\n",
       "   'actualStartDate': '2020-04-10T21:41:32.844Z',\n",
       "   'completionDate': '2020-04-10T21:41:33.080Z',\n",
       "   'runTime': 0,\n",
       "   'status': 'completed',\n",
       "   'result': 'success',\n",
       "   'siteId': '2794a094-abf0-4adf-b74c-ba0f41011d17',\n",
       "   'creationDate': '2020-04-10T21:41:31.325Z',\n",
       "   'lastUpdate': '2020-04-10T21:41:33.075Z',\n",
       "   'assetVersion': 1,\n",
       "   'retryCount': 0,\n",
       "   'notes': None,\n",
       "   'priority': 100,\n",
       "   'jobNo': 12,\n",
       "   'name': 'mssql_take2.yxmd',\n",
       "   'userId': '3ec0bcbd-f7e2-413b-93c0-166ee2aee5d8',\n",
       "   'assetId': '23e82706-46aa-4fd2-a2a0-3992f261a02b',\n",
       "   'type': 'validation',\n",
       "   'frequencyInterval': 'manual',\n",
       "   'outputs': []}],\n",
       " 'offset': 0,\n",
       " 'limit': 10,\n",
       " 'total': 14}"
      ]
     },
     "execution_count": null,
     "metadata": {},
     "output_type": "execute_result"
    }
   ],
   "source": [
    "test.json()"
   ]
  },
  {
   "cell_type": "code",
   "execution_count": null,
   "metadata": {},
   "outputs": [
    {
     "data": {
      "text/plain": [
       "{'asset': {'created': '2020-04-10T15:04:53.091Z',\n",
       "  'versionCreated': '2020-04-10T15:04:53.091Z',\n",
       "  'folderType': None,\n",
       "  'links': None,\n",
       "  'metadata': {'loadId': '8c08fa83-4ad5-4caa-82e3-ec002d52d99b',\n",
       "   'tstamp': 1557969510,\n",
       "   'extension': 'xlsx',\n",
       "   'dataSource': {'id': '3e7399c5-e237-4eb0-815c-36a749c8a371',\n",
       "    'name': 'ayxFile',\n",
       "    'type': 'default',\n",
       "    'state': 'standalone',\n",
       "    'ownerId': '3ec0bcbd-f7e2-413b-93c0-166ee2aee5d8',\n",
       "    'primaryId': None,\n",
       "    'parameters': {'path': '\\\\testPath'},\n",
       "    'technology': 'File',\n",
       "    'description': 'Seeded datasource for File',\n",
       "    'creationDate': '2019-03-26T00:00:00.000Z',\n",
       "    'sharedWithIds': {'userIds': ['26e0d5a7-a53e-43ba-8de5-e505222c6e6d',\n",
       "      '3c3fff1f-153f-40e1-800f-8b9ecc92de52',\n",
       "      '7d81f8d2-9f18-4027-89e2-19082a73cb0a',\n",
       "      'e601dc87-40f6-44d1-9aee-c65ba435b612'],\n",
       "     'groupIds': []},\n",
       "    'connectionCount': 1,\n",
       "    'onlyOwnerCanShare': False,\n",
       "    'technologyVersion': None,\n",
       "    'usedInWorkflowsCount': 0},\n",
       "   'parsedInfo': [{'name': 'TestTable1',\n",
       "     'lines': 0,\n",
       "     'types': ['string', 'string'],\n",
       "     'encode': '',\n",
       "     'headers': ['Name', 'Phone'],\n",
       "     'records': 0,\n",
       "     'warnings': [],\n",
       "     'delimiter': '',\n",
       "     'hasHeader': False,\n",
       "     'quoteChar': None,\n",
       "     'commentedLines': 0,\n",
       "     'newLineDelimiter': '',\n",
       "     'invalidFieldLength': 0},\n",
       "    {'name': 'sheet2',\n",
       "     'lines': 0,\n",
       "     'types': ['int64', 'int64'],\n",
       "     'encode': '',\n",
       "     'headers': ['INCCYPCAP', 'HHDCY'],\n",
       "     'records': 0,\n",
       "     'warnings': [],\n",
       "     'delimiter': '',\n",
       "     'hasHeader': False,\n",
       "     'quoteChar': None,\n",
       "     'commentedLines': 0,\n",
       "     'newLineDelimiter': '',\n",
       "     'invalidFieldLength': 0},\n",
       "    {'name': 'ABC',\n",
       "     'lines': 0,\n",
       "     'types': ['int64',\n",
       "      'string',\n",
       "      'string',\n",
       "      'string',\n",
       "      'int64',\n",
       "      'float64',\n",
       "      'float64'],\n",
       "     'encode': '',\n",
       "     'headers': ['Store Num', 'Address', 'City', 'State', 'ZIP', 'Lat', 'Lon'],\n",
       "     'records': 0,\n",
       "     'warnings': [],\n",
       "     'delimiter': '',\n",
       "     'hasHeader': False,\n",
       "     'quoteChar': None,\n",
       "     'commentedLines': 0,\n",
       "     'newLineDelimiter': '',\n",
       "     'invalidFieldLength': 0}],\n",
       "   'description': 'file system description'},\n",
       "  'metaHash': 'e7b763d277adf9e2e38a64c7b03ed7a350b9f9e1ccee92fc902f48408c73d994',\n",
       "  'maxVersion': 1,\n",
       "  'isHidden': False,\n",
       "  'onlyOwnerShares': False,\n",
       "  'onlySiteAdminShares': False,\n",
       "  'extension': 'xlsx',\n",
       "  'assetCategory': 'OTHER',\n",
       "  'contentId': 'b66e31ec-c868-4ddc-9706-9bf83c4aba71',\n",
       "  'contentHash': '60f5237ed4049f0382661ef009d2bc42e48c3ceb3edb6600f7024e7ab3b838f3',\n",
       "  'contentSize': 17,\n",
       "  'comment': None,\n",
       "  'entryOwner': {'avatar': None,\n",
       "   'email': 'siteadmin1@example.com',\n",
       "   'firstName': 'Seeded',\n",
       "   'id': '3ec0bcbd-f7e2-413b-93c0-166ee2aee5d8',\n",
       "   'lastName': 'siteadmin1',\n",
       "   'name': 'Seeded siteadmin1',\n",
       "   'userName': 'siteadmin1'},\n",
       "  'fileName': 'Sheets.xlsx',\n",
       "  'inherits': True,\n",
       "  'path': '/DataCatalog/SeededFileSystem/testPath/Sheets.xlsx',\n",
       "  'version': 1,\n",
       "  'location': '',\n",
       "  'uuid': '22ffa1f9-4e55-4952-af90-387d2a9b9f78',\n",
       "  'md5Hash': 'c785060c866796cc2a1708c997154c8e'},\n",
       " 'permissions': ['CREATE', 'DELETE', 'DOWNLOAD', 'EDIT', 'OWNER', 'VIEW'],\n",
       " 'breadcrumbs': [{'path': '/', 'view': True, 'create': True, 'delete': True},\n",
       "  {'path': '/DataCatalog', 'view': True, 'create': True, 'delete': True},\n",
       "  {'path': '/DataCatalog/SeededFileSystem',\n",
       "   'view': True,\n",
       "   'create': True,\n",
       "   'delete': True},\n",
       "  {'path': '/DataCatalog/SeededFileSystem/testPath',\n",
       "   'view': True,\n",
       "   'create': True,\n",
       "   'delete': True},\n",
       "  {'path': '/DataCatalog/SeededFileSystem/testPath/Sheets.xlsx',\n",
       "   'view': True,\n",
       "   'create': True,\n",
       "   'delete': True}]}"
      ]
     },
     "execution_count": null,
     "metadata": {},
     "output_type": "execute_result"
    }
   ],
   "source": [
    "response.json()"
   ]
  },
  {
   "cell_type": "markdown",
   "metadata": {},
   "source": [
    "# Jesse and JP testing stuff below (remove/breakout later)"
   ]
  },
  {
   "cell_type": "markdown",
   "metadata": {},
   "source": [
    "## VFS Router API Investigation"
   ]
  },
  {
   "cell_type": "code",
   "execution_count": null,
   "metadata": {},
   "outputs": [],
   "source": [
    "# Gets the payload of recently viewed files for a given user\n",
    "response = motor.api.get(\"files/recentlyViewed\")"
   ]
  },
  {
   "cell_type": "code",
   "execution_count": null,
   "metadata": {},
   "outputs": [
    {
     "data": {
      "text/plain": [
       "<Response [200]>"
      ]
     },
     "execution_count": null,
     "metadata": {},
     "output_type": "execute_result"
    }
   ],
   "source": [
    "response"
   ]
  },
  {
   "cell_type": "markdown",
   "metadata": {},
   "source": [
    "### Recently Viewed Files Response Object\n",
    "\n",
    "- Keys at top level\n",
    " - members  (what is this exactly?  Looks like it has access control stuff for file)\n",
    " - totalCount: integer, exactly what it sounds like\n",
    " - assets: array of what appears to be vfs \"asset/file\" objects.  "
   ]
  },
  {
   "cell_type": "code",
   "execution_count": null,
   "metadata": {},
   "outputs": [
    {
     "data": {
      "text/plain": [
       "dict_keys(['members', 'totalCount', 'assets'])"
      ]
     },
     "execution_count": null,
     "metadata": {},
     "output_type": "execute_result"
    }
   ],
   "source": [
    "response.json().keys()"
   ]
  },
  {
   "cell_type": "code",
   "execution_count": null,
   "metadata": {},
   "outputs": [],
   "source": []
  },
  {
   "cell_type": "code",
   "execution_count": null,
   "metadata": {},
   "outputs": [],
   "source": [
    "asset_list = response.json()['assets']"
   ]
  },
  {
   "cell_type": "markdown",
   "metadata": {},
   "source": [
    "### VFS File object investigation\n",
    "\n",
    "- fileName: exactly what you think, but no path\n",
    "- path: full path, weird in a vfs as Jesse has pointed out\n",
    "- folderType: What is that and what are its implications?\n",
    "- version: integer\n",
    "- maxVersion: Latest version.  interesting, should investigate if there are different uuids for different version or same uuid?????\n",
    "- uuid: very important, core to all things workflow, vfs, etc.  all workflows appear to be vfs assets.  \n",
    "- metadata: object with critical keys regarding permissions, etc.\n",
    "- activityTime: ???  last run??\n",
    "- contentId: Why and what is this?  Is it useful?\n",
    "- entryOwner:  What is this for?  Why so much?\n",
    "- permissions: list of strings of file permission types\n",
    "- assetCategory: string, what are the valid types for this?  differences in behavior???\n",
    "- onlySiteAdminShares: bool: Per Jesse, this is a setting on a file to ensure only admins can share or not share a file"
   ]
  },
  {
   "cell_type": "code",
   "execution_count": null,
   "metadata": {},
   "outputs": [],
   "source": [
    "test_asset = asset_list[1]"
   ]
  },
  {
   "cell_type": "code",
   "execution_count": null,
   "metadata": {},
   "outputs": [
    {
     "data": {
      "text/plain": [
       "'22ffa1f9-4e55-4952-af90-387d2a9b9f78'"
      ]
     },
     "execution_count": null,
     "metadata": {},
     "output_type": "execute_result"
    }
   ],
   "source": [
    "test_asset['uuid']"
   ]
  },
  {
   "cell_type": "code",
   "execution_count": null,
   "metadata": {},
   "outputs": [
    {
     "data": {
      "text/plain": [
       "1"
      ]
     },
     "execution_count": null,
     "metadata": {},
     "output_type": "execute_result"
    }
   ],
   "source": [
    "test_asset['version']"
   ]
  },
  {
   "cell_type": "code",
   "execution_count": null,
   "metadata": {},
   "outputs": [
    {
     "data": {
      "text/plain": [
       "'/users/siteadmin1/simple_questions.log'"
      ]
     },
     "execution_count": null,
     "metadata": {},
     "output_type": "execute_result"
    }
   ],
   "source": [
    "test_asset['path']"
   ]
  },
  {
   "cell_type": "markdown",
   "metadata": {},
   "source": [
    "## Download File\n",
    "\n",
    "#### File Content\n",
    "\n",
    "Seems like content isn't what I thought it was.  \n",
    "\n",
    "EDIT:  No, this works, but not with Excel files.  Luckily nobody uses excel in business"
   ]
  },
  {
   "cell_type": "code",
   "execution_count": null,
   "metadata": {},
   "outputs": [],
   "source": [
    "# Didn't return a file, but not sure.\n",
    "\n",
    "response = motor.api.get(url='files/content', \n",
    "                         params={\"id\": \"f4929cd7-fbfc-4093-991b-17586a216f93\", \n",
    "                                 \"version\": 1})"
   ]
  },
  {
   "cell_type": "markdown",
   "metadata": {},
   "source": [
    "Below code successfully writes the file in proper format."
   ]
  },
  {
   "cell_type": "code",
   "execution_count": null,
   "metadata": {},
   "outputs": [],
   "source": [
    "with open('test.yxzp', 'wb') as f:\n",
    "    f.write(response.content)"
   ]
  },
  {
   "cell_type": "markdown",
   "metadata": {},
   "source": [
    "## Upload File\n",
    "\n",
    "This is pretty weird.  \n",
    "\n",
    "Talk to Alexander Potanin.  \n",
    "\n",
    "Currently, this API is incredibly confusing.  It isn't clear, even by observing browser traffic, how a file actually gets uploaded.\n",
    "\n",
    "Using headers for the parameters is inconsistent with, hmm, i don't know, everything else in here.  \n",
    "\n",
    "Latest note:\n",
    "\n",
    "https://git.alteryx.com/s2/demo-seeder/-/blob/dev/04-UploadFilesAndDecorate.js\n",
    "\n",
    "see that we just need to specify what appears to be a binary object as payload.  \n",
    "\n",
    "We will need to add to the existing headers for this one, due to the api inconsistencies.\n",
    "\n",
    "Added an optional arg (just to post) for non_default_headers.\n",
    "\n",
    "Success!  uploaded a file with the below code.\n",
    "\n",
    "### TODO:  The code below works, so we will want to convert into a nice clean function."
   ]
  },
  {
   "cell_type": "code",
   "execution_count": null,
   "metadata": {},
   "outputs": [],
   "source": [
    "blob = None\n",
    "\n",
    "with open('test.yxzp', \"rb\") as f:\n",
    "    blob = f.read()"
   ]
  },
  {
   "cell_type": "code",
   "execution_count": null,
   "metadata": {},
   "outputs": [],
   "source": [
    "upload_headers = {\"Content-Type\": \"application/json\",\n",
    "                    \"Accept\": \"*/*\",\n",
    "                    \"Accept-Language\": \"en-US,en;q=0.5\",\n",
    "                    \"Accept-Encoding\": \"gzip,deflate\",\n",
    "                    \"path\": '/Workspaces/Public/asdf/jp_test.yxzp'\n",
    "                  }"
   ]
  },
  {
   "cell_type": "code",
   "execution_count": null,
   "metadata": {},
   "outputs": [],
   "source": [
    "response = motor.api.post(url='files', \n",
    "                          data=blob,\n",
    "                          non_default_headers=upload_headers)"
   ]
  },
  {
   "cell_type": "code",
   "execution_count": null,
   "metadata": {},
   "outputs": [
    {
     "data": {
      "text/plain": [
       "<Response [200]>"
      ]
     },
     "execution_count": null,
     "metadata": {},
     "output_type": "execute_result"
    }
   ],
   "source": [
    "response"
   ]
  },
  {
   "cell_type": "code",
   "execution_count": null,
   "metadata": {},
   "outputs": [
    {
     "data": {
      "text/plain": [
       "{'fileName': 'jp_test.yxzp',\n",
       " 'extension': 'yxzp',\n",
       " 'inherits': True,\n",
       " 'isHidden': False,\n",
       " 'onlyOwnerShares': False,\n",
       " 'path': '/Workspaces/Public/asdf/jp_test.yxzp',\n",
       " 'folderType': None,\n",
       " 'version': 1,\n",
       " 'created': '2020-04-10T23:21:20.252Z',\n",
       " 'versionCreated': '2020-04-10T23:21:20.252Z',\n",
       " 'maxVersion': 1,\n",
       " 'links': None,\n",
       " 'location': '',\n",
       " 'uuid': 'bee0b8dd-6387-4740-be36-06887e0d9921',\n",
       " 'metaHash': 'd214d65ab55a2a1c73de7c90fcc1aecfc28dd88dbec71cdeaeb3ffb1ef170053',\n",
       " 'metadata': {'yxType': 'WORKFLOW_APP'},\n",
       " 'contentHash': 'b7960c08c75e5e4e2bcf5fa32582eee75a07560554c6993c603759a8a2ce2f5f',\n",
       " 'contentId': '6a411b4e-6e57-4d27-b357-421e280aaa51',\n",
       " 'contentSize': 2176,\n",
       " 'entryOwner': {'avatar': None,\n",
       "  'email': 'siteadmin1@example.com',\n",
       "  'firstName': 'Seeded',\n",
       "  'id': '3ec0bcbd-f7e2-413b-93c0-166ee2aee5d8',\n",
       "  'lastName': 'siteadmin1',\n",
       "  'name': 'Seeded siteadmin1',\n",
       "  'userName': 'siteadmin1'},\n",
       " 'md5Hash': '1316e622c535fcfef109f75484910f38',\n",
       " 'assetCategory': 'WORKFLOW_APP',\n",
       " 'onlySiteAdminShares': False}"
      ]
     },
     "execution_count": null,
     "metadata": {},
     "output_type": "execute_result"
    }
   ],
   "source": [
    "response.json()"
   ]
  }
 ],
 "metadata": {
  "kernelspec": {
   "display_name": "Python 3",
   "language": "python",
   "name": "python3"
  }
 },
 "nbformat": 4,
 "nbformat_minor": 4
}
