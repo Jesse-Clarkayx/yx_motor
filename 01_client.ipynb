{
 "cells": [
  {
   "cell_type": "code",
   "execution_count": null,
   "metadata": {},
   "outputs": [],
   "source": [
    "# default_exp client"
   ]
  },
  {
   "cell_type": "markdown",
   "metadata": {},
   "source": [
    "# client\n",
    "> Top-level client for interacting with the server rest apis."
   ]
  },
  {
   "cell_type": "code",
   "execution_count": null,
   "metadata": {},
   "outputs": [],
   "source": [
    "#hide\n",
    "from nbdev.showdoc import *"
   ]
  },
  {
   "cell_type": "code",
   "execution_count": null,
   "metadata": {},
   "outputs": [],
   "source": [
    "#hide\n",
    "# just removing the insecure warning for now\n",
    "# TODO: Secure requests and remove this code\n",
    "import urllib3\n",
    "urllib3.disable_warnings(urllib3.exceptions.InsecureRequestWarning)"
   ]
  },
  {
   "cell_type": "code",
   "execution_count": null,
   "metadata": {},
   "outputs": [],
   "source": [
    "#hide\n",
    "from private import server_vars"
   ]
  },
  {
   "cell_type": "code",
   "execution_count": null,
   "metadata": {},
   "outputs": [],
   "source": [
    "#hide\n",
    "base_url=server_vars['base_url']\n",
    "login_email = server_vars['login_email']\n",
    "login_pwd = server_vars['login_pwd']"
   ]
  },
  {
   "cell_type": "code",
   "execution_count": null,
   "metadata": {},
   "outputs": [],
   "source": [
    "# export\n",
    "import requests\n",
    "\n",
    "from yx_motor.api import API\n",
    "from yx_motor.authenticate import Authenticate\n",
    "from yx_motor.jobs import Jobs\n",
    "from yx_motor.files import Files\n",
    "from yx_motor.workflows import Workflows\n",
    "\n",
    "\n",
    "class Client:\n",
    "    \"Wrapper for Alteryx Server API.\"\n",
    "\n",
    "    def __init__(self, base_url: str, login_email: str, login_pwd: str):\n",
    "        \"\"\"Initialize a yx_motor client object.\"\"\"\n",
    "        self.base_url = base_url\n",
    "        self.api_url = f\"{base_url}api/v1/\"\n",
    "\n",
    "        self.auth_endpoint = \"authenticate\"\n",
    "\n",
    "        self.login_email = login_email\n",
    "        self.login_pwd = login_pwd\n",
    "\n",
    "        self.headers = {\n",
    "            \"Content-Type\": \"application/json\",\n",
    "            \"Accept\": \"*/*\",\n",
    "            \"Accept-Language\": \"en-US,en;q=0.5\",\n",
    "            \"Accept-Encoding\": \"gzip,deflate\",\n",
    "        }\n",
    "\n",
    "        self.api = API(api_url=self.api_url, headers=self.headers)\n",
    "\n",
    "        self.authenticate = Authenticate(self.api)\n",
    "        self.jobs = Jobs(self.api)\n",
    "        self.files = Files(self.api)\n",
    "        self.workflows = Workflows(self.api)\n",
    "\n",
    "        self.authenticate.authenticate(\n",
    "            login_email=self.login_email, login_pwd=self.login_pwd\n",
    "        )\n",
    "\n",
    "    def get_users(self):\n",
    "        response = self.api.get(\"users\")\n",
    "        return response"
   ]
  },
  {
   "cell_type": "code",
   "execution_count": null,
   "metadata": {},
   "outputs": [
    {
     "data": {
      "text/markdown": [
       "<h4 id=\"Client.__init__\" class=\"doc_header\"><code>Client.__init__</code><a href=\"__main__.py#L13\" class=\"source_link\" style=\"float:right\">[source]</a></h4>\n",
       "\n",
       "> <code>Client.__init__</code>(**`base_url`**:`str`, **`login_email`**:`str`, **`login_pwd`**:`str`)\n",
       "\n",
       "Initialize a yx_motor client object."
      ],
      "text/plain": [
       "<IPython.core.display.Markdown object>"
      ]
     },
     "metadata": {},
     "output_type": "display_data"
    }
   ],
   "source": [
    "from nbdev.showdoc import *\n",
    "show_doc(Client.__init__)"
   ]
  },
  {
   "cell_type": "code",
   "execution_count": null,
   "metadata": {},
   "outputs": [
    {
     "name": "stdout",
     "output_type": "stream",
     "text": [
      "POST sent to: https://test.aep-mono.devops.alteryx.com/api/v1/authenticate/\n",
      "with headers: {'User-Agent': 'python-requests/2.23.0', 'Accept-Encoding': 'gzip,deflate', 'Accept': '*/*', 'Connection': 'keep-alive', 'Content-Type': 'application/json', 'Accept-Language': 'en-US,en;q=0.5', 'Content-Length': '59'}\n",
      "Response Status: 200\n"
     ]
    }
   ],
   "source": [
    "motor = Client(base_url,\n",
    "              login_email, \n",
    "              login_pwd)"
   ]
  },
  {
   "cell_type": "code",
   "execution_count": null,
   "metadata": {},
   "outputs": [],
   "source": [
    "#hide\n",
    "from unittest.mock import Mock\n",
    "motor.api = Mock()\n",
    "motor.api.is_authenticated = True"
   ]
  },
  {
   "cell_type": "code",
   "execution_count": null,
   "metadata": {},
   "outputs": [
    {
     "data": {
      "text/plain": [
       "True"
      ]
     },
     "execution_count": null,
     "metadata": {},
     "output_type": "execute_result"
    }
   ],
   "source": [
    "motor.api.is_authenticated"
   ]
  },
  {
   "cell_type": "code",
   "execution_count": null,
   "metadata": {},
   "outputs": [
    {
     "name": "stdout",
     "output_type": "stream",
     "text": [
      "GET sent to: https://test.aep-mono.devops.alteryx.com/api/v1/jobs/\n",
      "with headers: {'User-Agent': 'python-requests/2.23.0', 'Accept-Encoding': 'gzip,deflate', 'Accept': '*/*', 'Connection': 'keep-alive', 'Content-Type': 'application/json', 'Accept-Language': 'en-US,en;q=0.5', 'Cookie': 'ayxSession=s%3A79021702-54e1-44d8-b4fa-ddc09dae3b55.7suNNUDTv24Q2GpT7kXJrVS8xusoT6%2F3jhISZYIS8Kk'}\n",
      "Response Status: 200\n"
     ]
    },
    {
     "data": {
      "text/plain": [
       "{'jobs': [{'jobId': '83ac4397-d996-4237-a182-0486d9333042',\n",
       "   'workerId': '3b0d8827-c3a9-4e1d-ba77-304d339c71a6',\n",
       "   'scheduleId': 'ebc0f0f2-08ea-4c85-a5a4-392e1061320e',\n",
       "   'executionOrdinal': 1,\n",
       "   'queuedDate': '2020-04-21T10:18:12.642Z',\n",
       "   'scheduledStartDate': '2020-04-21T10:18:12.642Z',\n",
       "   'actualStartDate': '2020-04-21T10:21:22.773Z',\n",
       "   'completionDate': '2020-04-21T10:21:26.452Z',\n",
       "   'runTime': 4,\n",
       "   'status': 'completed',\n",
       "   'result': 'success',\n",
       "   'siteId': 'bb126b4b-7719-4b51-af23-0c087a500fc1',\n",
       "   'creationDate': '2020-04-21T10:18:12.636Z',\n",
       "   'lastUpdate': '2020-04-21T10:21:26.428Z',\n",
       "   'assetVersion': 1,\n",
       "   'retryCount': 0,\n",
       "   'notes': None,\n",
       "   'priority': 50,\n",
       "   'jobNo': 1,\n",
       "   'name': 'SeededOracleWorkflow.yxmd',\n",
       "   'userId': 'fbc3b914-123f-4f8c-9761-c6b1d9298710',\n",
       "   'assetId': 'e29cf3d6-a884-427b-aa72-a4fdf94ea628',\n",
       "   'type': 'once',\n",
       "   'frequencyInterval': 'once',\n",
       "   'outputs': [{'fileName': 'simple_question_outputs.csv',\n",
       "     'assetId': '0fa1d662-de6e-4919-9169-30deb42a1194',\n",
       "     'version': 1,\n",
       "     'permissions': ['CREATE', 'DELETE', 'DOWNLOAD', 'EDIT', 'OWNER', 'VIEW'],\n",
       "     'breadcrumbs': ['users', 'siteadmin1', 'simple_question_outputs.csv']}]},\n",
       "  {'jobId': '3131fc57-2c0f-4528-a69e-c29407976b82',\n",
       "   'workerId': '3b0d8827-c3a9-4e1d-ba77-304d339c71a6',\n",
       "   'scheduleId': '7181d598-6811-48b4-ba3c-055f4927d7f1',\n",
       "   'executionOrdinal': 1,\n",
       "   'queuedDate': '2020-04-21T10:44:26.048Z',\n",
       "   'scheduledStartDate': '2020-04-21T10:44:26.048Z',\n",
       "   'actualStartDate': '2020-04-21T10:45:15.735Z',\n",
       "   'completionDate': '2020-04-21T10:46:44.693Z',\n",
       "   'runTime': 89,\n",
       "   'status': 'completed',\n",
       "   'result': 'success',\n",
       "   'siteId': 'bb126b4b-7719-4b51-af23-0c087a500fc1',\n",
       "   'creationDate': '2020-04-21T10:44:26.037Z',\n",
       "   'lastUpdate': '2020-04-21T10:46:44.673Z',\n",
       "   'assetVersion': 1,\n",
       "   'retryCount': 0,\n",
       "   'notes': None,\n",
       "   'priority': 50,\n",
       "   'jobNo': 5,\n",
       "   'name': 'oracle_loader.yxzp',\n",
       "   'userId': 'fbc3b914-123f-4f8c-9761-c6b1d9298710',\n",
       "   'assetId': '445391e8-53b3-431a-b8b1-8bc34059ac8c',\n",
       "   'type': 'immediate',\n",
       "   'frequencyInterval': 'manual',\n",
       "   'outputs': []},\n",
       "  {'jobId': '3b6090c9-78d5-4236-8e7c-e1d595e38aa0',\n",
       "   'workerId': '3b0d8827-c3a9-4e1d-ba77-304d339c71a6',\n",
       "   'scheduleId': 'a8f0ff87-5148-4747-ac88-ad7752d9e5a5',\n",
       "   'executionOrdinal': 1,\n",
       "   'queuedDate': '2020-04-21T10:28:32.241Z',\n",
       "   'scheduledStartDate': '2020-04-21T10:28:32.241Z',\n",
       "   'actualStartDate': '2020-04-21T10:28:33.255Z',\n",
       "   'completionDate': '2020-04-21T10:28:33.835Z',\n",
       "   'runTime': 1,\n",
       "   'status': 'completed',\n",
       "   'result': 'success',\n",
       "   'siteId': 'bb126b4b-7719-4b51-af23-0c087a500fc1',\n",
       "   'creationDate': '2020-04-21T10:28:32.231Z',\n",
       "   'lastUpdate': '2020-04-21T10:28:33.818Z',\n",
       "   'assetVersion': 1,\n",
       "   'retryCount': 0,\n",
       "   'notes': None,\n",
       "   'priority': 50,\n",
       "   'jobNo': 2,\n",
       "   'name': 'StateAbbreviations.yxmd',\n",
       "   'userId': 'eb606416-a3ac-454b-83f3-1657bc963b23',\n",
       "   'assetId': 'a4e481b0-e6fe-479e-8abd-2e17b8d76ef0',\n",
       "   'type': 'immediate',\n",
       "   'frequencyInterval': 'manual',\n",
       "   'outputs': [{'fileName': 'states.csv',\n",
       "     'assetId': '7acd154e-220b-4b3a-b24a-882c3e6f01c6',\n",
       "     'version': 1,\n",
       "     'permissions': ['CREATE', 'DELETE', 'DOWNLOAD', 'EDIT', 'OWNER', 'VIEW'],\n",
       "     'breadcrumbs': ['Trash', 'WFLogs', 'states.csv']}]},\n",
       "  {'jobId': '3cbdc353-1c09-40f2-b056-d9b166170fec',\n",
       "   'workerId': '3b0d8827-c3a9-4e1d-ba77-304d339c71a6',\n",
       "   'scheduleId': 'ee3776de-b473-4c7f-8b83-41fc64961c4b',\n",
       "   'executionOrdinal': 1,\n",
       "   'queuedDate': '2020-04-21T10:44:12.186Z',\n",
       "   'scheduledStartDate': '2020-04-21T10:44:12.186Z',\n",
       "   'actualStartDate': '2020-04-21T10:44:13.374Z',\n",
       "   'completionDate': '2020-04-21T10:45:14.347Z',\n",
       "   'runTime': 61,\n",
       "   'status': 'completed',\n",
       "   'result': 'success',\n",
       "   'siteId': 'bb126b4b-7719-4b51-af23-0c087a500fc1',\n",
       "   'creationDate': '2020-04-21T10:44:12.178Z',\n",
       "   'lastUpdate': '2020-04-21T10:45:14.330Z',\n",
       "   'assetVersion': 1,\n",
       "   'retryCount': 0,\n",
       "   'notes': None,\n",
       "   'priority': 50,\n",
       "   'jobNo': 3,\n",
       "   'name': 'files_loader.yxzp',\n",
       "   'userId': 'fbc3b914-123f-4f8c-9761-c6b1d9298710',\n",
       "   'assetId': 'bae22e83-f788-4481-9fea-f6e662891cd8',\n",
       "   'type': 'immediate',\n",
       "   'frequencyInterval': 'manual',\n",
       "   'outputs': []},\n",
       "  {'jobId': 'df3d2fa4-f140-4776-bd55-eba874f88f7f',\n",
       "   'workerId': '3b0d8827-c3a9-4e1d-ba77-304d339c71a6',\n",
       "   'scheduleId': '2142b15d-4021-4203-8b85-d4bad4dccfa1',\n",
       "   'executionOrdinal': 1,\n",
       "   'queuedDate': '2020-04-21T14:08:51.651Z',\n",
       "   'scheduledStartDate': '2020-04-21T14:08:51.651Z',\n",
       "   'actualStartDate': '2020-04-21T14:08:53.148Z',\n",
       "   'completionDate': '2020-04-21T14:08:53.370Z',\n",
       "   'runTime': 0,\n",
       "   'status': 'completed',\n",
       "   'result': 'success',\n",
       "   'siteId': 'bb126b4b-7719-4b51-af23-0c087a500fc1',\n",
       "   'creationDate': '2020-04-21T14:08:51.640Z',\n",
       "   'lastUpdate': '2020-04-21T14:08:53.343Z',\n",
       "   'assetVersion': 1,\n",
       "   'retryCount': 0,\n",
       "   'notes': None,\n",
       "   'priority': 100,\n",
       "   'jobNo': 11,\n",
       "   'name': 'New%20Workflow1%21%40%23%24%25%5E%26_%28%29_%2B%7D%7B_________.yxmd',\n",
       "   'userId': 'f27726bc-c231-4d83-ab21-eac68f0a3044',\n",
       "   'assetId': '346a746e-4031-4ed2-992e-19ed9b1b7a1f',\n",
       "   'type': 'validation',\n",
       "   'frequencyInterval': 'manual',\n",
       "   'outputs': []},\n",
       "  {'jobId': '94d86fda-13d1-4a1d-84a5-48bc1fd32652',\n",
       "   'workerId': '3b0d8827-c3a9-4e1d-ba77-304d339c71a6',\n",
       "   'scheduleId': 'dabb7c02-602a-4a49-9b70-93764ddb7603',\n",
       "   'executionOrdinal': 1,\n",
       "   'queuedDate': '2020-04-21T10:44:33.876Z',\n",
       "   'scheduledStartDate': '2020-04-21T10:44:33.876Z',\n",
       "   'actualStartDate': '2020-04-21T10:46:46.142Z',\n",
       "   'completionDate': '2020-04-21T10:47:20.506Z',\n",
       "   'runTime': 34,\n",
       "   'status': 'completed',\n",
       "   'result': 'success',\n",
       "   'siteId': 'bb126b4b-7719-4b51-af23-0c087a500fc1',\n",
       "   'creationDate': '2020-04-21T10:44:33.866Z',\n",
       "   'lastUpdate': '2020-04-21T10:47:20.491Z',\n",
       "   'assetVersion': 1,\n",
       "   'retryCount': 0,\n",
       "   'notes': None,\n",
       "   'priority': 50,\n",
       "   'jobNo': 6,\n",
       "   'name': 'postgres_loader.yxzp',\n",
       "   'userId': 'fbc3b914-123f-4f8c-9761-c6b1d9298710',\n",
       "   'assetId': 'b6cf4a6c-f345-4425-b87d-75e885b83fa5',\n",
       "   'type': 'immediate',\n",
       "   'frequencyInterval': 'manual',\n",
       "   'outputs': []},\n",
       "  {'jobId': 'b29e603b-89da-4073-9681-778de6fcdfcc',\n",
       "   'workerId': '3b0d8827-c3a9-4e1d-ba77-304d339c71a6',\n",
       "   'scheduleId': 'fd910515-87ca-4038-803e-9ee9bf9cbbe9',\n",
       "   'executionOrdinal': 1,\n",
       "   'queuedDate': '2020-04-21T10:44:19.923Z',\n",
       "   'scheduledStartDate': '2020-04-21T10:44:19.923Z',\n",
       "   'actualStartDate': '2020-04-21T10:44:21.430Z',\n",
       "   'completionDate': '2020-04-21T10:49:20.414Z',\n",
       "   'runTime': 299,\n",
       "   'status': 'completed',\n",
       "   'result': 'success',\n",
       "   'siteId': 'bb126b4b-7719-4b51-af23-0c087a500fc1',\n",
       "   'creationDate': '2020-04-21T10:44:19.916Z',\n",
       "   'lastUpdate': '2020-04-21T10:49:20.387Z',\n",
       "   'assetVersion': 1,\n",
       "   'retryCount': 0,\n",
       "   'notes': None,\n",
       "   'priority': 50,\n",
       "   'jobNo': 4,\n",
       "   'name': 'mysql_loader.yxzp',\n",
       "   'userId': 'fbc3b914-123f-4f8c-9761-c6b1d9298710',\n",
       "   'assetId': 'b956c8cc-d855-4ba7-9135-6bea8aa2541a',\n",
       "   'type': 'immediate',\n",
       "   'frequencyInterval': 'manual',\n",
       "   'outputs': []},\n",
       "  {'jobId': 'ae466f44-84a8-4ac3-99e0-1a833d5ea46d',\n",
       "   'workerId': '3b0d8827-c3a9-4e1d-ba77-304d339c71a6',\n",
       "   'scheduleId': 'f5751e88-91a8-4f86-b819-00cac4e0ab79',\n",
       "   'executionOrdinal': 1,\n",
       "   'queuedDate': '2020-04-21T11:55:11.018Z',\n",
       "   'scheduledStartDate': '2020-04-21T11:55:11.018Z',\n",
       "   'actualStartDate': '2020-04-21T11:55:12.635Z',\n",
       "   'completionDate': '2020-04-21T11:55:13.221Z',\n",
       "   'runTime': 1,\n",
       "   'status': 'completed',\n",
       "   'result': 'success',\n",
       "   'siteId': 'bb126b4b-7719-4b51-af23-0c087a500fc1',\n",
       "   'creationDate': '2020-04-21T11:55:11.008Z',\n",
       "   'lastUpdate': '2020-04-21T11:55:13.196Z',\n",
       "   'assetVersion': 1,\n",
       "   'retryCount': 0,\n",
       "   'notes': None,\n",
       "   'priority': 50,\n",
       "   'jobNo': 10,\n",
       "   'name': 'StateAbbreviations.yxmd',\n",
       "   'userId': 'eb606416-a3ac-454b-83f3-1657bc963b23',\n",
       "   'assetId': 'a4e481b0-e6fe-479e-8abd-2e17b8d76ef0',\n",
       "   'type': 'immediate',\n",
       "   'frequencyInterval': 'manual',\n",
       "   'outputs': [{'fileName': 'states.csv',\n",
       "     'assetId': '63096748-316a-41cb-8362-097933735630',\n",
       "     'version': 2,\n",
       "     'permissions': ['CREATE', 'DELETE', 'DOWNLOAD', 'EDIT', 'OWNER', 'VIEW'],\n",
       "     'breadcrumbs': ['users', 'siteadmin1', 'CreateOutput', 'states.csv']}]},\n",
       "  {'jobId': 'fb19ea1d-dac0-4ec7-9204-b5d193cf7d0d',\n",
       "   'workerId': '3b0d8827-c3a9-4e1d-ba77-304d339c71a6',\n",
       "   'scheduleId': 'b0f6175c-c2c8-4006-a22b-c557985604e3',\n",
       "   'executionOrdinal': 1,\n",
       "   'queuedDate': '2020-04-21T10:44:42.032Z',\n",
       "   'scheduledStartDate': '2020-04-21T10:44:42.032Z',\n",
       "   'actualStartDate': '2020-04-21T10:47:22.344Z',\n",
       "   'completionDate': '2020-04-21T10:47:40.068Z',\n",
       "   'runTime': 18,\n",
       "   'status': 'completed',\n",
       "   'result': 'success',\n",
       "   'siteId': 'bb126b4b-7719-4b51-af23-0c087a500fc1',\n",
       "   'creationDate': '2020-04-21T10:44:42.022Z',\n",
       "   'lastUpdate': '2020-04-21T10:47:40.056Z',\n",
       "   'assetVersion': 1,\n",
       "   'retryCount': 0,\n",
       "   'notes': None,\n",
       "   'priority': 50,\n",
       "   'jobNo': 7,\n",
       "   'name': 'mssql_loader.yxzp',\n",
       "   'userId': 'fbc3b914-123f-4f8c-9761-c6b1d9298710',\n",
       "   'assetId': 'dedeeca1-25a8-43c1-994b-00744e29b1d5',\n",
       "   'type': 'immediate',\n",
       "   'frequencyInterval': 'manual',\n",
       "   'outputs': []},\n",
       "  {'jobId': 'b0e89cc9-c34e-4b38-8c42-b66c264debb1',\n",
       "   'workerId': '3b0d8827-c3a9-4e1d-ba77-304d339c71a6',\n",
       "   'scheduleId': 'dbc8ab97-584b-43bd-9c42-783ce4bc9284',\n",
       "   'executionOrdinal': 1,\n",
       "   'queuedDate': '2020-04-21T10:53:26.617Z',\n",
       "   'scheduledStartDate': '2020-04-21T10:53:26.617Z',\n",
       "   'actualStartDate': '2020-04-21T10:53:27.971Z',\n",
       "   'completionDate': '2020-04-21T10:54:48.489Z',\n",
       "   'runTime': 81,\n",
       "   'status': 'completed',\n",
       "   'result': 'success',\n",
       "   'siteId': 'bb126b4b-7719-4b51-af23-0c087a500fc1',\n",
       "   'creationDate': '2020-04-21T10:53:26.605Z',\n",
       "   'lastUpdate': '2020-04-21T10:54:48.460Z',\n",
       "   'assetVersion': 1,\n",
       "   'retryCount': 0,\n",
       "   'notes': None,\n",
       "   'priority': 50,\n",
       "   'jobNo': 8,\n",
       "   'name': 'oracle_loader.yxzp',\n",
       "   'userId': 'fbc3b914-123f-4f8c-9761-c6b1d9298710',\n",
       "   'assetId': '445391e8-53b3-431a-b8b1-8bc34059ac8c',\n",
       "   'type': 'immediate',\n",
       "   'frequencyInterval': 'manual',\n",
       "   'outputs': []}],\n",
       " 'offset': 0,\n",
       " 'limit': 10,\n",
       " 'total': 11}"
      ]
     },
     "execution_count": null,
     "metadata": {},
     "output_type": "execute_result"
    }
   ],
   "source": [
    "motor.jobs.get_job().json()"
   ]
  },
  {
   "cell_type": "markdown",
   "metadata": {},
   "source": [
    "# Jesse and JP testing stuff below (remove/breakout later)"
   ]
  },
  {
   "cell_type": "markdown",
   "metadata": {},
   "source": [
    "## VFS Router API Investigation"
   ]
  },
  {
   "cell_type": "code",
   "execution_count": null,
   "metadata": {},
   "outputs": [
    {
     "name": "stdout",
     "output_type": "stream",
     "text": [
      "POST sent to: https://test.aep-mono.devops.alteryx.com/api/v1/authenticate/\n",
      "with headers: {'User-Agent': 'python-requests/2.23.0', 'Accept-Encoding': 'gzip,deflate', 'Accept': '*/*', 'Connection': 'keep-alive', 'Content-Type': 'application/json', 'Accept-Language': 'en-US,en;q=0.5', 'Content-Length': '59'}\n",
      "Response Status: 200\n"
     ]
    }
   ],
   "source": [
    "motor = Client(base_url,\n",
    "              login_email, \n",
    "              login_pwd)"
   ]
  },
  {
   "cell_type": "code",
   "execution_count": null,
   "metadata": {},
   "outputs": [
    {
     "name": "stdout",
     "output_type": "stream",
     "text": [
      "GET sent to: https://test.aep-mono.devops.alteryx.com/api/v1/files/recentlyViewed\n",
      "with headers: {'User-Agent': 'python-requests/2.23.0', 'Accept-Encoding': 'gzip,deflate', 'Accept': '*/*', 'Connection': 'keep-alive', 'Content-Type': 'application/json', 'Accept-Language': 'en-US,en;q=0.5', 'Cookie': 'ayxSession=s%3A0515f29e-d29b-4007-aa11-ff989811fbf0.K9CE7GvsXN56P99XYN35AvqJKwTUI%2B5Nd5sT6J4kDUE'}\n",
      "Response Status: 200\n"
     ]
    }
   ],
   "source": [
    "# Gets the payload of recently viewed files for a given user\n",
    "response = motor.api.get(\"files/recentlyViewed\")"
   ]
  },
  {
   "cell_type": "code",
   "execution_count": null,
   "metadata": {},
   "outputs": [
    {
     "data": {
      "text/plain": [
       "<Response [200]>"
      ]
     },
     "execution_count": null,
     "metadata": {},
     "output_type": "execute_result"
    }
   ],
   "source": [
    "response"
   ]
  },
  {
   "cell_type": "markdown",
   "metadata": {},
   "source": [
    "### Recently Viewed Files Response Object\n",
    "\n",
    "- Keys at top level\n",
    " - members  (what is this exactly?  Looks like it has access control stuff for file)\n",
    " - totalCount: integer, exactly what it sounds like\n",
    " - assets: array of what appears to be vfs \"asset/file\" objects.  "
   ]
  },
  {
   "cell_type": "code",
   "execution_count": null,
   "metadata": {},
   "outputs": [
    {
     "data": {
      "text/plain": [
       "dict_keys(['members', 'totalCount', 'assets'])"
      ]
     },
     "execution_count": null,
     "metadata": {},
     "output_type": "execute_result"
    }
   ],
   "source": [
    "response.json().keys()"
   ]
  },
  {
   "cell_type": "code",
   "execution_count": null,
   "metadata": {},
   "outputs": [],
   "source": [
    "asset_list = response.json()['assets']"
   ]
  },
  {
   "cell_type": "markdown",
   "metadata": {},
   "source": [
    "### VFS File object investigation\n",
    "\n",
    "- fileName: exactly what you think, but no path\n",
    "- path: full path, weird in a vfs as Jesse has pointed out\n",
    "- folderType: What is that and what are its implications?\n",
    "- version: integer\n",
    "- maxVersion: Latest version.  interesting, should investigate if there are different uuids for different version or same uuid?????\n",
    "- uuid: very important, core to all things workflow, vfs, etc.  all workflows appear to be vfs assets.  \n",
    "- metadata: object with critical keys regarding permissions, etc.\n",
    "- activityTime: ???  last run??\n",
    "- contentId: Why and what is this?  Is it useful?\n",
    "- entryOwner:  What is this for?  Why so much?\n",
    "- permissions: list of strings of file permission types\n",
    "- assetCategory: string, what are the valid types for this?  differences in behavior???\n",
    "- onlySiteAdminShares: bool: Per Jesse, this is a setting on a file to ensure only admins can share or not share a file"
   ]
  },
  {
   "cell_type": "code",
   "execution_count": null,
   "metadata": {},
   "outputs": [],
   "source": [
    "test_asset = asset_list[0]"
   ]
  },
  {
   "cell_type": "code",
   "execution_count": null,
   "metadata": {},
   "outputs": [
    {
     "data": {
      "text/plain": [
       "[{'fileName': 'Magic-8-Ball.yxmd',\n",
       "  'extension': 'yxmd',\n",
       "  'originalLocation': None,\n",
       "  'inherits': True,\n",
       "  'isHidden': False,\n",
       "  'onlyOwnerShares': True,\n",
       "  'path': '/Workspaces/Public/Magic-8-Ball.yxmd',\n",
       "  'folderType': None,\n",
       "  'version': 1,\n",
       "  'created': '2020-04-16T20:42:21.558Z',\n",
       "  'versionCreated': '2020-04-16T20:42:21.558Z',\n",
       "  'maxVersion': 1,\n",
       "  'links': None,\n",
       "  'location': '',\n",
       "  'uuid': 'c681db11-31fc-4854-8b0f-7e81870f9d87',\n",
       "  'metadata': {'yxType': 'WORKFLOW',\n",
       "   'vfsInputs': {},\n",
       "   'workflowInfo': {'isE2': False, 'modules': ['Magic-8-Ball.yxmd']}},\n",
       "  'activityTime': '2020-04-16T20:45:19.075Z',\n",
       "  'contentHash': '07949d23663f98c18f527fd7af961d209cc4459be11bd39df122b10e119981ba',\n",
       "  'contentId': 'ba8bba3e-92c0-4f60-a612-7ebec39c2f9f',\n",
       "  'contentSize': 9226,\n",
       "  'entryOwner': {'avatar': None,\n",
       "   'email': 'pladmin@example.com',\n",
       "   'firstName': 'Seeded',\n",
       "   'id': 'ef376193-fa7d-45fb-a9d3-57e14ec71d38',\n",
       "   'lastName': 'pladmin',\n",
       "   'name': 'Seeded pladmin',\n",
       "   'userName': 'pladmin'},\n",
       "  'md5Hash': '8984d04bae22a3af18dcdd317055b088',\n",
       "  'permissions': ['CREATE', 'DELETE', 'DOWNLOAD', 'EDIT', 'OWNER', 'VIEW'],\n",
       "  'assetCategory': 'WORKFLOW_APP',\n",
       "  'onlySiteAdminShares': False,\n",
       "  'breadcrumbs': [{'path': '/', 'view': True, 'create': True, 'delete': True},\n",
       "   {'path': '/Workspaces', 'view': True, 'create': True, 'delete': True},\n",
       "   {'path': '/Workspaces/Public',\n",
       "    'view': True,\n",
       "    'create': True,\n",
       "    'delete': True},\n",
       "   {'path': '/Workspaces/Public/Magic-8-Ball.yxmd',\n",
       "    'view': True,\n",
       "    'create': True,\n",
       "    'delete': True}]},\n",
       " {'fileName': 'Magic-8-Ball.yxmd',\n",
       "  'extension': 'yxmd',\n",
       "  'originalLocation': None,\n",
       "  'inherits': True,\n",
       "  'isHidden': False,\n",
       "  'onlyOwnerShares': False,\n",
       "  'path': '/users/siteadmin3/Magic-8-Ball.yxmd',\n",
       "  'folderType': None,\n",
       "  'version': 1,\n",
       "  'created': '2020-04-16T10:18:10.176Z',\n",
       "  'versionCreated': '2020-04-16T10:18:10.176Z',\n",
       "  'maxVersion': 1,\n",
       "  'links': None,\n",
       "  'location': '',\n",
       "  'uuid': 'c0793afd-b583-459d-8a4c-428c7b027686',\n",
       "  'metadata': {'yxType': 'WORKFLOW',\n",
       "   'vfsInputs': {},\n",
       "   'description': 'Seeded Magic-8-Ball',\n",
       "   'workflowInfo': {'isE2': False, 'modules': ['Magic-8-Ball.yxmd']}},\n",
       "  'activityTime': '2020-04-16T20:09:41.307Z',\n",
       "  'contentHash': '07949d23663f98c18f527fd7af961d209cc4459be11bd39df122b10e119981ba',\n",
       "  'contentId': 'ba8bba3e-92c0-4f60-a612-7ebec39c2f9f',\n",
       "  'contentSize': 9226,\n",
       "  'entryOwner': {'avatar': None,\n",
       "   'email': 'siteadmin3@example.com',\n",
       "   'firstName': 'Seeded',\n",
       "   'id': 'c5dbfd02-bf55-4afc-8cde-8cc0dffa324d',\n",
       "   'lastName': 'siteadmin3',\n",
       "   'name': 'Seeded siteadmin3',\n",
       "   'userName': 'siteadmin3'},\n",
       "  'md5Hash': '8984d04bae22a3af18dcdd317055b088',\n",
       "  'permissions': ['CREATE', 'DELETE', 'DOWNLOAD', 'EDIT', 'OWNER', 'VIEW'],\n",
       "  'assetCategory': 'WORKFLOW_APP',\n",
       "  'onlySiteAdminShares': False,\n",
       "  'breadcrumbs': [{'path': '/', 'view': True, 'create': True, 'delete': True},\n",
       "   {'path': '/users', 'view': True, 'create': True, 'delete': True},\n",
       "   {'path': '/users/siteadmin3', 'view': True, 'create': True, 'delete': True},\n",
       "   {'path': '/users/siteadmin3/Magic-8-Ball.yxmd',\n",
       "    'view': True,\n",
       "    'create': True,\n",
       "    'delete': True}]}]"
      ]
     },
     "execution_count": null,
     "metadata": {},
     "output_type": "execute_result"
    }
   ],
   "source": [
    "asset_list"
   ]
  },
  {
   "cell_type": "code",
   "execution_count": null,
   "metadata": {},
   "outputs": [
    {
     "data": {
      "text/plain": [
       "'1a847899-95a9-4206-a354-a69934c30b8f'"
      ]
     },
     "execution_count": null,
     "metadata": {},
     "output_type": "execute_result"
    }
   ],
   "source": [
    "test_asset['uuid']"
   ]
  },
  {
   "cell_type": "code",
   "execution_count": null,
   "metadata": {},
   "outputs": [
    {
     "data": {
      "text/plain": [
       "1"
      ]
     },
     "execution_count": null,
     "metadata": {},
     "output_type": "execute_result"
    }
   ],
   "source": [
    "test_asset['version']"
   ]
  },
  {
   "cell_type": "code",
   "execution_count": null,
   "metadata": {},
   "outputs": [
    {
     "data": {
      "text/plain": [
       "'/users/siteadmin3/Magic-8-Ball.yxmd'"
      ]
     },
     "execution_count": null,
     "metadata": {},
     "output_type": "execute_result"
    }
   ],
   "source": [
    "test_asset['path']"
   ]
  },
  {
   "cell_type": "markdown",
   "metadata": {},
   "source": [
    "## Download File\n",
    "\n",
    "#### File Content\n",
    "\n",
    "Seems like content isn't what I thought it was.  \n",
    "\n",
    "EDIT:  No, this works, just not with the file I tried before.  Note to self, make sure to double check GUI in future."
   ]
  },
  {
   "cell_type": "code",
   "execution_count": null,
   "metadata": {},
   "outputs": [],
   "source": [
    "# Didn't return a file, but not sure.\n",
    "\n",
    "response = motor.api.get(url='files/content', \n",
    "                         params={\"id\": 'c70447a5-6f4e-4125-bc50-258c5119368b', \n",
    "                                 \"version\": 1})"
   ]
  },
  {
   "cell_type": "markdown",
   "metadata": {},
   "source": [
    "Below code successfully writes the file in proper format."
   ]
  },
  {
   "cell_type": "code",
   "execution_count": null,
   "metadata": {},
   "outputs": [],
   "source": [
    "with open('czech_devops.yxmd', 'wb') as f:\n",
    "    f.write(response.content)"
   ]
  },
  {
   "cell_type": "markdown",
   "metadata": {},
   "source": [
    "## Upload File\n",
    "\n",
    "This is pretty weird.  \n",
    "\n",
    "Talk to Alexander Potanin.  \n",
    "\n",
    "Currently, this API is incredibly confusing.  It isn't clear, even by observing browser traffic, how a file actually gets uploaded.\n",
    "\n",
    "Using headers for the parameters is inconsistent with, hmm, i don't know, everything else in here.  \n",
    "\n",
    "Latest note:\n",
    "\n",
    "https://git.alteryx.com/s2/demo-seeder/-/blob/dev/04-UploadFilesAndDecorate.js\n",
    "\n",
    "see that we just need to specify what appears to be a binary object as payload.  \n",
    "\n",
    "We will need to add to the existing headers for this one, due to the api inconsistencies.\n",
    "\n",
    "Added an optional arg (just to post) for non_default_headers.\n",
    "\n",
    "Success!  uploaded a file with the below code.\n",
    "\n",
    "### TODO:  The code below works, so we will want to convert into a nice clean function."
   ]
  },
  {
   "cell_type": "code",
   "execution_count": null,
   "metadata": {},
   "outputs": [],
   "source": [
    "blob = None\n",
    "\n",
    "with open('8_ball_test.yxzp', \"rb\") as f:\n",
    "    blob = f.read()"
   ]
  },
  {
   "cell_type": "code",
   "execution_count": null,
   "metadata": {},
   "outputs": [],
   "source": [
    "upload_headers = {\"Content-Type\": \"application/json\",\n",
    "                    \"Accept\": \"*/*\",\n",
    "                    \"Accept-Language\": \"en-US,en;q=0.5\",\n",
    "                    \"Accept-Encoding\": \"gzip,deflate\",\n",
    "                    \"path\": '/Workspaces/Public/8_ball_test.yxzp'\n",
    "                  }"
   ]
  },
  {
   "cell_type": "code",
   "execution_count": null,
   "metadata": {},
   "outputs": [
    {
     "name": "stdout",
     "output_type": "stream",
     "text": [
      "POST sent to: https://test.aep-mono.devops.alteryx.com/api/v1/files\n",
      "with headers: {'User-Agent': 'python-requests/2.23.0', 'Accept-Encoding': 'gzip,deflate', 'Accept': '*/*', 'Connection': 'keep-alive', 'Content-Type': 'application/json', 'Accept-Language': 'en-US,en;q=0.5', 'path': '/Workspaces/Public/8_ball_test.yxzp', 'Cookie': 'ayxSession=s%3A0515f29e-d29b-4007-aa11-ff989811fbf0.K9CE7GvsXN56P99XYN35AvqJKwTUI%2B5Nd5sT6J4kDUE', 'Content-Length': '9226'}\n",
      "Response Status: 200\n"
     ]
    }
   ],
   "source": [
    "response = motor.api.post(url='files', \n",
    "                          data=blob,\n",
    "                          non_default_headers=upload_headers)"
   ]
  },
  {
   "cell_type": "code",
   "execution_count": null,
   "metadata": {},
   "outputs": [
    {
     "data": {
      "text/plain": [
       "{'fileName': '8_ball_test.yxzp',\n",
       " 'extension': 'yxzp',\n",
       " 'inherits': True,\n",
       " 'isHidden': False,\n",
       " 'onlyOwnerShares': False,\n",
       " 'path': '/Workspaces/Public/8_ball_test.yxzp',\n",
       " 'folderType': None,\n",
       " 'version': 1,\n",
       " 'created': '2020-04-27T17:01:20.296Z',\n",
       " 'versionCreated': '2020-04-27T17:01:20.296Z',\n",
       " 'maxVersion': 1,\n",
       " 'links': None,\n",
       " 'location': '',\n",
       " 'uuid': 'a07965d2-7b83-45a9-8735-96a4ed8e9ceb',\n",
       " 'metaHash': 'd214d65ab55a2a1c73de7c90fcc1aecfc28dd88dbec71cdeaeb3ffb1ef170053',\n",
       " 'metadata': {'yxType': 'WORKFLOW_APP'},\n",
       " 'contentHash': '07949d23663f98c18f527fd7af961d209cc4459be11bd39df122b10e119981ba',\n",
       " 'contentId': '2c7ec2ff-8ec8-4178-bcc6-de62ad4cabf1',\n",
       " 'contentSize': 9226,\n",
       " 'entryOwner': {'avatar': None,\n",
       "  'email': 'siteadmin3@example.com',\n",
       "  'firstName': 'Seeded',\n",
       "  'id': 'bf60a18b-9016-43b9-b692-8511a48e7d10',\n",
       "  'lastName': 'siteadmin3',\n",
       "  'name': 'Seeded siteadmin3',\n",
       "  'userName': 'siteadmin3'},\n",
       " 'md5Hash': '8984d04bae22a3af18dcdd317055b088',\n",
       " 'assetCategory': 'WORKFLOW_APP',\n",
       " 'onlySiteAdminShares': False}"
      ]
     },
     "execution_count": null,
     "metadata": {},
     "output_type": "execute_result"
    }
   ],
   "source": [
    "response.json()"
   ]
  },
  {
   "cell_type": "code",
   "execution_count": null,
   "metadata": {},
   "outputs": [
    {
     "data": {
      "text/plain": [
       "{'fileName': 'jp_test.yxzp',\n",
       " 'extension': 'yxzp',\n",
       " 'inherits': True,\n",
       " 'isHidden': False,\n",
       " 'onlyOwnerShares': False,\n",
       " 'path': '/Workspaces/Public/asdf/jp_test.yxzp',\n",
       " 'folderType': None,\n",
       " 'version': 1,\n",
       " 'created': '2020-04-10T23:21:20.252Z',\n",
       " 'versionCreated': '2020-04-10T23:21:20.252Z',\n",
       " 'maxVersion': 1,\n",
       " 'links': None,\n",
       " 'location': '',\n",
       " 'uuid': 'bee0b8dd-6387-4740-be36-06887e0d9921',\n",
       " 'metaHash': 'd214d65ab55a2a1c73de7c90fcc1aecfc28dd88dbec71cdeaeb3ffb1ef170053',\n",
       " 'metadata': {'yxType': 'WORKFLOW_APP'},\n",
       " 'contentHash': 'b7960c08c75e5e4e2bcf5fa32582eee75a07560554c6993c603759a8a2ce2f5f',\n",
       " 'contentId': '6a411b4e-6e57-4d27-b357-421e280aaa51',\n",
       " 'contentSize': 2176,\n",
       " 'entryOwner': {'avatar': None,\n",
       "  'email': 'siteadmin1@example.com',\n",
       "  'firstName': 'Seeded',\n",
       "  'id': '3ec0bcbd-f7e2-413b-93c0-166ee2aee5d8',\n",
       "  'lastName': 'siteadmin1',\n",
       "  'name': 'Seeded siteadmin1',\n",
       "  'userName': 'siteadmin1'},\n",
       " 'md5Hash': '1316e622c535fcfef109f75484910f38',\n",
       " 'assetCategory': 'WORKFLOW_APP',\n",
       " 'onlySiteAdminShares': False}"
      ]
     },
     "execution_count": null,
     "metadata": {},
     "output_type": "execute_result"
    }
   ],
   "source": [
    "response.json()"
   ]
  },
  {
   "cell_type": "code",
   "execution_count": null,
   "metadata": {},
   "outputs": [
    {
     "name": "stdout",
     "output_type": "stream",
     "text": [
      "Converted 01_client.ipynb.\n",
      "Converted 02_jobs.ipynb.\n",
      "Converted 03_api.ipynb.\n",
      "Converted 04_authenticate.ipynb.\n",
      "Converted 05_files.ipynb.\n",
      "Converted 06_workflows.ipynb.\n",
      "Converted index.ipynb.\n",
      "Converted integration_tests.ipynb.\n"
     ]
    }
   ],
   "source": [
    "#hide\n",
    "\n",
    "from nbdev.export import *\n",
    "notebook2script()"
   ]
  },
  {
   "cell_type": "code",
   "execution_count": null,
   "metadata": {},
   "outputs": [],
   "source": [
    "# hide\n"
   ]
  }
 ],
 "metadata": {
  "kernelspec": {
   "display_name": "Python 3",
   "language": "python",
   "name": "python3"
  }
 },
 "nbformat": 4,
 "nbformat_minor": 4
}
