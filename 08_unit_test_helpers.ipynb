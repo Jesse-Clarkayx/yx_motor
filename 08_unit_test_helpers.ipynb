{
 "cells": [
  {
   "cell_type": "code",
   "execution_count": null,
   "metadata": {},
   "outputs": [],
   "source": [
    "# default_exp tests.utils.unit_test_helpers"
   ]
  },
  {
   "cell_type": "markdown",
   "metadata": {},
   "source": [
    "# Unit Test Helpers\n",
    "> Useful helpers for unit tests"
   ]
  },
  {
   "cell_type": "code",
   "execution_count": null,
   "metadata": {},
   "outputs": [],
   "source": [
    "#export\n",
    "import pickle\n",
    "from types import SimpleNamespace"
   ]
  },
  {
   "cell_type": "code",
   "execution_count": null,
   "metadata": {},
   "outputs": [],
   "source": [
    "#export\n",
    "\n",
    "def pickle_object(obj, file_path):\n",
    "    with open(file_path, 'wb') as f:\n",
    "        pickle.dump(obj, f)\n",
    "        \n",
    "def unpickle_object(pickle_path):\n",
    "    with open(pickle_path, 'rb') as f:\n",
    "        return pickle.load(f)"
   ]
  },
  {
   "cell_type": "code",
   "execution_count": null,
   "metadata": {},
   "outputs": [],
   "source": [
    "#export\n",
    "\n",
    "workflow_test_pickles = SimpleNamespace(\n",
    "    workflow_run_response_pickle = r'test_pickles/workflows/run_workflow_response.pkl',\n",
    "    workflow_get_vfs_inputs_response_pickle_path = r'test_pickles/workflows/get_vfs_inputs_response.pkl',\n",
    "    workflow_job_response_pickle_path = r'test_pickles/workflows/workflow_job_response.pkl',\n",
    "    output_asset_response_pickle_path = r'test_pickles/workflows/output_asset_response.pkl',\n",
    "    workflow_download_files_response_pickle_path = r'test_pickles/workflows/download_files_response.pkl',\n",
    "    download_path = 'wf_out_test.csv'\n",
    ")"
   ]
  },
  {
   "cell_type": "code",
   "execution_count": null,
   "metadata": {},
   "outputs": [],
   "source": [
    "#export\n",
    "\n",
    "jobs_test_pickles = SimpleNamespace(\n",
    "    get_job_by_id = r'test_pickles/jobs/get_job_by_id_response.pkl',\n",
    "    get_log_by_id = r'test_pickles/jobs/get_log_by_id_response.pkl'\n",
    ")"
   ]
  },
  {
   "cell_type": "code",
   "execution_count": null,
   "metadata": {},
   "outputs": [],
   "source": [
    "#export\n",
    "\n",
    "files_test_pickles = SimpleNamespace(\n",
    "    download_file = r'test_pickles/files/download_file_response.pkl',\n",
    "    upload_file = r'test_pickles/files/upload_file_response.pkl',\n",
    "    upload_duplicate_file = r'test_pickles/files/duplicate_file_upload_response.pkl',\n",
    "    upload_merge_file = r'test_pickles/files/upload_file_merge_response.pkl',\n",
    "    get_file_versions = r'test_pickles/files/get_file_versions_response.pkl',\n",
    "    delete_file = r'test_pickles/files/delete_file_response.pkl',\n",
    "    move_file = r'test_pickles/files/move_file_response.pkl',\n",
    "    copy_file = r'test_pickles/files/copy_file_response.pkl',\n",
    "    restore_deleted = r'test_pickles/files/restore_deleted_file_response.pkl',\n",
    "    restore_deleted_by_path = r'test_pickles/files/restore_deleted_by_path_response.pkl'\n",
    ")"
   ]
  }
 ],
 "metadata": {
  "kernelspec": {
   "display_name": "Python 3",
   "language": "python",
   "name": "python3"
  }
 },
 "nbformat": 4,
 "nbformat_minor": 4
}
