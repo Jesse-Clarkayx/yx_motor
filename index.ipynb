{
 "cells": [
  {
   "cell_type": "code",
   "execution_count": null,
   "metadata": {},
   "outputs": [],
   "source": [
    "#hide\n",
    "from yx_motor.client import *"
   ]
  },
  {
   "cell_type": "markdown",
   "metadata": {},
   "source": [
    "# Welcome to yx_motor\n",
    "\n",
    "> Python client library for Alteryx Analytics Hub.  This is very early development, and the AAH API is still in preview mode. Do not consider this library stable until it is directly stated in the documentation."
   ]
  },
  {
   "cell_type": "markdown",
   "metadata": {},
   "source": [
    "## Installing \n",
    "\n",
    "Not ready yet.  Will update when we are ready to create a pip module.  The command will be the following once this is ready:"
   ]
  },
  {
   "cell_type": "markdown",
   "metadata": {},
   "source": [
    "`pip install yx_motor`"
   ]
  },
  {
   "cell_type": "markdown",
   "metadata": {},
   "source": [
    "## Development Installation\n",
    "\n",
    "Clone this branch down to your machine.\n",
    "\n",
    "Create a virtual environment in your venv manager of choice.  Activate the environment, navigate to this directory, and then run `pip install -e .` "
   ]
  },
  {
   "cell_type": "markdown",
   "metadata": {},
   "source": [
    "## Examples"
   ]
  },
  {
   "cell_type": "markdown",
   "metadata": {},
   "source": [
    "### Initialize Client"
   ]
  },
  {
   "cell_type": "code",
   "execution_count": null,
   "metadata": {},
   "outputs": [],
   "source": [
    "#hide\n",
    "\n",
    "import urllib3\n",
    "urllib3.disable_warnings(urllib3.exceptions.InsecureRequestWarning)"
   ]
  },
  {
   "cell_type": "code",
   "execution_count": null,
   "metadata": {},
   "outputs": [
    {
     "name": "stdout",
     "output_type": "stream",
     "text": [
      "POST sent to: https://hub-beta.demo.alteryx.com/api/v1/authenticate/\n",
      "with headers: {'User-Agent': 'python-requests/2.23.0', 'Accept-Encoding': 'gzip,deflate', 'Accept': '*/*', 'Connection': 'keep-alive', 'Content-Type': 'application/json', 'Accept-Language': 'en-US,en;q=0.5', 'Content-Length': '57'}\n",
      "Response Status: 200\n"
     ]
    }
   ],
   "source": [
    "from yx_motor.client import Client\n",
    "\n",
    "from private import server_vars\n",
    "\n",
    "base_url = server_vars['base_url']\n",
    "login_email = server_vars['login_email']\n",
    "login_pwd = server_vars['login_pwd']\n",
    "\n",
    "example_client = Client(base_url,\n",
    "                        login_email,\n",
    "                        login_pwd)"
   ]
  },
  {
   "cell_type": "markdown",
   "metadata": {},
   "source": [
    "### View Jobs"
   ]
  },
  {
   "cell_type": "code",
   "execution_count": null,
   "metadata": {},
   "outputs": [
    {
     "name": "stdout",
     "output_type": "stream",
     "text": [
      "GET sent to: https://hub-beta.demo.alteryx.com/api/v1/jobs/\n",
      "with headers: {'User-Agent': 'python-requests/2.23.0', 'Accept-Encoding': 'gzip,deflate', 'Accept': '*/*', 'Connection': 'keep-alive', 'Content-Type': 'application/json', 'Accept-Language': 'en-US,en;q=0.5', 'Cookie': 'ayxSession=s%3A44afbe59-8af5-4917-8290-ec987d0a1e56.TEd0guEXnm%2FCfQMTtkJw8g1WvWbobeFi%2FfkXcO4dvuo'}\n",
      "Response Status: 200\n"
     ]
    }
   ],
   "source": [
    "jobs_api_response = example_client.jobs.get_job()"
   ]
  },
  {
   "cell_type": "code",
   "execution_count": null,
   "metadata": {},
   "outputs": [
    {
     "data": {
      "text/plain": [
       "dict_keys(['jobId', 'workerId', 'scheduleId', 'executionOrdinal', 'queuedDate', 'scheduledStartDate', 'actualStartDate', 'completionDate', 'runTime', 'status', 'result', 'siteId', 'creationDate', 'lastUpdate', 'assetVersion', 'retryCount', 'notes', 'priority', 'jobNo', 'runStatus', 'name', 'userId', 'assetId', 'type', 'frequencyInterval', 'outputs'])"
      ]
     },
     "execution_count": null,
     "metadata": {},
     "output_type": "execute_result"
    }
   ],
   "source": [
    "jobs_api_response.json()['jobs'][0].keys()"
   ]
  },
  {
   "cell_type": "markdown",
   "metadata": {},
   "source": [
    "### Download and Upload Files"
   ]
  },
  {
   "cell_type": "code",
   "execution_count": null,
   "metadata": {},
   "outputs": [],
   "source": [
    "example_client.files.download_file()"
   ]
  },
  {
   "cell_type": "code",
   "execution_count": null,
   "metadata": {},
   "outputs": [
    {
     "name": "stdout",
     "output_type": "stream",
     "text": [
      "POST sent to: https://hub-beta.demo.alteryx.com/api/v1/files/\n",
      "with headers: {'User-Agent': 'python-requests/2.23.0', 'Accept-Encoding': 'gzip,deflate', 'Accept': '*/*', 'Connection': 'keep-alive', 'Content-Type': 'application/json', 'Accept-Language': 'en-US,en;q=0.5', 'path': '/Workspaces/Public/WorkflowA.yxmd', 'conflict_action': 'MERGE', 'Cookie': 'ayxSession=s%3A44afbe59-8af5-4917-8290-ec987d0a1e56.TEd0guEXnm%2FCfQMTtkJw8g1WvWbobeFi%2FfkXcO4dvuo', 'Content-Length': '3250'}\n",
      "Response Status: 200\n",
      "POST sent to: https://hub-beta.demo.alteryx.com/api/v1/files/\n",
      "with headers: {'User-Agent': 'python-requests/2.23.0', 'Accept-Encoding': 'gzip,deflate', 'Accept': '*/*', 'Connection': 'keep-alive', 'Content-Type': 'application/json', 'Accept-Language': 'en-US,en;q=0.5', 'path': '/Workspaces/Public/WorkflowB.yxmd', 'conflict_action': 'MERGE', 'Cookie': 'ayxSession=s%3A44afbe59-8af5-4917-8290-ec987d0a1e56.TEd0guEXnm%2FCfQMTtkJw8g1WvWbobeFi%2FfkXcO4dvuo', 'Content-Length': '4183'}\n",
      "Response Status: 200\n"
     ]
    }
   ],
   "source": [
    "#hide\n",
    "from yx_motor.seed_integration_tests import seed_workflow_files\n",
    "\n",
    "file_a, file_b = seed_workflow_files(example_client)"
   ]
  },
  {
   "cell_type": "code",
   "execution_count": null,
   "metadata": {},
   "outputs": [],
   "source": [
    "file_a_uuid = file_a['uuid']\n",
    "file_b_uuid = file_b['uuid']"
   ]
  },
  {
   "cell_type": "code",
   "execution_count": null,
   "metadata": {},
   "outputs": [],
   "source": [
    "example_client.files.download_file()"
   ]
  },
  {
   "cell_type": "code",
   "execution_count": null,
   "metadata": {},
   "outputs": [
    {
     "name": "stdout",
     "output_type": "stream",
     "text": [
      "GET sent to: https://hub-beta.demo.alteryx.com/api/v1/files/content?id=cd68ff45-fc21-4a32-b2e9-8d5b85881b7e\n",
      "with headers: {'User-Agent': 'python-requests/2.23.0', 'Accept-Encoding': 'gzip,deflate', 'Accept': '*/*', 'Connection': 'keep-alive', 'Content-Type': 'application/json', 'Accept-Language': 'en-US,en;q=0.5', 'Cookie': 'ayxSession=s%3A44afbe59-8af5-4917-8290-ec987d0a1e56.TEd0guEXnm%2FCfQMTtkJw8g1WvWbobeFi%2FfkXcO4dvuo'}\n",
      "Response Status: 200\n",
      "GET sent to: https://hub-beta.demo.alteryx.com/api/v1/files/content?id=8d346ce1-98b7-4729-a2d4-312fe980a861\n",
      "with headers: {'User-Agent': 'python-requests/2.23.0', 'Accept-Encoding': 'gzip,deflate', 'Accept': '*/*', 'Connection': 'keep-alive', 'Content-Type': 'application/json', 'Accept-Language': 'en-US,en;q=0.5', 'Cookie': 'ayxSession=s%3A44afbe59-8af5-4917-8290-ec987d0a1e56.TEd0guEXnm%2FCfQMTtkJw8g1WvWbobeFi%2FfkXcO4dvuo'}\n",
      "Response Status: 200\n"
     ]
    }
   ],
   "source": [
    "files = example_client.files\n",
    "\n",
    "response_a = files.download_file(file_uuid=file_a_uuid,\n",
    "                               download_path=f\"example_downloads/file_a.yxmd\")\n",
    "\n",
    "response_b = files.download_file(file_uuid=file_b_uuid,\n",
    "                               download_path=f\"example_downloads/file_b.yxmd\")"
   ]
  },
  {
   "cell_type": "markdown",
   "metadata": {},
   "source": [
    "### Trigger Workflows and Fetch Results"
   ]
  },
  {
   "cell_type": "code",
   "execution_count": null,
   "metadata": {},
   "outputs": [],
   "source": []
  }
 ],
 "metadata": {
  "kernelspec": {
   "display_name": "Python 3",
   "language": "python",
   "name": "python3"
  }
 },
 "nbformat": 4,
 "nbformat_minor": 4
}
