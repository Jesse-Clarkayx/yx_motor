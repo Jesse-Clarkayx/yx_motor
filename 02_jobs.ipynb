{
 "cells": [
  {
   "cell_type": "code",
   "execution_count": null,
   "metadata": {},
   "outputs": [],
   "source": [
    "# default_exp jobs"
   ]
  },
  {
   "cell_type": "markdown",
   "metadata": {},
   "source": [
    "# jobs\n",
    "> Handles tracking and managing jobs on server."
   ]
  },
  {
   "cell_type": "code",
   "execution_count": null,
   "metadata": {},
   "outputs": [],
   "source": [
    "# export\n",
    "from yx_motor.api import API\n",
    "\n",
    "\n",
    "class Jobs:\n",
    "    \"Class for tracking and managing jobs\"\n",
    "\n",
    "    def __init__(self, api: API):\n",
    "        self.api = api\n",
    "        self.base_endpoint = \"jobs/\"\n",
    "        self.cancel_endpoint = \"/cancel\"\n",
    "        self.log_endpoint = \"/logs\"\n",
    "\n",
    "    def get_job(self, job_id: str = \"\", params=None):\n",
    "        response = self.api.get(url=f\"{self.base_endpoint}{job_id}\", params=params)\n",
    "        return response\n",
    "\n",
    "    def get_log(self, job_id: str):\n",
    "        response = self.api.get(url=f\"{self.base_endpoint}{job_id}{self.log_endpoint}\")\n",
    "        return response\n",
    "\n",
    "    def cancel_job(self, job_id: str):\n",
    "        response = self.api.post(\n",
    "            url=f\"{self.base_endpoint}{job_id}{self.cancel_endpoint}\"\n",
    "        )\n",
    "        return response"
   ]
  },
  {
   "cell_type": "code",
   "execution_count": null,
   "metadata": {},
   "outputs": [
    {
     "name": "stdout",
     "output_type": "stream",
     "text": [
      "POST sent to: https://test.aep-mono.devops.alteryx.com/api/v1/authenticate/\n",
      "with headers: {'User-Agent': 'python-requests/2.23.0', 'Accept-Encoding': 'gzip,deflate', 'Accept': '*/*', 'Connection': 'keep-alive', 'Content-Type': 'application/json', 'Accept-Language': 'en-US,en;q=0.5', 'Content-Length': '60'}\n",
      "Response Status: 200\n"
     ]
    }
   ],
   "source": [
    "#hide\n",
    "\n",
    "# Integration Test Scaffolding\n",
    "\n",
    "# just removing the insecure warning for now\n",
    "# TODO: Secure requests and remove this code\n",
    "\n",
    "import urllib3\n",
    "urllib3.disable_warnings(urllib3.exceptions.InsecureRequestWarning)\n",
    "\n",
    "from yx_motor.client import Client\n",
    "from private import server_vars\n",
    "\n",
    "base_url = server_vars['base_url']\n",
    "login_email = server_vars['login_email']\n",
    "login_pwd = server_vars['login_pwd']\n",
    "example_client = Client(base_url,\n",
    "                        login_email,\n",
    "                        login_pwd)\n",
    "\n",
    "jobs = Jobs(example_client.api)"
   ]
  },
  {
   "cell_type": "code",
   "execution_count": null,
   "metadata": {},
   "outputs": [],
   "source": [
    "#hide\n",
    "\n",
    "#Integration Test Scaffolding\n",
    "\n",
    "example_job_id = jobs.get_job().json()['jobs'][0]['jobId']"
   ]
  },
  {
   "cell_type": "code",
   "execution_count": null,
   "metadata": {},
   "outputs": [
    {
     "name": "stdout",
     "output_type": "stream",
     "text": [
      "Converted 01_client.ipynb.\n",
      "Converted 02_jobs.ipynb.\n",
      "Converted 03_api.ipynb.\n",
      "Converted 04_authenticate.ipynb.\n",
      "Converted 05_files.ipynb.\n",
      "Converted 06_workflows.ipynb.\n",
      "Converted index.ipynb.\n"
     ]
    }
   ],
   "source": [
    "#hide\n",
    "from nbdev.export import *\n",
    "notebook2script()"
   ]
  },
  {
   "cell_type": "code",
   "execution_count": null,
   "metadata": {},
   "outputs": [],
   "source": [
    "#hide\n",
    "from nbdev.sync import *\n",
    "script2notebook()"
   ]
  },
  {
   "cell_type": "code",
   "execution_count": null,
   "metadata": {},
   "outputs": [],
   "source": [
    "#hide\n",
    "from unittest.mock import Mock\n",
    "from yx_motor.job_mocks import get_job_noargs_response"
   ]
  },
  {
   "cell_type": "code",
   "execution_count": null,
   "metadata": {},
   "outputs": [
    {
     "data": {
      "text/markdown": [
       "<h4 id=\"Jobs.get_job\" class=\"doc_header\"><code>Jobs.get_job</code><a href=\"__main__.py#L14\" class=\"source_link\" style=\"float:right\">[source]</a></h4>\n",
       "\n",
       "> <code>Jobs.get_job</code>(**`job_id`**:`str`=*`''`*)\n",
       "\n"
      ],
      "text/plain": [
       "<IPython.core.display.Markdown object>"
      ]
     },
     "metadata": {},
     "output_type": "display_data"
    }
   ],
   "source": [
    "from nbdev.showdoc import *\n",
    "show_doc(Jobs.get_job)"
   ]
  },
  {
   "cell_type": "markdown",
   "metadata": {},
   "source": [
    "Fetch all jobs for the authenticated user, or optionally a specific job if job_id is passed.\n",
    "\n",
    "**Arguments**:\n",
    "- job_id (Optional): The unique identifier for an AAH job.  If no job_id is passed, all jobs for the user will be returned."
   ]
  },
  {
   "cell_type": "code",
   "execution_count": null,
   "metadata": {},
   "outputs": [],
   "source": [
    "#hide\n",
    "\n",
    "#Unit test code\n",
    "\n",
    "api = Mock()\n",
    "api.get = Mock()\n",
    "api.get.return_value = Mock()\n",
    "api.get().json.return_value = get_job_noargs_response"
   ]
  },
  {
   "cell_type": "markdown",
   "metadata": {},
   "source": [
    "Jobs object is intended to be initialized within the client object which passes it an API object. Note that we are doing this for unit test and example purposes"
   ]
  },
  {
   "cell_type": "code",
   "execution_count": null,
   "metadata": {},
   "outputs": [],
   "source": [
    "jobs = Jobs(api)"
   ]
  },
  {
   "cell_type": "markdown",
   "metadata": {},
   "source": [
    "#### Fetch All Jobs for Current User"
   ]
  },
  {
   "cell_type": "markdown",
   "metadata": {},
   "source": [
    "First, let's call the get_job method without a job_id passed to it.  This will return all jobs for a given user."
   ]
  },
  {
   "cell_type": "code",
   "execution_count": null,
   "metadata": {},
   "outputs": [
    {
     "name": "stdout",
     "output_type": "stream",
     "text": [
      "GET sent to: https://test.aep-mono.devops.alteryx.com/api/v1/jobs/\n",
      "with headers: {'User-Agent': 'python-requests/2.23.0', 'Accept-Encoding': 'gzip,deflate', 'Accept': '*/*', 'Connection': 'keep-alive', 'Content-Type': 'application/json', 'Accept-Language': 'en-US,en;q=0.5', 'Cookie': 'ayxSession=s%3Ad11557f7-e9b1-4bff-b881-6db10120c31e.JOuyBVy9PwXUTe%2Fd%2BNj07blgt4R2stkAyqzxgvWPom0'}\n",
      "Response Status: 200\n"
     ]
    },
    {
     "data": {
      "text/plain": [
       "{'jobs': [{'jobId': 'fd0c2e1b-30cd-4567-a2f9-8ea2c4d28679',\n",
       "   'workerId': '3b0d8827-c3a9-4e1d-ba77-304d339c71a6',\n",
       "   'scheduleId': '9b60e020-1f81-4d8f-aae0-e54bdb3d5a92',\n",
       "   'executionOrdinal': 1,\n",
       "   'queuedDate': '2020-04-29T19:40:56.806Z',\n",
       "   'scheduledStartDate': '2020-04-29T19:40:56.806Z',\n",
       "   'actualStartDate': '2020-04-29T19:40:59.237Z',\n",
       "   'completionDate': '2020-04-29T19:41:15.966Z',\n",
       "   'runTime': 17,\n",
       "   'status': 'completed',\n",
       "   'result': 'success',\n",
       "   'siteId': 'bdf81e7c-90ef-4a78-beb5-56bf3f6189fa',\n",
       "   'creationDate': '2020-04-29T19:40:56.798Z',\n",
       "   'lastUpdate': '2020-04-29T19:41:15.914Z',\n",
       "   'assetVersion': 1,\n",
       "   'retryCount': 0,\n",
       "   'notes': None,\n",
       "   'priority': 100,\n",
       "   'jobNo': 33,\n",
       "   'runStatus': 'completed',\n",
       "   'name': 'New%20Workflow4.yxzp',\n",
       "   'userId': '8a8c0f7f-c48f-4b41-bb23-e0b3e69111a9',\n",
       "   'assetId': '1b6e8946-74dd-4845-a31f-e3d9c3f85545',\n",
       "   'type': 'validation',\n",
       "   'frequencyInterval': 'manual',\n",
       "   'outputs': []},\n",
       "  {'jobId': '8e4d620e-b604-48b9-9ea4-1ee553ae0b78',\n",
       "   'workerId': '3b0d8827-c3a9-4e1d-ba77-304d339c71a6',\n",
       "   'scheduleId': 'acc080b8-85f2-4444-a8d6-0a45efaed09e',\n",
       "   'executionOrdinal': 1,\n",
       "   'queuedDate': '2020-04-29T20:58:38.081Z',\n",
       "   'scheduledStartDate': '2020-04-29T20:58:38.081Z',\n",
       "   'actualStartDate': '2020-04-29T20:58:39.049Z',\n",
       "   'completionDate': '2020-04-29T20:58:40.550Z',\n",
       "   'runTime': 2,\n",
       "   'status': 'completed',\n",
       "   'result': 'success',\n",
       "   'siteId': 'bdf81e7c-90ef-4a78-beb5-56bf3f6189fa',\n",
       "   'creationDate': '2020-04-29T20:58:37.993Z',\n",
       "   'lastUpdate': '2020-04-29T20:58:40.485Z',\n",
       "   'assetVersion': 1,\n",
       "   'retryCount': 0,\n",
       "   'notes': None,\n",
       "   'priority': 50,\n",
       "   'jobNo': 37,\n",
       "   'runStatus': 'completed',\n",
       "   'name': 'Job name',\n",
       "   'userId': '244d1d37-1438-4846-aa5d-ba0a58c4eccf',\n",
       "   'assetId': '238209fc-a13a-4469-97b5-5dd47e4461a3',\n",
       "   'type': 'immediate',\n",
       "   'frequencyInterval': 'manual',\n",
       "   'outputs': [{'fileName': 'states.csv',\n",
       "     'assetId': 'ead6e7c4-cfb9-4dec-a8b6-9b023989991a',\n",
       "     'version': 2,\n",
       "     'permissions': ['CREATE', 'DELETE', 'DOWNLOAD', 'EDIT', 'OWNER', 'VIEW'],\n",
       "     'breadcrumbs': ['users', 'siteadmin1', 'states.csv']}]},\n",
       "  {'jobId': 'c4ec3a86-b621-4ae8-bfb1-7e8dc286fa69',\n",
       "   'workerId': '3b0d8827-c3a9-4e1d-ba77-304d339c71a6',\n",
       "   'scheduleId': '6dc6cb3c-6156-4bcf-8930-5b8aef7b56f9',\n",
       "   'executionOrdinal': 1,\n",
       "   'queuedDate': '2020-04-29T20:58:28.914Z',\n",
       "   'scheduledStartDate': '2020-04-29T20:58:28.914Z',\n",
       "   'actualStartDate': '2020-04-29T20:58:30.805Z',\n",
       "   'completionDate': '2020-04-29T20:58:32.583Z',\n",
       "   'runTime': 2,\n",
       "   'status': 'completed',\n",
       "   'result': 'success',\n",
       "   'siteId': 'bdf81e7c-90ef-4a78-beb5-56bf3f6189fa',\n",
       "   'creationDate': '2020-04-29T20:58:28.848Z',\n",
       "   'lastUpdate': '2020-04-29T20:58:32.517Z',\n",
       "   'assetVersion': 1,\n",
       "   'retryCount': 0,\n",
       "   'notes': None,\n",
       "   'priority': 50,\n",
       "   'jobNo': 36,\n",
       "   'runStatus': 'completed',\n",
       "   'name': 'Schedule',\n",
       "   'userId': '244d1d37-1438-4846-aa5d-ba0a58c4eccf',\n",
       "   'assetId': '238209fc-a13a-4469-97b5-5dd47e4461a3',\n",
       "   'type': 'once',\n",
       "   'frequencyInterval': 'once',\n",
       "   'outputs': [{'fileName': 'states.csv',\n",
       "     'assetId': 'ead6e7c4-cfb9-4dec-a8b6-9b023989991a',\n",
       "     'version': 1,\n",
       "     'permissions': ['CREATE', 'DELETE', 'DOWNLOAD', 'EDIT', 'OWNER', 'VIEW'],\n",
       "     'breadcrumbs': ['users', 'siteadmin1', 'states.csv']}]},\n",
       "  {'jobId': 'b3645834-1fd1-4f99-891b-d74330418f6b',\n",
       "   'workerId': '3b0d8827-c3a9-4e1d-ba77-304d339c71a6',\n",
       "   'scheduleId': 'a04a7ede-112c-4658-bfee-e0bb767972ff',\n",
       "   'executionOrdinal': 1,\n",
       "   'queuedDate': '2020-04-29T12:38:47.115Z',\n",
       "   'scheduledStartDate': '2020-04-29T12:38:47.115Z',\n",
       "   'actualStartDate': '2020-04-29T12:38:49.031Z',\n",
       "   'completionDate': '2020-04-29T12:40:30.936Z',\n",
       "   'runTime': 102,\n",
       "   'status': 'completed',\n",
       "   'result': 'success',\n",
       "   'siteId': 'bdf81e7c-90ef-4a78-beb5-56bf3f6189fa',\n",
       "   'creationDate': '2020-04-29T12:38:47.106Z',\n",
       "   'lastUpdate': '2020-04-29T12:40:30.918Z',\n",
       "   'assetVersion': 1,\n",
       "   'retryCount': 0,\n",
       "   'notes': None,\n",
       "   'priority': 50,\n",
       "   'jobNo': 4,\n",
       "   'runStatus': 'completed',\n",
       "   'name': 'oracle_loader.yxzp',\n",
       "   'userId': '244d1d37-1438-4846-aa5d-ba0a58c4eccf',\n",
       "   'assetId': '0ad2b873-3bbc-4d07-85ba-9319d4dcef9f',\n",
       "   'type': 'immediate',\n",
       "   'frequencyInterval': 'manual',\n",
       "   'outputs': []},\n",
       "  {'jobId': 'dc53cb46-563b-45c4-81e8-54e895d9d990',\n",
       "   'workerId': '3b0d8827-c3a9-4e1d-ba77-304d339c71a6',\n",
       "   'scheduleId': 'eadd2025-1b02-4711-8801-33f215511d5b',\n",
       "   'executionOrdinal': 1,\n",
       "   'queuedDate': '2020-04-29T12:37:03.860Z',\n",
       "   'scheduledStartDate': '2020-04-29T12:37:03.860Z',\n",
       "   'actualStartDate': None,\n",
       "   'completionDate': None,\n",
       "   'runTime': None,\n",
       "   'status': 'running',\n",
       "   'result': 'unknown',\n",
       "   'siteId': 'bdf81e7c-90ef-4a78-beb5-56bf3f6189fa',\n",
       "   'creationDate': '2020-04-29T12:37:03.857Z',\n",
       "   'lastUpdate': '2020-04-29T12:37:04.397Z',\n",
       "   'assetVersion': 1,\n",
       "   'retryCount': 0,\n",
       "   'notes': None,\n",
       "   'priority': 50,\n",
       "   'jobNo': 3,\n",
       "   'runStatus': 'running',\n",
       "   'name': 'files_loader.yxzp',\n",
       "   'userId': '244d1d37-1438-4846-aa5d-ba0a58c4eccf',\n",
       "   'assetId': 'b05c1b14-e4dd-4d8d-a264-9cb8094b3bac',\n",
       "   'type': 'immediate',\n",
       "   'frequencyInterval': 'manual',\n",
       "   'outputs': []},\n",
       "  {'jobId': '2e3f1622-a872-4a4d-9b26-417dc75c1682',\n",
       "   'workerId': '3b0d8827-c3a9-4e1d-ba77-304d339c71a6',\n",
       "   'scheduleId': '3be25172-1aff-4472-bb96-cd4204f60db7',\n",
       "   'executionOrdinal': 1,\n",
       "   'queuedDate': '2020-04-29T10:18:27.041Z',\n",
       "   'scheduledStartDate': '2020-04-29T10:18:27.041Z',\n",
       "   'actualStartDate': '2020-04-29T10:18:29.216Z',\n",
       "   'completionDate': '2020-04-29T10:18:39.931Z',\n",
       "   'runTime': 11,\n",
       "   'status': 'completed',\n",
       "   'result': 'success',\n",
       "   'siteId': 'bdf81e7c-90ef-4a78-beb5-56bf3f6189fa',\n",
       "   'creationDate': '2020-04-29T10:18:27.027Z',\n",
       "   'lastUpdate': '2020-04-29T10:18:39.898Z',\n",
       "   'assetVersion': 1,\n",
       "   'retryCount': 0,\n",
       "   'notes': None,\n",
       "   'priority': 50,\n",
       "   'jobNo': 1,\n",
       "   'runStatus': 'completed',\n",
       "   'name': 'SeededOracleWorkflow.yxmd',\n",
       "   'userId': '244d1d37-1438-4846-aa5d-ba0a58c4eccf',\n",
       "   'assetId': '80073ef5-07d8-4d1a-8e08-71da19c6baf5',\n",
       "   'type': 'once',\n",
       "   'frequencyInterval': 'once',\n",
       "   'outputs': [{'fileName': 'simple_question_outputs.csv',\n",
       "     'assetId': '8daa137b-0fd7-4486-9bca-2a8fbd2c683c',\n",
       "     'version': 1,\n",
       "     'permissions': ['CREATE', 'DELETE', 'DOWNLOAD', 'EDIT', 'OWNER', 'VIEW'],\n",
       "     'breadcrumbs': ['users', 'siteadmin1', 'simple_question_outputs.csv']}]},\n",
       "  {'jobId': '12c95584-d059-4011-a8c7-37a665181541',\n",
       "   'workerId': '3b0d8827-c3a9-4e1d-ba77-304d339c71a6',\n",
       "   'scheduleId': 'daec4333-ed41-438e-bce4-2ca2a5bd26aa',\n",
       "   'executionOrdinal': 1,\n",
       "   'queuedDate': '2020-04-29T12:23:45.911Z',\n",
       "   'scheduledStartDate': '2020-04-29T12:23:45.911Z',\n",
       "   'actualStartDate': '2020-04-29T12:23:47.115Z',\n",
       "   'completionDate': '2020-04-29T12:24:18.585Z',\n",
       "   'runTime': 31,\n",
       "   'status': 'completed',\n",
       "   'result': 'success',\n",
       "   'siteId': 'bdf81e7c-90ef-4a78-beb5-56bf3f6189fa',\n",
       "   'creationDate': '2020-04-29T12:23:45.902Z',\n",
       "   'lastUpdate': '2020-04-29T12:24:18.559Z',\n",
       "   'assetVersion': 1,\n",
       "   'retryCount': 0,\n",
       "   'notes': None,\n",
       "   'priority': 50,\n",
       "   'jobNo': 2,\n",
       "   'runStatus': 'completed',\n",
       "   'name': 'MillionsOfRows.yxmd',\n",
       "   'userId': '09014d3f-7f84-4752-bb3f-d750b670f500',\n",
       "   'assetId': 'f4d8dc05-fbe9-410e-961d-f1067d528c3b',\n",
       "   'type': 'immediate',\n",
       "   'frequencyInterval': 'manual',\n",
       "   'outputs': [{'fileName': 'output.yxdb',\n",
       "     'assetId': '4960bc5c-1cbe-4035-a7cf-a1133c5d5c3e',\n",
       "     'version': 1,\n",
       "     'permissions': ['CREATE', 'DELETE', 'DOWNLOAD', 'EDIT', 'OWNER', 'VIEW'],\n",
       "     'breadcrumbs': ['users', 'contributor1', 'output.yxdb']}]},\n",
       "  {'jobId': 'ecc00ea9-6ca6-469a-ade0-a1d4b7ddb06f',\n",
       "   'workerId': '3b0d8827-c3a9-4e1d-ba77-304d339c71a6',\n",
       "   'scheduleId': '44f63435-bb60-4b83-a15b-5455d3c8ebba',\n",
       "   'executionOrdinal': 1,\n",
       "   'queuedDate': '2020-04-29T13:54:54.191Z',\n",
       "   'scheduledStartDate': '2020-04-29T13:54:54.191Z',\n",
       "   'actualStartDate': '2020-04-29T13:54:55.779Z',\n",
       "   'completionDate': '2020-04-29T13:54:56.097Z',\n",
       "   'runTime': 0,\n",
       "   'status': 'completed',\n",
       "   'result': 'error',\n",
       "   'siteId': 'bdf81e7c-90ef-4a78-beb5-56bf3f6189fa',\n",
       "   'creationDate': '2020-04-29T13:54:54.181Z',\n",
       "   'lastUpdate': '2020-04-29T13:54:56.079Z',\n",
       "   'assetVersion': 2,\n",
       "   'retryCount': 0,\n",
       "   'notes': None,\n",
       "   'priority': 100,\n",
       "   'jobNo': 10,\n",
       "   'runStatus': 'error',\n",
       "   'name': 'MillionsOfRows.yxmd',\n",
       "   'userId': '5cf0579c-0da4-4b83-86fc-eb4b37aa62e8',\n",
       "   'assetId': 'f32951fe-1526-46a1-b308-363ca3162c15',\n",
       "   'type': 'validation',\n",
       "   'frequencyInterval': 'manual',\n",
       "   'outputs': []},\n",
       "  {'jobId': '17becb0f-8052-4cce-b732-8e5dcc3f4938',\n",
       "   'workerId': '3b0d8827-c3a9-4e1d-ba77-304d339c71a6',\n",
       "   'scheduleId': 'e322cdae-06b8-4b6b-9c23-f5de60736822',\n",
       "   'executionOrdinal': 1,\n",
       "   'queuedDate': '2020-04-29T13:54:43.378Z',\n",
       "   'scheduledStartDate': '2020-04-29T13:54:43.378Z',\n",
       "   'actualStartDate': '2020-04-29T13:54:43.628Z',\n",
       "   'completionDate': '2020-04-29T13:54:43.878Z',\n",
       "   'runTime': 0,\n",
       "   'status': 'completed',\n",
       "   'result': 'success',\n",
       "   'siteId': 'bdf81e7c-90ef-4a78-beb5-56bf3f6189fa',\n",
       "   'creationDate': '2020-04-29T13:54:43.356Z',\n",
       "   'lastUpdate': '2020-04-29T13:54:43.855Z',\n",
       "   'assetVersion': 1,\n",
       "   'retryCount': 0,\n",
       "   'notes': None,\n",
       "   'priority': 100,\n",
       "   'jobNo': 9,\n",
       "   'runStatus': 'completed',\n",
       "   'name': 'MillionsOfRows.yxmd',\n",
       "   'userId': '5cf0579c-0da4-4b83-86fc-eb4b37aa62e8',\n",
       "   'assetId': 'f32951fe-1526-46a1-b308-363ca3162c15',\n",
       "   'type': 'validation',\n",
       "   'frequencyInterval': 'manual',\n",
       "   'outputs': []},\n",
       "  {'jobId': 'f73dd01f-c778-4c25-af09-5bb01fbb40fb',\n",
       "   'workerId': '3b0d8827-c3a9-4e1d-ba77-304d339c71a6',\n",
       "   'scheduleId': '79125d2a-c2e4-41ca-8b03-e3ab880e5609',\n",
       "   'executionOrdinal': 1,\n",
       "   'queuedDate': '2020-04-29T19:58:29.686Z',\n",
       "   'scheduledStartDate': '2020-04-29T19:58:29.686Z',\n",
       "   'actualStartDate': '2020-04-29T19:58:32.056Z',\n",
       "   'completionDate': '2020-04-29T19:58:34.280Z',\n",
       "   'runTime': 2,\n",
       "   'status': 'completed',\n",
       "   'result': 'error',\n",
       "   'siteId': 'bdf81e7c-90ef-4a78-beb5-56bf3f6189fa',\n",
       "   'creationDate': '2020-04-29T19:58:29.502Z',\n",
       "   'lastUpdate': '2020-04-29T19:58:34.167Z',\n",
       "   'assetVersion': 1,\n",
       "   'retryCount': 0,\n",
       "   'notes': None,\n",
       "   'priority': 100,\n",
       "   'jobNo': 34,\n",
       "   'runStatus': 'error',\n",
       "   'name': 'COUNTRIES%20%2813%29.yxmd',\n",
       "   'userId': '8a8c0f7f-c48f-4b41-bb23-e0b3e69111a9',\n",
       "   'assetId': 'b9b18165-7403-4dd8-ab25-1750a1884d64',\n",
       "   'type': 'validation',\n",
       "   'frequencyInterval': 'manual',\n",
       "   'outputs': []}],\n",
       " 'offset': 0,\n",
       " 'limit': 10,\n",
       " 'total': 29}"
      ]
     },
     "execution_count": null,
     "metadata": {},
     "output_type": "execute_result"
    }
   ],
   "source": [
    "response = jobs.get_job()\n",
    "response.json()"
   ]
  },
  {
   "cell_type": "code",
   "execution_count": null,
   "metadata": {},
   "outputs": [],
   "source": [
    "#hide\n",
    "assert response.json() == get_job_noargs_response"
   ]
  },
  {
   "cell_type": "markdown",
   "metadata": {},
   "source": [
    "#### Fetch a Single Job by Job_Id"
   ]
  },
  {
   "cell_type": "code",
   "execution_count": null,
   "metadata": {},
   "outputs": [
    {
     "name": "stdout",
     "output_type": "stream",
     "text": [
      "GET sent to: https://test.aep-mono.devops.alteryx.com/api/v1/jobs/fd0c2e1b-30cd-4567-a2f9-8ea2c4d28679\n",
      "with headers: {'User-Agent': 'python-requests/2.23.0', 'Accept-Encoding': 'gzip,deflate', 'Accept': '*/*', 'Connection': 'keep-alive', 'Content-Type': 'application/json', 'Accept-Language': 'en-US,en;q=0.5', 'Cookie': 'ayxSession=s%3Ad11557f7-e9b1-4bff-b881-6db10120c31e.JOuyBVy9PwXUTe%2Fd%2BNj07blgt4R2stkAyqzxgvWPom0'}\n",
      "Response Status: 200\n"
     ]
    }
   ],
   "source": [
    "response = jobs.get_job(job_id=example_job_id)"
   ]
  },
  {
   "cell_type": "code",
   "execution_count": null,
   "metadata": {},
   "outputs": [
    {
     "data": {
      "text/plain": [
       "{'jobId': 'fd0c2e1b-30cd-4567-a2f9-8ea2c4d28679',\n",
       " 'workerId': '3b0d8827-c3a9-4e1d-ba77-304d339c71a6',\n",
       " 'scheduleId': '9b60e020-1f81-4d8f-aae0-e54bdb3d5a92',\n",
       " 'executionOrdinal': 1,\n",
       " 'queuedDate': '2020-04-29T19:40:56.806Z',\n",
       " 'scheduledStartDate': '2020-04-29T19:40:56.806Z',\n",
       " 'actualStartDate': '2020-04-29T19:40:59.237Z',\n",
       " 'completionDate': '2020-04-29T19:41:15.966Z',\n",
       " 'runTime': 17,\n",
       " 'status': 'completed',\n",
       " 'result': 'success',\n",
       " 'siteId': 'bdf81e7c-90ef-4a78-beb5-56bf3f6189fa',\n",
       " 'creationDate': '2020-04-29T19:40:56.798Z',\n",
       " 'lastUpdate': '2020-04-29T19:41:15.914Z',\n",
       " 'assetVersion': 1,\n",
       " 'retryCount': 0,\n",
       " 'notes': None,\n",
       " 'priority': 100,\n",
       " 'jobNo': 33,\n",
       " 'runStatus': 'completed',\n",
       " 'name': 'New%20Workflow4.yxzp',\n",
       " 'userId': '8a8c0f7f-c48f-4b41-bb23-e0b3e69111a9',\n",
       " 'assetId': '1b6e8946-74dd-4845-a31f-e3d9c3f85545',\n",
       " 'type': 'validation',\n",
       " 'frequencyInterval': 'manual',\n",
       " 'outputs': []}"
      ]
     },
     "execution_count": null,
     "metadata": {},
     "output_type": "execute_result"
    }
   ],
   "source": [
    "response.json()"
   ]
  },
  {
   "cell_type": "code",
   "execution_count": null,
   "metadata": {},
   "outputs": [
    {
     "data": {
      "text/markdown": [
       "<h4 id=\"Jobs.get_log\" class=\"doc_header\"><code>Jobs.get_log</code><a href=\"__main__.py#L18\" class=\"source_link\" style=\"float:right\">[source]</a></h4>\n",
       "\n",
       "> <code>Jobs.get_log</code>(**`job_id`**:`str`)\n",
       "\n"
      ],
      "text/plain": [
       "<IPython.core.display.Markdown object>"
      ]
     },
     "metadata": {},
     "output_type": "display_data"
    }
   ],
   "source": [
    "from nbdev.showdoc import *\n",
    "show_doc(Jobs.get_log)"
   ]
  },
  {
   "cell_type": "markdown",
   "metadata": {},
   "source": [
    "Fetch log for a given job_id.\n",
    "\n",
    "**Arguments**:\n",
    "- job_id: The unique identifier for an AAH job."
   ]
  },
  {
   "cell_type": "markdown",
   "metadata": {},
   "source": [
    "#### Get the Log for a Job"
   ]
  },
  {
   "cell_type": "code",
   "execution_count": null,
   "metadata": {},
   "outputs": [],
   "source": [
    "jobs = Jobs(example_client.api)"
   ]
  },
  {
   "cell_type": "code",
   "execution_count": null,
   "metadata": {},
   "outputs": [
    {
     "name": "stdout",
     "output_type": "stream",
     "text": [
      "GET sent to: https://test.aep-mono.devops.alteryx.com/api/v1/jobs/fd0c2e1b-30cd-4567-a2f9-8ea2c4d28679/logs\n",
      "with headers: {'User-Agent': 'python-requests/2.23.0', 'Accept-Encoding': 'gzip,deflate', 'Accept': '*/*', 'Connection': 'keep-alive', 'Content-Type': 'application/json', 'Accept-Language': 'en-US,en;q=0.5', 'Cookie': 'ayxSession=s%3Ad11557f7-e9b1-4bff-b881-6db10120c31e.JOuyBVy9PwXUTe%2Fd%2BNj07blgt4R2stkAyqzxgvWPom0'}\n",
      "Response Status: 200\n"
     ]
    }
   ],
   "source": [
    "response = jobs.get_log(job_id=example_job_id)"
   ]
  },
  {
   "cell_type": "code",
   "execution_count": null,
   "metadata": {},
   "outputs": [
    {
     "data": {
      "text/plain": [
       "{'jobId': 'fd0c2e1b-30cd-4567-a2f9-8ea2c4d28679',\n",
       " 'name': 'New%20Workflow4.yxzp',\n",
       " 'entries': [{'toolId': '-',\n",
       "   'logType': 'worker',\n",
       "   'details': 'Retrieved file New%20Workflow4.yxzp'},\n",
       "  {'toolId': '-', 'logType': 'worker', 'details': 'Engine run started'},\n",
       "  {'toolId': '1',\n",
       "   'logType': '8',\n",
       "   'details': '_externals\\\\1\\\\% complete calculation.xlsx; 0 records were read from \"_externals\\\\1\\\\% complete calculation.xlsx\" (`Sheet1$`) (limit reached)'},\n",
       "  {'toolId': '-',\n",
       "   'logType': 'worker',\n",
       "   'details': 'Engine run finished in 16.61 seconds'}],\n",
       " 'completionDate': '2020-04-29T19:41:15.966Z'}"
      ]
     },
     "execution_count": null,
     "metadata": {},
     "output_type": "execute_result"
    }
   ],
   "source": [
    "response.json()"
   ]
  },
  {
   "cell_type": "code",
   "execution_count": null,
   "metadata": {},
   "outputs": [
    {
     "data": {
      "text/markdown": [
       "<h4 id=\"Jobs.cancel_job\" class=\"doc_header\"><code>Jobs.cancel_job</code><a href=\"__main__.py#L22\" class=\"source_link\" style=\"float:right\">[source]</a></h4>\n",
       "\n",
       "> <code>Jobs.cancel_job</code>(**`job_id`**:`str`)\n",
       "\n"
      ],
      "text/plain": [
       "<IPython.core.display.Markdown object>"
      ]
     },
     "metadata": {},
     "output_type": "display_data"
    }
   ],
   "source": [
    "from nbdev.showdoc import *\n",
    "show_doc(Jobs.cancel_job)"
   ]
  },
  {
   "cell_type": "markdown",
   "metadata": {},
   "source": [
    "Cancel a running job with the given job_id.\n",
    "\n",
    "**Arguments**:\n",
    "\n",
    "- job_id: Unique identifier for the job you'd like to cancel.  "
   ]
  },
  {
   "cell_type": "code",
   "execution_count": null,
   "metadata": {},
   "outputs": [],
   "source": [
    "#hide\n",
    "\n",
    "#TODO: Need to get the workflows api code in here for integration tests,\n",
    "# to allow for executing a workflow, fetching the job id and then cancelling\n",
    "# the job."
   ]
  },
  {
   "cell_type": "markdown",
   "metadata": {},
   "source": [
    "#### Cancel a Running Job"
   ]
  },
  {
   "cell_type": "code",
   "execution_count": null,
   "metadata": {},
   "outputs": [
    {
     "name": "stdout",
     "output_type": "stream",
     "text": [
      "GET sent to: https://test.aep-mono.devops.alteryx.com/api/v1/jobs/\n",
      "with headers: {'User-Agent': 'python-requests/2.23.0', 'Accept-Encoding': 'gzip,deflate', 'Accept': '*/*', 'Connection': 'keep-alive', 'Content-Type': 'application/json', 'Accept-Language': 'en-US,en;q=0.5', 'Cookie': 'ayxSession=s%3Ad11557f7-e9b1-4bff-b881-6db10120c31e.JOuyBVy9PwXUTe%2Fd%2BNj07blgt4R2stkAyqzxgvWPom0'}\n",
      "Response Status: 200\n",
      "GET sent to: https://test.aep-mono.devops.alteryx.com/api/v1/jobs/\n",
      "with headers: {'User-Agent': 'python-requests/2.23.0', 'Accept-Encoding': 'gzip,deflate', 'Accept': '*/*', 'Connection': 'keep-alive', 'Content-Type': 'application/json', 'Accept-Language': 'en-US,en;q=0.5', 'Cookie': 'ayxSession=s%3Ad11557f7-e9b1-4bff-b881-6db10120c31e.JOuyBVy9PwXUTe%2Fd%2BNj07blgt4R2stkAyqzxgvWPom0'}\n",
      "Response Status: 200\n",
      "running\n",
      "POST sent to: https://test.aep-mono.devops.alteryx.com/api/v1/jobs/ce7f61cf-fa68-46e3-9acd-d635873c12fc/cancel\n",
      "with headers: {'User-Agent': 'python-requests/2.23.0', 'Accept-Encoding': 'gzip,deflate', 'Accept': '*/*', 'Connection': 'keep-alive', 'Content-Type': 'application/json', 'Accept-Language': 'en-US,en;q=0.5', 'Cookie': 'ayxSession=s%3Ad11557f7-e9b1-4bff-b881-6db10120c31e.JOuyBVy9PwXUTe%2Fd%2BNj07blgt4R2stkAyqzxgvWPom0', 'Content-Length': '0'}\n",
      "Response Status: 204\n"
     ]
    }
   ],
   "source": [
    "# For demonstration purposes, I trigger a workflow on AAH which takes 30 \n",
    "# seconds to run.  I then run this code as soon as the job is kicked off, \n",
    "# to ensure I can cancel the job before it completes.\n",
    "\n",
    "running_job_id = jobs.get_job().json()['jobs'][0]['jobId']\n",
    "print(jobs.get_job().json()['jobs'][0]['status'])\n",
    "\n",
    "response = jobs.cancel_job(job_id=running_job_id)"
   ]
  },
  {
   "cell_type": "code",
   "execution_count": null,
   "metadata": {},
   "outputs": [
    {
     "data": {
      "text/plain": [
       "204"
      ]
     },
     "execution_count": null,
     "metadata": {},
     "output_type": "execute_result"
    }
   ],
   "source": [
    "response.status_code"
   ]
  }
 ],
 "metadata": {
  "kernelspec": {
   "display_name": "Python 3",
   "language": "python",
   "name": "python3"
  }
 },
 "nbformat": 4,
 "nbformat_minor": 4
}
