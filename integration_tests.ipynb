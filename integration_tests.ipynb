{
 "cells": [
  {
   "cell_type": "code",
   "execution_count": null,
   "metadata": {},
   "outputs": [],
   "source": [
    "# default_exp int_test_helpers"
   ]
  },
  {
   "cell_type": "markdown",
   "metadata": {},
   "source": [
    "# YX_Motor Integration Tests\n",
    "\n",
    "Only run these when you are able to connect to an actual Alteryx Analytics Hub test instance.  \n",
    "\n",
    "The creds for this instance are expected to be stored in a file called \"private.py\" stored in the local development directory."
   ]
  },
  {
   "cell_type": "markdown",
   "metadata": {},
   "source": [
    "## Setup and Client Tests"
   ]
  },
  {
   "cell_type": "code",
   "execution_count": null,
   "metadata": {},
   "outputs": [
    {
     "name": "stdout",
     "output_type": "stream",
     "text": [
      "POST sent to: https://ec2-44-234-86-100.us-west-2.compute.amazonaws.com/api/v1/authenticate/\n",
      "with headers: {'User-Agent': 'python-requests/2.23.0', 'Accept-Encoding': 'gzip,deflate', 'Accept': '*/*', 'Connection': 'keep-alive', 'Content-Type': 'application/json', 'Accept-Language': 'en-US,en;q=0.5', 'Content-Length': '57'}\n",
      "Response Status: 200\n"
     ]
    }
   ],
   "source": [
    "import urllib3\n",
    "urllib3.disable_warnings(urllib3.exceptions.InsecureRequestWarning)\n",
    "\n",
    "######################### Integration Test Scaffolding ############################\n",
    "from yx_motor.client import Client\n",
    "\n",
    "from private import server_vars\n",
    "\n",
    "base_url=server_vars['base_url']\n",
    "login_email = server_vars['login_email']\n",
    "login_pwd = server_vars['login_pwd']\n",
    "\n",
    "dev_client = Client(base_url=base_url,\n",
    "                    login_email=login_email,\n",
    "                    login_pwd=login_pwd)\n",
    "\n",
    "assert(dev_client.api.is_authenticated)"
   ]
  },
  {
   "cell_type": "markdown",
   "metadata": {},
   "source": [
    "## Jobs Integration Tests"
   ]
  },
  {
   "cell_type": "code",
   "execution_count": null,
   "metadata": {},
   "outputs": [
    {
     "name": "stdout",
     "output_type": "stream",
     "text": [
      "GET sent to: https://test.aep-mono.devops.alteryx.com/api/v1/jobs/337ce711-bdcf-4f33-a2f6-81c36a727c58/logs\n",
      "with headers: {'User-Agent': 'python-requests/2.23.0', 'Accept-Encoding': 'gzip,deflate', 'Accept': '*/*', 'Connection': 'keep-alive', 'Content-Type': 'application/json', 'Accept-Language': 'en-US,en;q=0.5', 'Cookie': 'ayxSession=s%3A704beafc-29ca-4668-a8fd-cbd7841ee1d4.40ZjMFl93ECXor7wdXaDK%2BJrdFpvL8ZdW8qhIq6ccfQ'}\n",
      "Response Status: 404\n"
     ]
    },
    {
     "data": {
      "text/plain": [
       "{'requestUuid': '4a94be12-4e46-406b-9ecd-16ae55d7f686',\n",
       " 'errors': [{'code': '',\n",
       "   'message': 'JobOrchestrator.getJobLogs() with args: [ { \"requestUuid\": \"4a94be12-4e46-406b-9ecd-16ae55d7f686\",\"auditEvents\": \"[  ]\",\"privateSession\": \"{ NESTED OBJECT }\",\"privateSiteId\": \"b976ae02-6539-45b8-8341-0b0dd57d3b42\",\"clientIp\": \"::ffff:192.168.62.74\" },\"337ce711-bdcf-4f33-a2f6-81c36a727c58\", { \"schema\": \"{ NESTED OBJECT }\",\"schemaErrorCode\": \"{ NESTED OBJECT }\",\"from\": 0,\"pageSize\": 10,\"sortBy\": \"[  ]\",\"filterStrategy\": \"AND\" }]',\n",
       "   'debugInfo': 'PlatformError: JobOrchestrator.getJobLogs() with args: [ { \"requestUuid\": \"4a94be12-4e46-406b-9ecd-16ae55d7f686\",\"auditEvents\": \"[  ]\",\"privateSession\": \"{ NESTED OBJECT }\",\"privateSiteId\": \"b976ae02-6539-45b8-8341-0b0dd57d3b42\",\"clientIp\": \"::ffff:192.168.62.74\" },\"337ce711-bdcf-4f33-a2f6-81c36a727c58\", { \"schema\": \"{ NESTED OBJECT }\",\"schemaErrorCode\": \"{ NESTED OBJECT }\",\"from\": 0,\"pageSize\": 10,\"sortBy\": \"[  ]\",\"filterStrategy\": \"AND\" }]\\n    at makeError (C:\\\\snapshot\\\\backend\\\\build\\\\core\\\\decorators\\\\try-catch.decorator.js)\\n    at Object.<anonymous> (C:\\\\snapshot\\\\backend\\\\build\\\\core\\\\decorators\\\\try-catch.decorator.js)\\n    at runMicrotasks (<anonymous>)\\n    at processTicksAndRejections (internal/process/task_queues.js:93:5)\\ncaused by: PlatformError: JobOrchestrator.getLogsAsset() with args: [ { \"requestUuid\": \"4a94be12-4e46-406b-9ecd-16ae55d7f686\",\"auditEvents\": \"[  ]\",\"privateSession\": \"{ NESTED OBJECT }\",\"privateSiteId\": \"b976ae02-6539-45b8-8341-0b0dd57d3b42\",\"clientIp\": \"::ffff:192.168.62.74\" },\"337ce711-bdcf-4f33-a2f6-81c36a727c58\"]\\n    at makeError (C:\\\\snapshot\\\\backend\\\\build\\\\core\\\\decorators\\\\try-catch.decorator.js)\\n    at Object.<anonymous> (C:\\\\snapshot\\\\backend\\\\build\\\\core\\\\decorators\\\\try-catch.decorator.js)\\n    at runMicrotasks (<anonymous>)\\n    at processTicksAndRejections (internal/process/task_queues.js:93:5)\\ncaused by: JobLogsNotFoundError: Logs for job 337ce711-bdcf-4f33-a2f6-81c36a727c58 not found\\n    at Object.getLogsAsset (C:\\\\snapshot\\\\backend\\\\build\\\\rest\\\\job\\\\job.orchestrator.js)\\n    at runMicrotasks (<anonymous>)\\n    at processTicksAndRejections (internal/process/task_queues.js:93:5)\\n    at async Object.<anonymous> (C:\\\\snapshot\\\\backend\\\\build\\\\core\\\\decorators\\\\try-catch.decorator.js)\\n    at async Object.getJobLogs (C:\\\\snapshot\\\\backend\\\\build\\\\rest\\\\job\\\\job.orchestrator.js)\\n    at async Object.<anonymous> (C:\\\\snapshot\\\\backend\\\\build\\\\core\\\\decorators\\\\try-catch.decorator.js)'},\n",
       "  {'code': '',\n",
       "   'message': 'JobOrchestrator.getLogsAsset() with args: [ { \"requestUuid\": \"4a94be12-4e46-406b-9ecd-16ae55d7f686\",\"auditEvents\": \"[  ]\",\"privateSession\": \"{ NESTED OBJECT }\",\"privateSiteId\": \"b976ae02-6539-45b8-8341-0b0dd57d3b42\",\"clientIp\": \"::ffff:192.168.62.74\" },\"337ce711-bdcf-4f33-a2f6-81c36a727c58\"]',\n",
       "   'debugInfo': 'PlatformError: JobOrchestrator.getLogsAsset() with args: [ { \"requestUuid\": \"4a94be12-4e46-406b-9ecd-16ae55d7f686\",\"auditEvents\": \"[  ]\",\"privateSession\": \"{ NESTED OBJECT }\",\"privateSiteId\": \"b976ae02-6539-45b8-8341-0b0dd57d3b42\",\"clientIp\": \"::ffff:192.168.62.74\" },\"337ce711-bdcf-4f33-a2f6-81c36a727c58\"]\\n    at makeError (C:\\\\snapshot\\\\backend\\\\build\\\\core\\\\decorators\\\\try-catch.decorator.js)\\n    at Object.<anonymous> (C:\\\\snapshot\\\\backend\\\\build\\\\core\\\\decorators\\\\try-catch.decorator.js)\\n    at runMicrotasks (<anonymous>)\\n    at processTicksAndRejections (internal/process/task_queues.js:93:5)\\ncaused by: JobLogsNotFoundError: Logs for job 337ce711-bdcf-4f33-a2f6-81c36a727c58 not found\\n    at Object.getLogsAsset (C:\\\\snapshot\\\\backend\\\\build\\\\rest\\\\job\\\\job.orchestrator.js)\\n    at runMicrotasks (<anonymous>)\\n    at processTicksAndRejections (internal/process/task_queues.js:93:5)\\n    at async Object.<anonymous> (C:\\\\snapshot\\\\backend\\\\build\\\\core\\\\decorators\\\\try-catch.decorator.js)\\n    at async Object.getJobLogs (C:\\\\snapshot\\\\backend\\\\build\\\\rest\\\\job\\\\job.orchestrator.js)\\n    at async Object.<anonymous> (C:\\\\snapshot\\\\backend\\\\build\\\\core\\\\decorators\\\\try-catch.decorator.js)'},\n",
       "  {'code': 'SCH_JOB_LOGS_NOT_FOUND',\n",
       "   'message': 'Job logs not found',\n",
       "   'debugInfo': 'JobLogsNotFoundError: Logs for job 337ce711-bdcf-4f33-a2f6-81c36a727c58 not found\\n    at Object.getLogsAsset (C:\\\\snapshot\\\\backend\\\\build\\\\rest\\\\job\\\\job.orchestrator.js)\\n    at runMicrotasks (<anonymous>)\\n    at processTicksAndRejections (internal/process/task_queues.js:93:5)\\n    at async Object.<anonymous> (C:\\\\snapshot\\\\backend\\\\build\\\\core\\\\decorators\\\\try-catch.decorator.js)\\n    at async Object.getJobLogs (C:\\\\snapshot\\\\backend\\\\build\\\\rest\\\\job\\\\job.orchestrator.js)\\n    at async Object.<anonymous> (C:\\\\snapshot\\\\backend\\\\build\\\\core\\\\decorators\\\\try-catch.decorator.js)'}]}"
      ]
     },
     "execution_count": null,
     "metadata": {},
     "output_type": "execute_result"
    }
   ],
   "source": [
    "job_id = '337ce711-bdcf-4f33-a2f6-81c36a727c58'\n",
    "dev_client.jobs.get_log(job_id=job_id).json()"
   ]
  },
  {
   "cell_type": "code",
   "execution_count": null,
   "metadata": {},
   "outputs": [
    {
     "ename": "NameError",
     "evalue": "name 'helpers' is not defined",
     "output_type": "error",
     "traceback": [
      "\u001b[1;31m---------------------------------------------------------------------------\u001b[0m",
      "\u001b[1;31mNameError\u001b[0m                                 Traceback (most recent call last)",
      "\u001b[1;32m<ipython-input-2-5ad49bfecdfd>\u001b[0m in \u001b[0;36m<module>\u001b[1;34m\u001b[0m\n\u001b[1;32m----> 1\u001b[1;33m \u001b[0mhelpers\u001b[0m\u001b[1;33m.\u001b[0m\u001b[0mtest_get_log_functionality\u001b[0m\u001b[1;33m(\u001b[0m\u001b[0mdev_client\u001b[0m\u001b[1;33m)\u001b[0m\u001b[1;33m\u001b[0m\u001b[1;33m\u001b[0m\u001b[0m\n\u001b[0m",
      "\u001b[1;31mNameError\u001b[0m: name 'helpers' is not defined"
     ]
    }
   ],
   "source": [
    "helpers.test_get_log_functionality(dev_client)"
   ]
  },
  {
   "cell_type": "code",
   "execution_count": null,
   "metadata": {},
   "outputs": [
    {
     "name": "stdout",
     "output_type": "stream",
     "text": [
      "GET sent to: https://ec2-44-234-86-100.us-west-2.compute.amazonaws.com/api/v1/jobs/\n",
      "with headers: {'User-Agent': 'python-requests/2.23.0', 'Accept-Encoding': 'gzip,deflate', 'Accept': '*/*', 'Connection': 'keep-alive', 'Content-Type': 'application/json', 'Accept-Language': 'en-US,en;q=0.5', 'Cookie': 'ayxSession=s%3A00268129-4d9d-4175-b9ee-de0a9e08c3f5.yY2npS7fTaan4cQga%2BZWxGpEUALYguf%2FLr33%2Bpg8EIo'}\n",
      "Response Status: 200\n"
     ]
    },
    {
     "ename": "IndexError",
     "evalue": "list index out of range",
     "output_type": "error",
     "traceback": [
      "\u001b[1;31m---------------------------------------------------------------------------\u001b[0m",
      "\u001b[1;31mIndexError\u001b[0m                                Traceback (most recent call last)",
      "\u001b[1;32m<ipython-input-2-c7f967bbc13b>\u001b[0m in \u001b[0;36m<module>\u001b[1;34m\u001b[0m\n\u001b[0;32m      8\u001b[0m     \u001b[0mhelpers\u001b[0m\u001b[1;33m.\u001b[0m\u001b[0mtest_cancel_job_functionality\u001b[0m\u001b[1;33m(\u001b[0m\u001b[0mclient\u001b[0m\u001b[1;33m)\u001b[0m\u001b[1;33m\u001b[0m\u001b[1;33m\u001b[0m\u001b[0m\n\u001b[0;32m      9\u001b[0m \u001b[1;33m\u001b[0m\u001b[0m\n\u001b[1;32m---> 10\u001b[1;33m \u001b[0mrun_jobs_integration_tests\u001b[0m\u001b[1;33m(\u001b[0m\u001b[0mdev_client\u001b[0m\u001b[1;33m)\u001b[0m\u001b[1;33m\u001b[0m\u001b[1;33m\u001b[0m\u001b[0m\n\u001b[0m",
      "\u001b[1;32m<ipython-input-2-c7f967bbc13b>\u001b[0m in \u001b[0;36mrun_jobs_integration_tests\u001b[1;34m(client)\u001b[0m\n\u001b[0;32m      2\u001b[0m \u001b[1;33m\u001b[0m\u001b[0m\n\u001b[0;32m      3\u001b[0m \u001b[1;32mdef\u001b[0m \u001b[0mrun_jobs_integration_tests\u001b[0m\u001b[1;33m(\u001b[0m\u001b[0mclient\u001b[0m\u001b[1;33m)\u001b[0m\u001b[1;33m:\u001b[0m\u001b[1;33m\u001b[0m\u001b[1;33m\u001b[0m\u001b[0m\n\u001b[1;32m----> 4\u001b[1;33m     \u001b[0mhelpers\u001b[0m\u001b[1;33m.\u001b[0m\u001b[0mtest_get_log_functionality\u001b[0m\u001b[1;33m(\u001b[0m\u001b[0mclient\u001b[0m\u001b[1;33m)\u001b[0m\u001b[1;33m\u001b[0m\u001b[1;33m\u001b[0m\u001b[0m\n\u001b[0m\u001b[0;32m      5\u001b[0m     \u001b[0mhelpers\u001b[0m\u001b[1;33m.\u001b[0m\u001b[0mtest_can_get_jobs_with_no_args\u001b[0m\u001b[1;33m(\u001b[0m\u001b[0mclient\u001b[0m\u001b[1;33m)\u001b[0m\u001b[1;33m\u001b[0m\u001b[1;33m\u001b[0m\u001b[0m\n\u001b[0;32m      6\u001b[0m     \u001b[0mhelpers\u001b[0m\u001b[1;33m.\u001b[0m\u001b[0mtest_that_server_has_jobs_available\u001b[0m\u001b[1;33m(\u001b[0m\u001b[0mclient\u001b[0m\u001b[1;33m)\u001b[0m\u001b[1;33m\u001b[0m\u001b[1;33m\u001b[0m\u001b[0m\n",
      "\u001b[1;32mC:\\projects\\yx_motor\\yx_motor\\int_test_helpers.py\u001b[0m in \u001b[0;36mtest_get_log_functionality\u001b[1;34m(client)\u001b[0m\n\u001b[0;32m     80\u001b[0m \u001b[1;32mdef\u001b[0m \u001b[0mtest_get_log_functionality\u001b[0m\u001b[1;33m(\u001b[0m\u001b[0mclient\u001b[0m\u001b[1;33m)\u001b[0m\u001b[1;33m:\u001b[0m\u001b[1;33m\u001b[0m\u001b[1;33m\u001b[0m\u001b[0m\n\u001b[0;32m     81\u001b[0m     \u001b[0mjobs_list\u001b[0m \u001b[1;33m=\u001b[0m \u001b[0mfetch_all_jobs\u001b[0m\u001b[1;33m(\u001b[0m\u001b[0mclient\u001b[0m\u001b[1;33m)\u001b[0m\u001b[1;33m\u001b[0m\u001b[1;33m\u001b[0m\u001b[0m\n\u001b[1;32m---> 82\u001b[1;33m     \u001b[0mtest_job\u001b[0m \u001b[1;33m=\u001b[0m \u001b[0mjobs_list\u001b[0m\u001b[1;33m[\u001b[0m\u001b[1;36m0\u001b[0m\u001b[1;33m]\u001b[0m\u001b[1;33m\u001b[0m\u001b[1;33m\u001b[0m\u001b[0m\n\u001b[0m\u001b[0;32m     83\u001b[0m     \u001b[0mtest_job_id\u001b[0m \u001b[1;33m=\u001b[0m \u001b[0mtest_job\u001b[0m\u001b[1;33m.\u001b[0m\u001b[0mget\u001b[0m\u001b[1;33m(\u001b[0m\u001b[1;34m'jobId'\u001b[0m\u001b[1;33m)\u001b[0m\u001b[1;33m\u001b[0m\u001b[1;33m\u001b[0m\u001b[0m\n\u001b[0;32m     84\u001b[0m     \u001b[0mresponse\u001b[0m \u001b[1;33m=\u001b[0m \u001b[0mclient\u001b[0m\u001b[1;33m.\u001b[0m\u001b[0mjobs\u001b[0m\u001b[1;33m.\u001b[0m\u001b[0mget_log\u001b[0m\u001b[1;33m(\u001b[0m\u001b[0mjob_id\u001b[0m\u001b[1;33m=\u001b[0m\u001b[0mtest_job_id\u001b[0m\u001b[1;33m)\u001b[0m\u001b[1;33m\u001b[0m\u001b[1;33m\u001b[0m\u001b[0m\n",
      "\u001b[1;31mIndexError\u001b[0m: list index out of range"
     ]
    }
   ],
   "source": [
    "from yx_motor import int_test_helpers as helpers\n",
    "\n",
    "def run_jobs_integration_tests(client):\n",
    "    helpers.test_get_log_functionality(client)\n",
    "    helpers.test_can_get_jobs_with_no_args(client)\n",
    "    helpers.test_that_server_has_jobs_available(client)\n",
    "    helpers.test_can_get_job_by_id(client)\n",
    "    helpers.test_cancel_job_functionality(client)\n",
    "\n",
    "run_jobs_integration_tests(dev_client)"
   ]
  },
  {
   "cell_type": "markdown",
   "metadata": {},
   "source": [
    "## Authenticate Integration Tests"
   ]
  },
  {
   "cell_type": "code",
   "execution_count": null,
   "metadata": {},
   "outputs": [],
   "source": [
    "def scaffold_api_with_creds():\n",
    "    pass\n",
    "\n",
    "def test_can_log_in():\n",
    "    pass\n",
    "\n",
    "def test_can_log_out():\n",
    "    pass"
   ]
  },
  {
   "cell_type": "markdown",
   "metadata": {},
   "source": [
    "## Files Integration Tests"
   ]
  },
  {
   "cell_type": "code",
   "execution_count": null,
   "metadata": {},
   "outputs": [],
   "source": []
  },
  {
   "cell_type": "markdown",
   "metadata": {},
   "source": [
    "## Workflows Integration Tests"
   ]
  },
  {
   "cell_type": "code",
   "execution_count": null,
   "metadata": {},
   "outputs": [],
   "source": [
    "tlist = [1, 2, 3, 4]"
   ]
  },
  {
   "cell_type": "code",
   "execution_count": null,
   "metadata": {},
   "outputs": [],
   "source": [
    "all([\n",
    "    x > 0 for x in tlist\n",
    "])"
   ]
  },
  {
   "cell_type": "code",
   "execution_count": null,
   "metadata": {},
   "outputs": [
    {
     "name": "stdout",
     "output_type": "stream",
     "text": [
      "Converted 01_client.ipynb.\n",
      "Converted 02_jobs.ipynb.\n",
      "Converted 03_api.ipynb.\n",
      "Converted 04_authenticate.ipynb.\n",
      "Converted 05_files.ipynb.\n",
      "Converted 06_workflows.ipynb.\n",
      "Converted index.ipynb.\n",
      "Converted integration_tests.ipynb.\n"
     ]
    }
   ],
   "source": [
    "from nbdev.export import *\n",
    "notebook2script()"
   ]
  },
  {
   "cell_type": "code",
   "execution_count": null,
   "metadata": {},
   "outputs": [],
   "source": []
  }
 ],
 "metadata": {
  "kernelspec": {
   "display_name": "Python 3",
   "language": "python",
   "name": "python3"
  }
 },
 "nbformat": 4,
 "nbformat_minor": 4
}
