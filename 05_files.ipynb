{
 "cells": [
  {
   "cell_type": "code",
   "execution_count": null,
   "metadata": {},
   "outputs": [],
   "source": [
    "# default_exp files"
   ]
  },
  {
   "cell_type": "markdown",
   "metadata": {},
   "source": [
    "# files\n",
    "> Easily upload, download, and manage files on Server."
   ]
  },
  {
   "cell_type": "code",
   "execution_count": null,
   "metadata": {},
   "outputs": [],
   "source": [
    "# export\n",
    "import requests\n",
    "\n",
    "from yx_motor.api import API\n",
    "\n",
    "\n",
    "class Files:\n",
    "    \"Class for handling Files endpoints\"\n",
    "\n",
    "    def __init__(self, api: API):\n",
    "        self.api = api\n",
    "        self.base_endpoint = \"files/\"\n",
    "\n",
    "    def download_file(self, file_uuid: str, download_path: str, version: int = None):\n",
    "        response = self.api.get(\n",
    "            url=f'{self.base_endpoint}content', params={\"id\": file_uuid,\"version\": version}\n",
    "        )\n",
    "        with open(download_path, 'wb') as f:\n",
    "            f.write(response.content)\n",
    "        return response\n",
    "\n",
    "    def upload_file(\n",
    "        self,\n",
    "        filename: str,\n",
    "        upload_path: str,\n",
    "        description: str = \"\",\n",
    "        conflict_action=None,\n",
    "    ):\n",
    "        upload_headers = {\n",
    "            \"Content-Type\": \"application/json\",\n",
    "            \"Accept\": \"*/*\",\n",
    "            \"Accept-Language\": \"en-US,en;q=0.5\",\n",
    "            \"Accept-Encoding\": \"gzip,deflate\",\n",
    "            \"path\": f\"{upload_path}\",\n",
    "            \"description\": f\"{description}\",\n",
    "            \"conflict_action\": f\"{conflict_action}\",\n",
    "        }\n",
    "\n",
    "        with open(filename, \"rb\") as f:\n",
    "            blob = f.read()\n",
    "        response = self.api.post(url=f\"{self.base_endpoint}\", data=blob, non_default_headers=upload_headers)\n",
    "        return response\n",
    "\n",
    "    def update_file(self):\n",
    "        # This seems to update metainfo, may not be needed for MVP\n",
    "        # TODO: MVP\n",
    "        pass\n",
    "\n",
    "    def get_file_versions(self, file_uuid: str):\n",
    "        response = self.api.get(url=f\"{self.base_endpoint}versions/\", params={\"id\": file_uuid})\n",
    "        return response\n",
    "\n",
    "    def delete_file(self, asset_path: str, hard=False):\n",
    "        payload = {\"assetPaths\": [f\"{asset_path}\"]}\n",
    "\n",
    "        if hard == True:\n",
    "            targeturl = \"remove\"\n",
    "        else:\n",
    "            targeturl = \"softDelete\"\n",
    "\n",
    "        response = self.api.post(url=f'{self.base_endpoint}{targeturl}', data=payload)\n",
    "\n",
    "        return response\n",
    "\n",
    "    def move_file(\n",
    "        self,\n",
    "        source_path: str,\n",
    "        target_path: str,\n",
    "        move_type=\"move\",\n",
    "        versions_action=\"ALL_VERSIONS\",\n",
    "        conflicts_action=\"SKIP\",\n",
    "    ):\n",
    "        # TODO discuss move_type, move or copy\n",
    "        payload = {\n",
    "            \"assets\": [\n",
    "                {\"sourcePath\": f\"{source_path}\", \"targetPath\": f\"{target_path}\"}\n",
    "            ],\n",
    "            \"targetPath\": \"string\",\n",
    "            \"versionsAction\": f\"{versions_action}\",\n",
    "            \"conflictsAction\": f\"{conflicts_action}\",\n",
    "        }\n",
    "\n",
    "        response = self.api.post(url=f'{self.base_endpoint}{move_type}', data=payload)\n",
    "        return response\n",
    "\n",
    "    def restore_deleted_file(self, asset_path: str = None, asset_id: str = None):\n",
    "        asset_paths = {}\n",
    "        asset_ids = {}\n",
    "        if asset_path:\n",
    "            asset_paths = {\"assetPaths\": [f\"{asset_path}\"]}\n",
    "        if asset_id:\n",
    "            asset_ids = {\"assetIds\": [f\"{asset_id}\"]}\n",
    "        payload = {**asset_paths, **asset_ids, **{\"onlyDescendants\": True}}\n",
    "        response = self.api.post(url=f\"{self.base_endpoint}restoreDeleted\", data=payload)\n",
    "        return response"
   ]
  },
  {
   "cell_type": "code",
   "execution_count": null,
   "metadata": {},
   "outputs": [
    {
     "name": "stdout",
     "output_type": "stream",
     "text": [
      "Converted 00_core.ipynb.\n",
      "Converted 01_client.ipynb.\n",
      "Converted 02_jobs.ipynb.\n",
      "Converted 03_api.ipynb.\n",
      "Converted 04_authenticate.ipynb.\n",
      "Converted 05_files.ipynb.\n",
      "Converted 06_workflows.ipynb.\n",
      "Converted index.ipynb.\n",
      "Converted Untitled.ipynb.\n"
     ]
    }
   ],
   "source": [
    "#hide\n",
    "from nbdev.export import *\n",
    "notebook2script()"
   ]
  },
  {
   "cell_type": "code",
   "execution_count": null,
   "metadata": {},
   "outputs": [],
   "source": [
    "#hide\n",
    "from nbdev.sync import script2notebook\n",
    "#script2notebook()"
   ]
  },
  {
   "cell_type": "code",
   "execution_count": null,
   "metadata": {},
   "outputs": [],
   "source": [
    "#hide\n",
    "# just removing the insecure warning for now\n",
    "# TODO: Secure requests and remove this code\n",
    "import urllib3\n",
    "urllib3.disable_warnings(urllib3.exceptions.InsecureRequestWarning)"
   ]
  },
  {
   "cell_type": "code",
   "execution_count": null,
   "metadata": {},
   "outputs": [],
   "source": [
    "from yx_motor.client import Client"
   ]
  },
  {
   "cell_type": "code",
   "execution_count": null,
   "metadata": {},
   "outputs": [],
   "source": [
    "#hide\n",
    "from private import server_vars"
   ]
  },
  {
   "cell_type": "code",
   "execution_count": null,
   "metadata": {},
   "outputs": [],
   "source": [
    "#hide\n",
    "base_url=server_vars['base_url']\n",
    "login_email = server_vars['login_email']\n",
    "login_pwd = server_vars['login_pwd']"
   ]
  },
  {
   "cell_type": "code",
   "execution_count": null,
   "metadata": {},
   "outputs": [],
   "source": [
    "#hide\n",
    "dev_client = Client(base_url,\n",
    "              login_email, \n",
    "              login_pwd)"
   ]
  },
  {
   "cell_type": "code",
   "execution_count": null,
   "metadata": {},
   "outputs": [],
   "source": [
    "dev_client.api.is_authenticated\n",
    "files = Files(dev_client.api)"
   ]
  },
  {
   "cell_type": "code",
   "execution_count": null,
   "metadata": {},
   "outputs": [],
   "source": [
    "response = files.download_file(\"68efa737-d9e0-4a91-8379-737062ddc158\",\"test.log\")"
   ]
  },
  {
   "cell_type": "code",
   "execution_count": null,
   "metadata": {},
   "outputs": [
    {
     "data": {
      "text/plain": [
       "b'-|worker|Retrieved file example.yxzp\\r\\n-|worker|Engine run started\\r\\n2|1|Autodetected Code Page: UTF-8\\r\\n2|8|input_one.csv|4 records were read from \"input_one.csv\"\\r\\n3|1|Autodetected Code Page: UTF-8\\r\\n3|8|input_two.csv|1 records were read from \"input_two.csv\" (ended by a downstream tool)\\r\\n-|worker|Engine run finished in 0.47 seconds'"
      ]
     },
     "execution_count": null,
     "metadata": {},
     "output_type": "execute_result"
    }
   ],
   "source": [
    "response.content"
   ]
  },
  {
   "cell_type": "code",
   "execution_count": null,
   "metadata": {},
   "outputs": [
    {
     "data": {
      "text/plain": [
       "<Response [404]>"
      ]
     },
     "execution_count": null,
     "metadata": {},
     "output_type": "execute_result"
    }
   ],
   "source": [
    "response"
   ]
  },
  {
   "cell_type": "code",
   "execution_count": null,
   "metadata": {},
   "outputs": [
    {
     "data": {
      "text/plain": [
       "'GET'"
      ]
     },
     "execution_count": null,
     "metadata": {},
     "output_type": "execute_result"
    }
   ],
   "source": [
    "response.request.method"
   ]
  },
  {
   "cell_type": "code",
   "execution_count": null,
   "metadata": {},
   "outputs": [],
   "source": []
  }
 ],
 "metadata": {
  "kernelspec": {
   "display_name": "Python 3",
   "language": "python",
   "name": "python3"
  }
 },
 "nbformat": 4,
 "nbformat_minor": 4
}
