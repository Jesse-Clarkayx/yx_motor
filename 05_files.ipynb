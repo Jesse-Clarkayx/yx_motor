{
 "cells": [
  {
   "cell_type": "code",
   "execution_count": null,
   "metadata": {},
   "outputs": [],
   "source": [
    "# default_exp files"
   ]
  },
  {
   "cell_type": "markdown",
   "metadata": {},
   "source": [
    "# files\n",
    "> Easily upload, download, and manage files on Server."
   ]
  },
  {
   "cell_type": "code",
   "execution_count": null,
   "metadata": {},
   "outputs": [],
   "source": [
    "# export\n",
    "import requests\n",
    "\n",
    "from yx_motor.api import API\n",
    "\n",
    "\n",
    "class Files:\n",
    "    \"Class for handling AAH files endpoints.\"\n",
    "\n",
    "    def __init__(self, api: API):\n",
    "        self.api = api\n",
    "        self.base_endpoint = \"files/\"\n",
    "        self.valid_conflict_actions = [\"MERGE\", \"CREATE_COPY\"]\n",
    "\n",
    "    def download_file(self, file_uuid: str, download_path: str, version: int = None):\n",
    "        response = self.api.get(\n",
    "            url=f\"{self.base_endpoint}content\",\n",
    "            params={\"id\": file_uuid, \"version\": version},\n",
    "        )\n",
    "        with open(download_path, \"wb\") as f:\n",
    "            f.write(response.content)\n",
    "        return response\n",
    "\n",
    "    def upload_file(\n",
    "        self,\n",
    "        filename: str,\n",
    "        upload_path: str,\n",
    "        description: str = None,\n",
    "        conflict_action: str = \"CREATE_COPY\",\n",
    "    ):\n",
    "        if conflict_action:\n",
    "            self.validate_conflict_action(conflict_action)\n",
    "\n",
    "        upload_headers = {\n",
    "            \"Content-Type\": \"application/json\",\n",
    "            \"Accept\": \"*/*\",\n",
    "            \"Accept-Language\": \"en-US,en;q=0.5\",\n",
    "            \"Accept-Encoding\": \"gzip,deflate\",\n",
    "            \"path\": upload_path,\n",
    "            \"description\": description,\n",
    "            \"conflict_action\": conflict_action,\n",
    "        }\n",
    "\n",
    "        with open(filename, \"rb\") as f:\n",
    "            blob = f.read()\n",
    "        response = self.api.post(\n",
    "            url=f\"{self.base_endpoint}\", data=blob, non_default_headers=upload_headers\n",
    "        )\n",
    "        return response\n",
    "\n",
    "    def update_file(self):\n",
    "        # This seems to update metainfo, may not be needed for MVP\n",
    "        # TODO: MVP\n",
    "        pass\n",
    "\n",
    "    def get_file_versions(self, file_uuid: str):\n",
    "        response = self.api.get(\n",
    "            url=f\"{self.base_endpoint}versions/\", params={\"fileUuid\": file_uuid}\n",
    "        )\n",
    "        return response\n",
    "\n",
    "    def delete_file(self, asset_path: str, hard=False):\n",
    "        payload = {\"assetPaths\": [f\"{asset_path}\"]}\n",
    "\n",
    "        if hard == True:\n",
    "            targeturl = \"remove\"\n",
    "        else:\n",
    "            targeturl = \"softDelete\"\n",
    "\n",
    "        response = self.api.post(url=f\"{self.base_endpoint}{targeturl}\", json=payload)\n",
    "\n",
    "        return response\n",
    "\n",
    "    def move_file(\n",
    "        self,\n",
    "        source_path: str,\n",
    "        target_path: str,\n",
    "        move_type=\"moveFiles\",\n",
    "        versions_action=\"ALL_VERSIONS\",\n",
    "        conflicts_action=\"SKIP\",\n",
    "    ):\n",
    "        # TODO discuss move_type, move or copy\n",
    "        payload = {\n",
    "            \"assets\": [\n",
    "                {\"sourcePath\": f\"{source_path}\", \"targetPath\": f\"{target_path}\"}\n",
    "            ],\n",
    "            \"versionsAction\": f\"{versions_action}\",\n",
    "            \"conflictsAction\": f\"{conflicts_action}\",\n",
    "        }\n",
    "\n",
    "        response = self.api.post(url=f\"{self.base_endpoint}{move_type}\", json=payload)\n",
    "        return response\n",
    "\n",
    "    def restore_deleted_file(self, asset_path: str = None, asset_id: str = None):\n",
    "        asset_paths = {}\n",
    "        asset_ids = {}\n",
    "        if asset_path:\n",
    "            asset_paths = {\"assetPaths\": [f\"{asset_path}\"]}\n",
    "        if asset_id:\n",
    "            asset_ids = {\"assetIds\": [f\"{asset_id}\"]}\n",
    "        payload = {**asset_paths, **asset_ids}\n",
    "        # Does onlyDescendants have other values besides True?\n",
    "        response = self.api.post(\n",
    "            url=f\"{self.base_endpoint}restoreDeleted\", json=payload\n",
    "        )\n",
    "        return response\n",
    "\n",
    "    def validate_conflict_action(self, conflict_action: str):\n",
    "        if conflict_action not in self.valid_conflict_actions:\n",
    "            raise ValueError(\n",
    "                f\"Specified conflict action must be one of {self.valid_conflict_actions}\"\n",
    "            )\n",
    "        else:\n",
    "            pass"
   ]
  },
  {
   "cell_type": "code",
   "execution_count": null,
   "metadata": {},
   "outputs": [],
   "source": [
    "#hide\n",
    "# just removing the insecure warning for now\n",
    "# TODO: Secure requests and remove this code\n",
    "import urllib3\n",
    "urllib3.disable_warnings(urllib3.exceptions.InsecureRequestWarning)"
   ]
  },
  {
   "cell_type": "markdown",
   "metadata": {},
   "source": [
    "## Examples\n",
    "\n",
    "**Note**:\n",
    "The files commands are intended to be called by users through the Client class.  Below, you will see that to accommodate this, we are creating the files object the same way the Client class does, by passing in an authenticated API object.  \n",
    "\n",
    "In normal practice, a user will simply create a client object, and be able to call `client.files.download_file('xxxxxx-xxxxx')`.\n",
    "\n",
    "However, for this documentation, we are calling the files object directly to better demonstrate the Files class in an isolated fashion."
   ]
  },
  {
   "cell_type": "markdown",
   "metadata": {},
   "source": [
    "### Download Files Example"
   ]
  },
  {
   "cell_type": "code",
   "execution_count": null,
   "metadata": {},
   "outputs": [
    {
     "data": {
      "text/markdown": [
       "<h4 id=\"Files.download_file\" class=\"doc_header\"><code>Files.download_file</code><a href=\"__main__.py#L15\" class=\"source_link\" style=\"float:right\">[source]</a></h4>\n",
       "\n",
       "> <code>Files.download_file</code>(**`file_uuid`**:`str`, **`download_path`**:`str`, **`version`**:`int`=*`None`*)\n",
       "\n"
      ],
      "text/plain": [
       "<IPython.core.display.Markdown object>"
      ]
     },
     "metadata": {},
     "output_type": "display_data"
    }
   ],
   "source": [
    "from nbdev.showdoc import *\n",
    "show_doc(Files.download_file)"
   ]
  },
  {
   "cell_type": "markdown",
   "metadata": {},
   "source": [
    "The download_file method allows a user to pass in the unique identifier for the file, along with the path they wish to download the file to on the client machine.  The file will be downloaded and saved to the path specified.\n",
    "\n",
    "**Arguments**:\n",
    "- file_uuid: The VFS unique identifier for the file the user wishes to download.\n",
    "- download_path: The path on the user's local file system which they wish the file to be persisted to once it is downloaded.\n",
    "- version: Optional.  The version of the VFS asset the user wishes to donwload.  Defaults to latest version if not specified.  TODO: Need to double check this statement."
   ]
  },
  {
   "cell_type": "code",
   "execution_count": null,
   "metadata": {},
   "outputs": [],
   "source": [
    "#hide\n",
    "\n",
    "# Unit test code for download files\n",
    "\n",
    "from unittest.mock import Mock\n",
    "\n",
    "from yx_motor.tests.utils.unit_test_helpers import (\n",
    "    files_test_pickles,\n",
    "    unpickle_object\n",
    ")\n",
    "\n",
    "api = Mock()\n",
    "api.get = Mock()\n",
    "api.get.return_value = unpickle_object(files_test_pickles.download_file)"
   ]
  },
  {
   "cell_type": "code",
   "execution_count": null,
   "metadata": {},
   "outputs": [],
   "source": [
    "# Initialize the files object the same way the Client object does.\n",
    "files = Files(api)"
   ]
  },
  {
   "cell_type": "markdown",
   "metadata": {},
   "source": [
    "Below is the unique identifier for the file we wish to download from the Alteryx Analytics Hub's Virtual File System (VFS)."
   ]
  },
  {
   "cell_type": "code",
   "execution_count": null,
   "metadata": {},
   "outputs": [],
   "source": [
    "asset_id = \"9b75b3d8-56c1-4ce6-bfe1-9aabaea1e65f\""
   ]
  },
  {
   "cell_type": "markdown",
   "metadata": {},
   "source": [
    "Next, we will trigger the method.  To better illustrate what the download_file method does, we are going to capture the response.  It is important to note that this is not necessary.  Simply calling the `files.download_file` command is all that is necessary to successfully download a file to the specified path."
   ]
  },
  {
   "cell_type": "markdown",
   "metadata": {},
   "source": [
    "Next, let's trigger the download_file command."
   ]
  },
  {
   "cell_type": "code",
   "execution_count": null,
   "metadata": {},
   "outputs": [],
   "source": [
    "response = files.download_file(file_uuid=asset_id,\n",
    "                               download_path=f\"example_downloads/some_name.yxmd\")"
   ]
  },
  {
   "cell_type": "markdown",
   "metadata": {},
   "source": [
    "As you can see, the workflow has been downloaded to the specified location.\n",
    "\n",
    "Now, let's inspect the response object."
   ]
  },
  {
   "cell_type": "code",
   "execution_count": null,
   "metadata": {},
   "outputs": [
    {
     "data": {
      "text/plain": [
       "b'<?xml version=\"1.0\"?>\\r\\n<AlteryxDocument yxmdVer=\"2020.1\">\\r\\n  <Nodes>\\r\\n    <Node ToolID=\"1\">\\r\\n      <GuiSettings Plugin=\"AlteryxBasePluginsGui.TextInput.TextInput\">\\r\\n        <Position x=\"222\" y=\"174\" />\\r\\n      </GuiSettings>\\r\\n      <Properties>\\r\\n        <Configuration>\\r\\n          <NumRows value=\"1\" />\\r\\n          <Fields>\\r\\n            <Field name=\"Field1\" />\\r\\n          </Fields>\\r\\n          <Data>\\r\\n            <r>\\r\\n              <c>WorkflowA</c>\\r\\n            </r>\\r\\n          </Data>\\r\\n        </Configuration>\\r\\n        <Annotation DisplayMode=\"0\">\\r\\n          <Name />\\r\\n          <DefaultAnnotationText />\\r\\n          <Left value=\"False\" />\\r\\n        </Annotation>\\r\\n      </Properties>\\r\\n      <EngineSettings EngineDll=\"AlteryxBasePluginsEngine.dll\" EngineDllEntryPoint=\"AlteryxTextInput\" />\\r\\n    </Node>\\r\\n    <Node ToolID=\"2\">\\r\\n      <GuiSettings Plugin=\"AlteryxBasePluginsGui.DbFileOutput.DbFileOutput\">\\r\\n        <Position x=\"378\" y=\"174\" />\\r\\n      </GuiSettings>\\r\\n      <Properties>\\r\\n        <Configuration>\\r\\n          <File MaxRecords=\"\" FileFormat=\"0\">WorkflowAout.csv</File>\\r\\n          <Passwords />\\r\\n          <FormatSpecificOptions>\\r\\n            <LineEndStyle>CRLF</LineEndStyle>\\r\\n            <Delimeter>,</Delimeter>\\r\\n            <ForceQuotes>False</ForceQuotes>\\r\\n            <HeaderRow>True</HeaderRow>\\r\\n            <CodePage>28591</CodePage>\\r\\n            <WriteBOM>True</WriteBOM>\\r\\n          </FormatSpecificOptions>\\r\\n          <MultiFile value=\"False\" />\\r\\n        </Configuration>\\r\\n        <Annotation DisplayMode=\"0\">\\r\\n          <Name />\\r\\n          <DefaultAnnotationText>WorkflowAout.csv</DefaultAnnotationText>\\r\\n          <Left value=\"False\" />\\r\\n        </Annotation>\\r\\n        <Dependencies>\\r\\n          <Implicit />\\r\\n        </Dependencies>\\r\\n      </Properties>\\r\\n      <EngineSettings EngineDll=\"AlteryxBasePluginsEngine.dll\" EngineDllEntryPoint=\"AlteryxDbFileOutput\" />\\r\\n    </Node>\\r\\n  </Nodes>\\r\\n  <Connections>\\r\\n    <Connection>\\r\\n      <Origin ToolID=\"1\" Connection=\"Output\" />\\r\\n      <Destination ToolID=\"2\" Connection=\"Input\" />\\r\\n    </Connection>\\r\\n  </Connections>\\r\\n  <Properties>\\r\\n    <Memory default=\"True\" />\\r\\n    <GlobalRecordLimit value=\"0\" />\\r\\n    <TempFiles default=\"True\" />\\r\\n    <Annotation on=\"True\" includeToolName=\"False\" />\\r\\n    <ConvErrorLimit value=\"10\" />\\r\\n    <ConvErrorLimit_Stop value=\"False\" />\\r\\n    <CancelOnError value=\"False\" />\\r\\n    <DisableBrowse value=\"False\" />\\r\\n    <EnablePerformanceProfiling value=\"False\" />\\r\\n    <DisableAllOutput value=\"False\" />\\r\\n    <ShowAllMacroMessages value=\"False\" />\\r\\n    <ShowConnectionStatusIsOn value=\"True\" />\\r\\n    <ShowConnectionStatusOnlyWhenRunning value=\"True\" />\\r\\n    <ZoomLevel value=\"0\" />\\r\\n    <LayoutType>Horizontal</LayoutType>\\r\\n    <MetaInfo>\\r\\n      <NameIsFileName value=\"True\" />\\r\\n      <Name>WorkflowA</Name>\\r\\n      <Description />\\r\\n      <RootToolName />\\r\\n      <ToolVersion />\\r\\n      <ToolInDb value=\"False\" />\\r\\n      <CategoryName />\\r\\n      <SearchTags />\\r\\n      <Author />\\r\\n      <Company />\\r\\n      <Copyright />\\r\\n      <DescriptionLink actual=\"\" displayed=\"\" />\\r\\n      <Example>\\r\\n        <Description />\\r\\n        <File />\\r\\n      </Example>\\r\\n    </MetaInfo>\\r\\n    <Events>\\r\\n      <Enabled value=\"True\" />\\r\\n    </Events>\\r\\n  </Properties>\\r\\n</AlteryxDocument>'"
      ]
     },
     "execution_count": null,
     "metadata": {},
     "output_type": "execute_result"
    }
   ],
   "source": [
    "response.content # The requested file is attached to the response as a binary object."
   ]
  },
  {
   "cell_type": "markdown",
   "metadata": {},
   "source": [
    "Here, we see that the binary object is indeed an Alteryx workflow."
   ]
  },
  {
   "cell_type": "markdown",
   "metadata": {},
   "source": [
    "### Upload Files Example"
   ]
  },
  {
   "cell_type": "code",
   "execution_count": null,
   "metadata": {},
   "outputs": [
    {
     "data": {
      "text/markdown": [
       "<h4 id=\"Files.upload_file\" class=\"doc_header\"><code>Files.upload_file</code><a href=\"__main__.py#L24\" class=\"source_link\" style=\"float:right\">[source]</a></h4>\n",
       "\n",
       "> <code>Files.upload_file</code>(**`filename`**:`str`, **`upload_path`**:`str`, **`description`**:`str`=*`None`*, **`conflict_action`**:`str`=*`'CREATE_COPY'`*)\n",
       "\n"
      ],
      "text/plain": [
       "<IPython.core.display.Markdown object>"
      ]
     },
     "metadata": {},
     "output_type": "display_data"
    }
   ],
   "source": [
    "from nbdev.showdoc import *\n",
    "show_doc(Files.upload_file)"
   ]
  },
  {
   "cell_type": "markdown",
   "metadata": {},
   "source": [
    "The upload_file method allows a user to upload a file from their local filesytem to the Alteryx Analytics Hub's Virtual File System (VFS).\n",
    "\n",
    "TODO: Need to rename the filename argument to file_path to avoid confusion.\n",
    "\n",
    "**Arguments**:\n",
    "- filename: Path to the file on the user's local file system\n",
    "- upload_path: The path on the AAH VFS the user wishes the file to be uploaded to.\n",
    "- description: Optional.  Description the user wants to be attached to the file in the VFS.\n",
    "- conflict_action: Defaults to 'CREATE_COPY'.  One of 'CREATE_COPY'| 'MERGE'\n",
    "    - CREATE_COPY: If file already exists at specified path, a copy is created.\n",
    "    - MERGE: If file already exists, new version is created at same location.\n"
   ]
  },
  {
   "cell_type": "code",
   "execution_count": null,
   "metadata": {},
   "outputs": [],
   "source": [
    "#hide\n",
    "\n",
    "# Unit test code for download files\n",
    "\n",
    "from unittest.mock import Mock\n",
    "\n",
    "from yx_motor.tests.utils.unit_test_helpers import (\n",
    "    files_test_pickles,\n",
    "    unpickle_object\n",
    ")\n",
    "\n",
    "api = Mock()\n",
    "api.post = Mock()\n",
    "api.post.return_value = unpickle_object(files_test_pickles.upload_file)"
   ]
  },
  {
   "cell_type": "code",
   "execution_count": null,
   "metadata": {},
   "outputs": [],
   "source": [
    "# Initialize the files object the same way the Client object does.\n",
    "files = Files(api)"
   ]
  },
  {
   "cell_type": "markdown",
   "metadata": {},
   "source": [
    "#### Simple Upload Example\n",
    "\n",
    "Let's upload a yxzp file in our local filesystem to a location on Alteryx Analytics Hub's VFS, specified via the upload_path parameter."
   ]
  },
  {
   "cell_type": "code",
   "execution_count": null,
   "metadata": {},
   "outputs": [],
   "source": [
    "response = files.upload_file(filename=r\"example_downloads/some_name.yxmd\",\n",
    "                             upload_path=\"/Workspaces/Public/example_1.yxzp\")"
   ]
  },
  {
   "cell_type": "code",
   "execution_count": null,
   "metadata": {},
   "outputs": [
    {
     "data": {
      "text/plain": [
       "{'folderType': None,\n",
       " 'comment': None,\n",
       " 'maxVersion': 1,\n",
       " 'links': None,\n",
       " 'created': '2020-08-04T22:55:02.066Z',\n",
       " 'versionCreated': '2020-08-04T22:55:02.066Z',\n",
       " 'metaHash': 'd214d65ab55a2a1c73de7c90fcc1aecfc28dd88dbec71cdeaeb3ffb1ef170053',\n",
       " 'isHidden': False,\n",
       " 'assetCategory': 'WORKFLOW_APP',\n",
       " 'extension': 'yxzp',\n",
       " 'onlyOwnerShares': False,\n",
       " 'onlySiteAdminShares': False,\n",
       " 'contentId': 'ed3146c9-8cf5-4099-8008-c3657b29e3a6',\n",
       " 'contentHash': 'b7960c08c75e5e4e2bcf5fa32582eee75a07560554c6993c603759a8a2ce2f5f',\n",
       " 'contentSize': 2176,\n",
       " 'entryOwner': {'avatar': None,\n",
       "  'email': 'apiuser@example.com',\n",
       "  'firstName': 'Aaaaaaaaaaa',\n",
       "  'id': 'd57f3054-8eeb-4993-b021-cc7c6764d27c',\n",
       "  'lastName': 'ApiTest',\n",
       "  'name': 'Aaaaaaaaaaa ApiTest',\n",
       "  'userName': 'apiuser'},\n",
       " 'metadata': {'yxType': 'WORKFLOW_APP'},\n",
       " 'fileName': 'example_1.yxzp',\n",
       " 'inherits': True,\n",
       " 'path': '/Workspaces/Public/example_1.yxzp',\n",
       " 'version': 1,\n",
       " 'assignedPermissionsDateUpdated': None,\n",
       " 'location': '',\n",
       " 'uuid': '5ee160b4-51fa-4baf-8d36-145be6a247c0',\n",
       " 'md5Hash': '1316e622c535fcfef109f75484910f38'}"
      ]
     },
     "execution_count": null,
     "metadata": {},
     "output_type": "execute_result"
    }
   ],
   "source": [
    "response.json()"
   ]
  },
  {
   "cell_type": "markdown",
   "metadata": {},
   "source": [
    "Above, we can see that the response shows the file was successfully uploaded to the upload path we specified.  "
   ]
  },
  {
   "cell_type": "markdown",
   "metadata": {},
   "source": [
    "#### Upload with duplicate file example\n",
    "\n",
    "What happens if we upload the same file twice?  Let's run the same line of code a second time to see."
   ]
  },
  {
   "cell_type": "code",
   "execution_count": null,
   "metadata": {},
   "outputs": [],
   "source": [
    "#hide\n",
    "\n",
    "# Unit test code for download files\n",
    "\n",
    "from unittest.mock import Mock\n",
    "\n",
    "from yx_motor.tests.utils.unit_test_helpers import (\n",
    "    files_test_pickles,\n",
    "    unpickle_object\n",
    ")\n",
    "\n",
    "api = Mock()\n",
    "api.post = Mock()\n",
    "api.post.return_value = unpickle_object(files_test_pickles.upload_duplicate_file)"
   ]
  },
  {
   "cell_type": "code",
   "execution_count": null,
   "metadata": {},
   "outputs": [],
   "source": [
    "response = files.upload_file(filename=r\"example_downloads/some_name.yxmd\",\n",
    "                             upload_path=\"/Workspaces/Public/example_1.yxzp\")"
   ]
  },
  {
   "cell_type": "code",
   "execution_count": null,
   "metadata": {},
   "outputs": [
    {
     "data": {
      "text/plain": [
       "{'folderType': None,\n",
       " 'comment': None,\n",
       " 'maxVersion': 1,\n",
       " 'links': None,\n",
       " 'created': '2020-08-04T22:55:02.066Z',\n",
       " 'versionCreated': '2020-08-04T22:55:02.066Z',\n",
       " 'metaHash': 'd214d65ab55a2a1c73de7c90fcc1aecfc28dd88dbec71cdeaeb3ffb1ef170053',\n",
       " 'isHidden': False,\n",
       " 'assetCategory': 'WORKFLOW_APP',\n",
       " 'extension': 'yxzp',\n",
       " 'onlyOwnerShares': False,\n",
       " 'onlySiteAdminShares': False,\n",
       " 'contentId': 'ed3146c9-8cf5-4099-8008-c3657b29e3a6',\n",
       " 'contentHash': 'b7960c08c75e5e4e2bcf5fa32582eee75a07560554c6993c603759a8a2ce2f5f',\n",
       " 'contentSize': 2176,\n",
       " 'entryOwner': {'avatar': None,\n",
       "  'email': 'apiuser@example.com',\n",
       "  'firstName': 'Aaaaaaaaaaa',\n",
       "  'id': 'd57f3054-8eeb-4993-b021-cc7c6764d27c',\n",
       "  'lastName': 'ApiTest',\n",
       "  'name': 'Aaaaaaaaaaa ApiTest',\n",
       "  'userName': 'apiuser'},\n",
       " 'metadata': {'yxType': 'WORKFLOW_APP'},\n",
       " 'fileName': 'example_1.yxzp',\n",
       " 'inherits': True,\n",
       " 'path': '/Workspaces/Public/example_1.yxzp',\n",
       " 'version': 1,\n",
       " 'assignedPermissionsDateUpdated': None,\n",
       " 'location': '',\n",
       " 'uuid': '5ee160b4-51fa-4baf-8d36-145be6a247c0',\n",
       " 'md5Hash': '1316e622c535fcfef109f75484910f38'}"
      ]
     },
     "execution_count": null,
     "metadata": {},
     "output_type": "execute_result"
    }
   ],
   "source": [
    "response.json()"
   ]
  },
  {
   "cell_type": "markdown",
   "metadata": {},
   "source": [
    "If you look above, you see that a copy of the file was created in the same location, but now the file is named example_1(1).yxzp.  \n",
    "\n",
    "NOTE: It WAS named that in the payload.  Update at noon on 4/27/20 seems to have broken this, so that the UI shows the example_1(1) name, but the vfs path appears to now have a uid appended to it.\n",
    "\n",
    "This is because the default conflict action is 'CREATE_COPY'.  "
   ]
  },
  {
   "cell_type": "markdown",
   "metadata": {},
   "source": [
    "#### Upload a file with MERGE command\n",
    "\n",
    "Let's now repeat the call, but this time let's specify 'MERGE' as the conflict action.  Also, we're changing the source of the file to a larger one, to ensure that the contentSize property in the JSON response proves that the file has been updated."
   ]
  },
  {
   "cell_type": "code",
   "execution_count": null,
   "metadata": {},
   "outputs": [],
   "source": [
    "#hide\n",
    "\n",
    "# Unit test code for download files\n",
    "\n",
    "from unittest.mock import Mock\n",
    "\n",
    "from yx_motor.tests.utils.unit_test_helpers import (\n",
    "    files_test_pickles,\n",
    "    unpickle_object\n",
    ")\n",
    "\n",
    "api = Mock()\n",
    "api.post = Mock()\n",
    "api.post.return_value = unpickle_object(files_test_pickles.upload_merge_file)\n",
    "\n",
    "files = Files(api)"
   ]
  },
  {
   "cell_type": "code",
   "execution_count": null,
   "metadata": {},
   "outputs": [],
   "source": [
    "response = files.upload_file(filename=r\"example_downloads/some_name.yxmd\",\n",
    "                             upload_path=\"/Workspaces/Public/example_1.yxzp\",\n",
    "                             conflict_action='MERGE')"
   ]
  },
  {
   "cell_type": "code",
   "execution_count": null,
   "metadata": {},
   "outputs": [
    {
     "data": {
      "text/plain": [
       "{'folderType': None,\n",
       " 'comment': None,\n",
       " 'maxVersion': 2,\n",
       " 'links': None,\n",
       " 'created': '2020-08-04T22:55:02.066Z',\n",
       " 'versionCreated': '2020-08-04T22:56:49.425Z',\n",
       " 'metaHash': '54cdf04ba27078ce1a537f264048e53ee6ade4dcbfcc6bc483c58861909cf184',\n",
       " 'isHidden': False,\n",
       " 'assetCategory': 'WORKFLOW_APP',\n",
       " 'extension': 'yxzp',\n",
       " 'onlyOwnerShares': False,\n",
       " 'onlySiteAdminShares': False,\n",
       " 'contentId': '03cfebd9-a031-4b98-a1ec-7176224e0762',\n",
       " 'contentHash': 'c1d63578a41c19764af294616acac0f84c6aa40781496b643ebcbf644b79b642',\n",
       " 'contentSize': 4055,\n",
       " 'entryOwner': {'avatar': None,\n",
       "  'email': 'apiuser@example.com',\n",
       "  'firstName': 'Aaaaaaaaaaa',\n",
       "  'id': 'd57f3054-8eeb-4993-b021-cc7c6764d27c',\n",
       "  'lastName': 'ApiTest',\n",
       "  'name': 'Aaaaaaaaaaa ApiTest',\n",
       "  'userName': 'apiuser'},\n",
       " 'metadata': {'tools': [],\n",
       "  'yxType': 'WORKFLOW',\n",
       "  'vfsInputs': {},\n",
       "  'dependencies': {},\n",
       "  'parsedHashes': [],\n",
       "  'workflowInfo': {'isE2': False,\n",
       "   'modules': ['Magic-8-Ball.yxmd'],\n",
       "   'otherFiles': []}},\n",
       " 'fileName': 'example_1.yxzp',\n",
       " 'inherits': True,\n",
       " 'path': '/Workspaces/Public/example_1.yxzp',\n",
       " 'version': 2,\n",
       " 'assignedPermissionsDateUpdated': None,\n",
       " 'location': '',\n",
       " 'uuid': '5ee160b4-51fa-4baf-8d36-145be6a247c0',\n",
       " 'md5Hash': '5d7daa67eb92d429e8b215654d9f52f9'}"
      ]
     },
     "execution_count": null,
     "metadata": {},
     "output_type": "execute_result"
    }
   ],
   "source": [
    "response.json()"
   ]
  },
  {
   "cell_type": "markdown",
   "metadata": {},
   "source": [
    "In the payload above, you can see that the version of the file is now 2, and that it's contentSize property is now 4055, bigger than the original 2176 value.\n",
    "\n",
    "This demonstrates that the file has indeed been updated in place, with a versioned copy.  \n",
    "\n",
    "This MERGE command has a very powerful property:\n",
    "\n",
    "It uses a \"content hash\" on the file being uploaded to detect if the file has actually changed.  If we run the above command again, with the same file, we will see that the file's version remains the same."
   ]
  },
  {
   "cell_type": "code",
   "execution_count": null,
   "metadata": {},
   "outputs": [],
   "source": [
    "# Extract the file uuid from the response to demonstrate the get versions module later.\n",
    "uploaded_file_uuid = response.json()['uuid']"
   ]
  },
  {
   "cell_type": "code",
   "execution_count": null,
   "metadata": {},
   "outputs": [
    {
     "data": {
      "text/markdown": [
       "<h4 id=\"Files.get_file_versions\" class=\"doc_header\"><code>Files.get_file_versions</code><a href=\"__main__.py#L56\" class=\"source_link\" style=\"float:right\">[source]</a></h4>\n",
       "\n",
       "> <code>Files.get_file_versions</code>(**`file_uuid`**:`str`)\n",
       "\n"
      ],
      "text/plain": [
       "<IPython.core.display.Markdown object>"
      ]
     },
     "metadata": {},
     "output_type": "display_data"
    }
   ],
   "source": [
    "from nbdev.showdoc import *\n",
    "show_doc(Files.get_file_versions)"
   ]
  },
  {
   "cell_type": "markdown",
   "metadata": {},
   "source": [
    "The get_file_versions method returns a list of all of the versions for a given VFS asset.\n",
    "\n",
    "**Arguments**:\n",
    "- file_uuid: VFS Asset unique identifier for the VFS file you want to get versions for."
   ]
  },
  {
   "cell_type": "code",
   "execution_count": null,
   "metadata": {},
   "outputs": [],
   "source": [
    "#hide\n",
    "\n",
    "# Unit test code for download files\n",
    "\n",
    "from unittest.mock import Mock\n",
    "\n",
    "from yx_motor.tests.utils.unit_test_helpers import (\n",
    "    files_test_pickles,\n",
    "    unpickle_object\n",
    ")\n",
    "\n",
    "api = Mock()\n",
    "api.get = Mock()\n",
    "api.get.return_value = unpickle_object(files_test_pickles.get_file_versions)\n",
    "\n",
    "files = Files(api)"
   ]
  },
  {
   "cell_type": "code",
   "execution_count": null,
   "metadata": {},
   "outputs": [],
   "source": [
    "response = files.get_file_versions(file_uuid=uploaded_file_uuid)"
   ]
  },
  {
   "cell_type": "code",
   "execution_count": null,
   "metadata": {},
   "outputs": [
    {
     "data": {
      "text/plain": [
       "[{'version': 2,\n",
       "  'metadata': {'tools': [],\n",
       "   'yxType': 'WORKFLOW',\n",
       "   'vfsInputs': {},\n",
       "   'dependencies': {},\n",
       "   'parsedHashes': [],\n",
       "   'workflowInfo': {'isE2': False,\n",
       "    'modules': ['Magic-8-Ball.yxmd'],\n",
       "    'otherFiles': []}},\n",
       "  'comment': None,\n",
       "  'creator': {'avatar': None,\n",
       "   'email': 'apiuser@example.com',\n",
       "   'firstName': 'Aaaaaaaaaaa',\n",
       "   'id': 'd57f3054-8eeb-4993-b021-cc7c6764d27c',\n",
       "   'lastName': 'ApiTest',\n",
       "   'name': 'Aaaaaaaaaaa ApiTest'},\n",
       "  'owner': {'avatar': None,\n",
       "   'email': 'apiuser@example.com',\n",
       "   'firstName': 'Aaaaaaaaaaa',\n",
       "   'id': 'd57f3054-8eeb-4993-b021-cc7c6764d27c',\n",
       "   'lastName': 'ApiTest',\n",
       "   'name': 'Aaaaaaaaaaa ApiTest'},\n",
       "  'createdAt': '2020-08-04T22:57:59.824Z'},\n",
       " {'version': 1,\n",
       "  'metadata': {'tools': [],\n",
       "   'yxType': 'WORKFLOW',\n",
       "   'vfsInputs': {},\n",
       "   'dependencies': {},\n",
       "   'parsedHashes': [],\n",
       "   'workflowInfo': {'isE2': False,\n",
       "    'modules': ['Magic-8-Ball.yxmd'],\n",
       "    'otherFiles': []}},\n",
       "  'comment': None,\n",
       "  'creator': {'avatar': None,\n",
       "   'email': 'apiuser@example.com',\n",
       "   'firstName': 'Aaaaaaaaaaa',\n",
       "   'id': 'd57f3054-8eeb-4993-b021-cc7c6764d27c',\n",
       "   'lastName': 'ApiTest',\n",
       "   'name': 'Aaaaaaaaaaa ApiTest'},\n",
       "  'owner': {'avatar': None,\n",
       "   'email': 'apiuser@example.com',\n",
       "   'firstName': 'Aaaaaaaaaaa',\n",
       "   'id': 'd57f3054-8eeb-4993-b021-cc7c6764d27c',\n",
       "   'lastName': 'ApiTest',\n",
       "   'name': 'Aaaaaaaaaaa ApiTest'},\n",
       "  'createdAt': '2020-08-04T22:55:02.066Z'}]"
      ]
     },
     "execution_count": null,
     "metadata": {},
     "output_type": "execute_result"
    }
   ],
   "source": [
    "response.json()"
   ]
  },
  {
   "cell_type": "code",
   "execution_count": null,
   "metadata": {},
   "outputs": [
    {
     "data": {
      "text/markdown": [
       "<h4 id=\"Files.delete_file\" class=\"doc_header\"><code>Files.delete_file</code><a href=\"__main__.py#L62\" class=\"source_link\" style=\"float:right\">[source]</a></h4>\n",
       "\n",
       "> <code>Files.delete_file</code>(**`asset_path`**:`str`, **`hard`**=*`False`*)\n",
       "\n"
      ],
      "text/plain": [
       "<IPython.core.display.Markdown object>"
      ]
     },
     "metadata": {},
     "output_type": "display_data"
    }
   ],
   "source": [
    "from nbdev.showdoc import *\n",
    "show_doc(Files.delete_file)"
   ]
  },
  {
   "cell_type": "markdown",
   "metadata": {},
   "source": [
    "The delete_file method deletes a given asset located at the specified asset path in the VFS. Optionally, the user can specify whether the delete is permanent (hard=True) or reversable (hard=False).  \n",
    "\n",
    "**Arguments**:\n",
    "- asset_path: The VFS path of the asset the user wants to delete.\n",
    "- hard: (Optional, defaults to False) If true, specifies a hard (permanent) delete. If false, the deleted asset can be restored."
   ]
  },
  {
   "cell_type": "code",
   "execution_count": null,
   "metadata": {},
   "outputs": [],
   "source": [
    "#hide\n",
    "\n",
    "# Unit test code for download files\n",
    "\n",
    "from unittest.mock import Mock\n",
    "\n",
    "from yx_motor.tests.utils.unit_test_helpers import (\n",
    "    files_test_pickles,\n",
    "    unpickle_object\n",
    ")\n",
    "\n",
    "api = Mock()\n",
    "api.post = Mock()\n",
    "api.post.return_value = unpickle_object(files_test_pickles.delete_file)\n",
    "\n",
    "files = Files(api)"
   ]
  },
  {
   "cell_type": "code",
   "execution_count": null,
   "metadata": {},
   "outputs": [],
   "source": [
    "response = files.delete_file(asset_path=r'/Workspaces/Public/example_1.yxzp', \n",
    "                             hard=True)"
   ]
  },
  {
   "cell_type": "code",
   "execution_count": null,
   "metadata": {},
   "outputs": [
    {
     "data": {
      "text/plain": [
       "{'removed': [{'assetPath': '/Workspaces/Public/example_1.yxzp',\n",
       "   'assetId': '5ee160b4-51fa-4baf-8d36-145be6a247c0',\n",
       "   'contentSize': 4055,\n",
       "   'version': 2,\n",
       "   'originalLocation': None,\n",
       "   'folderType': None}],\n",
       " 'failed': []}"
      ]
     },
     "execution_count": null,
     "metadata": {},
     "output_type": "execute_result"
    }
   ],
   "source": [
    "response.json()"
   ]
  },
  {
   "cell_type": "code",
   "execution_count": null,
   "metadata": {},
   "outputs": [
    {
     "data": {
      "text/markdown": [
       "<h4 id=\"Files.move_file\" class=\"doc_header\"><code>Files.move_file</code><a href=\"__main__.py#L74\" class=\"source_link\" style=\"float:right\">[source]</a></h4>\n",
       "\n",
       "> <code>Files.move_file</code>(**`source_path`**:`str`, **`target_path`**:`str`, **`move_type`**=*`'moveFiles'`*, **`versions_action`**=*`'ALL_VERSIONS'`*, **`conflicts_action`**=*`'SKIP'`*)\n",
       "\n"
      ],
      "text/plain": [
       "<IPython.core.display.Markdown object>"
      ]
     },
     "metadata": {},
     "output_type": "display_data"
    }
   ],
   "source": [
    "from nbdev.showdoc import *\n",
    "show_doc(Files.move_file)"
   ]
  },
  {
   "cell_type": "markdown",
   "metadata": {},
   "source": [
    "The move_file method moves a given asset from the source_path in the VFS to the target_path. Optionally, the user can specify the move_type, versions_action, or conflicts_action.\n",
    "\n",
    "**Arguments**:\n",
    "- source_path: The VFS path of the asset the user wants to move.\n",
    "- target_path: The destination path in the VFS where the user wants the file moved to.\n",
    "- move_type: (optional, defaults to moveFiles) If 'moveFiles', moves the file from source_path to target_path. If 'copy', creates a copy of the file in the target_path\n",
    "- versions_action: (optional, defaults to ALL_VERSIONS) specifies if version history should be moved along with the file\n",
    "- conflicts_action: (optional, defaults to SKIP) specifies what should happen if a file with the same name already exists in the target_path. options are SKIP (no action taken), FAIL_OPERATION (return an error), MERGE (update the file in target_path with the new file from source_path)."
   ]
  },
  {
   "cell_type": "code",
   "execution_count": null,
   "metadata": {},
   "outputs": [],
   "source": [
    "#hide\n",
    "\n",
    "# Unit test code for download files\n",
    "\n",
    "from unittest.mock import Mock\n",
    "\n",
    "from yx_motor.tests.utils.unit_test_helpers import (\n",
    "    files_test_pickles,\n",
    "    unpickle_object\n",
    ")\n",
    "\n",
    "api = Mock()\n",
    "api.post = Mock()\n",
    "api.post.return_value = unpickle_object(files_test_pickles.move_file)\n",
    "\n",
    "files = Files(api)"
   ]
  },
  {
   "cell_type": "markdown",
   "metadata": {},
   "source": [
    "### Simple move example\n",
    "\n",
    "Lets try using a move command to rename a file"
   ]
  },
  {
   "cell_type": "code",
   "execution_count": null,
   "metadata": {},
   "outputs": [],
   "source": [
    "response = files.move_file(\n",
    "    r\"/Workspaces/Public/move_file_example.yxmd\",\n",
    "    r\"/Workspaces/Public/move_file_destination.yxmd\"\n",
    ")"
   ]
  },
  {
   "cell_type": "code",
   "execution_count": null,
   "metadata": {},
   "outputs": [
    {
     "data": {
      "text/plain": [
       "[{'assetPath': '/Workspaces/Public/move_file_example.yxmd',\n",
       "  'successMoved': [{'version': 1,\n",
       "    'folderType': None,\n",
       "    'targetId': '037e00a0-16ce-4a2a-a953-704c34772477',\n",
       "    'sourceId': '037e00a0-16ce-4a2a-a953-704c34772477',\n",
       "    'involvedVersions': 1,\n",
       "    'isMergeOperation': False,\n",
       "    'sourcePath': '/Workspaces/Public/move_file_example.yxmd',\n",
       "    'targetPath': '/Workspaces/Public/move_file_destination.yxmd'}]}]"
      ]
     },
     "execution_count": null,
     "metadata": {},
     "output_type": "execute_result"
    }
   ],
   "source": [
    "response.json()"
   ]
  },
  {
   "cell_type": "markdown",
   "metadata": {},
   "source": [
    "### Simple copy example\n",
    "\n",
    "Now, lets try copying a file."
   ]
  },
  {
   "cell_type": "code",
   "execution_count": null,
   "metadata": {},
   "outputs": [],
   "source": [
    "#hide\n",
    "\n",
    "# Unit test code for download files\n",
    "\n",
    "from unittest.mock import Mock\n",
    "\n",
    "from yx_motor.tests.utils.unit_test_helpers import (\n",
    "    files_test_pickles,\n",
    "    unpickle_object\n",
    ")\n",
    "\n",
    "api = Mock()\n",
    "api.post = Mock()\n",
    "api.post.return_value = unpickle_object(files_test_pickles.copy_file)\n",
    "\n",
    "files = Files(api)"
   ]
  },
  {
   "cell_type": "code",
   "execution_count": null,
   "metadata": {},
   "outputs": [],
   "source": [
    "response = files.move_file(\n",
    "    r\"/Workspaces/Public/move_file_example.yxmd\",\n",
    "    r\"/Workspaces/Public/copied_file.yxmd\",\n",
    "    \"copy\"\n",
    ")"
   ]
  },
  {
   "cell_type": "code",
   "execution_count": null,
   "metadata": {},
   "outputs": [
    {
     "data": {
      "text/plain": [
       "[{'assetPath': '/Workspaces/Public/move_file_example.yxmd',\n",
       "  'successCopied': [{'targetPath': '/Workspaces/Public/copied_file.yxmd',\n",
       "    'sourcePath': '/Workspaces/Public/move_file_example.yxmd',\n",
       "    'version': 1,\n",
       "    'folderType': None,\n",
       "    'sourceId': '27be134c-423f-4040-8262-98359be4d2ae',\n",
       "    'involvedVersions': 1,\n",
       "    'isMergeOperation': False,\n",
       "    'targetId': 'fbb72c87-0bcb-4179-bce8-d4149a17e68f'}]}]"
      ]
     },
     "execution_count": null,
     "metadata": {},
     "output_type": "execute_result"
    }
   ],
   "source": [
    "response.json()"
   ]
  },
  {
   "cell_type": "markdown",
   "metadata": {},
   "source": [
    "as you can see, in the response, there is a successCopied json object which contains information on the new file, including the targetId (the uuid of the new file)."
   ]
  },
  {
   "cell_type": "code",
   "execution_count": null,
   "metadata": {},
   "outputs": [
    {
     "data": {
      "text/markdown": [
       "<h4 id=\"Files.restore_deleted_file\" class=\"doc_header\"><code>Files.restore_deleted_file</code><a href=\"__main__.py#L94\" class=\"source_link\" style=\"float:right\">[source]</a></h4>\n",
       "\n",
       "> <code>Files.restore_deleted_file</code>(**`asset_path`**:`str`=*`None`*, **`asset_id`**:`str`=*`None`*)\n",
       "\n"
      ],
      "text/plain": [
       "<IPython.core.display.Markdown object>"
      ]
     },
     "metadata": {},
     "output_type": "display_data"
    }
   ],
   "source": [
    "from nbdev.showdoc import *\n",
    "show_doc(Files.restore_deleted_file)"
   ]
  },
  {
   "cell_type": "markdown",
   "metadata": {},
   "source": [
    "The restore_deleted_file method restores a specified asset. it requires either an asset_path or an asset_id. If both are specified, the asset_id is used. This can only be used to restore assets which were not hard deleted\n",
    "\n",
    "**Arguments**:\n",
    "- asset_path: (Optional) the 'trashPath' to the deleted asset including filename\n",
    "- asset_id: (Optional) the UUID of the deleted asset"
   ]
  },
  {
   "cell_type": "code",
   "execution_count": null,
   "metadata": {},
   "outputs": [],
   "source": [
    "#hide\n",
    "\n",
    "# Unit test code for download files\n",
    "\n",
    "from unittest.mock import Mock\n",
    "\n",
    "from yx_motor.tests.utils.unit_test_helpers import (\n",
    "    files_test_pickles,\n",
    "    unpickle_object\n",
    ")\n",
    "\n",
    "api = Mock()\n",
    "api.post = Mock()\n",
    "api.post.return_value = unpickle_object(files_test_pickles.restore_deleted)\n",
    "\n",
    "files = Files(api)"
   ]
  },
  {
   "cell_type": "markdown",
   "metadata": {},
   "source": [
    "### Restore deleted file by uuid\n",
    "\n",
    "here we will restore a deleted file by pointing to a uuid"
   ]
  },
  {
   "cell_type": "code",
   "execution_count": null,
   "metadata": {},
   "outputs": [],
   "source": [
    "response = files.restore_deleted_file(asset_id='9b75b3d8-56c1-4ce6-bfe1-9aabaea1e65f')"
   ]
  },
  {
   "cell_type": "code",
   "execution_count": null,
   "metadata": {},
   "outputs": [
    {
     "data": {
      "text/plain": [
       "{'failed': [],\n",
       " 'restored': [{'assetPath': '/Trash/delete_file_example.yxmd',\n",
       "   'successRestored': [{'trashPath': '/Trash/delete_file_example.yxmd',\n",
       "     'assetId': '4852b7ce-e84b-4cbc-9f8b-24b304dc4af4',\n",
       "     'folderType': None,\n",
       "     'version': 1,\n",
       "     'restorePath': '/Workspaces/Public/delete_file_example.yxmd'}]}]}"
      ]
     },
     "execution_count": null,
     "metadata": {},
     "output_type": "execute_result"
    }
   ],
   "source": [
    "response.json()"
   ]
  },
  {
   "cell_type": "markdown",
   "metadata": {},
   "source": [
    "### Restore deleted file by asset_path\n",
    "\n",
    "here we will restore a deleted file using the 'trashPath' provided when an asset is deleted."
   ]
  },
  {
   "cell_type": "code",
   "execution_count": null,
   "metadata": {},
   "outputs": [],
   "source": [
    "#hide\n",
    "\n",
    "# Unit test code for download files\n",
    "\n",
    "from unittest.mock import Mock\n",
    "\n",
    "from yx_motor.tests.utils.unit_test_helpers import (\n",
    "    files_test_pickles,\n",
    "    unpickle_object\n",
    ")\n",
    "\n",
    "api = Mock()\n",
    "api.post = Mock()\n",
    "api.post.return_value = unpickle_object(files_test_pickles.restore_deleted_by_path)\n",
    "\n",
    "files = Files(api)"
   ]
  },
  {
   "cell_type": "code",
   "execution_count": null,
   "metadata": {},
   "outputs": [],
   "source": [
    "response = files.restore_deleted_file(asset_path=r'/Trash/delete_file_example.yxmd')"
   ]
  },
  {
   "cell_type": "code",
   "execution_count": null,
   "metadata": {},
   "outputs": [
    {
     "data": {
      "text/plain": [
       "{'failed': [],\n",
       " 'restored': [{'assetPath': '/Trash/delete_file_example.yxmd',\n",
       "   'successRestored': [{'trashPath': '/Trash/delete_file_example.yxmd',\n",
       "     'assetId': '4852b7ce-e84b-4cbc-9f8b-24b304dc4af4',\n",
       "     'folderType': None,\n",
       "     'version': 1,\n",
       "     'restorePath': '/Workspaces/Public/delete_file_example.yxmd'}]}]}"
      ]
     },
     "execution_count": null,
     "metadata": {},
     "output_type": "execute_result"
    }
   ],
   "source": [
    "response.json()"
   ]
  }
 ],
 "metadata": {
  "kernelspec": {
   "display_name": "Python 3",
   "language": "python",
   "name": "python3"
  }
 },
 "nbformat": 4,
 "nbformat_minor": 4
}
