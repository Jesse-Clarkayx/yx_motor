{
 "cells": [
  {
   "cell_type": "code",
   "execution_count": null,
   "metadata": {},
   "outputs": [],
   "source": [
    "# default_exp files"
   ]
  },
  {
   "cell_type": "markdown",
   "metadata": {},
   "source": [
    "# files\n",
    "> Easily upload, download, and manage files on Server."
   ]
  },
  {
   "cell_type": "code",
   "execution_count": null,
   "metadata": {},
   "outputs": [],
   "source": [
    "# export\n",
    "import requests\n",
    "\n",
    "from yx_motor.api import API\n",
    "\n",
    "\n",
    "class Files:\n",
    "    \"Class for handling AAH files endpoints.\"\n",
    "\n",
    "    def __init__(self, api: API):\n",
    "        self.api = api\n",
    "        self.base_endpoint = \"files/\"\n",
    "        self.valid_conflict_actions = ['MERGE', 'CREATE_COPY']\n",
    "\n",
    "    def download_file(self, file_uuid: str, download_path: str, version: int = None):\n",
    "        response = self.api.get(\n",
    "            url=f\"{self.base_endpoint}content\",\n",
    "            params={\"id\": file_uuid, \"version\": version},\n",
    "        )\n",
    "        with open(download_path, \"wb\") as f:\n",
    "            f.write(response.content)\n",
    "        return response\n",
    "\n",
    "    def upload_file(\n",
    "        self,\n",
    "        filename: str,\n",
    "        upload_path: str,\n",
    "        description: str = None,\n",
    "        conflict_action: str = \"CREATE_COPY\",\n",
    "    ):\n",
    "        if conflict_action:\n",
    "            self.validate_conflict_action(conflict_action)\n",
    "            \n",
    "        upload_headers = {\n",
    "            \"Content-Type\": \"application/json\",\n",
    "            \"Accept\": \"*/*\",\n",
    "            \"Accept-Language\": \"en-US,en;q=0.5\",\n",
    "            \"Accept-Encoding\": \"gzip,deflate\",\n",
    "            \"path\": upload_path,\n",
    "            \"description\": description,\n",
    "            \"conflict_action\": conflict_action,\n",
    "        }\n",
    "\n",
    "        with open(filename, \"rb\") as f:\n",
    "            blob = f.read()\n",
    "        response = self.api.post(\n",
    "            url=f\"{self.base_endpoint}\", data=blob, non_default_headers=upload_headers\n",
    "        )\n",
    "        return response\n",
    "\n",
    "    def update_file(self):\n",
    "        # This seems to update metainfo, may not be needed for MVP\n",
    "        # TODO: MVP\n",
    "        pass\n",
    "\n",
    "    def get_file_versions(self, file_uuid: str):\n",
    "        response = self.api.get(\n",
    "            url=f\"{self.base_endpoint}versions/\", params={\"fileUuid\": file_uuid}\n",
    "        )\n",
    "        return response\n",
    "\n",
    "    def delete_file(self, asset_path: str, hard=False):\n",
    "        payload = {\"assetPaths\": [f\"{asset_path}\"]}\n",
    "\n",
    "        if hard == True:\n",
    "            targeturl = \"remove\"\n",
    "        else:\n",
    "            targeturl = \"softDelete\"\n",
    "\n",
    "        response = self.api.post(url=f\"{self.base_endpoint}{targeturl}\", json=payload)\n",
    "\n",
    "        return response\n",
    "\n",
    "    def move_file(\n",
    "        self,\n",
    "        source_path: str,\n",
    "        target_path: str,\n",
    "        move_type=\"move\",\n",
    "        versions_action=\"ALL_VERSIONS\",\n",
    "        conflicts_action=\"SKIP\",\n",
    "    ):\n",
    "        # TODO discuss move_type, move or copy\n",
    "        payload = {\n",
    "            \"assets\": [\n",
    "                {\"sourcePath\": f\"{source_path}\", \"targetPath\": f\"{target_path}\"}\n",
    "            ],\n",
    "            \"targetPath\": \"string\",\n",
    "            \"versionsAction\": f\"{versions_action}\",\n",
    "            \"conflictsAction\": f\"{conflicts_action}\",\n",
    "        }\n",
    "\n",
    "        response = self.api.post(url=f\"{self.base_endpoint}{move_type}\", data=payload)\n",
    "        return response\n",
    "\n",
    "    def restore_deleted_file(self, asset_path: str = None, asset_id: str = None):\n",
    "        asset_paths = {}\n",
    "        asset_ids = {}\n",
    "        if asset_path:\n",
    "            asset_paths = {\"assetPaths\": [f\"{asset_path}\"]}\n",
    "        if asset_id:\n",
    "            asset_ids = {\"assetIds\": [f\"{asset_id}\"]}\n",
    "        payload = {**asset_paths, **asset_ids, **{\"onlyDescendants\": True}}\n",
    "        response = self.api.post(\n",
    "            url=f\"{self.base_endpoint}restoreDeleted\", data=payload\n",
    "        )\n",
    "        return response\n",
    "    \n",
    "    def validate_conflict_action(self, conflict_action: str):\n",
    "        if conflict_action not in self.valid_conflict_actions:\n",
    "            raise ValueError(f\"Specified conflict action must be one of {self.valid_conflict_actions}\")\n",
    "        else:\n",
    "            pass"
   ]
  },
  {
   "cell_type": "code",
   "execution_count": null,
   "metadata": {},
   "outputs": [
    {
     "data": {
      "text/plain": [
       "'\\n1. Upload several files to predetermined path on the VFS.  Extract the UUIDS from the responses,\\nput\\n\\nTODO: Finish this.\\n'"
      ]
     },
     "execution_count": null,
     "metadata": {},
     "output_type": "execute_result"
    }
   ],
   "source": [
    "#hide\n",
    "\n",
    "# Integration Test Scaffolding\n",
    "\n",
    "# Seed the server.  Let's put code in this cell which seeds the server with files.\n",
    "\"\"\"\n",
    "1. Upload several files to predetermined path on the VFS.  Extract the UUIDS from the responses,\n",
    "put\n",
    "\n",
    "TODO: Finish this.\n",
    "\"\"\"\n",
    "\n"
   ]
  },
  {
   "cell_type": "code",
   "execution_count": null,
   "metadata": {},
   "outputs": [
    {
     "name": "stdout",
     "output_type": "stream",
     "text": [
      "Converted 01_client.ipynb.\n",
      "Converted 02_jobs.ipynb.\n",
      "Converted 03_api.ipynb.\n",
      "Converted 04_authenticate.ipynb.\n",
      "Converted 05_files.ipynb.\n",
      "Converted 06_workflows.ipynb.\n",
      "Converted index.ipynb.\n"
     ]
    }
   ],
   "source": [
    "#hide\n",
    "from nbdev.export import *\n",
    "notebook2script()"
   ]
  },
  {
   "cell_type": "code",
   "execution_count": null,
   "metadata": {},
   "outputs": [],
   "source": [
    "#hide\n",
    "from nbdev.sync import script2notebook\n",
    "#script2notebook()"
   ]
  },
  {
   "cell_type": "code",
   "execution_count": null,
   "metadata": {},
   "outputs": [],
   "source": [
    "#hide\n",
    "# just removing the insecure warning for now\n",
    "# TODO: Secure requests and remove this code\n",
    "import urllib3\n",
    "urllib3.disable_warnings(urllib3.exceptions.InsecureRequestWarning)"
   ]
  },
  {
   "cell_type": "code",
   "execution_count": null,
   "metadata": {},
   "outputs": [],
   "source": [
    "#hide\n",
    "from yx_motor.client import Client"
   ]
  },
  {
   "cell_type": "code",
   "execution_count": null,
   "metadata": {},
   "outputs": [],
   "source": [
    "#hide\n",
    "from private import server_vars"
   ]
  },
  {
   "cell_type": "code",
   "execution_count": null,
   "metadata": {},
   "outputs": [],
   "source": [
    "#hide\n",
    "base_url=server_vars['base_url']\n",
    "login_email = server_vars['login_email']\n",
    "login_pwd = server_vars['login_pwd']"
   ]
  },
  {
   "cell_type": "code",
   "execution_count": null,
   "metadata": {},
   "outputs": [
    {
     "name": "stdout",
     "output_type": "stream",
     "text": [
      "POST sent to: https://test.aep-mono.devops.alteryx.com/api/v1/authenticate/\n",
      "with headers: {'User-Agent': 'python-requests/2.23.0', 'Accept-Encoding': 'gzip,deflate', 'Accept': '*/*', 'Connection': 'keep-alive', 'Content-Type': 'application/json', 'Accept-Language': 'en-US,en;q=0.5', 'Content-Length': '59'}\n",
      "Response Status: 200\n"
     ]
    }
   ],
   "source": [
    "#hide\n",
    "example_client = Client(base_url,\n",
    "                  login_email, \n",
    "                  login_pwd)"
   ]
  },
  {
   "cell_type": "markdown",
   "metadata": {},
   "source": [
    "## Examples\n",
    "\n",
    "**Note**:\n",
    "The files commands are intended to be called by users through the Client class.  Below, you will see that to accommodate this, we are creating the files object the same way the Client class does, by passing in an authenticated API object.  \n",
    "\n",
    "In normal practice, a user will simply create a client object, and be able to call `client.files.download_file('xxxxxx-xxxxx')`.\n",
    "\n",
    "However, for this documentation, we are calling the files object directly to better demonstrate the Files class in an isolated fashion."
   ]
  },
  {
   "cell_type": "markdown",
   "metadata": {},
   "source": [
    "### Download Files Example"
   ]
  },
  {
   "cell_type": "code",
   "execution_count": null,
   "metadata": {},
   "outputs": [
    {
     "data": {
      "text/markdown": [
       "<h4 id=\"Files.download_file\" class=\"doc_header\"><code>Files.download_file</code><a href=\"__main__.py#L14\" class=\"source_link\" style=\"float:right\">[source]</a></h4>\n",
       "\n",
       "> <code>Files.download_file</code>(**`file_uuid`**:`str`, **`download_path`**:`str`, **`version`**:`int`=*`None`*)\n",
       "\n"
      ],
      "text/plain": [
       "<IPython.core.display.Markdown object>"
      ]
     },
     "metadata": {},
     "output_type": "display_data"
    }
   ],
   "source": [
    "from nbdev.showdoc import *\n",
    "show_doc(Files.download_file)"
   ]
  },
  {
   "cell_type": "markdown",
   "metadata": {},
   "source": [
    "The download_file method allows a user to pass in the unique identifier for the file, along with the path they wish to download the file to on the client machine.  The file will be downloaded and saved to the path specified.\n",
    "\n",
    "**Arguments**:\n",
    "- file_uuid: The VFS unique identifier for the file the user wishes to download.\n",
    "- download_path: The path on the user's local file system which they wish the file to be persisted to once it is downloaded.\n",
    "- version: Optional.  The version of the VFS asset the user wishes to donwload.  Defaults to latest version if not specified.  TODO: Need to double check this statement."
   ]
  },
  {
   "cell_type": "code",
   "execution_count": null,
   "metadata": {},
   "outputs": [],
   "source": [
    "# Initialize the files object the same way the Client object does.\n",
    "files = Files(example_client.api)"
   ]
  },
  {
   "cell_type": "markdown",
   "metadata": {},
   "source": [
    "Below is the unique identifier for the file we wish to download from the Alteryx Analytics Hub's Virtual File System (VFS)."
   ]
  },
  {
   "cell_type": "code",
   "execution_count": null,
   "metadata": {},
   "outputs": [],
   "source": [
    "asset_id = \"890fbbe9-1dd4-447f-96b2-b0e8f0b246ef\""
   ]
  },
  {
   "cell_type": "markdown",
   "metadata": {},
   "source": [
    "Next, we will trigger the method.  To better illustrate what the download_file method does, we are going to capture the response.  It is important to note that this is not necessary.  Simply calling the `files.download_file` command is all that is necessary to successfully download a file to the specified path.\n",
    "\n",
    "First, let's show the contents of the directory we wish to download the file to."
   ]
  },
  {
   "cell_type": "code",
   "execution_count": null,
   "metadata": {},
   "outputs": [
    {
     "name": "stdout",
     "output_type": "stream",
     "text": [
      " Volume in drive C is Windows\n",
      " Volume Serial Number is AC09-504E\n",
      "\n",
      " Directory of C:\\projects\\yx_motor\\example_downloads\n",
      "\n",
      "04/22/2020  01:01 PM    <DIR>          .\n",
      "04/22/2020  01:01 PM    <DIR>          ..\n",
      "               0 File(s)              0 bytes\n",
      "               2 Dir(s)  698,796,560,384 bytes free\n"
     ]
    }
   ],
   "source": [
    "!dir example_downloads"
   ]
  },
  {
   "cell_type": "markdown",
   "metadata": {},
   "source": [
    "As we can see, the directory is currently empty.\n",
    "\n",
    "Next, let's trigger the download_file command."
   ]
  },
  {
   "cell_type": "code",
   "execution_count": null,
   "metadata": {},
   "outputs": [
    {
     "name": "stdout",
     "output_type": "stream",
     "text": [
      "GET sent to: https://test.aep-mono.devops.alteryx.com/api/v1/files/content?id=890fbbe9-1dd4-447f-96b2-b0e8f0b246ef\n",
      "with headers: {'User-Agent': 'python-requests/2.23.0', 'Accept-Encoding': 'gzip,deflate', 'Accept': '*/*', 'Connection': 'keep-alive', 'Content-Type': 'application/json', 'Accept-Language': 'en-US,en;q=0.5', 'Cookie': 'ayxSession=s%3A1f62c63b-d90e-42da-a0be-a5dd1778f25c.LkDz0OVkusOnSNF17HPBWrenXWI7ksWopso52HIY3No'}\n",
      "Response Status: 200\n"
     ]
    }
   ],
   "source": [
    "response = files.download_file(file_uuid=asset_id,\n",
    "                               download_path=r\"example_downloads/aah_workflow.yxmd\")"
   ]
  },
  {
   "cell_type": "markdown",
   "metadata": {},
   "source": [
    "Now let's check the same directory from above.  We will inspect the response object after this."
   ]
  },
  {
   "cell_type": "code",
   "execution_count": null,
   "metadata": {},
   "outputs": [
    {
     "name": "stdout",
     "output_type": "stream",
     "text": [
      " Volume in drive C is Windows\n",
      " Volume Serial Number is AC09-504E\n",
      "\n",
      " Directory of C:\\projects\\yx_motor\\example_downloads\n",
      "\n",
      "04/22/2020  01:05 PM    <DIR>          .\n",
      "04/22/2020  01:05 PM    <DIR>          ..\n",
      "04/22/2020  01:05 PM             3,200 aah_workflow.yxmd\n",
      "               1 File(s)          3,200 bytes\n",
      "               2 Dir(s)  698,800,398,336 bytes free\n"
     ]
    }
   ],
   "source": [
    "!dir example_downloads"
   ]
  },
  {
   "cell_type": "markdown",
   "metadata": {},
   "source": [
    "As you can see, the workflow has been downloaded to the specified location.\n",
    "\n",
    "Now, let's inspect the response object."
   ]
  },
  {
   "cell_type": "code",
   "execution_count": null,
   "metadata": {},
   "outputs": [
    {
     "data": {
      "text/plain": [
       "b'<?xml version=\"1.0\"?>\\n<AlteryxDocument yxmdVer=\"2019.1\">\\n  <Nodes>\\n    <Node ToolID=\"2\">\\n      <GuiSettings Plugin=\"AlteryxBasePluginsGui.GenerateRows.GenerateRows\">\\n        <Position x=\"318\" y=\"258\" />\\n      </GuiSettings>\\n      <Properties>\\n        <Configuration>\\n          <UpdateField value=\"False\" />\\n          <UpdateField_Name />\\n          <CreateField_Name>RowCount</CreateField_Name>\\n          <CreateField_Type>Int32</CreateField_Type>\\n          <CreateField_Size>4</CreateField_Size>\\n          <Expression_Init>1</Expression_Init>\\n          <Expression_Cond>RowCount &lt;= 100000000</Expression_Cond>\\n          <Expression_Loop>RowCount + 1</Expression_Loop>\\n        </Configuration>\\n        <Annotation DisplayMode=\"0\">\\n          <Name />\\n          <DefaultAnnotationText />\\n          <Left value=\"False\" />\\n        </Annotation>\\n      </Properties>\\n      <EngineSettings EngineDll=\"AlteryxBasePluginsEngine.dll\" EngineDllEntryPoint=\"AlteryxGenerateRows\" />\\n    </Node>\\n    <Node ToolID=\"3\">\\n      <GuiSettings Plugin=\"AlteryxBasePluginsGui.DbFileOutput.DbFileOutput\">\\n        <Position x=\"438\" y=\"258\" />\\n      </GuiSettings>\\n      <Properties>\\n        <Configuration>\\n          <File FileFormat=\"19\" MaxRecords=\"\">output.yxdb</File>\\n          <Passwords />\\n          <FormatSpecificOptions>\\n            <NoSpatialIndex>False</NoSpatialIndex>\\n            <SaveSource>True</SaveSource>\\n          </FormatSpecificOptions>\\n          <MultiFile value=\"False\" />\\n        </Configuration>\\n        <Annotation DisplayMode=\"0\">\\n          <Name />\\n          <DefaultAnnotationText>output.yxdb</DefaultAnnotationText>\\n          <Left value=\"False\" />\\n        </Annotation>\\n        <Dependencies>\\n          <Implicit />\\n        </Dependencies>\\n      </Properties>\\n      <EngineSettings EngineDll=\"AlteryxBasePluginsEngine.dll\" EngineDllEntryPoint=\"AlteryxDbFileOutput\" />\\n    </Node>\\n  </Nodes>\\n  <Connections>\\n    <Connection>\\n      <Origin ToolID=\"2\" Connection=\"Output\" />\\n      <Destination ToolID=\"3\" Connection=\"Input\" />\\n    </Connection>\\n  </Connections>\\n  <Properties>\\n    <Memory default=\"True\" />\\n    <GlobalRecordLimit value=\"0\" />\\n    <TempFiles default=\"True\" />\\n    <Annotation on=\"True\" includeToolName=\"False\" />\\n    <ConvErrorLimit value=\"10\" />\\n    <ConvErrorLimit_Stop value=\"False\" />\\n    <CancelOnError value=\"False\" />\\n    <DisableBrowse value=\"False\" />\\n    <EnablePerformanceProfiling value=\"False\" />\\n    <DisableAllOutput value=\"False\" />\\n    <ShowAllMacroMessages value=\"False\" />\\n    <ShowConnectionStatusIsOn value=\"True\" />\\n    <ShowConnectionStatusOnlyWhenRunning value=\"True\" />\\n    <ZoomLevel value=\"0\" />\\n    <LayoutType>Horizontal</LayoutType>\\n    <MetaInfo>\\n      <NameIsFileName value=\"True\" />\\n      <Name>MillionsOfRows</Name>\\n      <Description />\\n      <RootToolName />\\n      <ToolVersion />\\n      <ToolInDb value=\"False\" />\\n      <CategoryName />\\n      <SearchTags />\\n      <Author />\\n      <Company />\\n      <Copyright />\\n      <DescriptionLink actual=\"\" displayed=\"\" />\\n      <Example>\\n        <Description />\\n        <File />\\n      </Example>\\n    </MetaInfo>\\n    <Events>\\n      <Enabled value=\"True\" />\\n    </Events>\\n  </Properties>\\n</AlteryxDocument>'"
      ]
     },
     "execution_count": null,
     "metadata": {},
     "output_type": "execute_result"
    }
   ],
   "source": [
    "response.content # The requested file is attached to the response as a binary object."
   ]
  },
  {
   "cell_type": "markdown",
   "metadata": {},
   "source": [
    "Here, we see that the binary object is indeed an Alteryx workflow."
   ]
  },
  {
   "cell_type": "markdown",
   "metadata": {},
   "source": [
    "### Upload Files Example"
   ]
  },
  {
   "cell_type": "code",
   "execution_count": null,
   "metadata": {},
   "outputs": [
    {
     "data": {
      "text/markdown": [
       "<h4 id=\"Files.upload_file\" class=\"doc_header\"><code>Files.upload_file</code><a href=\"__main__.py#L24\" class=\"source_link\" style=\"float:right\">[source]</a></h4>\n",
       "\n",
       "> <code>Files.upload_file</code>(**`filename`**:`str`, **`upload_path`**:`str`, **`description`**:`str`=*`None`*, **`conflict_action`**:`str`=*`'CREATE_COPY'`*)\n",
       "\n"
      ],
      "text/plain": [
       "<IPython.core.display.Markdown object>"
      ]
     },
     "metadata": {},
     "output_type": "display_data"
    }
   ],
   "source": [
    "from nbdev.showdoc import *\n",
    "show_doc(Files.upload_file)"
   ]
  },
  {
   "cell_type": "markdown",
   "metadata": {},
   "source": [
    "The upload_file method allows a user to upload a file from their local filesytem to the Alteryx Analytics Hub's Virtual File System (VFS).\n",
    "\n",
    "TODO: Need to rename the filename argument to file_path to avoid confusion.\n",
    "\n",
    "**Arguments**:\n",
    "- filename: Path to the file on the user's local file system\n",
    "- upload_path: The path on the AAH VFS the user wishes the file to be uploaded to.\n",
    "- description: Optional.  Description the user wants to be attached to the file in the VFS.\n",
    "- conflict_action: Defaults to 'CREATE_COPY'.  One of 'CREATE_COPY'| 'MERGE'\n",
    "    - CREATE_COPY: If file already exists at specified path, a copy is created.\n",
    "    - MERGE: If file already exists, new version is created at same location.\n"
   ]
  },
  {
   "cell_type": "code",
   "execution_count": null,
   "metadata": {},
   "outputs": [],
   "source": [
    "# Initialize the files object the same way the Client object does.\n",
    "files = Files(example_client.api)"
   ]
  },
  {
   "cell_type": "markdown",
   "metadata": {},
   "source": [
    "#### Simple Upload Example\n",
    "\n",
    "Let's upload a yxzp file in our local filesystem to a location on Alteryx Analytics Hub's VFS, specified via the upload_path parameter."
   ]
  },
  {
   "cell_type": "code",
   "execution_count": null,
   "metadata": {},
   "outputs": [
    {
     "name": "stdout",
     "output_type": "stream",
     "text": [
      "POST sent to: https://test.aep-mono.devops.alteryx.com/api/v1/files/\n",
      "with headers: {'User-Agent': 'python-requests/2.23.0', 'Accept-Encoding': 'gzip,deflate', 'Accept': '*/*', 'Connection': 'keep-alive', 'Content-Type': 'application/json', 'Accept-Language': 'en-US,en;q=0.5', 'path': '/Workspaces/Public/example_1.yxzp', 'conflict_action': 'CREATE_COPY', 'Cookie': 'ayxSession=s%3Aa4e6c322-5a8d-4909-ad85-0f72de9e19cf.jbxJCEZNLq3mmxW0RWJbCiayPjQvxEj0sP2moTAkFZs', 'Content-Length': '2176'}\n",
      "Response Status: 200\n"
     ]
    }
   ],
   "source": [
    "response = files.upload_file(filename=r\"test.yxzp\",\n",
    "                             upload_path=\"/Workspaces/Public/example_1.yxzp\")"
   ]
  },
  {
   "cell_type": "code",
   "execution_count": null,
   "metadata": {},
   "outputs": [
    {
     "data": {
      "text/plain": [
       "{'fileName': 'example_1.yxzp',\n",
       " 'extension': 'yxzp',\n",
       " 'inherits': True,\n",
       " 'isHidden': False,\n",
       " 'onlyOwnerShares': False,\n",
       " 'path': '/Workspaces/Public/example_1.yxzp',\n",
       " 'folderType': None,\n",
       " 'version': 1,\n",
       " 'created': '2020-04-28T15:56:36.357Z',\n",
       " 'versionCreated': '2020-04-28T15:56:36.357Z',\n",
       " 'maxVersion': 1,\n",
       " 'links': None,\n",
       " 'location': '',\n",
       " 'uuid': '51cc3f05-2bed-4854-83e4-905465af9957',\n",
       " 'metaHash': 'd214d65ab55a2a1c73de7c90fcc1aecfc28dd88dbec71cdeaeb3ffb1ef170053',\n",
       " 'metadata': {'yxType': 'WORKFLOW_APP'},\n",
       " 'contentHash': 'b7960c08c75e5e4e2bcf5fa32582eee75a07560554c6993c603759a8a2ce2f5f',\n",
       " 'contentId': '6925a8c7-09f8-4dea-b365-b117130d597a',\n",
       " 'contentSize': 2176,\n",
       " 'entryOwner': {'avatar': None,\n",
       "  'email': 'siteadmin3@example.com',\n",
       "  'firstName': 'Seeded',\n",
       "  'id': '0625e3e2-10fb-4df6-99c6-4e38712c9c36',\n",
       "  'lastName': 'siteadmin3',\n",
       "  'name': 'Seeded siteadmin3',\n",
       "  'userName': 'siteadmin3'},\n",
       " 'md5Hash': '1316e622c535fcfef109f75484910f38',\n",
       " 'assetCategory': 'WORKFLOW_APP',\n",
       " 'onlySiteAdminShares': False}"
      ]
     },
     "execution_count": null,
     "metadata": {},
     "output_type": "execute_result"
    }
   ],
   "source": [
    "response.json()"
   ]
  },
  {
   "cell_type": "markdown",
   "metadata": {},
   "source": [
    "Above, we can see that the response shows the file was successfully uploaded to the upload path we specified.  "
   ]
  },
  {
   "cell_type": "markdown",
   "metadata": {},
   "source": [
    "#### Upload with duplicate file example\n",
    "\n",
    "What happens if we upload the same file twice?  Let's run the same line of code a second time to see."
   ]
  },
  {
   "cell_type": "code",
   "execution_count": null,
   "metadata": {},
   "outputs": [
    {
     "name": "stdout",
     "output_type": "stream",
     "text": [
      "POST sent to: https://test.aep-mono.devops.alteryx.com/api/v1/files/\n",
      "with headers: {'User-Agent': 'python-requests/2.23.0', 'Accept-Encoding': 'gzip,deflate', 'Accept': '*/*', 'Connection': 'keep-alive', 'Content-Type': 'application/json', 'Accept-Language': 'en-US,en;q=0.5', 'path': '/Workspaces/Public/example_1.yxzp', 'conflict_action': 'CREATE_COPY', 'Cookie': 'ayxSession=s%3A9da4a129-5363-4127-8554-8a7c54202951.bPxpXPlo4zYsmjVBXhKuQ%2BYu2n5KFpD36z7pkSrbjW4', 'Content-Length': '2176'}\n",
      "Response Status: 200\n"
     ]
    }
   ],
   "source": [
    "response = files.upload_file(filename=r\"test.yxzp\",\n",
    "                             upload_path=\"/Workspaces/Public/example_1.yxzp\")"
   ]
  },
  {
   "cell_type": "code",
   "execution_count": null,
   "metadata": {},
   "outputs": [
    {
     "data": {
      "text/plain": [
       "{'fileName': 'example_128129.yxzp',\n",
       " 'extension': 'yxzp',\n",
       " 'inherits': True,\n",
       " 'isHidden': False,\n",
       " 'onlyOwnerShares': False,\n",
       " 'path': '/Workspaces/Public/example_128129.yxzp',\n",
       " 'folderType': None,\n",
       " 'version': 1,\n",
       " 'created': '2020-04-27T18:42:54.938Z',\n",
       " 'versionCreated': '2020-04-27T18:42:54.938Z',\n",
       " 'maxVersion': 1,\n",
       " 'links': None,\n",
       " 'location': '',\n",
       " 'uuid': '314a8283-0bb7-43b8-84b7-70d5fa734c6f',\n",
       " 'metaHash': 'd214d65ab55a2a1c73de7c90fcc1aecfc28dd88dbec71cdeaeb3ffb1ef170053',\n",
       " 'metadata': {'yxType': 'WORKFLOW_APP'},\n",
       " 'contentHash': 'b7960c08c75e5e4e2bcf5fa32582eee75a07560554c6993c603759a8a2ce2f5f',\n",
       " 'contentId': '52d6897a-a07c-47aa-a66e-e85dfb2f6399',\n",
       " 'contentSize': 2176,\n",
       " 'entryOwner': {'avatar': None,\n",
       "  'email': 'siteadmin3@example.com',\n",
       "  'firstName': 'Seeded',\n",
       "  'id': '977d6d2d-a6be-4533-9d29-c8936138b833',\n",
       "  'lastName': 'siteadmin3',\n",
       "  'name': 'Seeded siteadmin3',\n",
       "  'userName': 'siteadmin3'},\n",
       " 'md5Hash': '1316e622c535fcfef109f75484910f38',\n",
       " 'assetCategory': 'WORKFLOW_APP',\n",
       " 'onlySiteAdminShares': False}"
      ]
     },
     "execution_count": null,
     "metadata": {},
     "output_type": "execute_result"
    }
   ],
   "source": [
    "response.json()"
   ]
  },
  {
   "cell_type": "markdown",
   "metadata": {},
   "source": [
    "If you look above, you see that a copy of the file was created in the same location, but now the file is named example_1(1).yxzp.  \n",
    "\n",
    "NOTE: It WAS named that in the payload.  Update at noon on 4/27/20 seems to have broken this, so that the UI shows the example_1(1) name, but the vfs path appears to now have a uid appended to it.\n",
    "\n",
    "This is because the default conflict action is 'CREATE_COPY'.  "
   ]
  },
  {
   "cell_type": "markdown",
   "metadata": {},
   "source": [
    "#### Upload a file with MERGE command\n",
    "\n",
    "Let's now repeat the call, but this time let's specify 'MERGE' as the conflict action.  Also, we're changing the source of the file to a larger one, to ensure that the contentSize property in the JSON response proves that the file has been updated."
   ]
  },
  {
   "cell_type": "code",
   "execution_count": null,
   "metadata": {},
   "outputs": [
    {
     "name": "stdout",
     "output_type": "stream",
     "text": [
      "POST sent to: https://test.aep-mono.devops.alteryx.com/api/v1/files/\n",
      "with headers: {'User-Agent': 'python-requests/2.23.0', 'Accept-Encoding': 'gzip,deflate', 'Accept': '*/*', 'Connection': 'keep-alive', 'Content-Type': 'application/json', 'Accept-Language': 'en-US,en;q=0.5', 'path': '/Workspaces/Public/example_1.yxzp', 'conflict_action': 'MERGE', 'Cookie': 'ayxSession=s%3A9da4a129-5363-4127-8554-8a7c54202951.bPxpXPlo4zYsmjVBXhKuQ%2BYu2n5KFpD36z7pkSrbjW4', 'Content-Length': '4055'}\n",
      "Response Status: 200\n"
     ]
    }
   ],
   "source": [
    "response = files.upload_file(filename=r\"czech_devops.yxmd\",\n",
    "                             upload_path=\"/Workspaces/Public/example_1.yxzp\",\n",
    "                             conflict_action='MERGE')"
   ]
  },
  {
   "cell_type": "code",
   "execution_count": null,
   "metadata": {},
   "outputs": [
    {
     "data": {
      "text/plain": [
       "{'fileName': 'example_1.yxzp',\n",
       " 'extension': 'yxzp',\n",
       " 'inherits': True,\n",
       " 'isHidden': False,\n",
       " 'onlyOwnerShares': False,\n",
       " 'path': '/Workspaces/Public/example_1.yxzp',\n",
       " 'folderType': None,\n",
       " 'version': 2,\n",
       " 'created': '2020-04-27T18:42:21.595Z',\n",
       " 'versionCreated': '2020-04-27T22:44:26.724Z',\n",
       " 'maxVersion': 2,\n",
       " 'links': None,\n",
       " 'location': '',\n",
       " 'uuid': 'd0c39ee9-4725-49ed-966b-c03dbf33005d',\n",
       " 'metaHash': '105263d9a1f6534fbbbb9abed4c9b7815c145c6792fcf66df7bb5576c6474af1',\n",
       " 'metadata': {'tools': [],\n",
       "  'yxType': 'WORKFLOW',\n",
       "  'vfsInputs': {},\n",
       "  'workflowInfo': {'isE2': False, 'modules': ['Magic-8-Ball.yxmd']},\n",
       "  'packageAssets': ['Magic-8-Ball.yxmd']},\n",
       " 'contentHash': 'c1d63578a41c19764af294616acac0f84c6aa40781496b643ebcbf644b79b642',\n",
       " 'contentId': 'b07087f3-3c39-4349-88f0-363f94afa570',\n",
       " 'contentSize': 4055,\n",
       " 'entryOwner': {'avatar': None,\n",
       "  'email': 'siteadmin3@example.com',\n",
       "  'firstName': 'Seeded',\n",
       "  'id': '977d6d2d-a6be-4533-9d29-c8936138b833',\n",
       "  'lastName': 'siteadmin3',\n",
       "  'name': 'Seeded siteadmin3',\n",
       "  'userName': 'siteadmin3'},\n",
       " 'md5Hash': '5d7daa67eb92d429e8b215654d9f52f9',\n",
       " 'assetCategory': 'WORKFLOW_APP',\n",
       " 'onlySiteAdminShares': False}"
      ]
     },
     "execution_count": null,
     "metadata": {},
     "output_type": "execute_result"
    }
   ],
   "source": [
    "response.json()"
   ]
  },
  {
   "cell_type": "markdown",
   "metadata": {},
   "source": [
    "In the payload above, you can see that the version of the file is now 2, and that it's contentSize property is now 4055, bigger than the original 2176 value.\n",
    "\n",
    "This demonstrates that the file has indeed been updated in place, with a versioned copy.  \n",
    "\n",
    "This MERGE command has a very powerful property:\n",
    "\n",
    "It uses a \"content hash\" on the file being uploaded to detect if the file has actually changed.  If we run the above command again, with the same file, we will see that the file's version remains the same."
   ]
  },
  {
   "cell_type": "code",
   "execution_count": null,
   "metadata": {},
   "outputs": [],
   "source": [
    "# Extract the file uuid from the response to demonstrate the get versions module later.\n",
    "uploaded_file_uuid = response.json()['uuid']"
   ]
  },
  {
   "cell_type": "code",
   "execution_count": null,
   "metadata": {},
   "outputs": [
    {
     "data": {
      "text/markdown": [
       "<h4 id=\"Files.get_file_versions\" class=\"doc_header\"><code>Files.get_file_versions</code><a href=\"__main__.py#L56\" class=\"source_link\" style=\"float:right\">[source]</a></h4>\n",
       "\n",
       "> <code>Files.get_file_versions</code>(**`file_uuid`**:`str`)\n",
       "\n"
      ],
      "text/plain": [
       "<IPython.core.display.Markdown object>"
      ]
     },
     "metadata": {},
     "output_type": "display_data"
    }
   ],
   "source": [
    "from nbdev.showdoc import *\n",
    "show_doc(Files.get_file_versions)"
   ]
  },
  {
   "cell_type": "markdown",
   "metadata": {},
   "source": [
    "The get_file_versions method returns a list of all of the versions for a given VFS asset.\n",
    "\n",
    "**Arguments**:\n",
    "- file_uuid: VFS Asset unique identifier for the VFS file you want to get versions for."
   ]
  },
  {
   "cell_type": "code",
   "execution_count": null,
   "metadata": {},
   "outputs": [],
   "source": [
    "# Initialize the files object the same way the Client object does.\n",
    "files = Files(example_client.api)"
   ]
  },
  {
   "cell_type": "code",
   "execution_count": null,
   "metadata": {},
   "outputs": [
    {
     "name": "stdout",
     "output_type": "stream",
     "text": [
      "GET sent to: https://test.aep-mono.devops.alteryx.com/api/v1/files/versions/?fileUuid=d0c39ee9-4725-49ed-966b-c03dbf33005d\n",
      "with headers: {'User-Agent': 'python-requests/2.23.0', 'Accept-Encoding': 'gzip,deflate', 'Accept': '*/*', 'Connection': 'keep-alive', 'Content-Type': 'application/json', 'Accept-Language': 'en-US,en;q=0.5', 'Cookie': 'ayxSession=s%3A9da4a129-5363-4127-8554-8a7c54202951.bPxpXPlo4zYsmjVBXhKuQ%2BYu2n5KFpD36z7pkSrbjW4'}\n",
      "Response Status: 200\n"
     ]
    }
   ],
   "source": [
    "response = files.get_file_versions(file_uuid=uploaded_file_uuid)"
   ]
  },
  {
   "cell_type": "code",
   "execution_count": null,
   "metadata": {},
   "outputs": [
    {
     "data": {
      "text/plain": [
       "[{'version': 2,\n",
       "  'metadata': {'tools': [],\n",
       "   'yxType': 'WORKFLOW',\n",
       "   'vfsInputs': {},\n",
       "   'workflowInfo': {'isE2': False, 'modules': ['Magic-8-Ball.yxmd']},\n",
       "   'packageAssets': ['Magic-8-Ball.yxmd']},\n",
       "  'comment': None,\n",
       "  'creator': {'avatar': None,\n",
       "   'email': 'siteadmin3@example.com',\n",
       "   'firstName': 'Seeded',\n",
       "   'id': '977d6d2d-a6be-4533-9d29-c8936138b833',\n",
       "   'lastName': 'siteadmin3',\n",
       "   'name': 'Seeded siteadmin3'},\n",
       "  'owner': {'avatar': None,\n",
       "   'email': 'siteadmin3@example.com',\n",
       "   'firstName': 'Seeded',\n",
       "   'id': '977d6d2d-a6be-4533-9d29-c8936138b833',\n",
       "   'lastName': 'siteadmin3',\n",
       "   'name': 'Seeded siteadmin3'},\n",
       "  'createdAt': '2020-04-27T22:44:26.724Z'},\n",
       " {'version': 1,\n",
       "  'metadata': {'tools': [],\n",
       "   'yxType': 'WORKFLOW',\n",
       "   'vfsInputs': {},\n",
       "   'workflowInfo': {'isE2': False, 'modules': ['Magic-8-Ball.yxmd']},\n",
       "   'packageAssets': ['Magic-8-Ball.yxmd']},\n",
       "  'comment': None,\n",
       "  'creator': {'avatar': None,\n",
       "   'email': 'siteadmin3@example.com',\n",
       "   'firstName': 'Seeded',\n",
       "   'id': '977d6d2d-a6be-4533-9d29-c8936138b833',\n",
       "   'lastName': 'siteadmin3',\n",
       "   'name': 'Seeded siteadmin3'},\n",
       "  'owner': {'avatar': None,\n",
       "   'email': 'siteadmin3@example.com',\n",
       "   'firstName': 'Seeded',\n",
       "   'id': '977d6d2d-a6be-4533-9d29-c8936138b833',\n",
       "   'lastName': 'siteadmin3',\n",
       "   'name': 'Seeded siteadmin3'},\n",
       "  'createdAt': '2020-04-27T18:42:21.595Z'}]"
      ]
     },
     "execution_count": null,
     "metadata": {},
     "output_type": "execute_result"
    }
   ],
   "source": [
    "response.json()"
   ]
  },
  {
   "cell_type": "code",
   "execution_count": null,
   "metadata": {},
   "outputs": [
    {
     "data": {
      "text/markdown": [
       "<h4 id=\"Files.delete_file\" class=\"doc_header\"><code>Files.delete_file</code><a href=\"__main__.py#L62\" class=\"source_link\" style=\"float:right\">[source]</a></h4>\n",
       "\n",
       "> <code>Files.delete_file</code>(**`asset_path`**:`str`, **`hard`**=*`False`*)\n",
       "\n"
      ],
      "text/plain": [
       "<IPython.core.display.Markdown object>"
      ]
     },
     "metadata": {},
     "output_type": "display_data"
    }
   ],
   "source": [
    "from nbdev.showdoc import *\n",
    "show_doc(Files.delete_file)"
   ]
  },
  {
   "cell_type": "markdown",
   "metadata": {},
   "source": [
    "The delete_file method deletes a given asset located at the specified asset path in the VFS. Optionally, the user can specify whether the delete is permanent (hard=True) or reversable (hard=False).  \n",
    "\n",
    "**Arguments**:\n",
    "- asset_path: The VFS path of the asset the user wants to delete.\n",
    "- hard: (Optional, defaults to False) If true, specifies a hard (permanent) delete. If false, the deleted asset can be restored."
   ]
  },
  {
   "cell_type": "code",
   "execution_count": null,
   "metadata": {},
   "outputs": [],
   "source": [
    "# Initialize the files object the same way the Client object does.\n",
    "files = Files(example_client.api)"
   ]
  },
  {
   "cell_type": "code",
   "execution_count": null,
   "metadata": {},
   "outputs": [
    {
     "name": "stdout",
     "output_type": "stream",
     "text": [
      "POST sent to: https://test.aep-mono.devops.alteryx.com/api/v1/files/remove\n",
      "with headers: {'User-Agent': 'python-requests/2.23.0', 'Accept-Encoding': 'gzip,deflate', 'Accept': '*/*', 'Connection': 'keep-alive', 'Content-Type': 'application/json', 'Accept-Language': 'en-US,en;q=0.5', 'Cookie': 'ayxSession=s%3Aa4e6c322-5a8d-4909-ad85-0f72de9e19cf.jbxJCEZNLq3mmxW0RWJbCiayPjQvxEj0sP2moTAkFZs', 'Content-Length': '53'}\n",
      "Response Status: 401\n"
     ]
    }
   ],
   "source": [
    "response = files.delete_file(asset_path=r'/Workspaces/Public/example_1.yxzp', \n",
    "                             hard=True)"
   ]
  },
  {
   "cell_type": "code",
   "execution_count": null,
   "metadata": {},
   "outputs": [
    {
     "data": {
      "text/plain": [
       "{'errors': [{'code': 'USR_SESSION_INVALID', 'message': 'Session is invalid'}]}"
      ]
     },
     "execution_count": null,
     "metadata": {},
     "output_type": "execute_result"
    }
   ],
   "source": [
    "response.json()"
   ]
  },
  {
   "cell_type": "code",
   "execution_count": null,
   "metadata": {},
   "outputs": [],
   "source": []
  }
 ],
 "metadata": {
  "kernelspec": {
   "display_name": "Python 3",
   "language": "python",
   "name": "python3"
  }
 },
 "nbformat": 4,
 "nbformat_minor": 4
}
