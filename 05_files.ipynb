{
 "cells": [
  {
   "cell_type": "code",
   "execution_count": null,
   "metadata": {},
   "outputs": [],
   "source": [
    "# default_exp files"
   ]
  },
  {
   "cell_type": "code",
   "execution_count": null,
   "metadata": {},
   "outputs": [],
   "source": [
    "#export\n",
    "import requests\n",
    "\n",
    "from yx_motor.api import API\n",
    "\n",
    "class Files:\n",
    "    \"Class for handling authenticate API actions\"\n",
    "    \n",
    "    def __init__(self, api: API):\n",
    "        self.api = api\n",
    "        self.base_endpoint = 'files/'\n",
    "        \n",
    "    def download_file(self, file_uuid: str, download_path: str):\n",
    "        #TODO: MVP\n",
    "        pass\n",
    "    \n",
    "    def upload_file(self):\n",
    "        #TODO: MVP\n",
    "        pass\n",
    "    \n",
    "    def update_file(self):\n",
    "        #TODO: MVP\n",
    "        pass\n",
    "    \n",
    "    def get_file_versions(self):\n",
    "        pass\n",
    "    \n",
    "    def delete_file(self, hard=False):\n",
    "        pass\n",
    "    \n",
    "    def copy_file(self, source_path: str, target_path: str):\n",
    "        pass\n",
    "    \n",
    "    def move_file(self, source_path: str, target_path: str):\n",
    "        #TODO: MVP\n",
    "        pass\n",
    "    \n",
    "    def restore_deleted_file(self, asset_path: str=None, asset_id: str=None):\n",
    "        pass"
   ]
  },
  {
   "cell_type": "code",
   "execution_count": null,
   "metadata": {},
   "outputs": [
    {
     "name": "stdout",
     "output_type": "stream",
     "text": [
      "Converted 00_core.ipynb.\n",
      "Converted 01_client.ipynb.\n",
      "Converted 02_jobs.ipynb.\n",
      "Converted 03_api.ipynb.\n",
      "Converted 04_authenticate.ipynb.\n",
      "Converted 05_files.ipynb.\n",
      "Converted index.ipynb.\n"
     ]
    }
   ],
   "source": [
    "from nbdev.export import *\n",
    "notebook2script()"
   ]
  },
  {
   "cell_type": "code",
   "execution_count": null,
   "metadata": {},
   "outputs": [],
   "source": []
  }
 ],
 "metadata": {
  "kernelspec": {
   "display_name": "Python 3",
   "language": "python",
   "name": "python3"
  }
 },
 "nbformat": 4,
 "nbformat_minor": 4
}
