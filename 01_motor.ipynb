{
 "cells": [
  {
   "cell_type": "code",
   "execution_count": 77,
   "metadata": {},
   "outputs": [],
   "source": [
    "# default_exp motor"
   ]
  },
  {
   "cell_type": "code",
   "execution_count": 1,
   "metadata": {},
   "outputs": [],
   "source": [
    "# just removing the insecure warning for now\n",
    "# TODO: Secure requests and remove this code\n",
    "import urllib3\n",
    "urllib3.disable_warnings(urllib3.exceptions.InsecureRequestWarning)"
   ]
  },
  {
   "cell_type": "code",
   "execution_count": 2,
   "metadata": {},
   "outputs": [],
   "source": [
    "from private import server_vars"
   ]
  },
  {
   "cell_type": "code",
   "execution_count": 3,
   "metadata": {},
   "outputs": [],
   "source": [
    "base_url=server_vars['base_url']\n",
    "login_email = server_vars['login_email']\n",
    "login_pwd = server_vars['login_pwd']"
   ]
  },
  {
   "cell_type": "code",
   "execution_count": 24,
   "metadata": {},
   "outputs": [],
   "source": [
    "import requests\n",
    "\n",
    "#from yx_motor import logger, config, version\n",
    "\n",
    "default_headers = {\"Content-Type\": \"application/json\",\n",
    "                    \"Accept\": \"*/*\",\n",
    "                    \"Accept-Language\": \"en-US,en;q=0.5\",\n",
    "                    \"Accept-Encoding\": \"gzip,deflate\"\n",
    "                  }\n",
    "\n",
    "\n",
    "class API(object):\n",
    "    def __init__(self, api_url, headers=None):\n",
    "        self.api_url = api_url\n",
    "        headers = headers or default_headers\n",
    "        self.headers = headers.copy()\n",
    "\n",
    "    def get_path(self, url):\n",
    "        api_url = self.api_url if not self.api_url.endswith(\"/\") else self.api_url[:-1]\n",
    "        template = \"{}{}\" if url.startswith(\"/\") else \"{}/{}\"\n",
    "        return template.format(api_url, url)\n",
    "\n",
    "    def post(self, url, json=None, params=None, files=None, data=None, cookies=None, verify=False):\n",
    "        path = self.get_path(url)\n",
    "#         logger.debug(\"POST request sent to: {} \\n\\theaders: {}\\n\\tjson: {}\\n\\tparams: {}\\n\\tfiles: {}\\n\\tdata: {}\"\n",
    "#                      .format(path, self.headers, json, params, files, data))\n",
    "        response = requests.post(path, \n",
    "                                 json=json, \n",
    "                                 params=params, \n",
    "                                 headers=self.headers, \n",
    "                                 files=files, \n",
    "                                 data=data, \n",
    "                                 cookies=cookies, \n",
    "                                 verify=verify)\n",
    "#         logger.debug(\"Response status code: {}\".format(response.status_code))\n",
    "#         logger.debug(\"Response content: {}\".format(response.content))\n",
    "        return response\n",
    "\n",
    "    def put(self, url, json=None, params=None):\n",
    "        path = self.get_path(url)\n",
    "        logger.debug(\"PUT request sent to: {} \\n\\theaders: {}\\n\\tjson: {}\\n\\tparams: {}\"\n",
    "                     .format(path, self.headers, json, params))\n",
    "        response = requests.put(path, json=json, params=params, headers=self.headers)\n",
    "#         logger.debug(\"Response status code: {}\".format(response.status_code))\n",
    "#         logger.debug(\"Response content: {}\".format(response.content))\n",
    "        return response\n",
    "\n",
    "    def get(self, url, json=None, params=None):\n",
    "        path = self.get_path(url)\n",
    "#         logger.debug(\"GET request sent to: {} \\n\\theaders: {}\\n\\tjson: {}\\n\\tparams: {}\"\n",
    "#                      .format(path, self.headers, json, params))\n",
    "        response = requests.get(path, params=params, headers=self.headers, json=json)\n",
    "#         logger.debug(\"Response status code: {}\".format(response.status_code))\n",
    "#         logger.debug(\"Response content: {}\".format(response.content))\n",
    "        return response\n",
    "\n",
    "    def delete(self, url, json=None, params=None):\n",
    "        path = self.get_path(url)\n",
    "        response = requests.delete(path, params=params, headers=self.headers, json=json)\n",
    "#         logger.debug(\"DELETE request sent to: {} \\n\\theaders: {}\\n\\tjson: {}\\n\\tparams: {}\"\n",
    "#                      .format(response.url, self.headers, json, params))\n",
    "#         logger.debug(\"Response status code: {}\".format(response.status_code))\n",
    "#         logger.debug(\"Response content: {}\".format(response.content))\n",
    "        return response"
   ]
  },
  {
   "cell_type": "code",
   "execution_count": 44,
   "metadata": {},
   "outputs": [
    {
     "data": {
      "text/plain": [
       "'https://test.aep-mono.devops.alteryx.com/api/v1/authenticate'"
      ]
     },
     "execution_count": 44,
     "metadata": {},
     "output_type": "execute_result"
    }
   ],
   "source": [
    "motor.api.get_path('authenticate')"
   ]
  },
  {
   "cell_type": "code",
   "execution_count": 46,
   "metadata": {},
   "outputs": [],
   "source": [
    "# export\n",
    "import requests\n",
    "\n",
    "class Motor:\n",
    "    \"Wrapper for Alteryx Server API.\"\n",
    "    \n",
    "    def __init__(self, \n",
    "                 base_url: str, \n",
    "                 login_email: str, \n",
    "                 login_pwd: str):\n",
    "        \n",
    "        self.base_url = base_url\n",
    "        self.api_url = f\"{base_url}api/v1/\"\n",
    "        \n",
    "        self.auth_endpoint = \"authenticate\"\n",
    "        \n",
    "        self.login_email = login_email\n",
    "        self.login_pwd = login_pwd\n",
    "        \n",
    "        self.headers = {\n",
    "            \"Content-Type\": \"application/json\",\n",
    "            \"Accept\": \"*/*\",\n",
    "            \"Accept-Language\": \"en-US,en;q=0.5\",\n",
    "            \"Accept-Encoding\": \"gzip,deflate\"\n",
    "        }\n",
    "        \n",
    "        self.jar = requests.cookies.RequestsCookieJar()\n",
    "        \n",
    "        self.api = API(api_url=self.api_url, \n",
    "                       headers=self.headers)\n",
    "        \n",
    "        self.is_authenticated = False\n",
    "        self.authenticate()\n",
    "        \n",
    "        \n",
    "    def authenticate(self) -> requests.Response:\n",
    "        payload = {\n",
    "            \"email\": self.login_email, \n",
    "            \"password\": self.login_pwd\n",
    "        }\n",
    "        response = self.api.post(url=self.auth_endpoint, \n",
    "                                 json=payload, \n",
    "                                 cookies=self.jar, \n",
    "                                 verify=False)\n",
    "        if response.status_code == 200:\n",
    "            self.jar.update(response.cookies)\n",
    "            self.is_authenticated = True\n",
    "        return response\n",
    "        \n",
    "    def get_jobs(self,jobid=None,**kwargs):\n",
    "        #TODO: API class handles url generation for us, fix this\n",
    "        response = requests.get(f\"{self.base_url}api/v1/jobs\",\n",
    "                     cookies=self.jar,\n",
    "                     verify=False)\n",
    "        return response\n",
    "    \n",
    "    def get_users(self):\n",
    "        response = requests.get(f\"{self.base_url}api/v1/users\",\n",
    "                               cookies=self.jar,\n",
    "                               verify=False)\n",
    "        return response\n",
    "    \n",
    "    def get_job(self,jobid):\n",
    "        response = requests.get(f\"{self.base_url}api/v1/jobs/{jobid}\",\n",
    "                     cookies=self.jar,\n",
    "                     verify=False)\n",
    "        return response\n",
    "    \n",
    "    def get_logs(self,jobid):\n",
    "        response = requests.get(f\"{self.base_url}api/v1/jobs/{jobid}/logs\",\n",
    "                     cookies=self.jar,\n",
    "                     verify=False)\n",
    "        return response\n",
    "    \n",
    "    def get_job_info(self,jobid,req_type=\"\"):\n",
    "        response = requests.get(f\"{self.base_url}api/v1/jobs/{jobid}/{req_type}\",\n",
    "                     cookies=self.jar,\n",
    "                     verify=False)\n",
    "        return response"
   ]
  },
  {
   "cell_type": "code",
   "execution_count": 47,
   "metadata": {},
   "outputs": [],
   "source": [
    "motor = Motor(base_url,\n",
    "              login_email, \n",
    "              login_pwd)"
   ]
  },
  {
   "cell_type": "code",
   "execution_count": 49,
   "metadata": {},
   "outputs": [
    {
     "data": {
      "text/plain": [
       "True"
      ]
     },
     "execution_count": 49,
     "metadata": {},
     "output_type": "execute_result"
    }
   ],
   "source": [
    "motor.is_authenticated"
   ]
  },
  {
   "cell_type": "code",
   "execution_count": 13,
   "metadata": {},
   "outputs": [],
   "source": [
    "response1 = motor.get_jobs()"
   ]
  },
  {
   "cell_type": "code",
   "execution_count": 14,
   "metadata": {},
   "outputs": [
    {
     "data": {
      "text/plain": [
       "{'User-Agent': 'python-requests/2.23.0', 'Accept-Encoding': 'gzip, deflate', 'Accept': '*/*', 'Connection': 'keep-alive', 'Cookie': 'ayxSession=s%3A74147e38-1c76-4767-8d47-f4f259f345c5.ck7%2B7H3r0TgI7BC6j8wRLtdtPI2v6MqHGOIynnzY0AQ'}"
      ]
     },
     "execution_count": 14,
     "metadata": {},
     "output_type": "execute_result"
    }
   ],
   "source": [
    "response1.request.headers"
   ]
  },
  {
   "cell_type": "code",
   "execution_count": 8,
   "metadata": {},
   "outputs": [
    {
     "name": "stdout",
     "output_type": "stream",
     "text": [
      "{'jobId': 'a829c8c6-6143-4a95-aafa-332d842bd210', 'name': 'SeededOracleWorkflow.yxmd', 'entries': [{'toolId': '-', 'logType': 'worker', 'details': 'Retrieved file simple_questions.yxwz'}, {'toolId': '-', 'logType': 'worker', 'details': 'Engine run started'}, {'toolId': '15', 'logType': '1', 'details': '1 record was output'}, {'toolId': '23', 'logType': '9', 'details': 'simple_question_outputs.csv; 1 records were written to \"simple_question_outputs.csv\"'}, {'toolId': '-', 'logType': 'worker', 'details': 'Engine run finished in 3.75 seconds'}, {'toolId': '-', 'logType': 'worker', 'details': 'Uploaded output file simple_question_outputs.csv'}], 'completionDate': '2020-04-06T10:20:01.995Z'}\n",
      "{'jobId': '3077026f-16a7-4e90-8ad5-dc2d9c035cb7', 'name': 'NewWorkflow1.yxmd', 'entries': [{'toolId': '-', 'logType': 'worker', 'details': 'Retrieved file NewWorkflow1.yxmd'}, {'toolId': '-', 'logType': 'worker', 'details': 'Engine run started'}, {'toolId': '-', 'logType': 'worker', 'details': 'Engine run finished in 0.16 seconds'}], 'completionDate': '2020-04-06T14:43:50.132Z'}\n",
      "{'jobId': '60d5675c-3c69-4e39-a885-c432d3189639', 'name': 'Postgres_with_multiple.yxmd', 'entries': [{'toolId': '-', 'logType': 'worker', 'details': 'Retrieved file Postgres_with_multiple.yxmd'}, {'toolId': '-', 'logType': 'worker', 'details': 'Engine run started'}, {'toolId': '1', 'logType': '3', 'details': 'Error SQLDriverConnect: [Microsoft][ODBC Driver Manager] Data source name not found and no default driver specified'}, {'toolId': '3', 'logType': '3', 'details': 'Error SQLDriverConnect: [Microsoft][ODBC Driver Manager] Data source name not found and no default driver specified'}, {'toolId': '-', 'logType': 'worker', 'details': 'Engine run finished in 0.89 seconds'}], 'completionDate': '2020-04-06T15:31:21.785Z'}\n",
      "{'jobId': '94a6c931-a5b8-40b9-810c-16b6208fc797', 'name': 'Magic-8-Ball.yxmd', 'entries': [{'toolId': '-', 'logType': 'worker', 'details': 'Retrieved file Magic-8-Ball.yxmd'}, {'toolId': '-', 'logType': 'worker', 'details': 'Engine run started'}, {'toolId': '9', 'logType': '1', 'details': '20 records were output'}, {'toolId': '21', 'logType': '1', 'details': '1 record was output'}, {'toolId': '22', 'logType': '1', 'details': '1 records were joined with 0 un-joined left records and 19 un-joined right records'}, {'toolId': '20', 'logType': '9', 'details': 'answer.csv; 1 records were written to \"answer.csv\"'}, {'toolId': '-', 'logType': 'worker', 'details': 'Engine run finished in 0.51 seconds'}, {'toolId': '-', 'logType': 'worker', 'details': 'Uploaded output file answer.csv'}], 'completionDate': '2020-04-06T19:20:04.044Z'}\n"
     ]
    }
   ],
   "source": [
    "x = response1.json()\n",
    "\n",
    "for i in x['jobs']:\n",
    "    print(motor.get_job_info(i['jobId'],\"logs\").json())"
   ]
  },
  {
   "cell_type": "code",
   "execution_count": 9,
   "metadata": {},
   "outputs": [
    {
     "name": "stdout",
     "output_type": "stream",
     "text": [
      "026b73ba-141f-49a1-8697-c612bc98c6bc\n",
      "04c256a8-8e93-4965-94c4-6f18530c1f6c\n",
      "0a9da252-f518-464c-8e61-15aa0d67f5c7\n",
      "0ad44f3b-f4b9-49ea-89f8-3d0c2c94db8e\n",
      "0bc15744-dbad-4a6e-9a82-97458f8ce6d2\n",
      "1063e92c-3ace-4320-9abe-3e7fbafb4863\n",
      "121c0fec-2dc7-4aa6-a3ee-9c2ea20e9acd\n",
      "1c7a3e98-91e2-4f29-a870-b569d0df73dd\n",
      "1cfbfe39-da94-4b98-b397-9201adda40e0\n",
      "240dc394-4ab0-4826-9db9-929e1013b7f5\n"
     ]
    }
   ],
   "source": [
    "response2 = motor.get_users()\n",
    "y = response2.json()\n",
    "for i in y[:10]:\n",
    "    print(i['id'])"
   ]
  },
  {
   "cell_type": "code",
   "execution_count": null,
   "metadata": {},
   "outputs": [],
   "source": []
  }
 ],
 "metadata": {
  "kernelspec": {
   "display_name": "Python 3",
   "language": "python",
   "name": "python3"
  },
  "language_info": {
   "codemirror_mode": {
    "name": "ipython",
    "version": 3
   },
   "file_extension": ".py",
   "mimetype": "text/x-python",
   "name": "python",
   "nbconvert_exporter": "python",
   "pygments_lexer": "ipython3",
   "version": "3.6.8"
  }
 },
 "nbformat": 4,
 "nbformat_minor": 4
}
