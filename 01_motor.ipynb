{
 "cells": [
  {
   "cell_type": "code",
   "execution_count": 57,
   "metadata": {},
   "outputs": [],
   "source": [
    "import requests\n",
    "from private import server_vars\n",
    "import certifi"
   ]
  },
  {
   "cell_type": "code",
   "execution_count": 58,
   "metadata": {},
   "outputs": [
    {
     "data": {
      "text/plain": [
       "'c:\\\\users\\\\jesse.clark\\\\.conda\\\\envs\\\\yx-motor\\\\lib\\\\site-packages\\\\certifi\\\\cacert.pem'"
      ]
     },
     "execution_count": 58,
     "metadata": {},
     "output_type": "execute_result"
    }
   ],
   "source": [
    "jar = requests.cookies.RequestsCookieJar()"
   ]
  },
  {
   "cell_type": "code",
   "execution_count": 41,
   "metadata": {},
   "outputs": [],
   "source": [
    "base_url=server_vars['base_url']\n",
    "login_email = server_vars['login_email']\n",
    "login_pwd = server_vars['login_pwd']\n"
   ]
  },
  {
   "cell_type": "code",
   "execution_count": 42,
   "metadata": {},
   "outputs": [],
   "source": [
    "authurl=f\"{base_url}api/v1/authenticate\""
   ]
  },
  {
   "cell_type": "code",
   "execution_count": 61,
   "metadata": {},
   "outputs": [
    {
     "ename": "SSLError",
     "evalue": "HTTPSConnectionPool(host='test.aep-mono.devops.alteryx.com', port=443): Max retries exceeded with url: /api/v1/authenticate (Caused by SSLError(SSLError(336265225, '[SSL] PEM lib (_ssl.c:3520)'),))",
     "output_type": "error",
     "traceback": [
      "\u001b[1;31m---------------------------------------------------------------------------\u001b[0m",
      "\u001b[1;31mSSLError\u001b[0m                                  Traceback (most recent call last)",
      "\u001b[1;32mc:\\users\\jesse.clark\\.conda\\envs\\yx-motor\\lib\\site-packages\\urllib3\\connectionpool.py\u001b[0m in \u001b[0;36murlopen\u001b[1;34m(self, method, url, body, headers, retries, redirect, assert_same_host, timeout, pool_timeout, release_conn, chunked, body_pos, **response_kw)\u001b[0m\n\u001b[0;32m    671\u001b[0m                 \u001b[0mheaders\u001b[0m\u001b[1;33m=\u001b[0m\u001b[0mheaders\u001b[0m\u001b[1;33m,\u001b[0m\u001b[1;33m\u001b[0m\u001b[1;33m\u001b[0m\u001b[0m\n\u001b[1;32m--> 672\u001b[1;33m                 \u001b[0mchunked\u001b[0m\u001b[1;33m=\u001b[0m\u001b[0mchunked\u001b[0m\u001b[1;33m,\u001b[0m\u001b[1;33m\u001b[0m\u001b[1;33m\u001b[0m\u001b[0m\n\u001b[0m\u001b[0;32m    673\u001b[0m             )\n",
      "\u001b[1;32mc:\\users\\jesse.clark\\.conda\\envs\\yx-motor\\lib\\site-packages\\urllib3\\connectionpool.py\u001b[0m in \u001b[0;36m_make_request\u001b[1;34m(self, conn, method, url, timeout, chunked, **httplib_request_kw)\u001b[0m\n\u001b[0;32m    375\u001b[0m         \u001b[1;32mtry\u001b[0m\u001b[1;33m:\u001b[0m\u001b[1;33m\u001b[0m\u001b[1;33m\u001b[0m\u001b[0m\n\u001b[1;32m--> 376\u001b[1;33m             \u001b[0mself\u001b[0m\u001b[1;33m.\u001b[0m\u001b[0m_validate_conn\u001b[0m\u001b[1;33m(\u001b[0m\u001b[0mconn\u001b[0m\u001b[1;33m)\u001b[0m\u001b[1;33m\u001b[0m\u001b[1;33m\u001b[0m\u001b[0m\n\u001b[0m\u001b[0;32m    377\u001b[0m         \u001b[1;32mexcept\u001b[0m \u001b[1;33m(\u001b[0m\u001b[0mSocketTimeout\u001b[0m\u001b[1;33m,\u001b[0m \u001b[0mBaseSSLError\u001b[0m\u001b[1;33m)\u001b[0m \u001b[1;32mas\u001b[0m \u001b[0me\u001b[0m\u001b[1;33m:\u001b[0m\u001b[1;33m\u001b[0m\u001b[1;33m\u001b[0m\u001b[0m\n",
      "\u001b[1;32mc:\\users\\jesse.clark\\.conda\\envs\\yx-motor\\lib\\site-packages\\urllib3\\connectionpool.py\u001b[0m in \u001b[0;36m_validate_conn\u001b[1;34m(self, conn)\u001b[0m\n\u001b[0;32m    993\u001b[0m         \u001b[1;32mif\u001b[0m \u001b[1;32mnot\u001b[0m \u001b[0mgetattr\u001b[0m\u001b[1;33m(\u001b[0m\u001b[0mconn\u001b[0m\u001b[1;33m,\u001b[0m \u001b[1;34m\"sock\"\u001b[0m\u001b[1;33m,\u001b[0m \u001b[1;32mNone\u001b[0m\u001b[1;33m)\u001b[0m\u001b[1;33m:\u001b[0m  \u001b[1;31m# AppEngine might not have  `.sock`\u001b[0m\u001b[1;33m\u001b[0m\u001b[1;33m\u001b[0m\u001b[0m\n\u001b[1;32m--> 994\u001b[1;33m             \u001b[0mconn\u001b[0m\u001b[1;33m.\u001b[0m\u001b[0mconnect\u001b[0m\u001b[1;33m(\u001b[0m\u001b[1;33m)\u001b[0m\u001b[1;33m\u001b[0m\u001b[1;33m\u001b[0m\u001b[0m\n\u001b[0m\u001b[0;32m    995\u001b[0m \u001b[1;33m\u001b[0m\u001b[0m\n",
      "\u001b[1;32mc:\\users\\jesse.clark\\.conda\\envs\\yx-motor\\lib\\site-packages\\urllib3\\connection.py\u001b[0m in \u001b[0;36mconnect\u001b[1;34m(self)\u001b[0m\n\u001b[0;32m    359\u001b[0m             \u001b[0mserver_hostname\u001b[0m\u001b[1;33m=\u001b[0m\u001b[0mserver_hostname\u001b[0m\u001b[1;33m,\u001b[0m\u001b[1;33m\u001b[0m\u001b[1;33m\u001b[0m\u001b[0m\n\u001b[1;32m--> 360\u001b[1;33m             \u001b[0mssl_context\u001b[0m\u001b[1;33m=\u001b[0m\u001b[0mcontext\u001b[0m\u001b[1;33m,\u001b[0m\u001b[1;33m\u001b[0m\u001b[1;33m\u001b[0m\u001b[0m\n\u001b[0m\u001b[0;32m    361\u001b[0m         )\n",
      "\u001b[1;32mc:\\users\\jesse.clark\\.conda\\envs\\yx-motor\\lib\\site-packages\\urllib3\\util\\ssl_.py\u001b[0m in \u001b[0;36mssl_wrap_socket\u001b[1;34m(sock, keyfile, certfile, cert_reqs, ca_certs, server_hostname, ssl_version, ciphers, ssl_context, ca_cert_dir, key_password)\u001b[0m\n\u001b[0;32m    357\u001b[0m         \u001b[1;32mif\u001b[0m \u001b[0mkey_password\u001b[0m \u001b[1;32mis\u001b[0m \u001b[1;32mNone\u001b[0m\u001b[1;33m:\u001b[0m\u001b[1;33m\u001b[0m\u001b[1;33m\u001b[0m\u001b[0m\n\u001b[1;32m--> 358\u001b[1;33m             \u001b[0mcontext\u001b[0m\u001b[1;33m.\u001b[0m\u001b[0mload_cert_chain\u001b[0m\u001b[1;33m(\u001b[0m\u001b[0mcertfile\u001b[0m\u001b[1;33m,\u001b[0m \u001b[0mkeyfile\u001b[0m\u001b[1;33m)\u001b[0m\u001b[1;33m\u001b[0m\u001b[1;33m\u001b[0m\u001b[0m\n\u001b[0m\u001b[0;32m    359\u001b[0m         \u001b[1;32melse\u001b[0m\u001b[1;33m:\u001b[0m\u001b[1;33m\u001b[0m\u001b[1;33m\u001b[0m\u001b[0m\n",
      "\u001b[1;31mSSLError\u001b[0m: [SSL] PEM lib (_ssl.c:3520)",
      "\nDuring handling of the above exception, another exception occurred:\n",
      "\u001b[1;31mMaxRetryError\u001b[0m                             Traceback (most recent call last)",
      "\u001b[1;32mc:\\users\\jesse.clark\\.conda\\envs\\yx-motor\\lib\\site-packages\\requests\\adapters.py\u001b[0m in \u001b[0;36msend\u001b[1;34m(self, request, stream, timeout, verify, cert, proxies)\u001b[0m\n\u001b[0;32m    448\u001b[0m                     \u001b[0mretries\u001b[0m\u001b[1;33m=\u001b[0m\u001b[0mself\u001b[0m\u001b[1;33m.\u001b[0m\u001b[0mmax_retries\u001b[0m\u001b[1;33m,\u001b[0m\u001b[1;33m\u001b[0m\u001b[1;33m\u001b[0m\u001b[0m\n\u001b[1;32m--> 449\u001b[1;33m                     \u001b[0mtimeout\u001b[0m\u001b[1;33m=\u001b[0m\u001b[0mtimeout\u001b[0m\u001b[1;33m\u001b[0m\u001b[1;33m\u001b[0m\u001b[0m\n\u001b[0m\u001b[0;32m    450\u001b[0m                 )\n",
      "\u001b[1;32mc:\\users\\jesse.clark\\.conda\\envs\\yx-motor\\lib\\site-packages\\urllib3\\connectionpool.py\u001b[0m in \u001b[0;36murlopen\u001b[1;34m(self, method, url, body, headers, retries, redirect, assert_same_host, timeout, pool_timeout, release_conn, chunked, body_pos, **response_kw)\u001b[0m\n\u001b[0;32m    719\u001b[0m             retries = retries.increment(\n\u001b[1;32m--> 720\u001b[1;33m                 \u001b[0mmethod\u001b[0m\u001b[1;33m,\u001b[0m \u001b[0murl\u001b[0m\u001b[1;33m,\u001b[0m \u001b[0merror\u001b[0m\u001b[1;33m=\u001b[0m\u001b[0me\u001b[0m\u001b[1;33m,\u001b[0m \u001b[0m_pool\u001b[0m\u001b[1;33m=\u001b[0m\u001b[0mself\u001b[0m\u001b[1;33m,\u001b[0m \u001b[0m_stacktrace\u001b[0m\u001b[1;33m=\u001b[0m\u001b[0msys\u001b[0m\u001b[1;33m.\u001b[0m\u001b[0mexc_info\u001b[0m\u001b[1;33m(\u001b[0m\u001b[1;33m)\u001b[0m\u001b[1;33m[\u001b[0m\u001b[1;36m2\u001b[0m\u001b[1;33m]\u001b[0m\u001b[1;33m\u001b[0m\u001b[1;33m\u001b[0m\u001b[0m\n\u001b[0m\u001b[0;32m    721\u001b[0m             )\n",
      "\u001b[1;32mc:\\users\\jesse.clark\\.conda\\envs\\yx-motor\\lib\\site-packages\\urllib3\\util\\retry.py\u001b[0m in \u001b[0;36mincrement\u001b[1;34m(self, method, url, response, error, _pool, _stacktrace)\u001b[0m\n\u001b[0;32m    435\u001b[0m         \u001b[1;32mif\u001b[0m \u001b[0mnew_retry\u001b[0m\u001b[1;33m.\u001b[0m\u001b[0mis_exhausted\u001b[0m\u001b[1;33m(\u001b[0m\u001b[1;33m)\u001b[0m\u001b[1;33m:\u001b[0m\u001b[1;33m\u001b[0m\u001b[1;33m\u001b[0m\u001b[0m\n\u001b[1;32m--> 436\u001b[1;33m             \u001b[1;32mraise\u001b[0m \u001b[0mMaxRetryError\u001b[0m\u001b[1;33m(\u001b[0m\u001b[0m_pool\u001b[0m\u001b[1;33m,\u001b[0m \u001b[0murl\u001b[0m\u001b[1;33m,\u001b[0m \u001b[0merror\u001b[0m \u001b[1;32mor\u001b[0m \u001b[0mResponseError\u001b[0m\u001b[1;33m(\u001b[0m\u001b[0mcause\u001b[0m\u001b[1;33m)\u001b[0m\u001b[1;33m)\u001b[0m\u001b[1;33m\u001b[0m\u001b[1;33m\u001b[0m\u001b[0m\n\u001b[0m\u001b[0;32m    437\u001b[0m \u001b[1;33m\u001b[0m\u001b[0m\n",
      "\u001b[1;31mMaxRetryError\u001b[0m: HTTPSConnectionPool(host='test.aep-mono.devops.alteryx.com', port=443): Max retries exceeded with url: /api/v1/authenticate (Caused by SSLError(SSLError(336265225, '[SSL] PEM lib (_ssl.c:3520)'),))",
      "\nDuring handling of the above exception, another exception occurred:\n",
      "\u001b[1;31mSSLError\u001b[0m                                  Traceback (most recent call last)",
      "\u001b[1;32m<ipython-input-61-22005c410f5d>\u001b[0m in \u001b[0;36m<module>\u001b[1;34m\u001b[0m\n\u001b[0;32m      6\u001b[0m                     \u001b[1;34m\"Accept\"\u001b[0m\u001b[1;33m:\u001b[0m \u001b[1;34m\"*/*\"\u001b[0m\u001b[1;33m,\u001b[0m\u001b[1;33m\u001b[0m\u001b[1;33m\u001b[0m\u001b[0m\n\u001b[0;32m      7\u001b[0m                     \u001b[1;34m\"Accept-Language\"\u001b[0m\u001b[1;33m:\u001b[0m \u001b[1;34m\"en-US,en;q=0.5\"\u001b[0m\u001b[1;33m,\u001b[0m\u001b[1;33m\u001b[0m\u001b[1;33m\u001b[0m\u001b[0m\n\u001b[1;32m----> 8\u001b[1;33m                     \u001b[1;34m\"Accept-Encoding\"\u001b[0m\u001b[1;33m:\u001b[0m \u001b[1;34m\"gzip,deflate\"\u001b[0m\u001b[1;33m\u001b[0m\u001b[1;33m\u001b[0m\u001b[0m\n\u001b[0m\u001b[0;32m      9\u001b[0m \u001b[1;33m\u001b[0m\u001b[0m\n\u001b[0;32m     10\u001b[0m                 }\n",
      "\u001b[1;32mc:\\users\\jesse.clark\\.conda\\envs\\yx-motor\\lib\\site-packages\\requests\\api.py\u001b[0m in \u001b[0;36mpost\u001b[1;34m(url, data, json, **kwargs)\u001b[0m\n\u001b[0;32m    117\u001b[0m     \"\"\"\n\u001b[0;32m    118\u001b[0m \u001b[1;33m\u001b[0m\u001b[0m\n\u001b[1;32m--> 119\u001b[1;33m     \u001b[1;32mreturn\u001b[0m \u001b[0mrequest\u001b[0m\u001b[1;33m(\u001b[0m\u001b[1;34m'post'\u001b[0m\u001b[1;33m,\u001b[0m \u001b[0murl\u001b[0m\u001b[1;33m,\u001b[0m \u001b[0mdata\u001b[0m\u001b[1;33m=\u001b[0m\u001b[0mdata\u001b[0m\u001b[1;33m,\u001b[0m \u001b[0mjson\u001b[0m\u001b[1;33m=\u001b[0m\u001b[0mjson\u001b[0m\u001b[1;33m,\u001b[0m \u001b[1;33m**\u001b[0m\u001b[0mkwargs\u001b[0m\u001b[1;33m)\u001b[0m\u001b[1;33m\u001b[0m\u001b[1;33m\u001b[0m\u001b[0m\n\u001b[0m\u001b[0;32m    120\u001b[0m \u001b[1;33m\u001b[0m\u001b[0m\n\u001b[0;32m    121\u001b[0m \u001b[1;33m\u001b[0m\u001b[0m\n",
      "\u001b[1;32mc:\\users\\jesse.clark\\.conda\\envs\\yx-motor\\lib\\site-packages\\requests\\api.py\u001b[0m in \u001b[0;36mrequest\u001b[1;34m(method, url, **kwargs)\u001b[0m\n\u001b[0;32m     59\u001b[0m     \u001b[1;31m# cases, and look like a memory leak in others.\u001b[0m\u001b[1;33m\u001b[0m\u001b[1;33m\u001b[0m\u001b[1;33m\u001b[0m\u001b[0m\n\u001b[0;32m     60\u001b[0m     \u001b[1;32mwith\u001b[0m \u001b[0msessions\u001b[0m\u001b[1;33m.\u001b[0m\u001b[0mSession\u001b[0m\u001b[1;33m(\u001b[0m\u001b[1;33m)\u001b[0m \u001b[1;32mas\u001b[0m \u001b[0msession\u001b[0m\u001b[1;33m:\u001b[0m\u001b[1;33m\u001b[0m\u001b[1;33m\u001b[0m\u001b[0m\n\u001b[1;32m---> 61\u001b[1;33m         \u001b[1;32mreturn\u001b[0m \u001b[0msession\u001b[0m\u001b[1;33m.\u001b[0m\u001b[0mrequest\u001b[0m\u001b[1;33m(\u001b[0m\u001b[0mmethod\u001b[0m\u001b[1;33m=\u001b[0m\u001b[0mmethod\u001b[0m\u001b[1;33m,\u001b[0m \u001b[0murl\u001b[0m\u001b[1;33m=\u001b[0m\u001b[0murl\u001b[0m\u001b[1;33m,\u001b[0m \u001b[1;33m**\u001b[0m\u001b[0mkwargs\u001b[0m\u001b[1;33m)\u001b[0m\u001b[1;33m\u001b[0m\u001b[1;33m\u001b[0m\u001b[0m\n\u001b[0m\u001b[0;32m     62\u001b[0m \u001b[1;33m\u001b[0m\u001b[0m\n\u001b[0;32m     63\u001b[0m \u001b[1;33m\u001b[0m\u001b[0m\n",
      "\u001b[1;32mc:\\users\\jesse.clark\\.conda\\envs\\yx-motor\\lib\\site-packages\\requests\\sessions.py\u001b[0m in \u001b[0;36mrequest\u001b[1;34m(self, method, url, params, data, headers, cookies, files, auth, timeout, allow_redirects, proxies, hooks, stream, verify, cert, json)\u001b[0m\n\u001b[0;32m    528\u001b[0m         }\n\u001b[0;32m    529\u001b[0m         \u001b[0msend_kwargs\u001b[0m\u001b[1;33m.\u001b[0m\u001b[0mupdate\u001b[0m\u001b[1;33m(\u001b[0m\u001b[0msettings\u001b[0m\u001b[1;33m)\u001b[0m\u001b[1;33m\u001b[0m\u001b[1;33m\u001b[0m\u001b[0m\n\u001b[1;32m--> 530\u001b[1;33m         \u001b[0mresp\u001b[0m \u001b[1;33m=\u001b[0m \u001b[0mself\u001b[0m\u001b[1;33m.\u001b[0m\u001b[0msend\u001b[0m\u001b[1;33m(\u001b[0m\u001b[0mprep\u001b[0m\u001b[1;33m,\u001b[0m \u001b[1;33m**\u001b[0m\u001b[0msend_kwargs\u001b[0m\u001b[1;33m)\u001b[0m\u001b[1;33m\u001b[0m\u001b[1;33m\u001b[0m\u001b[0m\n\u001b[0m\u001b[0;32m    531\u001b[0m \u001b[1;33m\u001b[0m\u001b[0m\n\u001b[0;32m    532\u001b[0m         \u001b[1;32mreturn\u001b[0m \u001b[0mresp\u001b[0m\u001b[1;33m\u001b[0m\u001b[1;33m\u001b[0m\u001b[0m\n",
      "\u001b[1;32mc:\\users\\jesse.clark\\.conda\\envs\\yx-motor\\lib\\site-packages\\requests\\sessions.py\u001b[0m in \u001b[0;36msend\u001b[1;34m(self, request, **kwargs)\u001b[0m\n\u001b[0;32m    641\u001b[0m \u001b[1;33m\u001b[0m\u001b[0m\n\u001b[0;32m    642\u001b[0m         \u001b[1;31m# Send the request\u001b[0m\u001b[1;33m\u001b[0m\u001b[1;33m\u001b[0m\u001b[1;33m\u001b[0m\u001b[0m\n\u001b[1;32m--> 643\u001b[1;33m         \u001b[0mr\u001b[0m \u001b[1;33m=\u001b[0m \u001b[0madapter\u001b[0m\u001b[1;33m.\u001b[0m\u001b[0msend\u001b[0m\u001b[1;33m(\u001b[0m\u001b[0mrequest\u001b[0m\u001b[1;33m,\u001b[0m \u001b[1;33m**\u001b[0m\u001b[0mkwargs\u001b[0m\u001b[1;33m)\u001b[0m\u001b[1;33m\u001b[0m\u001b[1;33m\u001b[0m\u001b[0m\n\u001b[0m\u001b[0;32m    644\u001b[0m \u001b[1;33m\u001b[0m\u001b[0m\n\u001b[0;32m    645\u001b[0m         \u001b[1;31m# Total elapsed time of the request (approximately)\u001b[0m\u001b[1;33m\u001b[0m\u001b[1;33m\u001b[0m\u001b[1;33m\u001b[0m\u001b[0m\n",
      "\u001b[1;32mc:\\users\\jesse.clark\\.conda\\envs\\yx-motor\\lib\\site-packages\\requests\\adapters.py\u001b[0m in \u001b[0;36msend\u001b[1;34m(self, request, stream, timeout, verify, cert, proxies)\u001b[0m\n\u001b[0;32m    512\u001b[0m             \u001b[1;32mif\u001b[0m \u001b[0misinstance\u001b[0m\u001b[1;33m(\u001b[0m\u001b[0me\u001b[0m\u001b[1;33m.\u001b[0m\u001b[0mreason\u001b[0m\u001b[1;33m,\u001b[0m \u001b[0m_SSLError\u001b[0m\u001b[1;33m)\u001b[0m\u001b[1;33m:\u001b[0m\u001b[1;33m\u001b[0m\u001b[1;33m\u001b[0m\u001b[0m\n\u001b[0;32m    513\u001b[0m                 \u001b[1;31m# This branch is for urllib3 v1.22 and later.\u001b[0m\u001b[1;33m\u001b[0m\u001b[1;33m\u001b[0m\u001b[1;33m\u001b[0m\u001b[0m\n\u001b[1;32m--> 514\u001b[1;33m                 \u001b[1;32mraise\u001b[0m \u001b[0mSSLError\u001b[0m\u001b[1;33m(\u001b[0m\u001b[0me\u001b[0m\u001b[1;33m,\u001b[0m \u001b[0mrequest\u001b[0m\u001b[1;33m=\u001b[0m\u001b[0mrequest\u001b[0m\u001b[1;33m)\u001b[0m\u001b[1;33m\u001b[0m\u001b[1;33m\u001b[0m\u001b[0m\n\u001b[0m\u001b[0;32m    515\u001b[0m \u001b[1;33m\u001b[0m\u001b[0m\n\u001b[0;32m    516\u001b[0m             \u001b[1;32mraise\u001b[0m \u001b[0mConnectionError\u001b[0m\u001b[1;33m(\u001b[0m\u001b[0me\u001b[0m\u001b[1;33m,\u001b[0m \u001b[0mrequest\u001b[0m\u001b[1;33m=\u001b[0m\u001b[0mrequest\u001b[0m\u001b[1;33m)\u001b[0m\u001b[1;33m\u001b[0m\u001b[1;33m\u001b[0m\u001b[0m\n",
      "\u001b[1;31mSSLError\u001b[0m: HTTPSConnectionPool(host='test.aep-mono.devops.alteryx.com', port=443): Max retries exceeded with url: /api/v1/authenticate (Caused by SSLError(SSLError(336265225, '[SSL] PEM lib (_ssl.c:3520)'),))"
     ]
    }
   ],
   "source": [
    "response1 = requests.post(authurl,json={\n",
    "  \"email\": login_email,\n",
    "  \"password\": login_pwd,\n",
    "}, cookies=jar,verify=False,headers={\n",
    "                    \"Content-Type\": \"application/json\",\n",
    "                    \"Accept\": \"*/*\",\n",
    "                    \"Accept-Language\": \"en-US,en;q=0.5\",\n",
    "                    \"Accept-Encoding\": \"gzip,deflate\"\n",
    "\n",
    "                }\n",
    ")\n",
    "jar.update(response1.cookies)\n"
   ]
  },
  {
   "cell_type": "code",
   "execution_count": null,
   "metadata": {},
   "outputs": [],
   "source": [
    "# session.post(\"https://test.aep-mono.devops.alteryx.com/api/v1/authenticate\",data={\n",
    "#   \"email\": \"siteadmin2@example.com\",\n",
    "#   \"password\": \"password\",\n",
    "# })"
   ]
  },
  {
   "cell_type": "code",
   "execution_count": 45,
   "metadata": {},
   "outputs": [
    {
     "name": "stdout",
     "output_type": "stream",
     "text": [
      "<Response [200]>\n"
     ]
    }
   ],
   "source": [
    "print(response1)"
   ]
  },
  {
   "cell_type": "code",
   "execution_count": 46,
   "metadata": {},
   "outputs": [
    {
     "data": {
      "text/plain": [
       "b'{\"email\": \"siteadmin2@example.com\", \"password\": \"password\"}'"
      ]
     },
     "execution_count": 46,
     "metadata": {},
     "output_type": "execute_result"
    }
   ],
   "source": [
    "response1.request.body"
   ]
  },
  {
   "cell_type": "code",
   "execution_count": 47,
   "metadata": {},
   "outputs": [
    {
     "data": {
      "text/plain": [
       "'s%3Ac133e377-8a73-4a74-a6ad-2eae74d8cd9c.CAw5B4uubIQpCzpEB5b0aWKd%2F52GfuH2E3o0ix%2FXldA'"
      ]
     },
     "execution_count": 47,
     "metadata": {},
     "output_type": "execute_result"
    }
   ],
   "source": [
    "jar['ayxSession']"
   ]
  },
  {
   "cell_type": "code",
   "execution_count": 51,
   "metadata": {},
   "outputs": [
    {
     "name": "stderr",
     "output_type": "stream",
     "text": [
      "c:\\users\\jesse.clark\\.conda\\envs\\yx-motor\\lib\\site-packages\\urllib3\\connectionpool.py:1004: InsecureRequestWarning: Unverified HTTPS request is being made to host '127.0.0.1'. Adding certificate verification is strongly advised. See: https://urllib3.readthedocs.io/en/latest/advanced-usage.html#ssl-warnings\n",
      "  InsecureRequestWarning,\n"
     ]
    }
   ],
   "source": [
    "response2 = requests.get(f\"{base_url}api/v1/jobs\",cookies=jar,verify=False)"
   ]
  },
  {
   "cell_type": "code",
   "execution_count": 52,
   "metadata": {},
   "outputs": [
    {
     "name": "stdout",
     "output_type": "stream",
     "text": [
      "<Response [200]>\n"
     ]
    }
   ],
   "source": [
    "print(response2)"
   ]
  },
  {
   "cell_type": "code",
   "execution_count": 53,
   "metadata": {},
   "outputs": [
    {
     "data": {
      "text/plain": [
       "{'jobs': [{'jobId': '59c2bf47-3b55-43e1-a614-52d9999e091e',\n",
       "   'workerId': '3b0d8827-c3a9-4e1d-ba77-304d339c71a6',\n",
       "   'scheduleId': 'a61ac915-1323-483c-9e71-3ee84157ad20',\n",
       "   'executionOrdinal': 1,\n",
       "   'queuedDate': '2020-04-01T21:35:11.183Z',\n",
       "   'scheduledStartDate': '2020-04-01T21:35:11.183Z',\n",
       "   'actualStartDate': '2020-04-01T21:35:12.372Z',\n",
       "   'completionDate': '2020-04-01T21:35:12.964Z',\n",
       "   'runTime': 1,\n",
       "   'status': 'completed',\n",
       "   'result': 'error',\n",
       "   'siteId': 'ac88a51f-3baa-4ea1-ba8d-6a8503e1877b',\n",
       "   'creationDate': '2020-04-01T21:35:11.173Z',\n",
       "   'lastUpdate': '2020-04-01T21:35:12.965Z',\n",
       "   'assetVersion': 1,\n",
       "   'retryCount': 0,\n",
       "   'notes': None,\n",
       "   'priority': 50,\n",
       "   'name': 'counties.yxmd',\n",
       "   'userId': '5a42bacf-8294-423e-a018-eeee34fa0ba0',\n",
       "   'assetId': '53f5c966-b14d-4ad0-bff3-06a2bcef580a',\n",
       "   'type': 'once',\n",
       "   'frequencyInterval': 'once',\n",
       "   'outputs': []},\n",
       "  {'jobId': '686758fc-8df2-4640-b978-f6fcc329c1bd',\n",
       "   'workerId': '3b0d8827-c3a9-4e1d-ba77-304d339c71a6',\n",
       "   'scheduleId': '964af49e-d74e-4946-8f54-dd733acc2bd0',\n",
       "   'executionOrdinal': 1,\n",
       "   'queuedDate': '2020-04-01T15:41:02.192Z',\n",
       "   'scheduledStartDate': '2020-04-01T15:41:02.192Z',\n",
       "   'actualStartDate': '2020-04-01T15:41:02.989Z',\n",
       "   'completionDate': '2020-04-01T15:41:03.270Z',\n",
       "   'runTime': 0,\n",
       "   'status': 'completed',\n",
       "   'result': 'success',\n",
       "   'siteId': 'ac88a51f-3baa-4ea1-ba8d-6a8503e1877b',\n",
       "   'creationDate': '2020-04-01T15:41:02.167Z',\n",
       "   'lastUpdate': '2020-04-01T15:41:03.257Z',\n",
       "   'assetVersion': 1,\n",
       "   'retryCount': 0,\n",
       "   'notes': None,\n",
       "   'priority': 100,\n",
       "   'name': 'New%20Workflow1.yxmd',\n",
       "   'userId': '1387ca1e-677d-47d8-bc46-c7a6d911c701',\n",
       "   'assetId': 'd2babf21-32d7-4733-af12-863b618a4682',\n",
       "   'type': 'validation',\n",
       "   'frequencyInterval': 'manual',\n",
       "   'outputs': []},\n",
       "  {'jobId': '697d1b0a-a480-4d7b-9951-58c4496d528a',\n",
       "   'workerId': '3b0d8827-c3a9-4e1d-ba77-304d339c71a6',\n",
       "   'scheduleId': '78049abf-f437-4723-ad21-d6b68ed07bc9',\n",
       "   'executionOrdinal': 1,\n",
       "   'queuedDate': '2020-04-01T18:10:33.910Z',\n",
       "   'scheduledStartDate': '2020-04-01T18:10:33.910Z',\n",
       "   'actualStartDate': '2020-04-01T18:10:34.405Z',\n",
       "   'completionDate': '2020-04-01T18:10:34.848Z',\n",
       "   'runTime': 0,\n",
       "   'status': 'completed',\n",
       "   'result': 'error',\n",
       "   'siteId': 'ac88a51f-3baa-4ea1-ba8d-6a8503e1877b',\n",
       "   'creationDate': '2020-04-01T18:10:33.904Z',\n",
       "   'lastUpdate': '2020-04-01T18:10:34.844Z',\n",
       "   'assetVersion': 1,\n",
       "   'retryCount': 0,\n",
       "   'notes': None,\n",
       "   'priority': 100,\n",
       "   'name': 'MSSQLOLE.yxmd',\n",
       "   'userId': '1387ca1e-677d-47d8-bc46-c7a6d911c701',\n",
       "   'assetId': 'e57de4ea-586e-4fb5-8b2c-9c2032ff873d',\n",
       "   'type': 'validation',\n",
       "   'frequencyInterval': 'manual',\n",
       "   'outputs': []},\n",
       "  {'jobId': '54285c99-e7ec-48ae-b9be-03b78c57a5fe',\n",
       "   'workerId': '3b0d8827-c3a9-4e1d-ba77-304d339c71a6',\n",
       "   'scheduleId': 'b64168e7-0dbb-415c-b695-248f5c9c95d5',\n",
       "   'executionOrdinal': 1,\n",
       "   'queuedDate': '2020-04-01T17:44:54.658Z',\n",
       "   'scheduledStartDate': '2020-04-01T17:44:54.658Z',\n",
       "   'actualStartDate': '2020-04-01T17:44:56.494Z',\n",
       "   'completionDate': '2020-04-01T17:44:57.048Z',\n",
       "   'runTime': 1,\n",
       "   'status': 'completed',\n",
       "   'result': 'success',\n",
       "   'siteId': 'ac88a51f-3baa-4ea1-ba8d-6a8503e1877b',\n",
       "   'creationDate': '2020-04-01T17:44:54.647Z',\n",
       "   'lastUpdate': '2020-04-01T17:44:57.037Z',\n",
       "   'assetVersion': 1,\n",
       "   'retryCount': 0,\n",
       "   'notes': None,\n",
       "   'priority': 50,\n",
       "   'name': 'TwoInputCSVs.yxzp',\n",
       "   'userId': '5a42bacf-8294-423e-a018-eeee34fa0ba0',\n",
       "   'assetId': '36eab0b4-86b4-4da1-90cf-12ad62311bd6',\n",
       "   'type': 'immediate',\n",
       "   'frequencyInterval': 'manual',\n",
       "   'outputs': [{'fileName': 'union_output.csv',\n",
       "     'assetId': '3e513b60-0414-45ff-a023-dd9956a02bb9',\n",
       "     'version': 1,\n",
       "     'permissions': ['CREATE', 'DELETE', 'DOWNLOAD', 'EDIT', 'OWNER', 'VIEW'],\n",
       "     'breadcrumbs': ['users', 'siteadmin1', 'union_output.csv']}]},\n",
       "  {'jobId': 'b8741bfe-d9a3-4cac-be2f-db54bda70085',\n",
       "   'workerId': '3b0d8827-c3a9-4e1d-ba77-304d339c71a6',\n",
       "   'scheduleId': '6323c9d1-2f2c-445e-b9f7-9b9d16565b5d',\n",
       "   'executionOrdinal': 1,\n",
       "   'queuedDate': '2020-04-01T15:42:05.959Z',\n",
       "   'scheduledStartDate': '2020-04-01T15:42:05.959Z',\n",
       "   'actualStartDate': '2020-04-01T15:42:07.223Z',\n",
       "   'completionDate': '2020-04-01T15:42:07.427Z',\n",
       "   'runTime': 0,\n",
       "   'status': 'completed',\n",
       "   'result': 'success',\n",
       "   'siteId': 'ac88a51f-3baa-4ea1-ba8d-6a8503e1877b',\n",
       "   'creationDate': '2020-04-01T15:42:05.946Z',\n",
       "   'lastUpdate': '2020-04-01T15:42:07.414Z',\n",
       "   'assetVersion': 1,\n",
       "   'retryCount': 0,\n",
       "   'notes': None,\n",
       "   'priority': 100,\n",
       "   'name': 'New%20Workflow%201.yxmd',\n",
       "   'userId': '1387ca1e-677d-47d8-bc46-c7a6d911c701',\n",
       "   'assetId': '2f4de381-0a69-4ee9-b484-14a2d83ffc48',\n",
       "   'type': 'validation',\n",
       "   'frequencyInterval': 'manual',\n",
       "   'outputs': []},\n",
       "  {'jobId': '177c4e2e-7d67-4bd7-a2e1-d99b71e17032',\n",
       "   'workerId': '3b0d8827-c3a9-4e1d-ba77-304d339c71a6',\n",
       "   'scheduleId': 'e0fccfc6-d0ba-4159-9dfa-b3c9457ab2e0',\n",
       "   'executionOrdinal': 1,\n",
       "   'queuedDate': '2020-04-01T18:17:05.325Z',\n",
       "   'scheduledStartDate': '2020-04-01T18:17:05.325Z',\n",
       "   'actualStartDate': '2020-04-01T18:17:06.074Z',\n",
       "   'completionDate': '2020-04-01T18:17:06.341Z',\n",
       "   'runTime': 0,\n",
       "   'status': 'completed',\n",
       "   'result': 'success',\n",
       "   'siteId': 'ac88a51f-3baa-4ea1-ba8d-6a8503e1877b',\n",
       "   'creationDate': '2020-04-01T18:17:05.299Z',\n",
       "   'lastUpdate': '2020-04-01T18:17:06.327Z',\n",
       "   'assetVersion': 2,\n",
       "   'retryCount': 0,\n",
       "   'notes': None,\n",
       "   'priority': 100,\n",
       "   'name': 'MSSQLOLEDB.yxmd',\n",
       "   'userId': '1387ca1e-677d-47d8-bc46-c7a6d911c701',\n",
       "   'assetId': '1a83de7c-4f16-4648-8933-f34ac4cd3b9e',\n",
       "   'type': 'validation',\n",
       "   'frequencyInterval': 'manual',\n",
       "   'outputs': []},\n",
       "  {'jobId': '1042671e-45f0-483a-940f-b43ad14c26a3',\n",
       "   'workerId': '3b0d8827-c3a9-4e1d-ba77-304d339c71a6',\n",
       "   'scheduleId': '4df39a7e-128c-4083-8dcc-71409fdb111d',\n",
       "   'executionOrdinal': 1,\n",
       "   'queuedDate': '2020-04-01T18:16:23.730Z',\n",
       "   'scheduledStartDate': '2020-04-01T18:16:23.730Z',\n",
       "   'actualStartDate': '2020-04-01T18:16:23.830Z',\n",
       "   'completionDate': '2020-04-01T18:16:24.277Z',\n",
       "   'runTime': 0,\n",
       "   'status': 'completed',\n",
       "   'result': 'error',\n",
       "   'siteId': 'ac88a51f-3baa-4ea1-ba8d-6a8503e1877b',\n",
       "   'creationDate': '2020-04-01T18:16:23.719Z',\n",
       "   'lastUpdate': '2020-04-01T18:16:24.268Z',\n",
       "   'assetVersion': 1,\n",
       "   'retryCount': 0,\n",
       "   'notes': None,\n",
       "   'priority': 100,\n",
       "   'name': 'MSSQLOLEDB.yxmd',\n",
       "   'userId': '1387ca1e-677d-47d8-bc46-c7a6d911c701',\n",
       "   'assetId': '1a83de7c-4f16-4648-8933-f34ac4cd3b9e',\n",
       "   'type': 'validation',\n",
       "   'frequencyInterval': 'manual',\n",
       "   'outputs': []},\n",
       "  {'jobId': '3c57a31c-1d20-43b4-815c-1ee355871685',\n",
       "   'workerId': '3b0d8827-c3a9-4e1d-ba77-304d339c71a6',\n",
       "   'scheduleId': '9817f92a-bd53-4d4e-a6c1-39a336583cef',\n",
       "   'executionOrdinal': 1,\n",
       "   'queuedDate': '2020-04-01T15:54:55.444Z',\n",
       "   'scheduledStartDate': '2020-04-01T15:54:55.444Z',\n",
       "   'actualStartDate': '2020-04-01T15:54:56.025Z',\n",
       "   'completionDate': '2020-04-01T15:54:56.366Z',\n",
       "   'runTime': 0,\n",
       "   'status': 'completed',\n",
       "   'result': 'success',\n",
       "   'siteId': 'ac88a51f-3baa-4ea1-ba8d-6a8503e1877b',\n",
       "   'creationDate': '2020-04-01T15:54:55.432Z',\n",
       "   'lastUpdate': '2020-04-01T15:54:56.360Z',\n",
       "   'assetVersion': 2,\n",
       "   'retryCount': 0,\n",
       "   'notes': None,\n",
       "   'priority': 100,\n",
       "   'name': 'New%20Workflow%202.yxzp',\n",
       "   'userId': '1387ca1e-677d-47d8-bc46-c7a6d911c701',\n",
       "   'assetId': 'd917ecf5-26db-4c42-b2b0-a80d62476255',\n",
       "   'type': 'validation',\n",
       "   'frequencyInterval': 'manual',\n",
       "   'outputs': []},\n",
       "  {'jobId': '8d09ce47-d073-49ad-83ea-78c8216409f5',\n",
       "   'workerId': '3b0d8827-c3a9-4e1d-ba77-304d339c71a6',\n",
       "   'scheduleId': '74fe6a6e-cc88-4532-8a12-08e7b3d849f1',\n",
       "   'executionOrdinal': 1,\n",
       "   'queuedDate': '2020-04-01T15:51:57.331Z',\n",
       "   'scheduledStartDate': '2020-04-01T15:51:57.331Z',\n",
       "   'actualStartDate': '2020-04-01T15:51:59.219Z',\n",
       "   'completionDate': '2020-04-01T15:51:59.581Z',\n",
       "   'runTime': 0,\n",
       "   'status': 'completed',\n",
       "   'result': 'error',\n",
       "   'siteId': 'ac88a51f-3baa-4ea1-ba8d-6a8503e1877b',\n",
       "   'creationDate': '2020-04-01T15:51:57.309Z',\n",
       "   'lastUpdate': '2020-04-01T15:51:59.487Z',\n",
       "   'assetVersion': 1,\n",
       "   'retryCount': 0,\n",
       "   'notes': None,\n",
       "   'priority': 100,\n",
       "   'name': 'New%20Workflow%202.yxzp',\n",
       "   'userId': '1387ca1e-677d-47d8-bc46-c7a6d911c701',\n",
       "   'assetId': 'd917ecf5-26db-4c42-b2b0-a80d62476255',\n",
       "   'type': 'validation',\n",
       "   'frequencyInterval': 'manual',\n",
       "   'outputs': []},\n",
       "  {'jobId': '02120252-cfae-4a8a-b3f1-35f7f9318845',\n",
       "   'workerId': '3b0d8827-c3a9-4e1d-ba77-304d339c71a6',\n",
       "   'scheduleId': 'c89c29e7-da62-4e6e-8a3b-06ad28d1b174',\n",
       "   'executionOrdinal': 1,\n",
       "   'queuedDate': '2020-04-01T21:46:16.416Z',\n",
       "   'scheduledStartDate': '2020-04-01T21:46:16.416Z',\n",
       "   'actualStartDate': '2020-04-01T21:46:16.756Z',\n",
       "   'completionDate': '2020-04-01T21:46:16.791Z',\n",
       "   'runTime': 0,\n",
       "   'status': 'failed',\n",
       "   'result': 'unknown',\n",
       "   'siteId': 'ac88a51f-3baa-4ea1-ba8d-6a8503e1877b',\n",
       "   'creationDate': '2020-04-01T21:46:16.408Z',\n",
       "   'lastUpdate': '2020-04-01T21:46:16.782Z',\n",
       "   'assetVersion': 1,\n",
       "   'retryCount': 0,\n",
       "   'notes': None,\n",
       "   'priority': 100,\n",
       "   'name': 'Oracle.yxmd',\n",
       "   'userId': '1387ca1e-677d-47d8-bc46-c7a6d911c701',\n",
       "   'assetId': '7a5e1d54-8ddc-4fbc-bf15-33e54b4cfe67',\n",
       "   'type': 'validation',\n",
       "   'frequencyInterval': 'manual',\n",
       "   'outputs': []}],\n",
       " 'offset': 0,\n",
       " 'limit': 10,\n",
       " 'total': 17}"
      ]
     },
     "execution_count": 53,
     "metadata": {},
     "output_type": "execute_result"
    }
   ],
   "source": [
    "response2.json()"
   ]
  },
  {
   "cell_type": "code",
   "execution_count": null,
   "metadata": {},
   "outputs": [],
   "source": []
  }
 ],
 "metadata": {
  "kernelspec": {
   "display_name": "Python 3",
   "language": "python",
   "name": "python3"
  },
  "language_info": {
   "codemirror_mode": {
    "name": "ipython",
    "version": 3
   },
   "file_extension": ".py",
   "mimetype": "text/x-python",
   "name": "python",
   "nbconvert_exporter": "python",
   "pygments_lexer": "ipython3",
   "version": "3.6.8"
  }
 },
 "nbformat": 4,
 "nbformat_minor": 4
}
