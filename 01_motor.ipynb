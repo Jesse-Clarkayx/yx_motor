{
 "cells": [
  {
   "cell_type": "code",
   "execution_count": 77,
   "metadata": {},
   "outputs": [],
   "source": [
    "# default_exp motor"
   ]
  },
  {
   "cell_type": "code",
   "execution_count": 147,
   "metadata": {},
   "outputs": [],
   "source": [
    "# just removing the insecure warning for now\n",
    "# TODO: Secure requests and remove this code\n",
    "import urllib3\n",
    "urllib3.disable_warnings(urllib3.exceptions.InsecureRequestWarning)"
   ]
  },
  {
   "cell_type": "code",
   "execution_count": 148,
   "metadata": {},
   "outputs": [],
   "source": [
    "from private import server_vars"
   ]
  },
  {
   "cell_type": "code",
   "execution_count": 149,
   "metadata": {},
   "outputs": [],
   "source": [
    "base_url=server_vars['base_url']\n",
    "login_email = server_vars['login_email']\n",
    "login_pwd = server_vars['login_pwd']"
   ]
  },
  {
   "cell_type": "code",
   "execution_count": 159,
   "metadata": {},
   "outputs": [],
   "source": [
    "# export\n",
    "import requests\n",
    "\n",
    "class Motor:\n",
    "    \"Wrapper for Alteryx Server API.\"\n",
    "    \n",
    "    def __init__(self, \n",
    "                 base_url: str, \n",
    "                 login_email: str, \n",
    "                 login_pwd: str):\n",
    "        \n",
    "        self.base_url = base_url\n",
    "        self.auth_url = f\"{self.base_url}api/v1/authenticate\"\n",
    "        self.login_email = login_email\n",
    "        self.login_pwd = login_pwd\n",
    "        \n",
    "        self.headers = {\n",
    "            \"Content-Type\": \"application/json\",\n",
    "            \"Accept\": \"*/*\",\n",
    "            \"Accept-Language\": \"en-US,en;q=0.5\",\n",
    "            \"Accept-Encoding\": \"gzip,deflate\"\n",
    "        }\n",
    "        \n",
    "        self.jar = requests.cookies.RequestsCookieJar()\n",
    "        self.is_authenticated = False\n",
    "        self.authenticate()\n",
    "        \n",
    "        \n",
    "    def authenticate(self) -> requests.Response:\n",
    "        payload = {\n",
    "            \"email\": self.login_email, \n",
    "            \"password\": self.login_pwd\n",
    "        }\n",
    "        response = requests.post(url=self.auth_url, \n",
    "                                 json=payload, \n",
    "                                 cookies=self.jar, \n",
    "                                 verify=False, \n",
    "                                 headers=self.headers)\n",
    "        if response.status_code == 200:\n",
    "            self.jar.update(response.cookies)\n",
    "            self.is_authenticated = True\n",
    "            return response\n",
    "        \n",
    "    def get_jobs(self,jobid=None,**kwargs):\n",
    "        response = requests.get(f\"{self.base_url}api/v1/jobs\",\n",
    "                     cookies=self.jar,\n",
    "                     verify=False)\n",
    "        return response\n",
    "    \n",
    "    def get_users(self):\n",
    "        response = requests.get(f\"{self.base_url}api/v1/users\",\n",
    "                               cookies=self.jar,\n",
    "                               verify=False)\n",
    "        return response\n",
    "    \n",
    "    def get_job(self,jobid):\n",
    "        response = requests.get(f\"{self.base_url}api/v1/jobs/{jobid}\",\n",
    "                     cookies=self.jar,\n",
    "                     verify=False)\n",
    "        return response\n",
    "    \n",
    "    def get_logs(self,jobid):\n",
    "        response = requests.get(f\"{self.base_url}api/v1/jobs/{jobid}/logs\",\n",
    "                     cookies=self.jar,\n",
    "                     verify=False)\n",
    "        return response\n",
    "    \n",
    "    def get_job_info(self,jobid,req_type=\"\"):\n",
    "        response = requests.get(f\"{self.base_url}api/v1/jobs/{jobid}/{req_type}\",\n",
    "                     cookies=self.jar,\n",
    "                     verify=False)\n",
    "        return response"
   ]
  },
  {
   "cell_type": "code",
   "execution_count": 160,
   "metadata": {},
   "outputs": [],
   "source": [
    "motor = Motor(base_url,\n",
    "              login_email, \n",
    "              login_pwd)"
   ]
  },
  {
   "cell_type": "code",
   "execution_count": 161,
   "metadata": {},
   "outputs": [
    {
     "data": {
      "text/plain": [
       "True"
      ]
     },
     "execution_count": 161,
     "metadata": {},
     "output_type": "execute_result"
    }
   ],
   "source": [
    "motor.is_authenticated"
   ]
  },
  {
   "cell_type": "code",
   "execution_count": 162,
   "metadata": {},
   "outputs": [],
   "source": [
    "response1 = motor.get_jobs()"
   ]
  },
  {
   "cell_type": "code",
   "execution_count": 156,
   "metadata": {},
   "outputs": [
    {
     "name": "stdout",
     "output_type": "stream",
     "text": [
      "{'jobId': '9d0e78c0-7294-4584-bcd8-b0724b4be534', 'name': 'SeededOracleWorkflow.yxmd', 'entries': [{'toolId': '-', 'logType': 'worker', 'details': 'Retrieved file simple_questions.yxwz'}, {'toolId': '-', 'logType': 'worker', 'details': 'Engine run started'}, {'toolId': '-1', 'logType': '1', 'details': 'Allocating requested dedicated sort/join memory would be more than available physical memory.  Reverting to 432MB of memory.'}, {'toolId': '15', 'logType': '1', 'details': '1 record was output'}, {'toolId': '23', 'logType': '9', 'details': 'simple_question_outputs.csv; 1 records were written to \"simple_question_outputs.csv\"'}, {'toolId': '-', 'logType': 'worker', 'details': 'Engine run finished in 6.73 seconds'}, {'toolId': '-', 'logType': 'worker', 'details': 'Uploaded output file simple_question_outputs.csv'}], 'completionDate': '2020-04-03T10:19:31.551Z'}\n",
      "{'requestUuid': '6574d73a-7592-4734-87d9-ce886e27fcd6', 'errors': [{'code': '', 'message': 'JobOrchestrator.getJobLogs() with args: [ { \"requestUuid\": \"6574d73a-7592-4734-87d9-ce886e27fcd6\",\"auditEvents\": \"[  ]\",\"privateSession\": \"{ NESTED OBJECT }\",\"privateSiteId\": \"c6753f5f-3b4a-48bf-bfc0-58d75b9224d5\",\"clientIp\": \"::ffff:192.168.63.132\" },\"52fca84f-5af9-48ba-b282-fecc6342f236\", { \"schema\": \"{ NESTED OBJECT }\",\"schemaErrorCode\": \"{ NESTED OBJECT }\",\"from\": 0,\"pageSize\": 10,\"sortBy\": \"[  ]\",\"filterStrategy\": \"AND\" }]', 'debugInfo': 'AepError: JobOrchestrator.getJobLogs() with args: [ { \"requestUuid\": \"6574d73a-7592-4734-87d9-ce886e27fcd6\",\"auditEvents\": \"[  ]\",\"privateSession\": \"{ NESTED OBJECT }\",\"privateSiteId\": \"c6753f5f-3b4a-48bf-bfc0-58d75b9224d5\",\"clientIp\": \"::ffff:192.168.63.132\" },\"52fca84f-5af9-48ba-b282-fecc6342f236\", { \"schema\": \"{ NESTED OBJECT }\",\"schemaErrorCode\": \"{ NESTED OBJECT }\",\"from\": 0,\"pageSize\": 10,\"sortBy\": \"[  ]\",\"filterStrategy\": \"AND\" }]\\n    at makeError (C:\\\\snapshot\\\\backend\\\\build\\\\core\\\\decorators\\\\try-catch.decorator.js)\\n    at Object.<anonymous> (C:\\\\snapshot\\\\backend\\\\build\\\\core\\\\decorators\\\\try-catch.decorator.js)\\n    at runMicrotasks (<anonymous>)\\n    at processTicksAndRejections (internal/process/task_queues.js:93:5)\\ncaused by: error: select get_breadcrumb_permissions($1, $2, $3, $4) - more than one row returned by a subquery used as an expression\\n    at Connection.parseE (C:\\\\snapshot\\\\backend\\\\node_modules\\\\pg\\\\lib\\\\connection.js:555:11)\\n    at Connection.parseMessage (C:\\\\snapshot\\\\backend\\\\node_modules\\\\pg\\\\lib\\\\connection.js:380:19)\\n    at Socket.<anonymous> (C:\\\\snapshot\\\\backend\\\\node_modules\\\\pg\\\\lib\\\\connection.js:120:22)\\n    at Socket.emit (events.js:210:5)\\n    at Socket.EventEmitter.emit (domain.js:498:23)\\n    at addChunk (_stream_readable.js:309:12)\\n    at readableAddChunk (_stream_readable.js:290:11)\\n    at Socket.Readable.push (_stream_readable.js:224:10)\\n    at TCP.onStreamRead (internal/stream_base_commons.js:182:23)'}]}\n",
      "{'jobId': 'e225c9a5-28fe-4dc1-8038-329a056471ad', 'name': 'counties.yxzp', 'entries': [{'toolId': '-', 'logType': 'worker', 'details': 'Retrieved file counties.yxzp'}, {'toolId': '-', 'logType': 'worker', 'details': 'Engine run started'}, {'toolId': '1', 'logType': '8', 'details': '_externals\\\\1\\\\test.csv; 3007 records were read from \"_externals\\\\1\\\\test.csv\"'}, {'toolId': '4', 'logType': '1', 'details': '3007 records were summarized to 1740 groups'}, {'toolId': '9', 'logType': '9', 'details': 'output.csv; 1740 records were written to \"output.csv\"'}, {'toolId': '6', 'logType': '1', 'details': 'Autodetected Code Page: UTF-8'}, {'toolId': '6', 'logType': '8', 'details': 'exampleCSV.csv; 4 records were read from \"exampleCSV.csv\"'}, {'toolId': '7', 'logType': '1', 'details': '0 records were joined with 1740 un-joined left records and 4 un-joined right records'}, {'toolId': '-', 'logType': 'worker', 'details': 'Engine run finished in 2.79 seconds'}, {'toolId': '-', 'logType': 'worker', 'details': 'Uploaded output file output.csv'}], 'completionDate': '2020-04-03T10:38:48.007Z'}\n",
      "{'jobId': 'fd557af6-8fb4-45d1-a384-635e4c058c3f', 'name': 'snowflake_loader.yxzp', 'entries': [{'toolId': '-', 'logType': 'worker', 'details': 'Retrieved file snowflake_loader.yxzp'}, {'toolId': '-', 'logType': 'worker', 'details': 'Engine run started'}, {'toolId': '317', 'logType': '1', 'details': '1 record was output'}, {'toolId': '223', 'logType': '1', 'details': 'ODBC Driver version: 03.80'}, {'toolId': '223', 'logType': '1', 'details': 'No Lua script was found for corresponding ODBC driver.'}, {'toolId': '223', 'logType': '1', 'details': '2 records were read from odbc:Driver={SnowflakeDSIIDriver};Server=alteryx.snowflakecomputing.com;Warehouse=DEMO_WH;Database=CS_DB;UID=dmatyas;PWD=__EncPwd1__; (show warehouses)'}, {'toolId': '415', 'logType': '1', 'details': '0 records were True and 2 were False'}, {'toolId': '225', 'logType': '2', 'details': 'There were no records present in the source'}, {'toolId': '488', 'logType': '1', 'details': '7 records were output'}, {'toolId': '492', 'logType': '1', 'details': 'Record #1: Tool #7: ODBC Driver version: 03.80'}, {'toolId': '492', 'logType': '1', 'details': 'Record #1: Tool #7: No Lua script was found for corresponding ODBC driver.'}, {'toolId': '492', 'logType': '1', 'details': 'Record #1: Tool #7: Executing PreSQL: \"use role accountadmin;\"'}, {'toolId': '492', 'logType': '1', 'details': 'Record #1: Tool #7: Executing PreSQL: \"use schema snowflake.account_usage;\"'}, {'toolId': '492', 'logType': '1', 'details': \"Record #1: Tool #7: 1001 records were read from odbc:Driver={SnowflakeDSIIDriver};Server=alteryx.snowflakecomputing.com;Warehouse=DEMO_WH;Database=CS_DB;UID=dmatyas;PWD=__EncPwd1__ (Select * From REFERENTIAL_CONSTRAINTS where DELETED IS NULL and lower(CONSTRAINT_SCHEMA) not in ('information_schema','sys'))\"}, {'toolId': '492', 'logType': '1', 'details': 'Record #1: Tool #19: 1001 target records generated 1001 output records'}, {'toolId': '492', 'logType': '1', 'details': 'Record #2: Tool #7: ODBC Driver version: 03.80'}, {'toolId': '492', 'logType': '1', 'details': 'Record #2: Tool #7: No Lua script was found for corresponding ODBC driver.'}, {'toolId': '492', 'logType': '1', 'details': 'Record #2: Tool #7: Executing PreSQL: \"use role accountadmin;\"'}, {'toolId': '492', 'logType': '1', 'details': 'Record #2: Tool #7: Executing PreSQL: \"use schema snowflake.account_usage;\"'}, {'toolId': '492', 'logType': '1', 'details': \"Record #2: Tool #7: 2006 records were read from odbc:Driver={SnowflakeDSIIDriver};Server=alteryx.snowflakecomputing.com;Warehouse=DEMO_WH;Database=CS_DB;UID=dmatyas;PWD=__EncPwd1__ (Select * From TABLE_CONSTRAINTS where DELETED IS NULL and lower(TABLE_SCHEMA) not in ('information_schema','sys'))\"}, {'toolId': '492', 'logType': '1', 'details': 'Record #2: Tool #19: 2006 target records generated 2006 output records'}, {'toolId': '492', 'logType': '1', 'details': 'Record #3: Tool #7: ODBC Driver version: 03.80'}, {'toolId': '492', 'logType': '1', 'details': 'Record #3: Tool #7: No Lua script was found for corresponding ODBC driver.'}, {'toolId': '492', 'logType': '1', 'details': 'Record #3: Tool #7: Executing PreSQL: \"use role accountadmin;\"'}, {'toolId': '492', 'logType': '1', 'details': 'Record #3: Tool #7: Executing PreSQL: \"use schema snowflake.account_usage;\"'}, {'toolId': '492', 'logType': '1', 'details': \"Record #3: Tool #7: 275319 records were read from odbc:Driver={SnowflakeDSIIDriver};Server=alteryx.snowflakecomputing.com;Warehouse=DEMO_WH;Database=CS_DB;UID=dmatyas;PWD=__EncPwd1__ (Select * From columns where DELETED IS NULL and lower(TABLE_SCHEMA) not in ('information_schema','sys') AND TABLE_ID IN (Select TABLE_id From tables where TABLE_TYPE='BASE TABLE' AND DELETED IS NULL AND table_owner IS NOT null) and lower(TABLE_SCHEMA) not in ('information_schema','sys'))\"}, {'toolId': '492', 'logType': '1', 'details': 'Record #3: Tool #19: 275319 target records generated 275319 output records'}, {'toolId': '492', 'logType': '1', 'details': 'Record #4: Tool #7: ODBC Driver version: 03.80'}, {'toolId': '492', 'logType': '1', 'details': 'Record #4: Tool #7: No Lua script was found for corresponding ODBC driver.'}, {'toolId': '492', 'logType': '1', 'details': 'Record #4: Tool #7: Executing PreSQL: \"use role accountadmin;\"'}, {'toolId': '492', 'logType': '1', 'details': 'Record #4: Tool #7: Executing PreSQL: \"use schema snowflake.account_usage;\"'}, {'toolId': '492', 'logType': '1', 'details': \"Record #4: Tool #7: 3 records were read from odbc:Driver={SnowflakeDSIIDriver};Server=alteryx.snowflakecomputing.com;Warehouse=DEMO_WH;Database=CS_DB;UID=dmatyas;PWD=__EncPwd1__ (Select * From functions where DELETED IS NULL and lower(FUNCTION_SCHEMA) not in ('information_schema','sys'))\"}, {'toolId': '492', 'logType': '1', 'details': 'Record #4: Tool #19: 3 target records generated 3 output records'}, {'toolId': '492', 'logType': '1', 'details': 'Record #5: Tool #7: ODBC Driver version: 03.80'}, {'toolId': '492', 'logType': '1', 'details': 'Record #5: Tool #7: No Lua script was found for corresponding ODBC driver.'}, {'toolId': '492', 'logType': '1', 'details': 'Record #5: Tool #7: Executing PreSQL: \"use role accountadmin;\"'}, {'toolId': '492', 'logType': '1', 'details': 'Record #5: Tool #7: Executing PreSQL: \"use schema snowflake.account_usage;\"'}, {'toolId': '492', 'logType': '1', 'details': \"Record #5: Tool #7: 6 records were read from odbc:Driver={SnowflakeDSIIDriver};Server=alteryx.snowflakecomputing.com;Warehouse=DEMO_WH;Database=CS_DB;UID=dmatyas;PWD=__EncPwd1__ (Select * From schemata where DELETED IS NULL and lower(SCHEMA_NAME) not in ('information_schema','sys'))\"}, {'toolId': '492', 'logType': '1', 'details': 'Record #5: Tool #19: 6 target records generated 6 output records'}, {'toolId': '492', 'logType': '1', 'details': 'Record #6: Tool #7: ODBC Driver version: 03.80'}, {'toolId': '492', 'logType': '1', 'details': 'Record #6: Tool #7: No Lua script was found for corresponding ODBC driver.'}, {'toolId': '492', 'logType': '1', 'details': 'Record #6: Tool #7: Executing PreSQL: \"use role accountadmin;\"'}, {'toolId': '492', 'logType': '1', 'details': 'Record #6: Tool #7: Executing PreSQL: \"use schema snowflake.account_usage;\"'}, {'toolId': '492', 'logType': '1', 'details': \"Record #6: Tool #7: 1700 records were read from odbc:Driver={SnowflakeDSIIDriver};Server=alteryx.snowflakecomputing.com;Warehouse=DEMO_WH;Database=CS_DB;UID=dmatyas;PWD=__EncPwd1__ (Select * From tables where TABLE_TYPE='BASE TABLE' AND DELETED IS NULL AND table_owner IS NOT null and lower(TABLE_SCHEMA) not in ('information_schema','sys'))\"}, {'toolId': '492', 'logType': '1', 'details': 'Record #6: Tool #19: 1700 target records generated 1700 output records'}, {'toolId': '492', 'logType': '1', 'details': 'Record #7: Tool #7: ODBC Driver version: 03.80'}, {'toolId': '492', 'logType': '1', 'details': 'Record #7: Tool #7: No Lua script was found for corresponding ODBC driver.'}, {'toolId': '492', 'logType': '1', 'details': 'Record #7: Tool #7: Executing PreSQL: \"use role accountadmin;\"'}, {'toolId': '492', 'logType': '1', 'details': 'Record #7: Tool #7: Executing PreSQL: \"use schema snowflake.account_usage;\"'}, {'toolId': '492', 'logType': '1', 'details': \"Record #7: Tool #7: 2 records were read from odbc:Driver={SnowflakeDSIIDriver};Server=alteryx.snowflakecomputing.com;Warehouse=DEMO_WH;Database=CS_DB;UID=dmatyas;PWD=__EncPwd1__ (Select * From views where DELETED IS NULL and lower(TABLE_SCHEMA) not in ('information_schema','sys'))\"}, {'toolId': '492', 'logType': '1', 'details': 'Record #7: Tool #19: 2 target records generated 2 output records'}, {'toolId': '492', 'logType': '1', 'details': '7 iterations were run'}, {'toolId': '471', 'logType': '1', 'details': 'ODBC Driver version: 03.51'}, {'toolId': '470', 'logType': '1', 'details': 'ODBC Driver version: 03.51'}, {'toolId': '470', 'logType': '1', 'details': '10000 records have been successfully committed.'}, {'toolId': '470', 'logType': '1', 'details': '20000 records have been successfully committed.'}, {'toolId': '470', 'logType': '1', 'details': '30000 records have been successfully committed.'}, {'toolId': '470', 'logType': '1', 'details': '40000 records have been successfully committed.'}, {'toolId': '470', 'logType': '1', 'details': '50000 records have been successfully committed.'}, {'toolId': '470', 'logType': '1', 'details': '60000 records have been successfully committed.'}, {'toolId': '470', 'logType': '1', 'details': '70000 records have been successfully committed.'}, {'toolId': '470', 'logType': '1', 'details': '80000 records have been successfully committed.'}, {'toolId': '470', 'logType': '1', 'details': '90000 records have been successfully committed.'}, {'toolId': '470', 'logType': '1', 'details': '100000 records have been successfully committed.'}, {'toolId': '470', 'logType': '1', 'details': '110000 records have been successfully committed.'}, {'toolId': '470', 'logType': '1', 'details': '120000 records have been successfully committed.'}, {'toolId': '470', 'logType': '1', 'details': '130000 records have been successfully committed.'}, {'toolId': '470', 'logType': '1', 'details': '140000 records have been successfully committed.'}, {'toolId': '470', 'logType': '1', 'details': '150000 records have been successfully committed.'}, {'toolId': '470', 'logType': '1', 'details': '160000 records have been successfully committed.'}, {'toolId': '470', 'logType': '1', 'details': '170000 records have been successfully committed.'}, {'toolId': '470', 'logType': '1', 'details': '180000 records have been successfully committed.'}, {'toolId': '470', 'logType': '1', 'details': '190000 records have been successfully committed.'}, {'toolId': '470', 'logType': '1', 'details': '200000 records have been successfully committed.'}, {'toolId': '470', 'logType': '1', 'details': '210000 records have been successfully committed.'}, {'toolId': '470', 'logType': '1', 'details': '220000 records have been successfully committed.'}, {'toolId': '470', 'logType': '1', 'details': '230000 records have been successfully committed.'}, {'toolId': '470', 'logType': '1', 'details': '240000 records have been successfully committed.'}, {'toolId': '470', 'logType': '1', 'details': '250000 records have been successfully committed.'}, {'toolId': '470', 'logType': '1', 'details': '260000 records have been successfully committed.'}, {'toolId': '470', 'logType': '1', 'details': '270000 records have been successfully committed.'}, {'toolId': '468', 'logType': '1', 'details': 'ODBC Driver version: 03.51'}, {'toolId': '467', 'logType': '1', 'details': 'ODBC Driver version: 03.51'}, {'toolId': '484', 'logType': '1', 'details': '6 records were True and 280031 were False'}, {'toolId': '485', 'logType': '1', 'details': '6 target records generated 6 output records'}, {'toolId': '467', 'logType': '1', 'details': '6 records have been successfully committed.'}, {'toolId': '467', 'logType': '1', 'details': '6 records were written to odbc:Driver={PostgreSQL Unicode(x64)};Server=localhost;Port=5432;Database=ngp;UID=ngp;PWD=__EncPwd1__ (rdbms.db_schemas)'}, {'toolId': '216', 'logType': '1', 'details': '1705 records were True and 278326 were False'}, {'toolId': '477', 'logType': '1', 'details': '1705 target records generated 1705 output records'}, {'toolId': '468', 'logType': '1', 'details': '1705 records have been successfully committed.'}, {'toolId': '468', 'logType': '1', 'details': '1705 records were written to odbc:Driver={PostgreSQL Unicode(x64)};Server=localhost;Port=5432;Database=ngp;UID=ngp;PWD=__EncPwd1__ (rdbms.db_tables)'}, {'toolId': '217', 'logType': '1', 'details': '275319 records were True and 3007 were False'}, {'toolId': '481', 'logType': '1', 'details': '275319 target records generated 275319 output records'}, {'toolId': '470', 'logType': '1', 'details': '275319 records have been successfully committed.'}, {'toolId': '470', 'logType': '1', 'details': '275319 records were written to odbc:Driver={PostgreSQL Unicode(x64)};Server=localhost;Port=5432;Database=ngp;UID=ngp;PWD=__EncPwd1__ (rdbms.db_columns)'}, {'toolId': '219', 'logType': '1', 'details': '2006 records were True and 1001 were False'}, {'toolId': '482', 'logType': '1', 'details': '2006 target records generated 2006 output records'}, {'toolId': '471', 'logType': '1', 'details': '2006 records have been successfully committed.'}, {'toolId': '471', 'logType': '1', 'details': '2006 records were written to odbc:Driver={PostgreSQL Unicode(x64)};Server=localhost;Port=5432;Database=ngp;UID=ngp;PWD=__EncPwd1__ (rdbms.db_table_constraints)'}, {'toolId': '220', 'logType': '1', 'details': '1 records were True and 0 were False'}, {'toolId': '-', 'logType': 'worker', 'details': 'Engine run finished in 534.8 seconds'}], 'completionDate': '2020-04-03T11:17:04.198Z'}\n"
     ]
    },
    {
     "name": "stdout",
     "output_type": "stream",
     "text": [
      "{'jobId': 'a2930829-ddfd-4bb8-971f-0e36e3c76400', 'name': 'Bureau of Labor Data Parser.yxmd', 'entries': [{'toolId': '-', 'logType': 'worker', 'details': 'Retrieved file Bureau%20of%20Labor%20Data%20Parser.yxmd'}, {'toolId': '-', 'logType': 'worker', 'details': 'Engine run started'}, {'toolId': '235', 'logType': '1', 'details': '1 record was output'}, {'toolId': '240', 'logType': '1', 'details': 'Records transferred: 1; active connections: 1; average records per minute: 58'}, {'toolId': '252', 'logType': '5', 'details': 'Right_DEC\\r: 130822  \\r lost information in translation'}, {'toolId': '252', 'logType': '1', 'details': '0 records were joined with 0 un-joined left records and 0 un-joined right records (ended by a downstream tool)'}, {'toolId': '254', 'logType': '1', 'details': '1 records were True and 0 were False'}, {'toolId': '238', 'logType': '1', 'details': '1200 records were output'}, {'toolId': '-', 'logType': 'worker', 'details': 'Engine run finished in 2.33 seconds'}], 'completionDate': '2020-04-03T16:46:17.816Z'}\n",
      "{'jobId': 'dcf71d61-9e0d-461e-8f3b-af23e49678fd', 'name': 'NewWorkflow2.yxmd', 'entries': [{'toolId': '-', 'logType': 'worker', 'details': 'Retrieved file NewWorkflow2.yxmd'}, {'toolId': '-', 'logType': 'worker', 'details': 'Engine run started'}, {'toolId': '1', 'logType': '3', 'details': 'File not found \"C:\\\\Users\\\\jperrotto\\\\Desktop\\\\PM\\\\AA\\\\test.csv\"'}, {'toolId': '-', 'logType': 'worker', 'details': 'Engine run finished in 0.47 seconds'}], 'completionDate': '2020-04-03T14:23:11.669Z'}\n",
      "{'jobId': 'cbdfd1a2-55a6-466e-a959-acf066b75018', 'name': 'calculating profit margin.yxmd', 'entries': [{'toolId': '-', 'logType': 'worker', 'details': 'Retrieved file calculating%20profit%20margin.yxmd'}, {'toolId': '-', 'logType': 'worker', 'details': 'Engine run started'}, {'toolId': '16', 'logType': '1', 'details': '992 records were output'}, {'toolId': '17', 'logType': '1', 'details': '20 records were output'}, {'toolId': '8', 'logType': '1', 'details': '992 records were joined with 0 un-joined left records and 1 un-joined right records'}, {'toolId': '11', 'logType': '1', 'details': '992 records were summarized to 72 groups'}, {'toolId': '-', 'logType': 'worker', 'details': 'Engine run finished in 0.61 seconds'}], 'completionDate': '2020-04-03T16:51:45.558Z'}\n",
      "{'jobId': '4e454618-ecd8-4508-80dc-2ac77ff3701a', 'name': 'XML parser.yxmd', 'entries': [{'toolId': '-', 'logType': 'worker', 'details': 'Retrieved file XML%20parser.yxmd'}, {'toolId': '-', 'logType': 'worker', 'details': 'Engine run started'}, {'toolId': '59', 'logType': '1', 'details': '1 record was output'}, {'toolId': '65', 'logType': '1', 'details': 'XML Element autodetected to \"taxonpath\"'}, {'toolId': '61', 'logType': '1', 'details': '63 records were output'}, {'toolId': '-', 'logType': 'worker', 'details': 'Engine run finished in 0.49 seconds'}], 'completionDate': '2020-04-03T16:52:21.697Z'}\n"
     ]
    }
   ],
   "source": [
    "x = response1.json()\n",
    "\n",
    "for i in x['jobs']:\n",
    "    print(motor.get_job_info(i['jobId'],\"logs\").json())"
   ]
  },
  {
   "cell_type": "code",
   "execution_count": 170,
   "metadata": {},
   "outputs": [
    {
     "name": "stdout",
     "output_type": "stream",
     "text": [
      "021f2cd7-60ca-4414-ac24-6e558278b968\n",
      "022e680b-e15f-4974-8259-0c6f97c31184\n",
      "05c252db-8164-4ec1-b12f-d51238c0870e\n",
      "0f560c33-9003-45d2-81ba-7eae9ae1e322\n",
      "185a4d94-ad37-45be-a57b-504b88d180d7\n",
      "1abed91b-29e8-4e08-83ae-8a911b86c9eb\n",
      "1b4eef67-ffea-4c32-ab4e-6230a01322f9\n",
      "1d3dcaed-8759-4e0c-9858-f2ca7ddc57b4\n",
      "26b70ecf-d08a-435b-91b3-65af4f608a9b\n",
      "2de30064-caf3-4be5-a277-659d98e4da54\n"
     ]
    }
   ],
   "source": [
    "response2 = motor.get_users()\n",
    "y = response2.json()\n",
    "for i in y[:10]:\n",
    "    print(i['id'])"
   ]
  },
  {
   "cell_type": "code",
   "execution_count": null,
   "metadata": {},
   "outputs": [],
   "source": []
  }
 ],
 "metadata": {
  "kernelspec": {
   "display_name": "Python 3",
   "language": "python",
   "name": "python3"
  },
  "language_info": {
   "codemirror_mode": {
    "name": "ipython",
    "version": 3
   },
   "file_extension": ".py",
   "mimetype": "text/x-python",
   "name": "python",
   "nbconvert_exporter": "python",
   "pygments_lexer": "ipython3",
   "version": "3.6.8"
  }
 },
 "nbformat": 4,
 "nbformat_minor": 4
}
