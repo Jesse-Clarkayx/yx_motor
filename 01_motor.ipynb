{
 "cells": [
  {
   "cell_type": "code",
   "execution_count": 8,
   "metadata": {},
   "outputs": [],
   "source": [
    "# default_exp motor"
   ]
  },
  {
   "cell_type": "code",
   "execution_count": 3,
   "metadata": {},
   "outputs": [],
   "source": [
    "from private import server_vars"
   ]
  },
  {
   "cell_type": "code",
   "execution_count": 4,
   "metadata": {},
   "outputs": [],
   "source": [
    "base_url=server_vars['base_url']\n",
    "login_email = server_vars['login_email']\n",
    "login_pwd = server_vars['login_pwd']"
   ]
  },
  {
   "cell_type": "code",
   "execution_count": 23,
   "metadata": {},
   "outputs": [],
   "source": [
    "# export\n",
    "import requests\n",
    "\n",
    "class Motor:\n",
    "    \"Wrapper for Alteryx Server API.\"\n",
    "    \n",
    "    def __init__(self, \n",
    "                 base_url: str, \n",
    "                 login_email: str, \n",
    "                 login_pwd: str):\n",
    "        \n",
    "        self.base_url = base_url\n",
    "        self.auth_url = f\"{self.base_url}api/v1/authenticate\"\n",
    "        self.login_email = login_email\n",
    "        self.login_pwd = login_pwd\n",
    "        \n",
    "        self.headers = {\n",
    "            \"Content-Type\": \"application/json\",\n",
    "            \"Accept\": \"*/*\",\n",
    "            \"Accept-Language\": \"en-US,en;q=0.5\",\n",
    "            \"Accept-Encoding\": \"gzip,deflate\"\n",
    "        }\n",
    "        \n",
    "        self.jar = requests.cookies.RequestsCookieJar()\n",
    "        self.is_authenticated = False\n",
    "        self.authenticate()\n",
    "        \n",
    "        \n",
    "    def authenticate(self) -> requests.Response:\n",
    "        payload = {\n",
    "            \"email\": self.login_email, \n",
    "            \"password\": self.login_pwd\n",
    "        }\n",
    "        response = requests.post(url=self.auth_url, \n",
    "                                 json=payload, \n",
    "                                 cookies=self.jar, \n",
    "                                 verify=False, \n",
    "                                 headers=self.headers)\n",
    "        if response.status_code == 200:\n",
    "            self.jar.update(response.cookies)\n",
    "            self.is_authenticated = True\n",
    "            return response\n",
    "        \n",
    "    def get_jobs(self):\n",
    "        response = requests.get(f\"{self.base_url}api/v1/jobs\",\n",
    "                     cookies=self.jar,\n",
    "                     verify=False)\n",
    "        return response"
   ]
  },
  {
   "cell_type": "code",
   "execution_count": 24,
   "metadata": {},
   "outputs": [
    {
     "name": "stderr",
     "output_type": "stream",
     "text": [
      "c:\\users\\jkabler\\.conda\\envs\\yx_motor\\lib\\site-packages\\urllib3\\connectionpool.py:1004: InsecureRequestWarning: Unverified HTTPS request is being made to host 'test.aep-mono.devops.alteryx.com'. Adding certificate verification is strongly advised. See: https://urllib3.readthedocs.io/en/latest/advanced-usage.html#ssl-warnings\n",
      "  InsecureRequestWarning,\n"
     ]
    }
   ],
   "source": [
    "motor = Motor(base_url,\n",
    "              login_email, \n",
    "              login_pwd)"
   ]
  },
  {
   "cell_type": "code",
   "execution_count": 25,
   "metadata": {},
   "outputs": [
    {
     "data": {
      "text/plain": [
       "True"
      ]
     },
     "execution_count": 25,
     "metadata": {},
     "output_type": "execute_result"
    }
   ],
   "source": [
    "motor.is_authenticated"
   ]
  },
  {
   "cell_type": "code",
   "execution_count": 26,
   "metadata": {},
   "outputs": [
    {
     "name": "stderr",
     "output_type": "stream",
     "text": [
      "c:\\users\\jkabler\\.conda\\envs\\yx_motor\\lib\\site-packages\\urllib3\\connectionpool.py:1004: InsecureRequestWarning: Unverified HTTPS request is being made to host 'test.aep-mono.devops.alteryx.com'. Adding certificate verification is strongly advised. See: https://urllib3.readthedocs.io/en/latest/advanced-usage.html#ssl-warnings\n",
      "  InsecureRequestWarning,\n"
     ]
    },
    {
     "data": {
      "text/plain": [
       "<Response [200]>"
      ]
     },
     "execution_count": 26,
     "metadata": {},
     "output_type": "execute_result"
    }
   ],
   "source": [
    "motor.get_jobs()"
   ]
  },
  {
   "cell_type": "code",
   "execution_count": 13,
   "metadata": {},
   "outputs": [
    {
     "data": {
      "text/plain": [
       "200"
      ]
     },
     "execution_count": 13,
     "metadata": {},
     "output_type": "execute_result"
    }
   ],
   "source": [
    "response1.status_code"
   ]
  },
  {
   "cell_type": "code",
   "execution_count": 47,
   "metadata": {},
   "outputs": [
    {
     "data": {
      "text/plain": [
       "'s%3Ac133e377-8a73-4a74-a6ad-2eae74d8cd9c.CAw5B4uubIQpCzpEB5b0aWKd%2F52GfuH2E3o0ix%2FXldA'"
      ]
     },
     "execution_count": 47,
     "metadata": {},
     "output_type": "execute_result"
    }
   ],
   "source": [
    "jar['ayxSession']"
   ]
  },
  {
   "cell_type": "code",
   "execution_count": null,
   "metadata": {},
   "outputs": [],
   "source": []
  }
 ],
 "metadata": {
  "kernelspec": {
   "display_name": "Python 3",
   "language": "python",
   "name": "python3"
  },
  "language_info": {
   "codemirror_mode": {
    "name": "ipython",
    "version": 3
   },
   "file_extension": ".py",
   "mimetype": "text/x-python",
   "name": "python",
   "nbconvert_exporter": "python",
   "pygments_lexer": "ipython3",
   "version": "3.6.8"
  }
 },
 "nbformat": 4,
 "nbformat_minor": 4
}
